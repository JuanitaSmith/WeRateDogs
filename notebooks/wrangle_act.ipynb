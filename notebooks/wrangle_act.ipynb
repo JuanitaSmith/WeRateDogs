{
 "cells": [
  {
   "cell_type": "markdown",
   "metadata": {
    "extensions": {
     "jupyter_dashboards": {
      "version": 1,
      "views": {
       "grid_default": {
        "col": 0,
        "height": 4,
        "hidden": false,
        "row": 0,
        "width": 4
       },
       "report_default": {
        "hidden": false
       }
      }
     }
    },
    "pycharm": {
     "name": "#%% md\n"
    }
   },
   "source": [
    "# Udacity Data Analysis Nanodegree\n",
    "# Project 3: Wrangling and Analyze Data"
   ]
  },
  {
   "cell_type": "markdown",
   "metadata": {
    "pycharm": {
     "name": "#%% md\n"
    }
   },
   "source": [
    "- [Introduction](#intro)\n",
    "- [Step 1: Data Gathering](#datagathering)\n",
    "- [Step 2: Assessing data](#assess)\n",
    "- [Step 3: Cleaning](#cleaning)\n",
    "- [Step 4: Storing Data](#storing)\n",
    "- [Step 5: Analysing and Visualization](#visuals)\n",
    "- [References](#references)\n",
    "- [Submission](#submission)"
   ]
  },
  {
   "cell_type": "markdown",
   "metadata": {
    "pycharm": {
     "name": "#%% md\n"
    }
   },
   "source": [
    "<a id='intro'></a>\n",
    "<span style=\"color:blue; font-size:30px; line-height:40px; font-family: Calibri;\">Introduction</span>"
   ]
  },
  {
   "cell_type": "markdown",
   "metadata": {
    "pycharm": {
     "name": "#%% md\n"
    }
   },
   "source": [
    "This project was completed as part of the 'Data Analyst' nanodegree with Udacity. \n",
    "\n",
    "The goal of the project was to demonstrate the data wrangling and analysis skills obtained from the course.\n",
    "\n",
    "The dataset to be wrangled is the tweet archive of Twitter user [@dog_rates](https://twitter.com/dog_rates), also known as [WeRateDogs](https://en.wikipedia.org/wiki/WeRateDogs). WeRateDogs is a Twitter account that rates people's dogs with a humorous comment about the dog. Dog owners upload a picture of their dog, writes a funny comment and give their own dog a rating out of 10. Owners almost always give their dogs a rating greater than 10. e.g 11/10, 12/10, 13/10, it's the nature of the website. WeRateDogs has over 4 million followers and has received international media coverage. It's only a bit of fun, and brings great joy when browsing the cutest dog images !"
   ]
  },
  {
   "cell_type": "markdown",
   "metadata": {
    "pycharm": {
     "name": "#%% md\n"
    }
   },
   "source": [
    "### Data\n",
    "\n",
    "In this project, 3 datasets needs to be gathered automatically, assessed and cleaned\n",
    "\n",
    "4 data gathering strategies was demonstrated:\n",
    "\n",
    "### 1. Twitter archive - Automated downloaded from an URL\n",
    "\n",
    "WeRateDogs downloaded their Twitter archive and sent it to Udacity via email exclusively to use in this project. This archive contains basic tweet data (tweet ID, timestamp, text, etc.) for a sample of 2356 tweets with ratings, for a period between Nov 2015 - July 2017.\n",
    "Data was automatically downloaded from the Udacity website using `pd.read_csv` and passing the URL 'https://d17h27t6h515a5.cloudfront.net/topher/2017/August/59a4e958_twitter-archive-enhanced/twitter-archive-enhanced.csv' as input.\n",
    "\n",
    "### 2. Use twitter API 'tweepy v2' to retrieve additional data\n",
    "\n",
    "For each tweet in the twitter archive from step 1, the retweet and like count was retrieved as minimum requirement for the project\n",
    "\n",
    "The latest version of the tweepy API was used to retrieve additional data, which offered more flexibility and data availability.\n",
    "\n",
    "Each tweet's entire JSON response was dumped to a txt file, each tweet on its own line\n",
    "\n",
    "The .txt file was read line by line, and the most useful data to be reused was added to a pandas dataframe. \n",
    "\n",
    "### 3. Use the Requests library to download the tweet breed predictions (image_predictions.tsv)\n",
    "\n",
    "Udacity provided a file that used the dog images to predict the breed of the dog.\n",
    "Each tweet consist of the link to the image that gave the best predictions, 3 predictions, each with it's confidence level and if the prediction is actually a valid dog breed.\n",
    "\n",
    "This file (image_predictions.tsv), is hosted on Udacity's servers and was downloaded programmatically using the Requests library and the following URL: https://d17h27t6h515a5.cloudfront.net/topher/2017/August/599fd2ad_image-predictions/image-predictions.tsv\n",
    "\n",
    "\n",
    "### 4. Download dog profile images (optional extra step)\n",
    "\n",
    "Image urls containing `.jpg` retrieved from API in step 2 was used to download the first dog image for each tweet from the internet, as additional practice. I had in mind for visualization to show a dog profile card of the most liked breeds and dogs."
   ]
  },
  {
   "cell_type": "code",
   "execution_count": 1,
   "metadata": {
    "pycharm": {
     "name": "#%%\n"
    }
   },
   "outputs": [],
   "source": [
    "import pandas as pd\n",
    "import numpy as np\n",
    "import requests\n",
    "import os\n",
    "from io import BytesIO\n",
    "import tweepy\n",
    "import json\n",
    "import time\n",
    "from PIL import Image, ImageFont, ImageDraw\n",
    "from IPython.display import HTML, display\n",
    "\n",
    "import matplotlib.pyplot as plt\n",
    "# magic word for producing visualizations in notebook\n",
    "%matplotlib inline\n",
    "\n",
    "# suppress matplotlib user warnings\n",
    "import warnings\n",
    "warnings.filterwarnings(\"ignore\", category=UserWarning, module=\"matplotlib\")\n",
    "\n",
    "# environment settings\n",
    "pd.set_option('display.max_colwidth', None)\n",
    "\n",
    "# stock scientific notation on graphs\n",
    "pd.options.display.float_format = '{:.2f}'.format"
   ]
  },
  {
   "cell_type": "markdown",
   "metadata": {
    "pycharm": {
     "name": "#%% md\n"
    }
   },
   "source": [
    "Default data and functions"
   ]
  },
  {
   "cell_type": "code",
   "execution_count": 2,
   "metadata": {
    "pycharm": {
     "name": "#%%\n"
    }
   },
   "outputs": [],
   "source": [
    "# general data directory\n",
    "filename_general = '../data'\n",
    "\n",
    "# twitter archive\n",
    "filename_twitter_archive = '../data/twitter_archive_enhanced.csv'\n",
    "\n",
    "# image predictions\n",
    "folder_image_predictions = '../data/image_predictions'\n",
    "filename_image_predictions = '../data/image_predictions/image_predictions.tsv'\n",
    "\n",
    "# additional data from twitter API \n",
    "folder_twitter_api = '../data/json'\n",
    "filename_twitter_api = '../data/json/tweet_json.txt'\n",
    "filename_twitter_api_output = '../data/tweepy_api.csv'\n",
    "filename_twitter_api_errors = '../data/tweepy_api_errors.txt'\n",
    "\n",
    "# dog posters\n",
    "folder_image_profiles = '../data/image_profiles'\n",
    "filename_image_errors = '../data/json/api_missing_data_errors.txt'"
   ]
  },
  {
   "cell_type": "code",
   "execution_count": 3,
   "metadata": {
    "pycharm": {
     "name": "#%%\n"
    }
   },
   "outputs": [],
   "source": [
    "def create_folder(folder_name):\n",
    "    \"\"\" Make directory if it doesn't already exist \"\"\"\n",
    "    \n",
    "    if not os.path.exists(folder_name):\n",
    "        os.makedirs(folder_name)    "
   ]
  },
  {
   "cell_type": "code",
   "execution_count": 4,
   "metadata": {
    "pycharm": {
     "name": "#%%\n"
    }
   },
   "outputs": [],
   "source": [
    "def display_image(ds):\n",
    "    \"\"\" display dog image with text\n",
    "    \n",
    "    Parameters:\n",
    "       ds (series): entire row from twitter_archive_master.csv for the tweet we want to print a profile card for\n",
    "    \n",
    "    \"\"\"\n",
    "    \n",
    "    image_path1 = ds.jpg_url\n",
    "    \n",
    "    # if an image breed prediction image is available use that as profile picture by default, \n",
    "    # otherwise use image downloaded from API\n",
    "    filename = ''\n",
    "    if ds.jpg_url:\n",
    "        filename = best.jpg_url\n",
    "    else:\n",
    "        filename = '../data/image_profiles/' + str(ds.tweet_id) + '.jpg'\n",
    "     \n",
    "    nametext = ''\n",
    "    if (ds['name'] == 'unknown') & (ds['annotation'] != ''):\n",
    "        nametext = ds['annotation']  \n",
    "    else:\n",
    "        nametext = ds['name']   \n",
    "        \n",
    "    breedtext = ''\n",
    "    if (ds['breed'] == 'unknown') & (ds['annotation'] != ''):\n",
    "        breedtext = ds['annotation']  \n",
    "    else:\n",
    "        breedtext = ds['breed']         \n",
    "        \n",
    "        \n",
    "    if filename:\n",
    "        display(HTML(f\"\"\"\n",
    "            <p>\n",
    "                <img src={filename} alt={ds['tweet_id']} width=300 style=\"float:left\">\n",
    "                <h4>{ds['cleantext']}</h4><br>\n",
    "                <em>Name: {nametext}</em><br>\n",
    "                <em>Breed: {breedtext}</em><br>    \n",
    "                <em>Dog stage: {ds['dog_stage']}</em><br>                 \n",
    "                <em>Score: {ds['rating_numerator']}/{best['rating_denominator']}</em><br>\n",
    "                <em>Likes : {ds['like_count']}</em><br>    \n",
    "                <em>Retweets : {ds['retweet_count']}</em><br>  \n",
    "                <em><a href={ds['short_url']}>{ds['short_url']}</a></em>\n",
    "            </p>\n",
    "\n",
    "            \"\"\"))"
   ]
  },
  {
   "cell_type": "markdown",
   "metadata": {
    "pycharm": {
     "name": "#%% md\n"
    }
   },
   "source": [
    "<a id='datagathering'></a>\n",
    "<span style=\"color:blue; font-size:30px; line-height:40px; font-family: Calibri;\">Step 1: Data Gathering</span>\n",
    "\n",
    "\n",
    "In the cell below, gather **all** three pieces of data for this project and load them in the notebook. **Note:** the methods required to gather each data are different.\n",
    "\n",
    "<span style=\"color:blue\">1.1 Directly download the WeRateDogs Twitter archive data (twitter_archive_enhanced.csv)</span>"
   ]
  },
  {
   "cell_type": "code",
   "execution_count": 5,
   "metadata": {
    "pycharm": {
     "name": "#%%\n"
    }
   },
   "outputs": [
    {
     "data": {
      "text/html": [
       "<div>\n",
       "<style scoped>\n",
       "    .dataframe tbody tr th:only-of-type {\n",
       "        vertical-align: middle;\n",
       "    }\n",
       "\n",
       "    .dataframe tbody tr th {\n",
       "        vertical-align: top;\n",
       "    }\n",
       "\n",
       "    .dataframe thead th {\n",
       "        text-align: right;\n",
       "    }\n",
       "</style>\n",
       "<table border=\"1\" class=\"dataframe\">\n",
       "  <thead>\n",
       "    <tr style=\"text-align: right;\">\n",
       "      <th></th>\n",
       "      <th>tweet_id</th>\n",
       "      <th>in_reply_to_status_id</th>\n",
       "      <th>in_reply_to_user_id</th>\n",
       "      <th>timestamp</th>\n",
       "      <th>source</th>\n",
       "      <th>text</th>\n",
       "      <th>retweeted_status_id</th>\n",
       "      <th>retweeted_status_user_id</th>\n",
       "      <th>retweeted_status_timestamp</th>\n",
       "      <th>expanded_urls</th>\n",
       "      <th>rating_numerator</th>\n",
       "      <th>rating_denominator</th>\n",
       "      <th>name</th>\n",
       "      <th>doggo</th>\n",
       "      <th>floofer</th>\n",
       "      <th>pupper</th>\n",
       "      <th>puppo</th>\n",
       "    </tr>\n",
       "  </thead>\n",
       "  <tbody>\n",
       "    <tr>\n",
       "      <th>0</th>\n",
       "      <td>892420643555336193</td>\n",
       "      <td>NaN</td>\n",
       "      <td>NaN</td>\n",
       "      <td>2017-08-01 16:23:56 +0000</td>\n",
       "      <td>&lt;a href=\"http://twitter.com/download/iphone\" rel=\"nofollow\"&gt;Twitter for iPhone&lt;/a&gt;</td>\n",
       "      <td>This is Phineas. He's a mystical boy. Only ever appears in the hole of a donut. 13/10 https://t.co/MgUWQ76dJU</td>\n",
       "      <td>NaN</td>\n",
       "      <td>NaN</td>\n",
       "      <td>NaN</td>\n",
       "      <td>https://twitter.com/dog_rates/status/892420643555336193/photo/1</td>\n",
       "      <td>13</td>\n",
       "      <td>10</td>\n",
       "      <td>Phineas</td>\n",
       "      <td>None</td>\n",
       "      <td>None</td>\n",
       "      <td>None</td>\n",
       "      <td>None</td>\n",
       "    </tr>\n",
       "    <tr>\n",
       "      <th>1</th>\n",
       "      <td>892177421306343426</td>\n",
       "      <td>NaN</td>\n",
       "      <td>NaN</td>\n",
       "      <td>2017-08-01 00:17:27 +0000</td>\n",
       "      <td>&lt;a href=\"http://twitter.com/download/iphone\" rel=\"nofollow\"&gt;Twitter for iPhone&lt;/a&gt;</td>\n",
       "      <td>This is Tilly. She's just checking pup on you. Hopes you're doing ok. If not, she's available for pats, snugs, boops, the whole bit. 13/10 https://t.co/0Xxu71qeIV</td>\n",
       "      <td>NaN</td>\n",
       "      <td>NaN</td>\n",
       "      <td>NaN</td>\n",
       "      <td>https://twitter.com/dog_rates/status/892177421306343426/photo/1</td>\n",
       "      <td>13</td>\n",
       "      <td>10</td>\n",
       "      <td>Tilly</td>\n",
       "      <td>None</td>\n",
       "      <td>None</td>\n",
       "      <td>None</td>\n",
       "      <td>None</td>\n",
       "    </tr>\n",
       "    <tr>\n",
       "      <th>2</th>\n",
       "      <td>891815181378084864</td>\n",
       "      <td>NaN</td>\n",
       "      <td>NaN</td>\n",
       "      <td>2017-07-31 00:18:03 +0000</td>\n",
       "      <td>&lt;a href=\"http://twitter.com/download/iphone\" rel=\"nofollow\"&gt;Twitter for iPhone&lt;/a&gt;</td>\n",
       "      <td>This is Archie. He is a rare Norwegian Pouncing Corgo. Lives in the tall grass. You never know when one may strike. 12/10 https://t.co/wUnZnhtVJB</td>\n",
       "      <td>NaN</td>\n",
       "      <td>NaN</td>\n",
       "      <td>NaN</td>\n",
       "      <td>https://twitter.com/dog_rates/status/891815181378084864/photo/1</td>\n",
       "      <td>12</td>\n",
       "      <td>10</td>\n",
       "      <td>Archie</td>\n",
       "      <td>None</td>\n",
       "      <td>None</td>\n",
       "      <td>None</td>\n",
       "      <td>None</td>\n",
       "    </tr>\n",
       "    <tr>\n",
       "      <th>3</th>\n",
       "      <td>891689557279858688</td>\n",
       "      <td>NaN</td>\n",
       "      <td>NaN</td>\n",
       "      <td>2017-07-30 15:58:51 +0000</td>\n",
       "      <td>&lt;a href=\"http://twitter.com/download/iphone\" rel=\"nofollow\"&gt;Twitter for iPhone&lt;/a&gt;</td>\n",
       "      <td>This is Darla. She commenced a snooze mid meal. 13/10 happens to the best of us https://t.co/tD36da7qLQ</td>\n",
       "      <td>NaN</td>\n",
       "      <td>NaN</td>\n",
       "      <td>NaN</td>\n",
       "      <td>https://twitter.com/dog_rates/status/891689557279858688/photo/1</td>\n",
       "      <td>13</td>\n",
       "      <td>10</td>\n",
       "      <td>Darla</td>\n",
       "      <td>None</td>\n",
       "      <td>None</td>\n",
       "      <td>None</td>\n",
       "      <td>None</td>\n",
       "    </tr>\n",
       "    <tr>\n",
       "      <th>4</th>\n",
       "      <td>891327558926688256</td>\n",
       "      <td>NaN</td>\n",
       "      <td>NaN</td>\n",
       "      <td>2017-07-29 16:00:24 +0000</td>\n",
       "      <td>&lt;a href=\"http://twitter.com/download/iphone\" rel=\"nofollow\"&gt;Twitter for iPhone&lt;/a&gt;</td>\n",
       "      <td>This is Franklin. He would like you to stop calling him \"cute.\" He is a very fierce shark and should be respected as such. 12/10 #BarkWeek https://t.co/AtUZn91f7f</td>\n",
       "      <td>NaN</td>\n",
       "      <td>NaN</td>\n",
       "      <td>NaN</td>\n",
       "      <td>https://twitter.com/dog_rates/status/891327558926688256/photo/1,https://twitter.com/dog_rates/status/891327558926688256/photo/1</td>\n",
       "      <td>12</td>\n",
       "      <td>10</td>\n",
       "      <td>Franklin</td>\n",
       "      <td>None</td>\n",
       "      <td>None</td>\n",
       "      <td>None</td>\n",
       "      <td>None</td>\n",
       "    </tr>\n",
       "  </tbody>\n",
       "</table>\n",
       "</div>"
      ],
      "text/plain": [
       "             tweet_id  in_reply_to_status_id  in_reply_to_user_id  \\\n",
       "0  892420643555336193                    NaN                  NaN   \n",
       "1  892177421306343426                    NaN                  NaN   \n",
       "2  891815181378084864                    NaN                  NaN   \n",
       "3  891689557279858688                    NaN                  NaN   \n",
       "4  891327558926688256                    NaN                  NaN   \n",
       "\n",
       "                   timestamp  \\\n",
       "0  2017-08-01 16:23:56 +0000   \n",
       "1  2017-08-01 00:17:27 +0000   \n",
       "2  2017-07-31 00:18:03 +0000   \n",
       "3  2017-07-30 15:58:51 +0000   \n",
       "4  2017-07-29 16:00:24 +0000   \n",
       "\n",
       "                                                                               source  \\\n",
       "0  <a href=\"http://twitter.com/download/iphone\" rel=\"nofollow\">Twitter for iPhone</a>   \n",
       "1  <a href=\"http://twitter.com/download/iphone\" rel=\"nofollow\">Twitter for iPhone</a>   \n",
       "2  <a href=\"http://twitter.com/download/iphone\" rel=\"nofollow\">Twitter for iPhone</a>   \n",
       "3  <a href=\"http://twitter.com/download/iphone\" rel=\"nofollow\">Twitter for iPhone</a>   \n",
       "4  <a href=\"http://twitter.com/download/iphone\" rel=\"nofollow\">Twitter for iPhone</a>   \n",
       "\n",
       "                                                                                                                                                                 text  \\\n",
       "0                                                       This is Phineas. He's a mystical boy. Only ever appears in the hole of a donut. 13/10 https://t.co/MgUWQ76dJU   \n",
       "1  This is Tilly. She's just checking pup on you. Hopes you're doing ok. If not, she's available for pats, snugs, boops, the whole bit. 13/10 https://t.co/0Xxu71qeIV   \n",
       "2                   This is Archie. He is a rare Norwegian Pouncing Corgo. Lives in the tall grass. You never know when one may strike. 12/10 https://t.co/wUnZnhtVJB   \n",
       "3                                                             This is Darla. She commenced a snooze mid meal. 13/10 happens to the best of us https://t.co/tD36da7qLQ   \n",
       "4  This is Franklin. He would like you to stop calling him \"cute.\" He is a very fierce shark and should be respected as such. 12/10 #BarkWeek https://t.co/AtUZn91f7f   \n",
       "\n",
       "   retweeted_status_id  retweeted_status_user_id retweeted_status_timestamp  \\\n",
       "0                  NaN                       NaN                        NaN   \n",
       "1                  NaN                       NaN                        NaN   \n",
       "2                  NaN                       NaN                        NaN   \n",
       "3                  NaN                       NaN                        NaN   \n",
       "4                  NaN                       NaN                        NaN   \n",
       "\n",
       "                                                                                                                     expanded_urls  \\\n",
       "0                                                                  https://twitter.com/dog_rates/status/892420643555336193/photo/1   \n",
       "1                                                                  https://twitter.com/dog_rates/status/892177421306343426/photo/1   \n",
       "2                                                                  https://twitter.com/dog_rates/status/891815181378084864/photo/1   \n",
       "3                                                                  https://twitter.com/dog_rates/status/891689557279858688/photo/1   \n",
       "4  https://twitter.com/dog_rates/status/891327558926688256/photo/1,https://twitter.com/dog_rates/status/891327558926688256/photo/1   \n",
       "\n",
       "   rating_numerator  rating_denominator      name doggo floofer pupper puppo  \n",
       "0                13                  10   Phineas  None    None   None  None  \n",
       "1                13                  10     Tilly  None    None   None  None  \n",
       "2                12                  10    Archie  None    None   None  None  \n",
       "3                13                  10     Darla  None    None   None  None  \n",
       "4                12                  10  Franklin  None    None   None  None  "
      ]
     },
     "execution_count": 5,
     "metadata": {},
     "output_type": "execute_result"
    }
   ],
   "source": [
    "# Download file from Udacity server\n",
    "url = 'https://d17h27t6h515a5.cloudfront.net/topher/2017/August/59a4e958_twitter-archive-enhanced/twitter-archive-enhanced.csv'\n",
    "df_twitter_archive = pd.read_csv(url)\n",
    "df_twitter_archive.head()"
   ]
  },
  {
   "cell_type": "code",
   "execution_count": 6,
   "metadata": {
    "pycharm": {
     "name": "#%%\n"
    }
   },
   "outputs": [
    {
     "data": {
      "text/plain": [
       "(2356, 17)"
      ]
     },
     "execution_count": 6,
     "metadata": {},
     "output_type": "execute_result"
    }
   ],
   "source": [
    "df_twitter_archive.shape"
   ]
  },
  {
   "cell_type": "code",
   "execution_count": 7,
   "metadata": {
    "pycharm": {
     "name": "#%%\n"
    }
   },
   "outputs": [],
   "source": [
    "# write WeRateDogs Twitter archive data to csv\n",
    "\n",
    "# Make main data directory if it doesn't already exist\n",
    "create_folder(filename_general)\n",
    "\n",
    "df_twitter_archive.to_csv(filename_twitter_archive, index=False)"
   ]
  },
  {
   "cell_type": "markdown",
   "metadata": {
    "pycharm": {
     "name": "#%% md\n"
    }
   },
   "source": [
    "<span style=\"color:blue\">1.2 Use the Requests library to download the tweet image prediction (image_predictions.tsv)</span>"
   ]
  },
  {
   "cell_type": "code",
   "execution_count": 8,
   "metadata": {
    "pycharm": {
     "name": "#%%\n"
    }
   },
   "outputs": [],
   "source": [
    "# Make directory if it doesn't already exist\n",
    "create_folder(folder_image_predictions)"
   ]
  },
  {
   "cell_type": "code",
   "execution_count": 9,
   "metadata": {
    "pycharm": {
     "name": "#%%\n"
    }
   },
   "outputs": [],
   "source": [
    "# download and save image predictions\n",
    "udacity_url = 'https://d17h27t6h515a5.cloudfront.net/topher/2017/August/599fd2ad_image-predictions/image-predictions.tsv'\n",
    "response = requests.get(udacity_url)  \n",
    "\n",
    "# save file \n",
    "with open(filename_image_predictions, mode = 'wb') as file:\n",
    "    file.write(response.content)"
   ]
  },
  {
   "cell_type": "markdown",
   "metadata": {
    "pycharm": {
     "name": "#%% md\n"
    }
   },
   "source": [
    "Test if file was downloaded from Udacity server successfully"
   ]
  },
  {
   "cell_type": "code",
   "execution_count": 10,
   "metadata": {
    "pycharm": {
     "name": "#%%\n"
    }
   },
   "outputs": [],
   "source": [
    "# check that a file was successful saved in the new directory\n",
    "assert len(os.listdir(folder_image_predictions)) == 1"
   ]
  },
  {
   "cell_type": "code",
   "execution_count": 11,
   "metadata": {
    "pycharm": {
     "name": "#%%\n"
    }
   },
   "outputs": [],
   "source": [
    "# load new file into a dataframe\n",
    "df_image_predictions = pd.read_csv(filename_image_predictions, sep='\\t')"
   ]
  },
  {
   "cell_type": "markdown",
   "metadata": {
    "pycharm": {
     "name": "#%% md\n"
    }
   },
   "source": [
    "Test if file was loaded into a dataframe successfully"
   ]
  },
  {
   "cell_type": "code",
   "execution_count": 12,
   "metadata": {
    "pycharm": {
     "name": "#%%\n"
    }
   },
   "outputs": [
    {
     "data": {
      "text/html": [
       "<div>\n",
       "<style scoped>\n",
       "    .dataframe tbody tr th:only-of-type {\n",
       "        vertical-align: middle;\n",
       "    }\n",
       "\n",
       "    .dataframe tbody tr th {\n",
       "        vertical-align: top;\n",
       "    }\n",
       "\n",
       "    .dataframe thead th {\n",
       "        text-align: right;\n",
       "    }\n",
       "</style>\n",
       "<table border=\"1\" class=\"dataframe\">\n",
       "  <thead>\n",
       "    <tr style=\"text-align: right;\">\n",
       "      <th></th>\n",
       "      <th>tweet_id</th>\n",
       "      <th>jpg_url</th>\n",
       "      <th>img_num</th>\n",
       "      <th>p1</th>\n",
       "      <th>p1_conf</th>\n",
       "      <th>p1_dog</th>\n",
       "      <th>p2</th>\n",
       "      <th>p2_conf</th>\n",
       "      <th>p2_dog</th>\n",
       "      <th>p3</th>\n",
       "      <th>p3_conf</th>\n",
       "      <th>p3_dog</th>\n",
       "    </tr>\n",
       "  </thead>\n",
       "  <tbody>\n",
       "    <tr>\n",
       "      <th>0</th>\n",
       "      <td>666020888022790149</td>\n",
       "      <td>https://pbs.twimg.com/media/CT4udn0WwAA0aMy.jpg</td>\n",
       "      <td>1</td>\n",
       "      <td>Welsh_springer_spaniel</td>\n",
       "      <td>0.47</td>\n",
       "      <td>True</td>\n",
       "      <td>collie</td>\n",
       "      <td>0.16</td>\n",
       "      <td>True</td>\n",
       "      <td>Shetland_sheepdog</td>\n",
       "      <td>0.06</td>\n",
       "      <td>True</td>\n",
       "    </tr>\n",
       "    <tr>\n",
       "      <th>1</th>\n",
       "      <td>666029285002620928</td>\n",
       "      <td>https://pbs.twimg.com/media/CT42GRgUYAA5iDo.jpg</td>\n",
       "      <td>1</td>\n",
       "      <td>redbone</td>\n",
       "      <td>0.51</td>\n",
       "      <td>True</td>\n",
       "      <td>miniature_pinscher</td>\n",
       "      <td>0.07</td>\n",
       "      <td>True</td>\n",
       "      <td>Rhodesian_ridgeback</td>\n",
       "      <td>0.07</td>\n",
       "      <td>True</td>\n",
       "    </tr>\n",
       "    <tr>\n",
       "      <th>2</th>\n",
       "      <td>666033412701032449</td>\n",
       "      <td>https://pbs.twimg.com/media/CT4521TWwAEvMyu.jpg</td>\n",
       "      <td>1</td>\n",
       "      <td>German_shepherd</td>\n",
       "      <td>0.60</td>\n",
       "      <td>True</td>\n",
       "      <td>malinois</td>\n",
       "      <td>0.14</td>\n",
       "      <td>True</td>\n",
       "      <td>bloodhound</td>\n",
       "      <td>0.12</td>\n",
       "      <td>True</td>\n",
       "    </tr>\n",
       "    <tr>\n",
       "      <th>3</th>\n",
       "      <td>666044226329800704</td>\n",
       "      <td>https://pbs.twimg.com/media/CT5Dr8HUEAA-lEu.jpg</td>\n",
       "      <td>1</td>\n",
       "      <td>Rhodesian_ridgeback</td>\n",
       "      <td>0.41</td>\n",
       "      <td>True</td>\n",
       "      <td>redbone</td>\n",
       "      <td>0.36</td>\n",
       "      <td>True</td>\n",
       "      <td>miniature_pinscher</td>\n",
       "      <td>0.22</td>\n",
       "      <td>True</td>\n",
       "    </tr>\n",
       "    <tr>\n",
       "      <th>4</th>\n",
       "      <td>666049248165822465</td>\n",
       "      <td>https://pbs.twimg.com/media/CT5IQmsXIAAKY4A.jpg</td>\n",
       "      <td>1</td>\n",
       "      <td>miniature_pinscher</td>\n",
       "      <td>0.56</td>\n",
       "      <td>True</td>\n",
       "      <td>Rottweiler</td>\n",
       "      <td>0.24</td>\n",
       "      <td>True</td>\n",
       "      <td>Doberman</td>\n",
       "      <td>0.15</td>\n",
       "      <td>True</td>\n",
       "    </tr>\n",
       "  </tbody>\n",
       "</table>\n",
       "</div>"
      ],
      "text/plain": [
       "             tweet_id                                          jpg_url  \\\n",
       "0  666020888022790149  https://pbs.twimg.com/media/CT4udn0WwAA0aMy.jpg   \n",
       "1  666029285002620928  https://pbs.twimg.com/media/CT42GRgUYAA5iDo.jpg   \n",
       "2  666033412701032449  https://pbs.twimg.com/media/CT4521TWwAEvMyu.jpg   \n",
       "3  666044226329800704  https://pbs.twimg.com/media/CT5Dr8HUEAA-lEu.jpg   \n",
       "4  666049248165822465  https://pbs.twimg.com/media/CT5IQmsXIAAKY4A.jpg   \n",
       "\n",
       "   img_num                      p1  p1_conf  p1_dog                  p2  \\\n",
       "0        1  Welsh_springer_spaniel     0.47    True              collie   \n",
       "1        1                 redbone     0.51    True  miniature_pinscher   \n",
       "2        1         German_shepherd     0.60    True            malinois   \n",
       "3        1     Rhodesian_ridgeback     0.41    True             redbone   \n",
       "4        1      miniature_pinscher     0.56    True          Rottweiler   \n",
       "\n",
       "   p2_conf  p2_dog                   p3  p3_conf  p3_dog  \n",
       "0     0.16    True    Shetland_sheepdog     0.06    True  \n",
       "1     0.07    True  Rhodesian_ridgeback     0.07    True  \n",
       "2     0.14    True           bloodhound     0.12    True  \n",
       "3     0.36    True   miniature_pinscher     0.22    True  \n",
       "4     0.24    True             Doberman     0.15    True  "
      ]
     },
     "execution_count": 12,
     "metadata": {},
     "output_type": "execute_result"
    }
   ],
   "source": [
    "df_image_predictions.head()"
   ]
  },
  {
   "cell_type": "code",
   "execution_count": 13,
   "metadata": {
    "pycharm": {
     "name": "#%%\n"
    }
   },
   "outputs": [
    {
     "data": {
      "text/plain": [
       "(2075, 12)"
      ]
     },
     "execution_count": 13,
     "metadata": {},
     "output_type": "execute_result"
    }
   ],
   "source": [
    "df_image_predictions.shape"
   ]
  },
  {
   "cell_type": "markdown",
   "metadata": {
    "pycharm": {
     "name": "#%% md\n"
    }
   },
   "source": [
    "<span style=\"color:blue\">1.3 Use twitter API 'tweepy' to retrieve additional data</span>\n",
    "\n",
    "For each twitter id in the twitter archive file from step 1.1, retrieve additional data from the API\n",
    "Minimum requirement: retweet count, and favorite count"
   ]
  },
  {
   "cell_type": "code",
   "execution_count": 14,
   "metadata": {
    "pycharm": {
     "name": "#%%\n"
    }
   },
   "outputs": [],
   "source": [
    "# import API credentials from environment variables\n",
    "consumer_key = os.environ.get('TWITTER_CONSUMER_KEY')\n",
    "consumer_secret = os.environ.get('TWITTER_CONSUMER_SECRET')\n",
    "access_token = os.environ.get('TWITTER_ACCESS_TOKEN')\n",
    "access_secret = os.environ.get('TWITTER_ACCESS_SECRET')\n",
    "bearer_token = os.environ.get('TWITTER_BEARER_TOKEN')"
   ]
  },
  {
   "cell_type": "code",
   "execution_count": 15,
   "metadata": {
    "pycharm": {
     "name": "#%%\n"
    }
   },
   "outputs": [
    {
     "name": "stdout",
     "output_type": "stream",
     "text": [
      "Tweet: 882762694511734784, 50 out of 2356 tweets completed\n",
      "Tweet: 872967104147763200, 100 out of 2356 tweets completed\n",
      "Tweet: 863079547188785154, 150 out of 2356 tweets completed\n",
      "Tweet: 854120357044912130, 200 out of 2356 tweets completed\n",
      "Tweet: 845306882940190720, 250 out of 2356 tweets completed\n",
      "Tweet: 836989968035819520, 300 out of 2356 tweets completed\n"
     ]
    },
    {
     "name": "stderr",
     "output_type": "stream",
     "text": [
      "Rate limit exceeded. Sleeping for 836 seconds.\n"
     ]
    },
    {
     "name": "stdout",
     "output_type": "stream",
     "text": [
      "Tweet: 831650051525054464, 350 out of 2356 tweets completed\n",
      "Tweet: 824796380199809024, 400 out of 2356 tweets completed\n",
      "Tweet: 819004803107983360, 450 out of 2356 tweets completed\n",
      "Tweet: 813127251579564032, 500 out of 2356 tweets completed\n",
      "Tweet: 805207613751304193, 550 out of 2356 tweets completed\n",
      "Tweet: 798682547630837760, 600 out of 2356 tweets completed\n"
     ]
    },
    {
     "name": "stderr",
     "output_type": "stream",
     "text": [
      "Rate limit exceeded. Sleeping for 836 seconds.\n"
     ]
    },
    {
     "name": "stdout",
     "output_type": "stream",
     "text": [
      "Tweet: 792913359805018113, 650 out of 2356 tweets completed\n",
      "Tweet: 786286427768250368, 700 out of 2356 tweets completed\n",
      "Tweet: 779124354206535695, 750 out of 2356 tweets completed\n",
      "Tweet: 772826264096874500, 800 out of 2356 tweets completed\n",
      "Tweet: 766008592277377025, 850 out of 2356 tweets completed\n",
      "Tweet: 758828659922702336, 900 out of 2356 tweets completed\n"
     ]
    },
    {
     "name": "stderr",
     "output_type": "stream",
     "text": [
      "Rate limit exceeded. Sleeping for 836 seconds.\n"
     ]
    },
    {
     "name": "stdout",
     "output_type": "stream",
     "text": [
      "Tweet: 752309394570878976, 950 out of 2356 tweets completed\n",
      "Tweet: 748220828303695873, 1000 out of 2356 tweets completed\n",
      "Tweet: 743222593470234624, 1050 out of 2356 tweets completed\n",
      "Tweet: 735991953473572864, 1100 out of 2356 tweets completed\n",
      "Tweet: 726828223124897792, 1150 out of 2356 tweets completed\n",
      "Tweet: 716791146589110272, 1200 out of 2356 tweets completed\n"
     ]
    },
    {
     "name": "stderr",
     "output_type": "stream",
     "text": [
      "Rate limit exceeded. Sleeping for 831 seconds.\n"
     ]
    },
    {
     "name": "stdout",
     "output_type": "stream",
     "text": [
      "Tweet: 711306686208872448, 1250 out of 2356 tweets completed\n",
      "Tweet: 707738799544082433, 1300 out of 2356 tweets completed\n",
      "Tweet: 704134088924532736, 1350 out of 2356 tweets completed\n",
      "Tweet: 699691744225525762, 1400 out of 2356 tweets completed\n",
      "Tweet: 696100768806522880, 1450 out of 2356 tweets completed\n",
      "Tweet: 692187005137076224, 1500 out of 2356 tweets completed\n"
     ]
    },
    {
     "name": "stderr",
     "output_type": "stream",
     "text": [
      "Rate limit exceeded. Sleeping for 833 seconds.\n"
     ]
    },
    {
     "name": "stdout",
     "output_type": "stream",
     "text": [
      "Tweet: 689255633275777024, 1550 out of 2356 tweets completed\n",
      "Tweet: 686034024800862208, 1600 out of 2356 tweets completed\n",
      "Tweet: 683742671509258241, 1650 out of 2356 tweets completed\n",
      "Tweet: 680970795137544192, 1700 out of 2356 tweets completed\n",
      "Tweet: 679047485189439488, 1750 out of 2356 tweets completed\n",
      "Tweet: 677187300187611136, 1800 out of 2356 tweets completed\n"
     ]
    },
    {
     "name": "stderr",
     "output_type": "stream",
     "text": [
      "Rate limit exceeded. Sleeping for 833 seconds.\n"
     ]
    },
    {
     "name": "stdout",
     "output_type": "stream",
     "text": [
      "Tweet: 675781562965868544, 1850 out of 2356 tweets completed\n",
      "Tweet: 674670581682434048, 1900 out of 2356 tweets completed\n",
      "Tweet: 673689733134946305, 1950 out of 2356 tweets completed\n",
      "Tweet: 672523490734551040, 2000 out of 2356 tweets completed\n",
      "Tweet: 671504605491109889, 2050 out of 2356 tweets completed\n",
      "Tweet: 670717338665226240, 2100 out of 2356 tweets completed\n"
     ]
    },
    {
     "name": "stderr",
     "output_type": "stream",
     "text": [
      "Rate limit exceeded. Sleeping for 831 seconds.\n"
     ]
    },
    {
     "name": "stdout",
     "output_type": "stream",
     "text": [
      "Tweet: 669684865554620416, 2150 out of 2356 tweets completed\n",
      "Tweet: 668779399630725120, 2200 out of 2356 tweets completed\n",
      "Tweet: 667861340749471744, 2250 out of 2356 tweets completed\n",
      "Tweet: 667065535570550784, 2300 out of 2356 tweets completed\n",
      "Tweet: 666051853826850816, 2350 out of 2356 tweets completed\n",
      "Executing time: 6362.638165950775\n"
     ]
    }
   ],
   "source": [
    "# download and save files\n",
    "\n",
    "start_time = time.time()\n",
    "\n",
    "# create a folder if it does not exist\n",
    "create_folder(folder_twitter_api)\n",
    "error_list = []\n",
    "counter = 1\n",
    "total_records = df_twitter_archive['tweet_id'].shape[0]\n",
    "\n",
    "# Make a connection with API v2\n",
    "client = tweepy.Client( bearer_token=bearer_token, \n",
    "                        consumer_key=consumer_key, \n",
    "                        consumer_secret=consumer_secret, \n",
    "                        access_token=access_token, \n",
    "                        access_token_secret=access_secret, \n",
    "                        return_type = requests.Response,\n",
    "                        wait_on_rate_limit=True)\n",
    "\n",
    "# write json file\n",
    "with open(filename_twitter_api, 'w') as outfile:\n",
    "\n",
    "    for tweet_id in df_twitter_archive['tweet_id']:\n",
    "\n",
    "            # This cell is slow so print counter to gauge time remaining   \n",
    "            if counter%50 == 0:\n",
    "                print('Tweet: {}, {} out of {} tweets completed'.format(tweet_id, counter, total_records))\n",
    "\n",
    "            # call get_tweets API\n",
    "            tweet_fields = [\"public_metrics\", \"entities\", \"text\", \"attachments\",\"geo\"]\n",
    "            expansions = ['geo.place_id', 'attachments.media_keys']\n",
    "            media_fields = ['url', 'type']\n",
    "            place_fields = ['country_code', 'full_name', 'place_type']\n",
    "            response = client.get_tweets(tweet_id, \n",
    "                                         tweet_fields=tweet_fields, \n",
    "                                         expansions=expansions,\n",
    "                                         media_fields=media_fields,\n",
    "                                         place_fields = place_fields)\n",
    "            if response.status_code == 200:        \n",
    "                # write tweet to file on it's own line\n",
    "                json_string = json.dumps(response.json()) \n",
    "                outfile.write(json_string + '\\n')\n",
    "\n",
    "            else:\n",
    "                # construct error message and append to error list\n",
    "                error_message = \"Request returned an error: {} {}\".format(response.status_code, response.text)\n",
    "                print(error_message)\n",
    "                error_list.append(error_message)\n",
    "                \n",
    "            counter+=1\n",
    "            \n",
    "end_time = time.time()\n",
    "print('Executing time: {}'.format(end_time - start_time))"
   ]
  },
  {
   "cell_type": "code",
   "execution_count": 16,
   "metadata": {
    "pycharm": {
     "name": "#%%\n"
    }
   },
   "outputs": [],
   "source": [
    "# create .txt file containing API errors\n",
    "if len(error_list) > 0:\n",
    "    with open('../data/json/api_errors.txt', 'w') as outfile:\n",
    "        outfile.write(str(error_list))"
   ]
  },
  {
   "cell_type": "code",
   "execution_count": 17,
   "metadata": {
    "pycharm": {
     "name": "#%%\n"
    }
   },
   "outputs": [],
   "source": [
    "# read json file and import into a dataframe\n",
    "\n",
    "selected_attr = []\n",
    "error_list = []\n",
    "counter=0\n",
    "\n",
    "with open(filename_twitter_api, 'r') as json_file:\n",
    "    for line in json_file:\n",
    "\n",
    "        json_data = json.loads(line)\n",
    "        \n",
    "        # Extract \"data\" value from dictionary\n",
    "        try:\n",
    "            tweets_data = json_data['data'][0] \n",
    "            tweet_id = tweets_data['id']\n",
    "            text = tweets_data['text']            \n",
    "        except:\n",
    "            message = ('Error for index {}: [data] not available could be tweet no longer exist'.format(counter))\n",
    "            error_list.append(message)\n",
    "            continue\n",
    "        \n",
    "        # get first image of dog\n",
    "        try: \n",
    "            tweets_media = json_data['includes'] \n",
    "            media_url = tweets_media['media'][0]['url']\n",
    "            media_type = tweets_media['media'][0]['type']  \n",
    "        except:\n",
    "            media_url = media_type = ''\n",
    "            message = 'Error for index {}: media not available for tweet {}'.format(counter, tweet_id)\n",
    "            error_list.append(message)\n",
    "\n",
    "        # get public statistics e.g. retweet and like data\n",
    "        try:\n",
    "            retweet_count = tweets_data['public_metrics']['retweet_count']\n",
    "            reply_count = tweets_data['public_metrics']['reply_count']\n",
    "            like_count = tweets_data['public_metrics']['like_count']\n",
    "            quote_count = tweets_data['public_metrics']['quote_count']   \n",
    "        except:\n",
    "            retweet_count = reply_count = like_count = quote_count = ''  \n",
    "            message = ('Error for index {}: public statistics not available for tweet {}'.format(counter, tweet_id))   \n",
    "            error_list.append(message)\n",
    "                       \n",
    "        # get first available urls\n",
    "        try:\n",
    "            short_url = tweets_data['entities']['urls'][0]['url']                              \n",
    "            expanded_url = tweets_data['entities']['urls'][0]['expanded_url']    \n",
    "        except:\n",
    "            short_url = expanded_url = ''        \n",
    "            message = ('Error for index {}: URL not available for tweet {}'.format(counter, tweet_id))   \n",
    "            error_list.append(message)            \n",
    "            \n",
    "        \n",
    "        # get first annotion to possibly pickup the name of the dog, if it exist \n",
    "        try:\n",
    "            annotation = tweets_data['entities']['annotations'][0]['normalized_text'] \n",
    "        except:\n",
    "            annotation = ''\n",
    "            message = ('Error for index {}: Annotations not available for tweet {}'.format(counter, tweet_id)) \n",
    "            error_list.append(message)      \n",
    "\n",
    "            \n",
    "        selected_attr.append({\"id\": tweet_id,\n",
    "                              \"text\": text,\n",
    "                              \"retweet_count\": retweet_count,\n",
    "                              \"reply_count\":  reply_count,\n",
    "                              \"like_count\": like_count,\n",
    "                              \"quote_count\": quote_count,\n",
    "                              \"media_url\": media_url,\n",
    "                              \"media_type\": media_type,                  \n",
    "                              \"short_url\": short_url ,                      \n",
    "                              \"expanded_url\": expanded_url,\n",
    "                              \"annotation\": annotation\n",
    "                             })\n",
    "            \n",
    "        counter+=1"
   ]
  },
  {
   "cell_type": "code",
   "execution_count": 18,
   "metadata": {
    "pycharm": {
     "name": "#%%\n"
    }
   },
   "outputs": [
    {
     "data": {
      "text/html": [
       "<div>\n",
       "<style scoped>\n",
       "    .dataframe tbody tr th:only-of-type {\n",
       "        vertical-align: middle;\n",
       "    }\n",
       "\n",
       "    .dataframe tbody tr th {\n",
       "        vertical-align: top;\n",
       "    }\n",
       "\n",
       "    .dataframe thead th {\n",
       "        text-align: right;\n",
       "    }\n",
       "</style>\n",
       "<table border=\"1\" class=\"dataframe\">\n",
       "  <thead>\n",
       "    <tr style=\"text-align: right;\">\n",
       "      <th></th>\n",
       "      <th>id</th>\n",
       "      <th>text</th>\n",
       "      <th>retweet_count</th>\n",
       "      <th>reply_count</th>\n",
       "      <th>like_count</th>\n",
       "      <th>quote_count</th>\n",
       "      <th>media_url</th>\n",
       "      <th>media_type</th>\n",
       "      <th>short_url</th>\n",
       "      <th>expanded_url</th>\n",
       "      <th>annotation</th>\n",
       "    </tr>\n",
       "  </thead>\n",
       "  <tbody>\n",
       "    <tr>\n",
       "      <th>0</th>\n",
       "      <td>892420643555336193</td>\n",
       "      <td>This is Phineas. He's a mystical boy. Only ever appears in the hole of a donut. 13/10 https://t.co/MgUWQ76dJU</td>\n",
       "      <td>6847</td>\n",
       "      <td>135</td>\n",
       "      <td>32810</td>\n",
       "      <td>219</td>\n",
       "      <td>https://pbs.twimg.com/media/DGKD1-bXoAAIAUK.jpg</td>\n",
       "      <td>photo</td>\n",
       "      <td>https://t.co/MgUWQ76dJU</td>\n",
       "      <td>https://twitter.com/dog_rates/status/892420643555336193/photo/1</td>\n",
       "      <td>Phineas</td>\n",
       "    </tr>\n",
       "    <tr>\n",
       "      <th>1</th>\n",
       "      <td>892177421306343426</td>\n",
       "      <td>This is Tilly. She's just checking pup on you. Hopes you're doing ok. If not, she's available for pats, snugs, boops, the whole bit. 13/10 https://t.co/0Xxu71qeIV</td>\n",
       "      <td>5153</td>\n",
       "      <td>162</td>\n",
       "      <td>28364</td>\n",
       "      <td>274</td>\n",
       "      <td>https://pbs.twimg.com/media/DGGmoV4XsAAUL6n.jpg</td>\n",
       "      <td>photo</td>\n",
       "      <td>https://t.co/0Xxu71qeIV</td>\n",
       "      <td>https://twitter.com/dog_rates/status/892177421306343426/photo/1</td>\n",
       "      <td>Tilly</td>\n",
       "    </tr>\n",
       "    <tr>\n",
       "      <th>2</th>\n",
       "      <td>891815181378084864</td>\n",
       "      <td>This is Archie. He is a rare Norwegian Pouncing Corgo. Lives in the tall grass. You never know when one may strike. 12/10 https://t.co/wUnZnhtVJB</td>\n",
       "      <td>3403</td>\n",
       "      <td>108</td>\n",
       "      <td>21295</td>\n",
       "      <td>145</td>\n",
       "      <td>https://pbs.twimg.com/media/DGBdLU1WsAANxJ9.jpg</td>\n",
       "      <td>photo</td>\n",
       "      <td>https://t.co/wUnZnhtVJB</td>\n",
       "      <td>https://twitter.com/dog_rates/status/891815181378084864/photo/1</td>\n",
       "      <td>Archie</td>\n",
       "    </tr>\n",
       "    <tr>\n",
       "      <th>3</th>\n",
       "      <td>891689557279858688</td>\n",
       "      <td>This is Darla. She commenced a snooze mid meal. 13/10 happens to the best of us https://t.co/tD36da7qLQ</td>\n",
       "      <td>7057</td>\n",
       "      <td>139</td>\n",
       "      <td>35766</td>\n",
       "      <td>286</td>\n",
       "      <td>https://pbs.twimg.com/media/DF_q7IAWsAEuuN8.jpg</td>\n",
       "      <td>photo</td>\n",
       "      <td>https://t.co/tD36da7qLQ</td>\n",
       "      <td>https://twitter.com/dog_rates/status/891689557279858688/photo/1</td>\n",
       "      <td>Darla</td>\n",
       "    </tr>\n",
       "    <tr>\n",
       "      <th>4</th>\n",
       "      <td>891327558926688256</td>\n",
       "      <td>This is Franklin. He would like you to stop calling him \"cute.\" He is a very fierce shark and should be respected as such. 12/10 #BarkWeek https://t.co/AtUZn91f7f</td>\n",
       "      <td>7566</td>\n",
       "      <td>192</td>\n",
       "      <td>34193</td>\n",
       "      <td>296</td>\n",
       "      <td>https://pbs.twimg.com/media/DF6hr6AVYAAZ8G8.jpg</td>\n",
       "      <td>photo</td>\n",
       "      <td>https://t.co/AtUZn91f7f</td>\n",
       "      <td>https://twitter.com/dog_rates/status/891327558926688256/photo/1</td>\n",
       "      <td>Franklin</td>\n",
       "    </tr>\n",
       "  </tbody>\n",
       "</table>\n",
       "</div>"
      ],
      "text/plain": [
       "                   id  \\\n",
       "0  892420643555336193   \n",
       "1  892177421306343426   \n",
       "2  891815181378084864   \n",
       "3  891689557279858688   \n",
       "4  891327558926688256   \n",
       "\n",
       "                                                                                                                                                                 text  \\\n",
       "0                                                       This is Phineas. He's a mystical boy. Only ever appears in the hole of a donut. 13/10 https://t.co/MgUWQ76dJU   \n",
       "1  This is Tilly. She's just checking pup on you. Hopes you're doing ok. If not, she's available for pats, snugs, boops, the whole bit. 13/10 https://t.co/0Xxu71qeIV   \n",
       "2                   This is Archie. He is a rare Norwegian Pouncing Corgo. Lives in the tall grass. You never know when one may strike. 12/10 https://t.co/wUnZnhtVJB   \n",
       "3                                                             This is Darla. She commenced a snooze mid meal. 13/10 happens to the best of us https://t.co/tD36da7qLQ   \n",
       "4  This is Franklin. He would like you to stop calling him \"cute.\" He is a very fierce shark and should be respected as such. 12/10 #BarkWeek https://t.co/AtUZn91f7f   \n",
       "\n",
       "   retweet_count  reply_count  like_count  quote_count  \\\n",
       "0           6847          135       32810          219   \n",
       "1           5153          162       28364          274   \n",
       "2           3403          108       21295          145   \n",
       "3           7057          139       35766          286   \n",
       "4           7566          192       34193          296   \n",
       "\n",
       "                                         media_url media_type  \\\n",
       "0  https://pbs.twimg.com/media/DGKD1-bXoAAIAUK.jpg      photo   \n",
       "1  https://pbs.twimg.com/media/DGGmoV4XsAAUL6n.jpg      photo   \n",
       "2  https://pbs.twimg.com/media/DGBdLU1WsAANxJ9.jpg      photo   \n",
       "3  https://pbs.twimg.com/media/DF_q7IAWsAEuuN8.jpg      photo   \n",
       "4  https://pbs.twimg.com/media/DF6hr6AVYAAZ8G8.jpg      photo   \n",
       "\n",
       "                 short_url  \\\n",
       "0  https://t.co/MgUWQ76dJU   \n",
       "1  https://t.co/0Xxu71qeIV   \n",
       "2  https://t.co/wUnZnhtVJB   \n",
       "3  https://t.co/tD36da7qLQ   \n",
       "4  https://t.co/AtUZn91f7f   \n",
       "\n",
       "                                                      expanded_url annotation  \n",
       "0  https://twitter.com/dog_rates/status/892420643555336193/photo/1    Phineas  \n",
       "1  https://twitter.com/dog_rates/status/892177421306343426/photo/1      Tilly  \n",
       "2  https://twitter.com/dog_rates/status/891815181378084864/photo/1     Archie  \n",
       "3  https://twitter.com/dog_rates/status/891689557279858688/photo/1      Darla  \n",
       "4  https://twitter.com/dog_rates/status/891327558926688256/photo/1   Franklin  "
      ]
     },
     "execution_count": 18,
     "metadata": {},
     "output_type": "execute_result"
    }
   ],
   "source": [
    "#create dataframe\n",
    "df_tweepy = pd.DataFrame(selected_attr)\n",
    "df_tweepy.head()"
   ]
  },
  {
   "cell_type": "code",
   "execution_count": 22,
   "metadata": {
    "pycharm": {
     "name": "#%%\n"
    }
   },
   "outputs": [],
   "source": [
    "# create .txt file containing missing data problems we could not retrieve from the dumped json data\n",
    "if len(error_list) > 0:\n",
    "    with open(filename_twitter_api_errors, 'w') as outfile:\n",
    "        outfile.write(str(error_list))"
   ]
  },
  {
   "cell_type": "code",
   "execution_count": 23,
   "metadata": {
    "pycharm": {
     "name": "#%%\n"
    }
   },
   "outputs": [],
   "source": [
    "df_tweepy.to_csv('../data/tweepy_api.csv', index=False)"
   ]
  },
  {
   "cell_type": "markdown",
   "metadata": {
    "pycharm": {
     "name": "#%% md\n"
    }
   },
   "source": [
    "<span style=\"color:blue\">1.4 Download dog profile images (optional extra step)</span>"
   ]
  },
  {
   "cell_type": "code",
   "execution_count": 6,
   "metadata": {
    "pycharm": {
     "name": "#%%\n"
    }
   },
   "outputs": [
    {
     "data": {
      "text/html": [
       "<div>\n",
       "<style scoped>\n",
       "    .dataframe tbody tr th:only-of-type {\n",
       "        vertical-align: middle;\n",
       "    }\n",
       "\n",
       "    .dataframe tbody tr th {\n",
       "        vertical-align: top;\n",
       "    }\n",
       "\n",
       "    .dataframe thead th {\n",
       "        text-align: right;\n",
       "    }\n",
       "</style>\n",
       "<table border=\"1\" class=\"dataframe\">\n",
       "  <thead>\n",
       "    <tr style=\"text-align: right;\">\n",
       "      <th></th>\n",
       "      <th>id</th>\n",
       "      <th>text</th>\n",
       "      <th>retweet_count</th>\n",
       "      <th>reply_count</th>\n",
       "      <th>like_count</th>\n",
       "      <th>quote_count</th>\n",
       "      <th>media_url</th>\n",
       "      <th>media_type</th>\n",
       "      <th>short_url</th>\n",
       "      <th>expanded_url</th>\n",
       "      <th>annotation</th>\n",
       "    </tr>\n",
       "  </thead>\n",
       "  <tbody>\n",
       "    <tr>\n",
       "      <th>0</th>\n",
       "      <td>892420643555336193</td>\n",
       "      <td>This is Phineas. He's a mystical boy. Only ever appears in the hole of a donut. 13/10 https://t.co/MgUWQ76dJU</td>\n",
       "      <td>6847</td>\n",
       "      <td>135</td>\n",
       "      <td>32810</td>\n",
       "      <td>219</td>\n",
       "      <td>https://pbs.twimg.com/media/DGKD1-bXoAAIAUK.jpg</td>\n",
       "      <td>photo</td>\n",
       "      <td>https://t.co/MgUWQ76dJU</td>\n",
       "      <td>https://twitter.com/dog_rates/status/892420643555336193/photo/1</td>\n",
       "      <td>Phineas</td>\n",
       "    </tr>\n",
       "    <tr>\n",
       "      <th>1</th>\n",
       "      <td>892177421306343426</td>\n",
       "      <td>This is Tilly. She's just checking pup on you. Hopes you're doing ok. If not, she's available for pats, snugs, boops, the whole bit. 13/10 https://t.co/0Xxu71qeIV</td>\n",
       "      <td>5153</td>\n",
       "      <td>162</td>\n",
       "      <td>28364</td>\n",
       "      <td>274</td>\n",
       "      <td>https://pbs.twimg.com/media/DGGmoV4XsAAUL6n.jpg</td>\n",
       "      <td>photo</td>\n",
       "      <td>https://t.co/0Xxu71qeIV</td>\n",
       "      <td>https://twitter.com/dog_rates/status/892177421306343426/photo/1</td>\n",
       "      <td>Tilly</td>\n",
       "    </tr>\n",
       "    <tr>\n",
       "      <th>2</th>\n",
       "      <td>891815181378084864</td>\n",
       "      <td>This is Archie. He is a rare Norwegian Pouncing Corgo. Lives in the tall grass. You never know when one may strike. 12/10 https://t.co/wUnZnhtVJB</td>\n",
       "      <td>3403</td>\n",
       "      <td>108</td>\n",
       "      <td>21295</td>\n",
       "      <td>145</td>\n",
       "      <td>https://pbs.twimg.com/media/DGBdLU1WsAANxJ9.jpg</td>\n",
       "      <td>photo</td>\n",
       "      <td>https://t.co/wUnZnhtVJB</td>\n",
       "      <td>https://twitter.com/dog_rates/status/891815181378084864/photo/1</td>\n",
       "      <td>Archie</td>\n",
       "    </tr>\n",
       "    <tr>\n",
       "      <th>3</th>\n",
       "      <td>891689557279858688</td>\n",
       "      <td>This is Darla. She commenced a snooze mid meal. 13/10 happens to the best of us https://t.co/tD36da7qLQ</td>\n",
       "      <td>7057</td>\n",
       "      <td>139</td>\n",
       "      <td>35766</td>\n",
       "      <td>286</td>\n",
       "      <td>https://pbs.twimg.com/media/DF_q7IAWsAEuuN8.jpg</td>\n",
       "      <td>photo</td>\n",
       "      <td>https://t.co/tD36da7qLQ</td>\n",
       "      <td>https://twitter.com/dog_rates/status/891689557279858688/photo/1</td>\n",
       "      <td>Darla</td>\n",
       "    </tr>\n",
       "    <tr>\n",
       "      <th>4</th>\n",
       "      <td>891327558926688256</td>\n",
       "      <td>This is Franklin. He would like you to stop calling him \"cute.\" He is a very fierce shark and should be respected as such. 12/10 #BarkWeek https://t.co/AtUZn91f7f</td>\n",
       "      <td>7566</td>\n",
       "      <td>192</td>\n",
       "      <td>34193</td>\n",
       "      <td>296</td>\n",
       "      <td>https://pbs.twimg.com/media/DF6hr6AVYAAZ8G8.jpg</td>\n",
       "      <td>photo</td>\n",
       "      <td>https://t.co/AtUZn91f7f</td>\n",
       "      <td>https://twitter.com/dog_rates/status/891327558926688256/photo/1</td>\n",
       "      <td>Franklin</td>\n",
       "    </tr>\n",
       "  </tbody>\n",
       "</table>\n",
       "</div>"
      ],
      "text/plain": [
       "                   id  \\\n",
       "0  892420643555336193   \n",
       "1  892177421306343426   \n",
       "2  891815181378084864   \n",
       "3  891689557279858688   \n",
       "4  891327558926688256   \n",
       "\n",
       "                                                                                                                                                                 text  \\\n",
       "0                                                       This is Phineas. He's a mystical boy. Only ever appears in the hole of a donut. 13/10 https://t.co/MgUWQ76dJU   \n",
       "1  This is Tilly. She's just checking pup on you. Hopes you're doing ok. If not, she's available for pats, snugs, boops, the whole bit. 13/10 https://t.co/0Xxu71qeIV   \n",
       "2                   This is Archie. He is a rare Norwegian Pouncing Corgo. Lives in the tall grass. You never know when one may strike. 12/10 https://t.co/wUnZnhtVJB   \n",
       "3                                                             This is Darla. She commenced a snooze mid meal. 13/10 happens to the best of us https://t.co/tD36da7qLQ   \n",
       "4  This is Franklin. He would like you to stop calling him \"cute.\" He is a very fierce shark and should be respected as such. 12/10 #BarkWeek https://t.co/AtUZn91f7f   \n",
       "\n",
       "   retweet_count  reply_count  like_count  quote_count  \\\n",
       "0           6847          135       32810          219   \n",
       "1           5153          162       28364          274   \n",
       "2           3403          108       21295          145   \n",
       "3           7057          139       35766          286   \n",
       "4           7566          192       34193          296   \n",
       "\n",
       "                                         media_url media_type  \\\n",
       "0  https://pbs.twimg.com/media/DGKD1-bXoAAIAUK.jpg      photo   \n",
       "1  https://pbs.twimg.com/media/DGGmoV4XsAAUL6n.jpg      photo   \n",
       "2  https://pbs.twimg.com/media/DGBdLU1WsAANxJ9.jpg      photo   \n",
       "3  https://pbs.twimg.com/media/DF_q7IAWsAEuuN8.jpg      photo   \n",
       "4  https://pbs.twimg.com/media/DF6hr6AVYAAZ8G8.jpg      photo   \n",
       "\n",
       "                 short_url  \\\n",
       "0  https://t.co/MgUWQ76dJU   \n",
       "1  https://t.co/0Xxu71qeIV   \n",
       "2  https://t.co/wUnZnhtVJB   \n",
       "3  https://t.co/tD36da7qLQ   \n",
       "4  https://t.co/AtUZn91f7f   \n",
       "\n",
       "                                                      expanded_url annotation  \n",
       "0  https://twitter.com/dog_rates/status/892420643555336193/photo/1    Phineas  \n",
       "1  https://twitter.com/dog_rates/status/892177421306343426/photo/1      Tilly  \n",
       "2  https://twitter.com/dog_rates/status/891815181378084864/photo/1     Archie  \n",
       "3  https://twitter.com/dog_rates/status/891689557279858688/photo/1      Darla  \n",
       "4  https://twitter.com/dog_rates/status/891327558926688256/photo/1   Franklin  "
      ]
     },
     "execution_count": 6,
     "metadata": {},
     "output_type": "execute_result"
    }
   ],
   "source": [
    "df_tweepy = pd.read_csv(filename_twitter_api_output)\n",
    "df_tweepy.head(5)            "
   ]
  },
  {
   "cell_type": "code",
   "execution_count": 7,
   "metadata": {
    "pycharm": {
     "name": "#%%\n"
    }
   },
   "outputs": [
    {
     "name": "stdout",
     "output_type": "stream",
     "text": [
      "Tweet: 872486979161796608, 100 out of 2326 images downloaded\n",
      "Tweet: 852226086759018497, 200 out of 2326 images downloaded\n",
      "Tweet: 834931633769889797, 300 out of 2326 images downloaded\n",
      "Tweet: 822462944365645825, 400 out of 2326 images downloaded\n",
      "Tweet: 810284430598270976, 500 out of 2326 images downloaded\n",
      "Tweet: 796125600683540480, 600 out of 2326 images downloaded\n",
      "Tweet: 783347506784731136, 700 out of 2326 images downloaded\n",
      "Tweet: 769940425801170949, 800 out of 2326 images downloaded\n",
      "Tweet: 754856583969079297, 900 out of 2326 images downloaded\n",
      "Tweet: 745789745784041472, 1000 out of 2326 images downloaded\n",
      "Tweet: 729823566028484608, 1100 out of 2326 images downloaded\n",
      "Tweet: 713900603437621249, 1200 out of 2326 images downloaded\n",
      "Tweet: 705970349788291072, 1300 out of 2326 images downloaded\n",
      "Tweet: 697616773278015490, 1400 out of 2326 images downloaded\n",
      "Tweet: 690348396616552449, 1500 out of 2326 images downloaded\n",
      "Tweet: 684588130326986752, 1600 out of 2326 images downloaded\n",
      "Tweet: 679862121895714818, 1700 out of 2326 images downloaded\n",
      "Tweet: 676237365392908289, 1800 out of 2326 images downloaded\n",
      "Tweet: 674042553264685056, 1900 out of 2326 images downloaded\n",
      "Tweet: 671855973984772097, 2000 out of 2326 images downloaded\n",
      "Tweet: 670290420111441920, 2100 out of 2326 images downloaded\n",
      "Tweet: 668248472370458624, 2200 out of 2326 images downloaded\n",
      "Tweet: 666373753744588802, 2300 out of 2326 images downloaded\n",
      "Executing time: 257.0842549800873\n"
     ]
    }
   ],
   "source": [
    "# retrieve dog posters\n",
    "\n",
    "start_time = time.time()\n",
    "\n",
    "df_list = []\n",
    "image_errors = []\n",
    "counter = 0\n",
    "total_records = df_tweepy.shape[0]\n",
    "\n",
    "  \n",
    "# Make directory if it doesn't already exist\n",
    "create_folder(folder_image_profiles)    \n",
    "\n",
    "# Download images\n",
    "for i in df_tweepy.index:\n",
    "    \n",
    "    url = df_tweepy['media_url'][i]\n",
    "    tweet_id = df_tweepy['id'][i]\n",
    "    \n",
    "    if url:\n",
    "        try:\n",
    "            # Download movie poster image\n",
    "            r = requests.get(url)\n",
    "            i = Image.open(BytesIO(r.content))\n",
    "            # file format of images, e.g. jpg\n",
    "            image_file_format = url.split('.')[-1]\n",
    "            i.save(folder_image_profiles + \"/\" + str(tweet_id) + \".\" + image_file_format)\n",
    "\n",
    "        except Exception as e:\n",
    "            error_message = (str(counter) + \"_\" + str(tweet_id) + \": \" + str(e))\n",
    "            image_errors.append(error_message)              \n",
    "            \n",
    "  # This cell is slow so print progress to gauge time remaining\n",
    "    counter+=1 \n",
    "    if counter%100 == 0:\n",
    "        print('Tweet: {}, {} out of {} images downloaded'.format(tweet_id, counter, total_records))            \n",
    "            \n",
    "end_time = time.time()\n",
    "print('Executing time: {}'.format(end_time - start_time))"
   ]
  },
  {
   "cell_type": "code",
   "execution_count": 8,
   "metadata": {
    "pycharm": {
     "name": "#%%\n"
    }
   },
   "outputs": [
    {
     "name": "stdout",
     "output_type": "stream",
     "text": [
      "Whilst downloading images, 354 errors occured\n"
     ]
    }
   ],
   "source": [
    "# create .txt file containing missing data problems we could not retrieve from the dumped json data\n",
    "if len(image_errors) > 0:\n",
    "    with open(filename_image_errors, 'w') as outfile:\n",
    "        outfile.write(str(image_errors))\n",
    "        \n",
    "print('Whilst downloading images, {} errors occured'.format(len(image_errors)))"
   ]
  },
  {
   "cell_type": "markdown",
   "metadata": {
    "pycharm": {
     "name": "#%%\n"
    }
   },
   "source": [
    "<a id='assess'></a>\n",
    "<span style=\"color:blue; font-size:30px; line-height:40px; font-family: Calibri;\">Step 2: Assessing Data</span>\n",
    "\n",
    "##### Project criteria: \n",
    "\n",
    "In this section, detect and document at least **eight (8) quality issues and two (2) tidiness issue**. Use **both** visual and programmatic assessment to assess the data.\n",
    "\n",
    "**Note:** pay attention to the following key points when assessing the data:\n",
    "\n",
    "* You only want original ratings (no retweets) that have images. Though there are 5000+ tweets in the dataset, not all are dog ratings and some are retweets.\n",
    "* The fact that the rating numerators are greater than the denominators does not need to be cleaned. This [unique rating system](http://knowyourmeme.com/memes/theyre-good-dogs-brent) is a big part of the popularity of WeRateDogs.\n",
    "* You do not need to gather the tweets beyond August 1st, 2017. You can, but note that you won't be able to gather the image predictions for these tweets since you don't have access to the algorithm used.\n"
   ]
  },
  {
   "cell_type": "markdown",
   "metadata": {
    "pycharm": {
     "name": "#%% md\n"
    }
   },
   "source": [
    "Index:\n",
    "\n",
    "- [Step 2.1: Assess twitter archive data](#twitter_archive)\n",
    "- [Step 2.2: Assess twitter API data](#twitter_api)\n",
    "- [Step 2.3: Assess twitter breed prediction data](#twitter_predictions)"
   ]
  },
  {
   "cell_type": "markdown",
   "metadata": {
    "pycharm": {
     "name": "#%% md\n"
    }
   },
   "source": [
    "<a id='twitter_archive'></a>\n",
    "<span style=\"color:blue; font-size:16px\">2.1 Assess twitter archive data</span>"
   ]
  },
  {
   "cell_type": "code",
   "execution_count": 10,
   "metadata": {
    "pycharm": {
     "name": "#%%\n"
    }
   },
   "outputs": [
    {
     "data": {
      "text/html": [
       "<div>\n",
       "<style scoped>\n",
       "    .dataframe tbody tr th:only-of-type {\n",
       "        vertical-align: middle;\n",
       "    }\n",
       "\n",
       "    .dataframe tbody tr th {\n",
       "        vertical-align: top;\n",
       "    }\n",
       "\n",
       "    .dataframe thead th {\n",
       "        text-align: right;\n",
       "    }\n",
       "</style>\n",
       "<table border=\"1\" class=\"dataframe\">\n",
       "  <thead>\n",
       "    <tr style=\"text-align: right;\">\n",
       "      <th></th>\n",
       "      <th>tweet_id</th>\n",
       "      <th>in_reply_to_status_id</th>\n",
       "      <th>in_reply_to_user_id</th>\n",
       "      <th>timestamp</th>\n",
       "      <th>source</th>\n",
       "      <th>text</th>\n",
       "      <th>retweeted_status_id</th>\n",
       "      <th>retweeted_status_user_id</th>\n",
       "      <th>retweeted_status_timestamp</th>\n",
       "      <th>expanded_urls</th>\n",
       "      <th>rating_numerator</th>\n",
       "      <th>rating_denominator</th>\n",
       "      <th>name</th>\n",
       "      <th>doggo</th>\n",
       "      <th>floofer</th>\n",
       "      <th>pupper</th>\n",
       "      <th>puppo</th>\n",
       "    </tr>\n",
       "  </thead>\n",
       "  <tbody>\n",
       "    <tr>\n",
       "      <th>154</th>\n",
       "      <td>862096992088072192</td>\n",
       "      <td>NaN</td>\n",
       "      <td>NaN</td>\n",
       "      <td>2017-05-10 00:08:34 +0000</td>\n",
       "      <td>&lt;a href=\"http://twitter.com/download/iphone\" rel=\"nofollow\"&gt;Twitter for iPhone&lt;/a&gt;</td>\n",
       "      <td>We only rate dogs. Please don't send perfectly toasted marshmallows attempting to drive. Thank you... 13/10 https://t.co/nvZyyrp0kd</td>\n",
       "      <td>NaN</td>\n",
       "      <td>NaN</td>\n",
       "      <td>NaN</td>\n",
       "      <td>https://twitter.com/dog_rates/status/862096992088072192/photo/1,https://twitter.com/dog_rates/status/862096992088072192/photo/1</td>\n",
       "      <td>13</td>\n",
       "      <td>10</td>\n",
       "      <td>None</td>\n",
       "      <td>None</td>\n",
       "      <td>None</td>\n",
       "      <td>None</td>\n",
       "      <td>None</td>\n",
       "    </tr>\n",
       "    <tr>\n",
       "      <th>1165</th>\n",
       "      <td>722974582966214656</td>\n",
       "      <td>NaN</td>\n",
       "      <td>NaN</td>\n",
       "      <td>2016-04-21 02:25:47 +0000</td>\n",
       "      <td>&lt;a href=\"http://twitter.com/download/iphone\" rel=\"nofollow\"&gt;Twitter for iPhone&lt;/a&gt;</td>\n",
       "      <td>Happy 4/20 from the squad! 13/10 for all https://t.co/eV1diwds8a</td>\n",
       "      <td>NaN</td>\n",
       "      <td>NaN</td>\n",
       "      <td>NaN</td>\n",
       "      <td>https://twitter.com/dog_rates/status/722974582966214656/photo/1</td>\n",
       "      <td>4</td>\n",
       "      <td>20</td>\n",
       "      <td>None</td>\n",
       "      <td>None</td>\n",
       "      <td>None</td>\n",
       "      <td>None</td>\n",
       "      <td>None</td>\n",
       "    </tr>\n",
       "    <tr>\n",
       "      <th>492</th>\n",
       "      <td>813217897535406080</td>\n",
       "      <td>NaN</td>\n",
       "      <td>NaN</td>\n",
       "      <td>2016-12-26 03:00:30 +0000</td>\n",
       "      <td>&lt;a href=\"http://twitter.com/download/iphone\" rel=\"nofollow\"&gt;Twitter for iPhone&lt;/a&gt;</td>\n",
       "      <td>Here is Atlas. He went all out this year. 13/10 downright magical af https://t.co/DVYIZOnO81</td>\n",
       "      <td>NaN</td>\n",
       "      <td>NaN</td>\n",
       "      <td>NaN</td>\n",
       "      <td>https://twitter.com/dog_rates/status/813217897535406080/photo/1,https://twitter.com/dog_rates/status/813217897535406080/photo/1,https://twitter.com/dog_rates/status/813217897535406080/photo/1,https://twitter.com/dog_rates/status/813217897535406080/photo/1</td>\n",
       "      <td>13</td>\n",
       "      <td>10</td>\n",
       "      <td>Atlas</td>\n",
       "      <td>None</td>\n",
       "      <td>None</td>\n",
       "      <td>None</td>\n",
       "      <td>None</td>\n",
       "    </tr>\n",
       "    <tr>\n",
       "      <th>1716</th>\n",
       "      <td>680206703334408192</td>\n",
       "      <td>NaN</td>\n",
       "      <td>NaN</td>\n",
       "      <td>2015-12-25 02:01:30 +0000</td>\n",
       "      <td>&lt;a href=\"http://twitter.com/download/iphone\" rel=\"nofollow\"&gt;Twitter for iPhone&lt;/a&gt;</td>\n",
       "      <td>I hope everyone enjoys this picture as much as I do. This is Toby. 12/10 https://t.co/vHnu1g9EJm</td>\n",
       "      <td>NaN</td>\n",
       "      <td>NaN</td>\n",
       "      <td>NaN</td>\n",
       "      <td>https://twitter.com/dog_rates/status/680206703334408192/photo/1</td>\n",
       "      <td>12</td>\n",
       "      <td>10</td>\n",
       "      <td>Toby</td>\n",
       "      <td>None</td>\n",
       "      <td>None</td>\n",
       "      <td>None</td>\n",
       "      <td>None</td>\n",
       "    </tr>\n",
       "    <tr>\n",
       "      <th>1015</th>\n",
       "      <td>747103485104099331</td>\n",
       "      <td>NaN</td>\n",
       "      <td>NaN</td>\n",
       "      <td>2016-06-26 16:25:26 +0000</td>\n",
       "      <td>&lt;a href=\"http://twitter.com/download/iphone\" rel=\"nofollow\"&gt;Twitter for iPhone&lt;/a&gt;</td>\n",
       "      <td>Guys... I said DOGS with \"shark qualities\" or \"costumes.\" Not actual sharks. This did me a real frighten ...11/10 https://t.co/DX1JUHJVN7</td>\n",
       "      <td>NaN</td>\n",
       "      <td>NaN</td>\n",
       "      <td>NaN</td>\n",
       "      <td>https://twitter.com/dog_rates/status/747103485104099331/photo/1,https://twitter.com/dog_rates/status/747103485104099331/photo/1,https://twitter.com/dog_rates/status/747103485104099331/photo/1,https://twitter.com/dog_rates/status/747103485104099331/photo/1</td>\n",
       "      <td>11</td>\n",
       "      <td>10</td>\n",
       "      <td>None</td>\n",
       "      <td>None</td>\n",
       "      <td>None</td>\n",
       "      <td>None</td>\n",
       "      <td>None</td>\n",
       "    </tr>\n",
       "    <tr>\n",
       "      <th>1531</th>\n",
       "      <td>690015576308211712</td>\n",
       "      <td>NaN</td>\n",
       "      <td>NaN</td>\n",
       "      <td>2016-01-21 03:38:27 +0000</td>\n",
       "      <td>&lt;a href=\"http://twitter.com/download/iphone\" rel=\"nofollow\"&gt;Twitter for iPhone&lt;/a&gt;</td>\n",
       "      <td>This pupper can only sleep on shoes. It's a crippling disease. Tearing his family apart. 12/10 I'd totally pet tho https://t.co/03XlvS8izg</td>\n",
       "      <td>NaN</td>\n",
       "      <td>NaN</td>\n",
       "      <td>NaN</td>\n",
       "      <td>https://twitter.com/dog_rates/status/690015576308211712/photo/1,https://twitter.com/dog_rates/status/690015576308211712/photo/1</td>\n",
       "      <td>12</td>\n",
       "      <td>10</td>\n",
       "      <td>None</td>\n",
       "      <td>None</td>\n",
       "      <td>None</td>\n",
       "      <td>pupper</td>\n",
       "      <td>None</td>\n",
       "    </tr>\n",
       "    <tr>\n",
       "      <th>640</th>\n",
       "      <td>793241302385262592</td>\n",
       "      <td>NaN</td>\n",
       "      <td>NaN</td>\n",
       "      <td>2016-11-01 00:00:38 +0000</td>\n",
       "      <td>&lt;a href=\"http://twitter.com/download/iphone\" rel=\"nofollow\"&gt;Twitter for iPhone&lt;/a&gt;</td>\n",
       "      <td>This is Tucker. He's out here bustin h*ckin ghosts. 13/10 dedicated af https://t.co/Ap477GhwXt</td>\n",
       "      <td>NaN</td>\n",
       "      <td>NaN</td>\n",
       "      <td>NaN</td>\n",
       "      <td>https://twitter.com/dog_rates/status/793241302385262592/photo/1</td>\n",
       "      <td>13</td>\n",
       "      <td>10</td>\n",
       "      <td>Tucker</td>\n",
       "      <td>None</td>\n",
       "      <td>None</td>\n",
       "      <td>None</td>\n",
       "      <td>None</td>\n",
       "    </tr>\n",
       "    <tr>\n",
       "      <th>1614</th>\n",
       "      <td>685307451701334016</td>\n",
       "      <td>NaN</td>\n",
       "      <td>NaN</td>\n",
       "      <td>2016-01-08 03:50:03 +0000</td>\n",
       "      <td>&lt;a href=\"http://twitter.com/download/iphone\" rel=\"nofollow\"&gt;Twitter for iPhone&lt;/a&gt;</td>\n",
       "      <td>Say hello to Petrick. He's an Altostratus Floofer. Just had a run in with a trash bag. Groovy checkered floor. 11/10 https://t.co/rwW7z1JAOF</td>\n",
       "      <td>NaN</td>\n",
       "      <td>NaN</td>\n",
       "      <td>NaN</td>\n",
       "      <td>https://twitter.com/dog_rates/status/685307451701334016/photo/1</td>\n",
       "      <td>11</td>\n",
       "      <td>10</td>\n",
       "      <td>Petrick</td>\n",
       "      <td>None</td>\n",
       "      <td>floofer</td>\n",
       "      <td>None</td>\n",
       "      <td>None</td>\n",
       "    </tr>\n",
       "    <tr>\n",
       "      <th>1100</th>\n",
       "      <td>735648611367784448</td>\n",
       "      <td>NaN</td>\n",
       "      <td>NaN</td>\n",
       "      <td>2016-05-26 01:47:51 +0000</td>\n",
       "      <td>&lt;a href=\"http://twitter.com/download/iphone\" rel=\"nofollow\"&gt;Twitter for iPhone&lt;/a&gt;</td>\n",
       "      <td>*faints* 12/10 perfection in pupper form https://t.co/t6TxTwTLEK</td>\n",
       "      <td>NaN</td>\n",
       "      <td>NaN</td>\n",
       "      <td>NaN</td>\n",
       "      <td>https://twitter.com/dog_rates/status/735648611367784448/photo/1</td>\n",
       "      <td>12</td>\n",
       "      <td>10</td>\n",
       "      <td>None</td>\n",
       "      <td>None</td>\n",
       "      <td>None</td>\n",
       "      <td>pupper</td>\n",
       "      <td>None</td>\n",
       "    </tr>\n",
       "    <tr>\n",
       "      <th>2055</th>\n",
       "      <td>671362598324076544</td>\n",
       "      <td>NaN</td>\n",
       "      <td>NaN</td>\n",
       "      <td>2015-11-30 16:18:11 +0000</td>\n",
       "      <td>&lt;a href=\"http://twitter.com/download/iphone\" rel=\"nofollow\"&gt;Twitter for iPhone&lt;/a&gt;</td>\n",
       "      <td>This is Tanner. He accidentally dropped all his hard-earned Kohl's cash in the tub. 11/10 https://t.co/onC3uMpFF2</td>\n",
       "      <td>NaN</td>\n",
       "      <td>NaN</td>\n",
       "      <td>NaN</td>\n",
       "      <td>https://twitter.com/dog_rates/status/671362598324076544/photo/1</td>\n",
       "      <td>11</td>\n",
       "      <td>10</td>\n",
       "      <td>Tanner</td>\n",
       "      <td>None</td>\n",
       "      <td>None</td>\n",
       "      <td>None</td>\n",
       "      <td>None</td>\n",
       "    </tr>\n",
       "    <tr>\n",
       "      <th>661</th>\n",
       "      <td>791026214425268224</td>\n",
       "      <td>NaN</td>\n",
       "      <td>NaN</td>\n",
       "      <td>2016-10-25 21:18:40 +0000</td>\n",
       "      <td>&lt;a href=\"http://twitter.com/download/iphone\" rel=\"nofollow\"&gt;Twitter for iPhone&lt;/a&gt;</td>\n",
       "      <td>RT @dog_rates: This is Alfie. He's touching a butt. Couldn't be happier. 11/10 https://t.co/gx3xF5mZbo</td>\n",
       "      <td>763837565564780544.00</td>\n",
       "      <td>4196983835.00</td>\n",
       "      <td>2016-08-11 20:40:41 +0000</td>\n",
       "      <td>https://twitter.com/dog_rates/status/763837565564780549/photo/1,https://twitter.com/dog_rates/status/763837565564780549/photo/1</td>\n",
       "      <td>11</td>\n",
       "      <td>10</td>\n",
       "      <td>Alfie</td>\n",
       "      <td>None</td>\n",
       "      <td>None</td>\n",
       "      <td>None</td>\n",
       "      <td>None</td>\n",
       "    </tr>\n",
       "    <tr>\n",
       "      <th>2253</th>\n",
       "      <td>667793409583771648</td>\n",
       "      <td>NaN</td>\n",
       "      <td>NaN</td>\n",
       "      <td>2015-11-20 19:55:30 +0000</td>\n",
       "      <td>&lt;a href=\"http://twitter.com/download/iphone\" rel=\"nofollow\"&gt;Twitter for iPhone&lt;/a&gt;</td>\n",
       "      <td>Dogs only please. Small cows and other non canines will not be tolerated. Sick tattoos tho 8/10 https://t.co/s1z7mX4c9O</td>\n",
       "      <td>NaN</td>\n",
       "      <td>NaN</td>\n",
       "      <td>NaN</td>\n",
       "      <td>https://twitter.com/dog_rates/status/667793409583771648/photo/1</td>\n",
       "      <td>8</td>\n",
       "      <td>10</td>\n",
       "      <td>None</td>\n",
       "      <td>None</td>\n",
       "      <td>None</td>\n",
       "      <td>None</td>\n",
       "      <td>None</td>\n",
       "    </tr>\n",
       "    <tr>\n",
       "      <th>236</th>\n",
       "      <td>847251039262605312</td>\n",
       "      <td>NaN</td>\n",
       "      <td>NaN</td>\n",
       "      <td>2017-03-30 00:56:03 +0000</td>\n",
       "      <td>&lt;a href=\"http://twitter.com/download/iphone\" rel=\"nofollow\"&gt;Twitter for iPhone&lt;/a&gt;</td>\n",
       "      <td>This is Furzey. He's doing an elevated sandy zoom. Adjusts ears to steer. 12/10 would pet mid flight https://t.co/zhbRIZQgnq</td>\n",
       "      <td>NaN</td>\n",
       "      <td>NaN</td>\n",
       "      <td>NaN</td>\n",
       "      <td>https://twitter.com/dog_rates/status/847251039262605312/photo/1,https://twitter.com/dog_rates/status/847251039262605312/photo/1</td>\n",
       "      <td>12</td>\n",
       "      <td>10</td>\n",
       "      <td>Furzey</td>\n",
       "      <td>None</td>\n",
       "      <td>None</td>\n",
       "      <td>None</td>\n",
       "      <td>None</td>\n",
       "    </tr>\n",
       "    <tr>\n",
       "      <th>1796</th>\n",
       "      <td>677301033169788928</td>\n",
       "      <td>NaN</td>\n",
       "      <td>NaN</td>\n",
       "      <td>2015-12-17 01:35:24 +0000</td>\n",
       "      <td>&lt;a href=\"http://twitter.com/download/iphone\" rel=\"nofollow\"&gt;Twitter for iPhone&lt;/a&gt;</td>\n",
       "      <td>This is Juckson. He's totally on his way to a nascar race. 5/10 for Juckson https://t.co/IoLRvF0Kak</td>\n",
       "      <td>NaN</td>\n",
       "      <td>NaN</td>\n",
       "      <td>NaN</td>\n",
       "      <td>https://twitter.com/dog_rates/status/677301033169788928/photo/1</td>\n",
       "      <td>5</td>\n",
       "      <td>10</td>\n",
       "      <td>Juckson</td>\n",
       "      <td>None</td>\n",
       "      <td>None</td>\n",
       "      <td>None</td>\n",
       "      <td>None</td>\n",
       "    </tr>\n",
       "    <tr>\n",
       "      <th>535</th>\n",
       "      <td>807059379405148160</td>\n",
       "      <td>NaN</td>\n",
       "      <td>NaN</td>\n",
       "      <td>2016-12-09 03:08:45 +0000</td>\n",
       "      <td>&lt;a href=\"http://twitter.com/download/iphone\" rel=\"nofollow\"&gt;Twitter for iPhone&lt;/a&gt;</td>\n",
       "      <td>RT @dog_rates: This is Cali. She arrived preassembled. Convenient af. 12/10 appears to be rather h*ckin pettable https://t.co/vOBV1ZqVcX</td>\n",
       "      <td>782969140009107456.00</td>\n",
       "      <td>4196983835.00</td>\n",
       "      <td>2016-10-03 15:42:44 +0000</td>\n",
       "      <td>https://twitter.com/dog_rates/status/782969140009107456/photo/1,https://twitter.com/dog_rates/status/782969140009107456/photo/1,https://twitter.com/dog_rates/status/782969140009107456/photo/1,https://twitter.com/dog_rates/status/782969140009107456/photo/1</td>\n",
       "      <td>12</td>\n",
       "      <td>10</td>\n",
       "      <td>Cali</td>\n",
       "      <td>None</td>\n",
       "      <td>None</td>\n",
       "      <td>None</td>\n",
       "      <td>None</td>\n",
       "    </tr>\n",
       "    <tr>\n",
       "      <th>813</th>\n",
       "      <td>771102124360998913</td>\n",
       "      <td>NaN</td>\n",
       "      <td>NaN</td>\n",
       "      <td>2016-08-31 21:47:27 +0000</td>\n",
       "      <td>&lt;a href=\"http://twitter.com/download/iphone\" rel=\"nofollow\"&gt;Twitter for iPhone&lt;/a&gt;</td>\n",
       "      <td>This is Charlie. He works for @TODAYshow. Super sneaky tongue slip here. 12/10 would pet until someone made me stop https://t.co/K5Jo7QRCvA</td>\n",
       "      <td>NaN</td>\n",
       "      <td>NaN</td>\n",
       "      <td>NaN</td>\n",
       "      <td>https://twitter.com/dog_rates/status/771102124360998913/photo/1</td>\n",
       "      <td>12</td>\n",
       "      <td>10</td>\n",
       "      <td>Charlie</td>\n",
       "      <td>None</td>\n",
       "      <td>None</td>\n",
       "      <td>None</td>\n",
       "      <td>None</td>\n",
       "    </tr>\n",
       "    <tr>\n",
       "      <th>2284</th>\n",
       "      <td>667192066997374976</td>\n",
       "      <td>NaN</td>\n",
       "      <td>NaN</td>\n",
       "      <td>2015-11-19 04:05:59 +0000</td>\n",
       "      <td>&lt;a href=\"http://twitter.com/download/iphone\" rel=\"nofollow\"&gt;Twitter for iPhone&lt;/a&gt;</td>\n",
       "      <td>*takes several long deep breaths* omg omg oMG OMG OMG OMGSJYBSNDUYWJO 12/10 https://t.co/QCugm5ydl6</td>\n",
       "      <td>NaN</td>\n",
       "      <td>NaN</td>\n",
       "      <td>NaN</td>\n",
       "      <td>https://twitter.com/dog_rates/status/667192066997374976/photo/1</td>\n",
       "      <td>12</td>\n",
       "      <td>10</td>\n",
       "      <td>None</td>\n",
       "      <td>None</td>\n",
       "      <td>None</td>\n",
       "      <td>None</td>\n",
       "      <td>None</td>\n",
       "    </tr>\n",
       "    <tr>\n",
       "      <th>2272</th>\n",
       "      <td>667491009379606528</td>\n",
       "      <td>NaN</td>\n",
       "      <td>NaN</td>\n",
       "      <td>2015-11-19 23:53:52 +0000</td>\n",
       "      <td>&lt;a href=\"http://twitter.com\" rel=\"nofollow\"&gt;Twitter Web Client&lt;/a&gt;</td>\n",
       "      <td>Two dogs in this one. Both are rare Jujitsu Pythagoreans. One slightly whiter than other. Long legs. 7/10 and 8/10 https://t.co/ITxxcc4v9y</td>\n",
       "      <td>NaN</td>\n",
       "      <td>NaN</td>\n",
       "      <td>NaN</td>\n",
       "      <td>https://twitter.com/dog_rates/status/667491009379606528/photo/1</td>\n",
       "      <td>7</td>\n",
       "      <td>10</td>\n",
       "      <td>None</td>\n",
       "      <td>None</td>\n",
       "      <td>None</td>\n",
       "      <td>None</td>\n",
       "      <td>None</td>\n",
       "    </tr>\n",
       "    <tr>\n",
       "      <th>1008</th>\n",
       "      <td>747594051852075008</td>\n",
       "      <td>NaN</td>\n",
       "      <td>NaN</td>\n",
       "      <td>2016-06-28 00:54:46 +0000</td>\n",
       "      <td>&lt;a href=\"http://twitter.com/download/iphone\" rel=\"nofollow\"&gt;Twitter for iPhone&lt;/a&gt;</td>\n",
       "      <td>Again w the sharks guys. This week is about dogs ACTING or DRESSING like sharks. NOT actual sharks. Thank u ...11/10 https://t.co/Ie2mWXWjpr</td>\n",
       "      <td>NaN</td>\n",
       "      <td>NaN</td>\n",
       "      <td>NaN</td>\n",
       "      <td>https://twitter.com/dog_rates/status/747594051852075008/photo/1</td>\n",
       "      <td>11</td>\n",
       "      <td>10</td>\n",
       "      <td>None</td>\n",
       "      <td>None</td>\n",
       "      <td>None</td>\n",
       "      <td>None</td>\n",
       "      <td>None</td>\n",
       "    </tr>\n",
       "    <tr>\n",
       "      <th>256</th>\n",
       "      <td>843981021012017153</td>\n",
       "      <td>NaN</td>\n",
       "      <td>NaN</td>\n",
       "      <td>2017-03-21 00:22:10 +0000</td>\n",
       "      <td>&lt;a href=\"http://twitter.com/download/iphone\" rel=\"nofollow\"&gt;Twitter for iPhone&lt;/a&gt;</td>\n",
       "      <td>HE WAS DOING A SNOOZE NO SHAME IN A SNOOZE 13/10 https://t.co/Gu5wHx3CBd</td>\n",
       "      <td>NaN</td>\n",
       "      <td>NaN</td>\n",
       "      <td>NaN</td>\n",
       "      <td>https://twitter.com/brianstack153/status/796796054100471809</td>\n",
       "      <td>13</td>\n",
       "      <td>10</td>\n",
       "      <td>None</td>\n",
       "      <td>None</td>\n",
       "      <td>None</td>\n",
       "      <td>None</td>\n",
       "      <td>None</td>\n",
       "    </tr>\n",
       "  </tbody>\n",
       "</table>\n",
       "</div>"
      ],
      "text/plain": [
       "                tweet_id  in_reply_to_status_id  in_reply_to_user_id  \\\n",
       "154   862096992088072192                    NaN                  NaN   \n",
       "1165  722974582966214656                    NaN                  NaN   \n",
       "492   813217897535406080                    NaN                  NaN   \n",
       "1716  680206703334408192                    NaN                  NaN   \n",
       "1015  747103485104099331                    NaN                  NaN   \n",
       "1531  690015576308211712                    NaN                  NaN   \n",
       "640   793241302385262592                    NaN                  NaN   \n",
       "1614  685307451701334016                    NaN                  NaN   \n",
       "1100  735648611367784448                    NaN                  NaN   \n",
       "2055  671362598324076544                    NaN                  NaN   \n",
       "661   791026214425268224                    NaN                  NaN   \n",
       "2253  667793409583771648                    NaN                  NaN   \n",
       "236   847251039262605312                    NaN                  NaN   \n",
       "1796  677301033169788928                    NaN                  NaN   \n",
       "535   807059379405148160                    NaN                  NaN   \n",
       "813   771102124360998913                    NaN                  NaN   \n",
       "2284  667192066997374976                    NaN                  NaN   \n",
       "2272  667491009379606528                    NaN                  NaN   \n",
       "1008  747594051852075008                    NaN                  NaN   \n",
       "256   843981021012017153                    NaN                  NaN   \n",
       "\n",
       "                      timestamp  \\\n",
       "154   2017-05-10 00:08:34 +0000   \n",
       "1165  2016-04-21 02:25:47 +0000   \n",
       "492   2016-12-26 03:00:30 +0000   \n",
       "1716  2015-12-25 02:01:30 +0000   \n",
       "1015  2016-06-26 16:25:26 +0000   \n",
       "1531  2016-01-21 03:38:27 +0000   \n",
       "640   2016-11-01 00:00:38 +0000   \n",
       "1614  2016-01-08 03:50:03 +0000   \n",
       "1100  2016-05-26 01:47:51 +0000   \n",
       "2055  2015-11-30 16:18:11 +0000   \n",
       "661   2016-10-25 21:18:40 +0000   \n",
       "2253  2015-11-20 19:55:30 +0000   \n",
       "236   2017-03-30 00:56:03 +0000   \n",
       "1796  2015-12-17 01:35:24 +0000   \n",
       "535   2016-12-09 03:08:45 +0000   \n",
       "813   2016-08-31 21:47:27 +0000   \n",
       "2284  2015-11-19 04:05:59 +0000   \n",
       "2272  2015-11-19 23:53:52 +0000   \n",
       "1008  2016-06-28 00:54:46 +0000   \n",
       "256   2017-03-21 00:22:10 +0000   \n",
       "\n",
       "                                                                                  source  \\\n",
       "154   <a href=\"http://twitter.com/download/iphone\" rel=\"nofollow\">Twitter for iPhone</a>   \n",
       "1165  <a href=\"http://twitter.com/download/iphone\" rel=\"nofollow\">Twitter for iPhone</a>   \n",
       "492   <a href=\"http://twitter.com/download/iphone\" rel=\"nofollow\">Twitter for iPhone</a>   \n",
       "1716  <a href=\"http://twitter.com/download/iphone\" rel=\"nofollow\">Twitter for iPhone</a>   \n",
       "1015  <a href=\"http://twitter.com/download/iphone\" rel=\"nofollow\">Twitter for iPhone</a>   \n",
       "1531  <a href=\"http://twitter.com/download/iphone\" rel=\"nofollow\">Twitter for iPhone</a>   \n",
       "640   <a href=\"http://twitter.com/download/iphone\" rel=\"nofollow\">Twitter for iPhone</a>   \n",
       "1614  <a href=\"http://twitter.com/download/iphone\" rel=\"nofollow\">Twitter for iPhone</a>   \n",
       "1100  <a href=\"http://twitter.com/download/iphone\" rel=\"nofollow\">Twitter for iPhone</a>   \n",
       "2055  <a href=\"http://twitter.com/download/iphone\" rel=\"nofollow\">Twitter for iPhone</a>   \n",
       "661   <a href=\"http://twitter.com/download/iphone\" rel=\"nofollow\">Twitter for iPhone</a>   \n",
       "2253  <a href=\"http://twitter.com/download/iphone\" rel=\"nofollow\">Twitter for iPhone</a>   \n",
       "236   <a href=\"http://twitter.com/download/iphone\" rel=\"nofollow\">Twitter for iPhone</a>   \n",
       "1796  <a href=\"http://twitter.com/download/iphone\" rel=\"nofollow\">Twitter for iPhone</a>   \n",
       "535   <a href=\"http://twitter.com/download/iphone\" rel=\"nofollow\">Twitter for iPhone</a>   \n",
       "813   <a href=\"http://twitter.com/download/iphone\" rel=\"nofollow\">Twitter for iPhone</a>   \n",
       "2284  <a href=\"http://twitter.com/download/iphone\" rel=\"nofollow\">Twitter for iPhone</a>   \n",
       "2272                  <a href=\"http://twitter.com\" rel=\"nofollow\">Twitter Web Client</a>   \n",
       "1008  <a href=\"http://twitter.com/download/iphone\" rel=\"nofollow\">Twitter for iPhone</a>   \n",
       "256   <a href=\"http://twitter.com/download/iphone\" rel=\"nofollow\">Twitter for iPhone</a>   \n",
       "\n",
       "                                                                                                                                              text  \\\n",
       "154            We only rate dogs. Please don't send perfectly toasted marshmallows attempting to drive. Thank you... 13/10 https://t.co/nvZyyrp0kd   \n",
       "1165                                                                              Happy 4/20 from the squad! 13/10 for all https://t.co/eV1diwds8a   \n",
       "492                                                   Here is Atlas. He went all out this year. 13/10 downright magical af https://t.co/DVYIZOnO81   \n",
       "1716                                              I hope everyone enjoys this picture as much as I do. This is Toby. 12/10 https://t.co/vHnu1g9EJm   \n",
       "1015     Guys... I said DOGS with \"shark qualities\" or \"costumes.\" Not actual sharks. This did me a real frighten ...11/10 https://t.co/DX1JUHJVN7   \n",
       "1531    This pupper can only sleep on shoes. It's a crippling disease. Tearing his family apart. 12/10 I'd totally pet tho https://t.co/03XlvS8izg   \n",
       "640                                                 This is Tucker. He's out here bustin h*ckin ghosts. 13/10 dedicated af https://t.co/Ap477GhwXt   \n",
       "1614  Say hello to Petrick. He's an Altostratus Floofer. Just had a run in with a trash bag. Groovy checkered floor. 11/10 https://t.co/rwW7z1JAOF   \n",
       "1100                                                                              *faints* 12/10 perfection in pupper form https://t.co/t6TxTwTLEK   \n",
       "2055                             This is Tanner. He accidentally dropped all his hard-earned Kohl's cash in the tub. 11/10 https://t.co/onC3uMpFF2   \n",
       "661                                         RT @dog_rates: This is Alfie. He's touching a butt. Couldn't be happier. 11/10 https://t.co/gx3xF5mZbo   \n",
       "2253                       Dogs only please. Small cows and other non canines will not be tolerated. Sick tattoos tho 8/10 https://t.co/s1z7mX4c9O   \n",
       "236                   This is Furzey. He's doing an elevated sandy zoom. Adjusts ears to steer. 12/10 would pet mid flight https://t.co/zhbRIZQgnq   \n",
       "1796                                           This is Juckson. He's totally on his way to a nascar race. 5/10 for Juckson https://t.co/IoLRvF0Kak   \n",
       "535       RT @dog_rates: This is Cali. She arrived preassembled. Convenient af. 12/10 appears to be rather h*ckin pettable https://t.co/vOBV1ZqVcX   \n",
       "813    This is Charlie. He works for @TODAYshow. Super sneaky tongue slip here. 12/10 would pet until someone made me stop https://t.co/K5Jo7QRCvA   \n",
       "2284                                           *takes several long deep breaths* omg omg oMG OMG OMG OMGSJYBSNDUYWJO 12/10 https://t.co/QCugm5ydl6   \n",
       "2272    Two dogs in this one. Both are rare Jujitsu Pythagoreans. One slightly whiter than other. Long legs. 7/10 and 8/10 https://t.co/ITxxcc4v9y   \n",
       "1008  Again w the sharks guys. This week is about dogs ACTING or DRESSING like sharks. NOT actual sharks. Thank u ...11/10 https://t.co/Ie2mWXWjpr   \n",
       "256                                                                       HE WAS DOING A SNOOZE NO SHAME IN A SNOOZE 13/10 https://t.co/Gu5wHx3CBd   \n",
       "\n",
       "       retweeted_status_id  retweeted_status_user_id  \\\n",
       "154                    NaN                       NaN   \n",
       "1165                   NaN                       NaN   \n",
       "492                    NaN                       NaN   \n",
       "1716                   NaN                       NaN   \n",
       "1015                   NaN                       NaN   \n",
       "1531                   NaN                       NaN   \n",
       "640                    NaN                       NaN   \n",
       "1614                   NaN                       NaN   \n",
       "1100                   NaN                       NaN   \n",
       "2055                   NaN                       NaN   \n",
       "661  763837565564780544.00             4196983835.00   \n",
       "2253                   NaN                       NaN   \n",
       "236                    NaN                       NaN   \n",
       "1796                   NaN                       NaN   \n",
       "535  782969140009107456.00             4196983835.00   \n",
       "813                    NaN                       NaN   \n",
       "2284                   NaN                       NaN   \n",
       "2272                   NaN                       NaN   \n",
       "1008                   NaN                       NaN   \n",
       "256                    NaN                       NaN   \n",
       "\n",
       "     retweeted_status_timestamp  \\\n",
       "154                         NaN   \n",
       "1165                        NaN   \n",
       "492                         NaN   \n",
       "1716                        NaN   \n",
       "1015                        NaN   \n",
       "1531                        NaN   \n",
       "640                         NaN   \n",
       "1614                        NaN   \n",
       "1100                        NaN   \n",
       "2055                        NaN   \n",
       "661   2016-08-11 20:40:41 +0000   \n",
       "2253                        NaN   \n",
       "236                         NaN   \n",
       "1796                        NaN   \n",
       "535   2016-10-03 15:42:44 +0000   \n",
       "813                         NaN   \n",
       "2284                        NaN   \n",
       "2272                        NaN   \n",
       "1008                        NaN   \n",
       "256                         NaN   \n",
       "\n",
       "                                                                                                                                                                                                                                                        expanded_urls  \\\n",
       "154                                                                                                                                   https://twitter.com/dog_rates/status/862096992088072192/photo/1,https://twitter.com/dog_rates/status/862096992088072192/photo/1   \n",
       "1165                                                                                                                                                                                                  https://twitter.com/dog_rates/status/722974582966214656/photo/1   \n",
       "492   https://twitter.com/dog_rates/status/813217897535406080/photo/1,https://twitter.com/dog_rates/status/813217897535406080/photo/1,https://twitter.com/dog_rates/status/813217897535406080/photo/1,https://twitter.com/dog_rates/status/813217897535406080/photo/1   \n",
       "1716                                                                                                                                                                                                  https://twitter.com/dog_rates/status/680206703334408192/photo/1   \n",
       "1015  https://twitter.com/dog_rates/status/747103485104099331/photo/1,https://twitter.com/dog_rates/status/747103485104099331/photo/1,https://twitter.com/dog_rates/status/747103485104099331/photo/1,https://twitter.com/dog_rates/status/747103485104099331/photo/1   \n",
       "1531                                                                                                                                  https://twitter.com/dog_rates/status/690015576308211712/photo/1,https://twitter.com/dog_rates/status/690015576308211712/photo/1   \n",
       "640                                                                                                                                                                                                   https://twitter.com/dog_rates/status/793241302385262592/photo/1   \n",
       "1614                                                                                                                                                                                                  https://twitter.com/dog_rates/status/685307451701334016/photo/1   \n",
       "1100                                                                                                                                                                                                  https://twitter.com/dog_rates/status/735648611367784448/photo/1   \n",
       "2055                                                                                                                                                                                                  https://twitter.com/dog_rates/status/671362598324076544/photo/1   \n",
       "661                                                                                                                                   https://twitter.com/dog_rates/status/763837565564780549/photo/1,https://twitter.com/dog_rates/status/763837565564780549/photo/1   \n",
       "2253                                                                                                                                                                                                  https://twitter.com/dog_rates/status/667793409583771648/photo/1   \n",
       "236                                                                                                                                   https://twitter.com/dog_rates/status/847251039262605312/photo/1,https://twitter.com/dog_rates/status/847251039262605312/photo/1   \n",
       "1796                                                                                                                                                                                                  https://twitter.com/dog_rates/status/677301033169788928/photo/1   \n",
       "535   https://twitter.com/dog_rates/status/782969140009107456/photo/1,https://twitter.com/dog_rates/status/782969140009107456/photo/1,https://twitter.com/dog_rates/status/782969140009107456/photo/1,https://twitter.com/dog_rates/status/782969140009107456/photo/1   \n",
       "813                                                                                                                                                                                                   https://twitter.com/dog_rates/status/771102124360998913/photo/1   \n",
       "2284                                                                                                                                                                                                  https://twitter.com/dog_rates/status/667192066997374976/photo/1   \n",
       "2272                                                                                                                                                                                                  https://twitter.com/dog_rates/status/667491009379606528/photo/1   \n",
       "1008                                                                                                                                                                                                  https://twitter.com/dog_rates/status/747594051852075008/photo/1   \n",
       "256                                                                                                                                                                                                       https://twitter.com/brianstack153/status/796796054100471809   \n",
       "\n",
       "      rating_numerator  rating_denominator     name doggo  floofer  pupper  \\\n",
       "154                 13                  10     None  None     None    None   \n",
       "1165                 4                  20     None  None     None    None   \n",
       "492                 13                  10    Atlas  None     None    None   \n",
       "1716                12                  10     Toby  None     None    None   \n",
       "1015                11                  10     None  None     None    None   \n",
       "1531                12                  10     None  None     None  pupper   \n",
       "640                 13                  10   Tucker  None     None    None   \n",
       "1614                11                  10  Petrick  None  floofer    None   \n",
       "1100                12                  10     None  None     None  pupper   \n",
       "2055                11                  10   Tanner  None     None    None   \n",
       "661                 11                  10    Alfie  None     None    None   \n",
       "2253                 8                  10     None  None     None    None   \n",
       "236                 12                  10   Furzey  None     None    None   \n",
       "1796                 5                  10  Juckson  None     None    None   \n",
       "535                 12                  10     Cali  None     None    None   \n",
       "813                 12                  10  Charlie  None     None    None   \n",
       "2284                12                  10     None  None     None    None   \n",
       "2272                 7                  10     None  None     None    None   \n",
       "1008                11                  10     None  None     None    None   \n",
       "256                 13                  10     None  None     None    None   \n",
       "\n",
       "     puppo  \n",
       "154   None  \n",
       "1165  None  \n",
       "492   None  \n",
       "1716  None  \n",
       "1015  None  \n",
       "1531  None  \n",
       "640   None  \n",
       "1614  None  \n",
       "1100  None  \n",
       "2055  None  \n",
       "661   None  \n",
       "2253  None  \n",
       "236   None  \n",
       "1796  None  \n",
       "535   None  \n",
       "813   None  \n",
       "2284  None  \n",
       "2272  None  \n",
       "1008  None  \n",
       "256   None  "
      ]
     },
     "execution_count": 10,
     "metadata": {},
     "output_type": "execute_result"
    }
   ],
   "source": [
    "# read twitter_archive table and do visual accessment of a sample\n",
    "df_twitter_archive = pd.read_csv(filename_twitter_archive)\n",
    "df_twitter_archive.sample(20)"
   ]
  },
  {
   "cell_type": "markdown",
   "metadata": {
    "pycharm": {
     "name": "#%% md\n"
    }
   },
   "source": [
    "**Observations from visual inspection**:\n",
    "- columns related to retweets and replies (`in_reply_to_status_id, in_reply_to_user_id, retweeted_status_id, etweeted_status_user_id, retweeted_status_timestamp`) have a lot of missing values and indicate not a lot of retweets occur\n",
    "- `source` contain multiple information (url, source)\n",
    "- `text` contain mulitple sets of information (text, rating and url)\n",
    "- `name`: lots of values with 'None' indicating missing data\n",
    "- `name`: contains invalid data like 'a'\n",
    "- `doggo, floofer, pupper, puppo` : contains lots of 'None', values indicating missing values. Columns describe the stage/age of a dog\n",
    "- `expanded_urls` contains more than one url sometimes, example tweet id 853299958564483072"
   ]
  },
  {
   "cell_type": "code",
   "execution_count": 11,
   "metadata": {
    "pycharm": {
     "name": "#%%\n"
    }
   },
   "outputs": [
    {
     "name": "stdout",
     "output_type": "stream",
     "text": [
      "<class 'pandas.core.frame.DataFrame'>\n",
      "RangeIndex: 2356 entries, 0 to 2355\n",
      "Data columns (total 17 columns):\n",
      " #   Column                      Non-Null Count  Dtype  \n",
      "---  ------                      --------------  -----  \n",
      " 0   tweet_id                    2356 non-null   int64  \n",
      " 1   in_reply_to_status_id       78 non-null     float64\n",
      " 2   in_reply_to_user_id         78 non-null     float64\n",
      " 3   timestamp                   2356 non-null   object \n",
      " 4   source                      2356 non-null   object \n",
      " 5   text                        2356 non-null   object \n",
      " 6   retweeted_status_id         181 non-null    float64\n",
      " 7   retweeted_status_user_id    181 non-null    float64\n",
      " 8   retweeted_status_timestamp  181 non-null    object \n",
      " 9   expanded_urls               2297 non-null   object \n",
      " 10  rating_numerator            2356 non-null   int64  \n",
      " 11  rating_denominator          2356 non-null   int64  \n",
      " 12  name                        2356 non-null   object \n",
      " 13  doggo                       2356 non-null   object \n",
      " 14  floofer                     2356 non-null   object \n",
      " 15  pupper                      2356 non-null   object \n",
      " 16  puppo                       2356 non-null   object \n",
      "dtypes: float64(4), int64(3), object(10)\n",
      "memory usage: 313.0+ KB\n"
     ]
    }
   ],
   "source": [
    "# which datatypes does the dataset have, and how many missing values can observed ? \n",
    "df_twitter_archive.info()"
   ]
  },
  {
   "cell_type": "markdown",
   "metadata": {
    "pycharm": {
     "name": "#%% md\n"
    }
   },
   "source": [
    "**Observation from programming inspection `info()`:**\n",
    "\n",
    "- Dataset have 2356 rows and 17 columns. \n",
    "- The following columns related to retweets and replies have more than 90% missing data:\n",
    "    - in_reply_to_status_id  \n",
    "    - in_reply_to_user_id \n",
    "    - retweeted_status_id\n",
    "    - retweeted_status_user_id \n",
    "    - retweeted_status_timestamp "
   ]
  },
  {
   "cell_type": "code",
   "execution_count": 12,
   "metadata": {
    "pycharm": {
     "name": "#%%\n"
    }
   },
   "outputs": [
    {
     "data": {
      "text/plain": [
       "tweet_id                      2356\n",
       "in_reply_to_status_id           77\n",
       "in_reply_to_user_id             31\n",
       "timestamp                     2356\n",
       "source                           4\n",
       "text                          2356\n",
       "retweeted_status_id            181\n",
       "retweeted_status_user_id        25\n",
       "retweeted_status_timestamp     181\n",
       "expanded_urls                 2218\n",
       "rating_numerator                40\n",
       "rating_denominator              18\n",
       "name                           957\n",
       "doggo                            2\n",
       "floofer                          2\n",
       "pupper                           2\n",
       "puppo                            2\n",
       "dtype: int64"
      ]
     },
     "execution_count": 12,
     "metadata": {},
     "output_type": "execute_result"
    }
   ],
   "source": [
    "# how many unique values does each column of the dataset have ?\n",
    "df_twitter_archive.nunique()"
   ]
  },
  {
   "cell_type": "markdown",
   "metadata": {
    "pycharm": {
     "name": "#%% md\n"
    }
   },
   "source": [
    "**Observation from programming inspection `nunique()`:**\n",
    "    \n",
    "- columns related to retweets (`in_reply_to_status_id, in_reply_to_user_id, retweeted_status_id, retweeted_status_user_id, retweeted_status_timestamp`): have < 200 unique values indicating we have very little retweets and replies in general\n",
    "- `expanded_urls`: contain 2297 non-null entries and yet have 2218 unique values, which indicate duplicates exist\n",
    "- `name`: only 957 unique values exist for 2356 dogs, meaning lots of dogs have the same name and/or lots of missing values exist\n",
    "- `doggo, floofer, pupper, puppo` : contains only 2 possible values indicating these might be binary fields related to the stage/age of a dog"
   ]
  },
  {
   "cell_type": "code",
   "execution_count": 13,
   "metadata": {
    "pycharm": {
     "name": "#%%\n"
    }
   },
   "outputs": [
    {
     "name": "stdout",
     "output_type": "stream",
     "text": [
      "\n",
      "UNIQUE VALUES FOR COLUMNS: \n",
      "\n",
      "Unique values for column source: \n",
      " ['<a href=\"http://twitter.com\" rel=\"nofollow\">Twitter Web Client</a>'\n",
      " '<a href=\"http://twitter.com/download/iphone\" rel=\"nofollow\">Twitter for iPhone</a>'\n",
      " '<a href=\"http://vine.co\" rel=\"nofollow\">Vine - Make a Scene</a>'\n",
      " '<a href=\"https://about.twitter.com/products/tweetdeck\" rel=\"nofollow\">TweetDeck</a>'] \n",
      "\n",
      "Unique values for column text: \n",
      " ['\"AND IIIIIIIIIIIEIIIIIIIIIIIII WILL ALWAYS LOVE YOUUUUU\" 11/10 https://t.co/rSNCEiTtfI'\n",
      " '\"AT DAWN, WE RIDE\"\\n10/10 for both dogs https://t.co/3aXX6wH6it'\n",
      " '\"Can you behave? You\\'re ruining my wedding day\"\\nDOG: idgaf this flashlight tastes good as hell\\n\\n10/10 https://t.co/GlFZPzqcEU'\n",
      " ... '🎶 HELLO FROM THE OTHER SIIIIIIIIDE 🎶 10/10 https://t.co/MTOOksRzvH'\n",
      " '🎶 HELLO FROM THE OTHER SIIIIIIIIDE 🎶 10/10s https://t.co/GK2HJtkdQk'\n",
      " '😂😂😂 10/10 for the dog and the owner https://t.co/5iYF0Ci0EK'] \n",
      "\n",
      "Unique values for column rating_numerator: \n",
      " [   0    1    2    3    4    5    6    7    8    9   10   11   12   13\n",
      "   14   15   17   20   24   26   27   44   45   50   60   75   80   84\n",
      "   88   99  121  143  144  165  182  204  420  666  960 1776] \n",
      "\n",
      "Unique values for column rating_denominator: \n",
      " [  0   2   7  10  11  15  16  20  40  50  70  80  90 110 120 130 150 170] \n",
      "\n",
      "Unique values for column name: \n",
      " ['Abby' 'Ace' 'Acro' 'Adele' 'Aiden' 'Aja' 'Akumi' 'Al' 'Albert' 'Albus'\n",
      " 'Aldrick' 'Alejandro' 'Alexander' 'Alexanderson' 'Alf' 'Alfie' 'Alfy'\n",
      " 'Alice' 'Amber' 'Ambrose' 'Amy' 'Amélie' 'Anakin' 'Andru' 'Andy' 'Angel'\n",
      " 'Anna' 'Anthony' 'Antony' 'Apollo' 'Aqua' 'Archie' 'Arlen' 'Arlo' 'Arnie'\n",
      " 'Arnold' 'Arya' 'Ash' 'Asher' 'Ashleigh' 'Aspen' 'Astrid' 'Atlas'\n",
      " 'Atticus' 'Aubie' 'Augie' 'Autumn' 'Ava' 'Axel' 'Bailey' 'Baloo' 'Balto'\n",
      " 'Banditt' 'Banjo' 'Barclay' 'Barney' 'Baron' 'Barry' 'Batdog' 'Bauer'\n",
      " 'Baxter' 'Bayley' 'BeBe' 'Bear' 'Beau' 'Beckham' 'Beebop' 'Beemo' 'Bell'\n",
      " 'Bella' 'Belle' 'Ben' 'Benedict' 'Benji' 'Benny' 'Bentley' 'Berb'\n",
      " 'Berkeley' 'Bernie' 'Bert' 'Bertson' 'Betty' 'Beya' 'Biden' 'Bilbo'\n",
      " 'Billl' 'Billy' 'Binky' 'Birf' 'Bisquick' 'Blakely' 'Blanket' 'Blipson'\n",
      " 'Blitz' 'Bloo' 'Bloop' 'Blu' 'Blue' 'Bluebert' 'Bo' 'Bob' 'Bobb' 'Bobbay'\n",
      " 'Bobble' 'Bobby' 'Bode' 'Bodie' 'Bonaparte' 'Bones' 'Bookstore' 'Boomer'\n",
      " 'Boots' 'Boston' 'Bowie' 'Brad' 'Bradlay' 'Bradley' 'Brady' 'Brandi'\n",
      " 'Brandonald' 'Brandy' 'Brat' 'Brian' 'Brockly' 'Brody' 'Bronte' 'Brooks'\n",
      " 'Brownie' 'Bruce' 'Brudge' 'Bruiser' 'Bruno' 'Brutus' 'Bubba' 'Bubbles'\n",
      " 'Buckley' 'Buddah' 'Buddy' 'Bungalo' 'Burt' 'Butter' 'Butters' 'Cal'\n",
      " 'Calbert' 'Cali' 'Callie' 'Calvin' 'Canela' 'Cannon' 'Carbon' 'Carl'\n",
      " 'Carll' 'Carly' 'Carper' 'Carter' 'Caryl' 'Cash' 'Cassie' 'CeCe' 'Cecil'\n",
      " 'Cedrick' 'Cermet' 'Chadrick' 'Champ' 'Charl' 'Charles' 'Charleson'\n",
      " 'Charlie' 'Chase' 'Chaz' 'Cheesy' 'Chef' 'Chelsea' 'Cheryl' 'Chesney'\n",
      " 'Chester' 'Chesterson' 'Chet' 'Chevy' 'Chip' 'Chipson' 'Chloe' 'Chompsky'\n",
      " 'Christoper' 'Chubbs' 'Chuck' 'Chuckles' 'Chuq' 'Churlie' 'Cilantro'\n",
      " 'Clarence' 'Clark' 'Clarkus' 'Clarq' 'Claude' 'Cleopatricia' 'Clifford'\n",
      " 'Clybe' 'Clyde' 'Coco' 'Cody' 'Colby' 'Coleman' 'Colin' 'Combo' 'Comet'\n",
      " 'Cooper' 'Coops' 'Coopson' 'Cora' 'Corey' 'Covach' 'Craig' 'Crawford'\n",
      " 'Creg' 'Crimson' 'Crouton' 'Crumpet' 'Crystal' 'Cuddles' 'Cupcake'\n",
      " 'Cupid' 'Curtis' 'Daisy' 'Dakota' 'Dale' 'Dallas' 'Damon' 'Daniel'\n",
      " 'Danny' 'Dante' 'Darby' 'Darla' 'Darrel' 'Dash' 'Dave' 'Davey' 'Dawn'\n",
      " 'DayZ' 'Deacon' 'Derby' 'Derek' 'Devón' 'Dewey' 'Dex' 'Dexter' 'Dido'\n",
      " 'Dietrich' 'Diogi' 'Divine' 'Dixie' 'Django' 'Dobby' 'Doc' 'DonDon'\n",
      " 'Donny' 'Doobert' 'Dook' 'Dot' 'Dotsy' 'Doug' 'Duchess' 'Duddles'\n",
      " 'Dudley' 'Dug' 'Duke' 'Dunkin' 'Durg' 'Dutch' 'Dwight' 'Dylan' 'Earl'\n",
      " 'Eazy' 'Ebby' 'Ed' 'Edd' 'Edgar' 'Edmund' 'Eevee' 'Einstein' 'Eleanor'\n",
      " 'Eli' 'Ellie' 'Elliot' 'Emanuel' 'Ember' 'Emma' 'Emmie' 'Emmy'\n",
      " 'Enchilada' 'Erik' 'Eriq' 'Ester' 'Eugene' 'Eve' 'Evy' 'Fabio' 'Farfle'\n",
      " 'Ferg' 'Fido' 'Fiji' 'Fillup' 'Filup' 'Finley' 'Finn' 'Finnegus' 'Fiona'\n",
      " 'Fizz' 'Flash' 'Fletcher' 'Florence' 'Flurpson' 'Flávio' 'Frank'\n",
      " 'Frankie' 'Franklin' 'Franq' 'Fred' 'Freddery' 'Frönq' 'Furzey' 'Fwed'\n",
      " 'Fynn' 'Gabby' 'Gabe' 'Gary' 'General' 'Genevieve' 'Geno' 'Geoff'\n",
      " 'George' 'Georgie' 'Gerald' 'Gerbald' 'Gert' 'Gidget' 'Gilbert' 'Gin'\n",
      " 'Ginger' 'Gizmo' 'Glacier' 'Glenn' 'Godi' 'Godzilla' 'Goliath' 'Goose'\n",
      " 'Gordon' 'Grady' 'Grey' 'Griffin' 'Griswold' 'Grizz' 'Grizzie'\n",
      " 'Grizzwald' 'Gromit' 'Gunner' 'Gus' 'Gustaf' 'Gustav' 'Gòrdón' 'Hall'\n",
      " 'Halo' 'Hammond' 'Hamrick' 'Hank' 'Hanz' 'Happy' 'Harlso' 'Harnold'\n",
      " 'Harold' 'Harper' 'Harrison' 'Harry' 'Harvey' 'Hazel' 'Hector' 'Heinrich'\n",
      " 'Henry' 'Herald' 'Herb' 'Hercules' 'Herm' 'Hermione' 'Hero' 'Herschel'\n",
      " 'Hobbes' 'Holly' 'Horace' 'Howie' 'Hubertson' 'Huck' 'Humphrey' 'Hunter'\n",
      " 'Hurley' 'Huxley' 'Iggy' 'Ike' 'Indie' 'Iroh' 'Ito' 'Ivar' 'Izzy' 'JD'\n",
      " 'Jack' 'Jackie' 'Jackson' 'Jameson' 'Jamesy' 'Jangle' 'Jareld' 'Jarod'\n",
      " 'Jarvis' 'Jaspers' 'Jax' 'Jay' 'Jaycob' 'Jazz' 'Jazzy' 'Jeb' 'Jebberson'\n",
      " 'Jed' 'Jeffrey' 'Jeffri' 'Jeffrie' 'Jennifur' 'Jeph' 'Jeremy' 'Jerome'\n",
      " 'Jerry' 'Jersey' 'Jesse' 'Jessifer' 'Jessiga' 'Jett' 'Jim' 'Jimbo'\n",
      " 'Jiminus' 'Jiminy' 'Jimison' 'Jimothy' 'Jo' 'Jockson' 'Joey' 'Jomathan'\n",
      " 'Jonah' 'Jordy' 'Josep' 'Joshwa' 'Juckson' 'Julio' 'Julius' 'Juno' 'Kaia'\n",
      " 'Kaiya' 'Kallie' 'Kane' 'Kanu' 'Kara' 'Karl' 'Karll' 'Karma' 'Kathmandu'\n",
      " 'Katie' 'Kawhi' 'Kayla' 'Keet' 'Keith' 'Kellogg' 'Ken' 'Kendall'\n",
      " 'Kenneth' 'Kenny' 'Kenzie' 'Keurig' 'Kevin' 'Kevon' 'Kial' 'Kilo'\n",
      " 'Kingsley' 'Kirby' 'Kirk' 'Klein' 'Klevin' 'Kloey' 'Kobe' 'Koda' 'Kody'\n",
      " 'Koko' 'Kollin' 'Kona' 'Kota' 'Kramer' 'Kreg' 'Kreggory' 'Kulet' 'Kuyu'\n",
      " 'Kyle' 'Kyro' 'Lacy' 'Laela' 'Laika' 'Lambeau' 'Lance' 'Larry' 'Lassie'\n",
      " 'Layla' 'Leela' 'Lennon' 'Lenny' 'Lenox' 'Leo' 'Leonard' 'Leonidas'\n",
      " 'Levi' 'Liam' 'Lilah' 'Lili' 'Lilli' 'Lillie' 'Lilly' 'Lily' 'Lincoln'\n",
      " 'Linda' 'Link' 'Linus' 'Lipton' 'Livvie' 'Lizzie' 'Logan' 'Loki' 'Lola'\n",
      " 'Lolo' 'Longfellow' 'Loomis' 'Lorelei' 'Lorenzo' 'Lou' 'Louie' 'Louis'\n",
      " 'Luca' 'Lucia' 'Lucky' 'Lucy' 'Lugan' 'Lulu' 'Luna' 'Lupe' 'Luther'\n",
      " 'Mabel' 'Mac' 'Mack' 'Maddie' 'Maggie' 'Mairi' 'Maisey' 'Major' 'Maks'\n",
      " 'Malcolm' 'Malikai' 'Margo' 'Mark' 'Marlee' 'Marley' 'Marq' 'Marty'\n",
      " 'Marvin' 'Mary' 'Mason' 'Mattie' 'Maude' 'Mauve' 'Max' 'Maxaroni'\n",
      " 'Maximus' 'Maxwell' 'Maya' 'Meatball' 'Meera' 'Meyer' 'Mia'\n",
      " 'Michelangelope' 'Miguel' 'Mike' 'Miley' 'Milky' 'Millie' 'Milo' 'Mimosa'\n",
      " 'Mingus' 'Mister' 'Misty' 'Mitch' 'Mo' 'Moe' 'Mojo' 'Mollie' 'Molly'\n",
      " 'Mona' 'Monkey' 'Monster' 'Monty' 'Moofasa' 'Mookie' 'Moose' 'Moreton'\n",
      " 'Mosby' 'Murphy' 'Mutt' 'Mya' 'Nala' 'Naphaniel' 'Napolean' 'Nelly'\n",
      " 'Neptune' 'Newt' 'Nico' 'Nida' 'Nigel' 'Nimbus' 'Noah' 'Nollie' 'None'\n",
      " 'Noosh' 'Norman' 'Nugget' 'O' 'Oakley' 'Obi' 'Obie' 'Oddie' 'Odie' 'Odin'\n",
      " 'Olaf' 'Ole' 'Olive' 'Oliver' 'Olivia' 'Oliviér' 'Ollie' 'Opal' 'Opie'\n",
      " 'Oreo' 'Orion' 'Oscar' 'Oshie' 'Otis' 'Ozzie' 'Ozzy' 'Pablo' 'Paisley'\n",
      " 'Pancake' 'Panda' 'Patch' 'Patrick' 'Paull' 'Pavlov' 'Pawnd' 'Peaches'\n",
      " 'Peanut' 'Penelope' 'Penny' 'Pepper' 'Percy' 'Perry' 'Pete' 'Petrick'\n",
      " 'Pherb' 'Phil' 'Philbert' 'Philippe' 'Phineas' 'Phred' 'Pickles' 'Pilot'\n",
      " 'Pinot' 'Pip' 'Piper' 'Pippa' 'Pippin' 'Pipsy' 'Pluto' 'Poppy' 'Pubert'\n",
      " 'Puff' 'Pumpkin' 'Pupcasso' 'Quinn' 'Ralf' 'Ralph' 'Ralpher' 'Ralphie'\n",
      " 'Ralphson' 'Ralphus' 'Ralphy' 'Ralphé' 'Rambo' 'Randall' 'Raphael'\n",
      " 'Rascal' 'Raymond' 'Reagan' 'Reese' 'Reggie' 'Reginald' 'Remington'\n",
      " 'Remus' 'Remy' 'Reptar' 'Rey' 'Rhino' 'Richie' 'Ricky' 'Ridley' 'Riley'\n",
      " 'Rilo' 'Rinna' 'River' 'Rizzo' 'Rizzy' 'Robin' 'Rocco' 'Rocky' 'Rodman'\n",
      " 'Rodney' 'Rolf' 'Romeo' 'Ron' 'Ronduh' 'Ronnie' 'Rontu' 'Rooney'\n",
      " 'Roosevelt' 'Rorie' 'Rory' 'Roscoe' 'Rose' 'Rosie' 'Rover' 'Rubio' 'Ruby'\n",
      " 'Rudy' 'Rueben' 'Ruffles' 'Rufio' 'Rufus' 'Rumble' 'Rumpole' 'Rupert'\n",
      " 'Rusty' 'Sadie' 'Sage' 'Sailer' 'Sailor' 'Sam' 'Sammy' 'Sampson' 'Samsom'\n",
      " 'Samson' 'Sandra' 'Sandy' 'Sansa' 'Sarge' 'Saydee' 'Schnitzel' 'Schnozz'\n",
      " 'Scooter' 'Scott' 'Scout' 'Scruffers' 'Seamus' 'Sebastian' 'Sephie'\n",
      " 'Severus' 'Shadoe' 'Shadow' 'Shaggy' 'Shakespeare' 'Shawwn' 'Shelby'\n",
      " 'Shikha' 'Shiloh' 'Shnuggles' 'Shooter' 'Siba' 'Sid' 'Sierra' 'Simba'\n",
      " 'Skittle' 'Skittles' 'Sky' 'Skye' 'Smiley' 'Smokey' 'Snickers' 'Snicku'\n",
      " 'Snoop' 'Snoopy' 'Sobe' 'Socks' 'Sojourner' 'Solomon' 'Sonny' 'Sophie'\n",
      " 'Sora' 'Spanky' 'Spark' 'Sparky' 'Spencer' 'Sprinkles' 'Sprout' 'Staniel'\n",
      " 'Stanley' 'Stark' 'Stefan' 'Stella' 'Stephan' 'Stephanus' 'Steve'\n",
      " 'Steven' 'Stewie' 'Storkson' 'Stormy' 'Strider' 'Striker' 'Strudel' 'Stu'\n",
      " 'Stuart' 'Stubert' 'Sugar' 'Suki' 'Sully' 'Sundance' 'Sunny' 'Sunshine'\n",
      " 'Superpup' 'Swagger' 'Sweet' 'Sweets' 'Taco' 'Tango' 'Tanner' 'Tassy'\n",
      " 'Tater' 'Tayzie' 'Taz' 'Tebow' 'Ted' 'Tedders' 'Teddy' 'Tedrick'\n",
      " 'Terrance' 'Terrenth' 'Terry' 'Tess' 'Tessa' 'Theo' 'Theodore' 'Thor'\n",
      " 'Thumas' 'Tiger' 'Tilly' 'Timber' 'Timison' 'Timmy' 'Timofy' 'Tino'\n",
      " 'Titan' 'Tito' 'Tobi' 'Toby' 'Todo' 'Toffee' 'Tom' 'Tommy' 'Tonks'\n",
      " 'Torque' 'Tove' 'Travis' 'Traviss' 'Trevith' 'Trigger' 'Trip' 'Tripp'\n",
      " 'Trooper' 'Tuck' 'Tucker' 'Tuco' 'Tug' 'Tupawc' 'Tycho' 'Tyr' 'Tyrone'\n",
      " 'Tyrus' 'Ulysses' 'Venti' 'Vince' 'Vincent' 'Vinnie' 'Vinscent' 'Vixen'\n",
      " 'Wafer' 'Waffles' 'Walker' 'Wallace' 'Wally' 'Walter' 'Watson' 'Wesley'\n",
      " 'Wiggles' 'Willem' 'William' 'Willie' 'Willow' 'Willy' 'Wilson'\n",
      " 'Winifred' 'Winnie' 'Winston' 'Wishes' 'Wyatt' 'Yoda' 'Yogi' 'Yukon'\n",
      " 'Zara' 'Zeek' 'Zeke' 'Zeus' 'Ziva' 'Zoe' 'Zoey' 'Zooey' 'Zuzu' 'a'\n",
      " 'actually' 'all' 'an' 'by' 'getting' 'his' 'incredibly' 'infuriating'\n",
      " 'just' 'life' 'light' 'mad' 'my' 'not' 'officially' 'old' 'one' 'quite'\n",
      " 'space' 'such' 'the' 'this' 'unacceptable' 'very'] \n",
      "\n",
      "Unique values for column doggo: \n",
      " ['None' 'doggo'] \n",
      "\n",
      "Unique values for column floofer: \n",
      " ['None' 'floofer'] \n",
      "\n",
      "Unique values for column pupper: \n",
      " ['None' 'pupper'] \n",
      "\n",
      "Unique values for column puppo: \n",
      " ['None' 'puppo'] \n",
      "\n"
     ]
    }
   ],
   "source": [
    "# show unique values for some columns\n",
    "print('\\nUNIQUE VALUES FOR COLUMNS: \\n')\n",
    "cols = ['source', 'text', 'rating_numerator', 'rating_denominator', 'name', 'doggo', 'floofer', 'pupper', 'puppo']\n",
    "for col in cols:\n",
    "    print('Unique values for column {}: \\n {} \\n'.format(col, df_twitter_archive[col].sort_values().unique()))"
   ]
  },
  {
   "cell_type": "markdown",
   "metadata": {
    "pycharm": {
     "name": "#%% md\n"
    }
   },
   "source": [
    "**Observation from programming inspection `unique()`:**\n",
    "- `source` contain multiple pieces of information: url and source\n",
    "- `doggo, floofer, pupper, puppo` contain string values 'None' which indicate missing data\n",
    "- `text` contains multiple information: text, score and url\n",
    "- `name` starting with lower case are not valid dog names e.g. 'the, 'actually', 'this', 'one'\n",
    "- `rating_denominator` contains values that are not equal to 10"
   ]
  },
  {
   "cell_type": "code",
   "execution_count": 14,
   "metadata": {
    "pycharm": {
     "name": "#%%\n"
    }
   },
   "outputs": [
    {
     "data": {
      "text/html": [
       "<div>\n",
       "<style scoped>\n",
       "    .dataframe tbody tr th:only-of-type {\n",
       "        vertical-align: middle;\n",
       "    }\n",
       "\n",
       "    .dataframe tbody tr th {\n",
       "        vertical-align: top;\n",
       "    }\n",
       "\n",
       "    .dataframe thead th {\n",
       "        text-align: right;\n",
       "    }\n",
       "</style>\n",
       "<table border=\"1\" class=\"dataframe\">\n",
       "  <thead>\n",
       "    <tr style=\"text-align: right;\">\n",
       "      <th></th>\n",
       "      <th>tweet_id</th>\n",
       "      <th>in_reply_to_status_id</th>\n",
       "      <th>in_reply_to_user_id</th>\n",
       "      <th>timestamp</th>\n",
       "      <th>source</th>\n",
       "      <th>text</th>\n",
       "      <th>retweeted_status_id</th>\n",
       "      <th>retweeted_status_user_id</th>\n",
       "      <th>retweeted_status_timestamp</th>\n",
       "      <th>expanded_urls</th>\n",
       "      <th>rating_numerator</th>\n",
       "      <th>rating_denominator</th>\n",
       "      <th>name</th>\n",
       "      <th>doggo</th>\n",
       "      <th>floofer</th>\n",
       "      <th>pupper</th>\n",
       "      <th>puppo</th>\n",
       "    </tr>\n",
       "  </thead>\n",
       "  <tbody>\n",
       "    <tr>\n",
       "      <th>313</th>\n",
       "      <td>835246439529840640</td>\n",
       "      <td>835245984028504064.00</td>\n",
       "      <td>26259576.00</td>\n",
       "      <td>2017-02-24 21:54:03 +0000</td>\n",
       "      <td>&lt;a href=\"http://twitter.com/download/iphone\" rel=\"nofollow\"&gt;Twitter for iPhone&lt;/a&gt;</td>\n",
       "      <td>@jonnysun @Lin_Manuel ok jomny I know you're excited but 960/00 isn't a valid rating, 13/10 is tho</td>\n",
       "      <td>NaN</td>\n",
       "      <td>NaN</td>\n",
       "      <td>NaN</td>\n",
       "      <td>NaN</td>\n",
       "      <td>960</td>\n",
       "      <td>0</td>\n",
       "      <td>None</td>\n",
       "      <td>None</td>\n",
       "      <td>None</td>\n",
       "      <td>None</td>\n",
       "      <td>None</td>\n",
       "    </tr>\n",
       "    <tr>\n",
       "      <th>342</th>\n",
       "      <td>832088576586297345</td>\n",
       "      <td>832087547559997440.00</td>\n",
       "      <td>30582082.00</td>\n",
       "      <td>2017-02-16 04:45:50 +0000</td>\n",
       "      <td>&lt;a href=\"http://twitter.com/download/iphone\" rel=\"nofollow\"&gt;Twitter for iPhone&lt;/a&gt;</td>\n",
       "      <td>@docmisterio account started on 11/15/15</td>\n",
       "      <td>NaN</td>\n",
       "      <td>NaN</td>\n",
       "      <td>NaN</td>\n",
       "      <td>NaN</td>\n",
       "      <td>11</td>\n",
       "      <td>15</td>\n",
       "      <td>None</td>\n",
       "      <td>None</td>\n",
       "      <td>None</td>\n",
       "      <td>None</td>\n",
       "      <td>None</td>\n",
       "    </tr>\n",
       "    <tr>\n",
       "      <th>433</th>\n",
       "      <td>820690176645140481</td>\n",
       "      <td>NaN</td>\n",
       "      <td>NaN</td>\n",
       "      <td>2017-01-15 17:52:40 +0000</td>\n",
       "      <td>&lt;a href=\"http://twitter.com/download/iphone\" rel=\"nofollow\"&gt;Twitter for iPhone&lt;/a&gt;</td>\n",
       "      <td>The floofs have been released I repeat the floofs have been released. 84/70 https://t.co/NIYC820tmd</td>\n",
       "      <td>NaN</td>\n",
       "      <td>NaN</td>\n",
       "      <td>NaN</td>\n",
       "      <td>https://twitter.com/dog_rates/status/820690176645140481/photo/1,https://twitter.com/dog_rates/status/820690176645140481/photo/1,https://twitter.com/dog_rates/status/820690176645140481/photo/1</td>\n",
       "      <td>84</td>\n",
       "      <td>70</td>\n",
       "      <td>None</td>\n",
       "      <td>None</td>\n",
       "      <td>None</td>\n",
       "      <td>None</td>\n",
       "      <td>None</td>\n",
       "    </tr>\n",
       "    <tr>\n",
       "      <th>516</th>\n",
       "      <td>810984652412424192</td>\n",
       "      <td>NaN</td>\n",
       "      <td>NaN</td>\n",
       "      <td>2016-12-19 23:06:23 +0000</td>\n",
       "      <td>&lt;a href=\"http://twitter.com/download/iphone\" rel=\"nofollow\"&gt;Twitter for iPhone&lt;/a&gt;</td>\n",
       "      <td>Meet Sam. She smiles 24/7 &amp;amp; secretly aspires to be a reindeer. \\nKeep Sam smiling by clicking and sharing this link:\\nhttps://t.co/98tB8y7y7t https://t.co/LouL5vdvxx</td>\n",
       "      <td>NaN</td>\n",
       "      <td>NaN</td>\n",
       "      <td>NaN</td>\n",
       "      <td>https://www.gofundme.com/sams-smile,https://twitter.com/dog_rates/status/810984652412424192/photo/1</td>\n",
       "      <td>24</td>\n",
       "      <td>7</td>\n",
       "      <td>Sam</td>\n",
       "      <td>None</td>\n",
       "      <td>None</td>\n",
       "      <td>None</td>\n",
       "      <td>None</td>\n",
       "    </tr>\n",
       "    <tr>\n",
       "      <th>784</th>\n",
       "      <td>775096608509886464</td>\n",
       "      <td>NaN</td>\n",
       "      <td>NaN</td>\n",
       "      <td>2016-09-11 22:20:06 +0000</td>\n",
       "      <td>&lt;a href=\"http://twitter.com/download/iphone\" rel=\"nofollow\"&gt;Twitter for iPhone&lt;/a&gt;</td>\n",
       "      <td>RT @dog_rates: After so many requests, this is Bretagne. She was the last surviving 9/11 search dog, and our second ever 14/10. RIP https:/…</td>\n",
       "      <td>740373189193256960.00</td>\n",
       "      <td>4196983835.00</td>\n",
       "      <td>2016-06-08 02:41:38 +0000</td>\n",
       "      <td>https://twitter.com/dog_rates/status/740373189193256964/photo/1,https://twitter.com/dog_rates/status/740373189193256964/photo/1,https://twitter.com/dog_rates/status/740373189193256964/photo/1,https://twitter.com/dog_rates/status/740373189193256964/photo/1</td>\n",
       "      <td>9</td>\n",
       "      <td>11</td>\n",
       "      <td>None</td>\n",
       "      <td>None</td>\n",
       "      <td>None</td>\n",
       "      <td>None</td>\n",
       "      <td>None</td>\n",
       "    </tr>\n",
       "    <tr>\n",
       "      <th>902</th>\n",
       "      <td>758467244762497024</td>\n",
       "      <td>NaN</td>\n",
       "      <td>NaN</td>\n",
       "      <td>2016-07-28 01:00:57 +0000</td>\n",
       "      <td>&lt;a href=\"http://twitter.com/download/iphone\" rel=\"nofollow\"&gt;Twitter for iPhone&lt;/a&gt;</td>\n",
       "      <td>Why does this never happen at my front door... 165/150 https://t.co/HmwrdfEfUE</td>\n",
       "      <td>NaN</td>\n",
       "      <td>NaN</td>\n",
       "      <td>NaN</td>\n",
       "      <td>https://twitter.com/dog_rates/status/758467244762497024/video/1</td>\n",
       "      <td>165</td>\n",
       "      <td>150</td>\n",
       "      <td>None</td>\n",
       "      <td>None</td>\n",
       "      <td>None</td>\n",
       "      <td>None</td>\n",
       "      <td>None</td>\n",
       "    </tr>\n",
       "    <tr>\n",
       "      <th>1068</th>\n",
       "      <td>740373189193256964</td>\n",
       "      <td>NaN</td>\n",
       "      <td>NaN</td>\n",
       "      <td>2016-06-08 02:41:38 +0000</td>\n",
       "      <td>&lt;a href=\"http://twitter.com/download/iphone\" rel=\"nofollow\"&gt;Twitter for iPhone&lt;/a&gt;</td>\n",
       "      <td>After so many requests, this is Bretagne. She was the last surviving 9/11 search dog, and our second ever 14/10. RIP https://t.co/XAVDNDaVgQ</td>\n",
       "      <td>NaN</td>\n",
       "      <td>NaN</td>\n",
       "      <td>NaN</td>\n",
       "      <td>https://twitter.com/dog_rates/status/740373189193256964/photo/1,https://twitter.com/dog_rates/status/740373189193256964/photo/1,https://twitter.com/dog_rates/status/740373189193256964/photo/1,https://twitter.com/dog_rates/status/740373189193256964/photo/1</td>\n",
       "      <td>9</td>\n",
       "      <td>11</td>\n",
       "      <td>None</td>\n",
       "      <td>None</td>\n",
       "      <td>None</td>\n",
       "      <td>None</td>\n",
       "      <td>None</td>\n",
       "    </tr>\n",
       "    <tr>\n",
       "      <th>1120</th>\n",
       "      <td>731156023742988288</td>\n",
       "      <td>NaN</td>\n",
       "      <td>NaN</td>\n",
       "      <td>2016-05-13 16:15:54 +0000</td>\n",
       "      <td>&lt;a href=\"http://twitter.com/download/iphone\" rel=\"nofollow\"&gt;Twitter for iPhone&lt;/a&gt;</td>\n",
       "      <td>Say hello to this unbelievably well behaved squad of doggos. 204/170 would try to pet all at once https://t.co/yGQI3He3xv</td>\n",
       "      <td>NaN</td>\n",
       "      <td>NaN</td>\n",
       "      <td>NaN</td>\n",
       "      <td>https://twitter.com/dog_rates/status/731156023742988288/photo/1</td>\n",
       "      <td>204</td>\n",
       "      <td>170</td>\n",
       "      <td>this</td>\n",
       "      <td>None</td>\n",
       "      <td>None</td>\n",
       "      <td>None</td>\n",
       "      <td>None</td>\n",
       "    </tr>\n",
       "    <tr>\n",
       "      <th>1165</th>\n",
       "      <td>722974582966214656</td>\n",
       "      <td>NaN</td>\n",
       "      <td>NaN</td>\n",
       "      <td>2016-04-21 02:25:47 +0000</td>\n",
       "      <td>&lt;a href=\"http://twitter.com/download/iphone\" rel=\"nofollow\"&gt;Twitter for iPhone&lt;/a&gt;</td>\n",
       "      <td>Happy 4/20 from the squad! 13/10 for all https://t.co/eV1diwds8a</td>\n",
       "      <td>NaN</td>\n",
       "      <td>NaN</td>\n",
       "      <td>NaN</td>\n",
       "      <td>https://twitter.com/dog_rates/status/722974582966214656/photo/1</td>\n",
       "      <td>4</td>\n",
       "      <td>20</td>\n",
       "      <td>None</td>\n",
       "      <td>None</td>\n",
       "      <td>None</td>\n",
       "      <td>None</td>\n",
       "      <td>None</td>\n",
       "    </tr>\n",
       "    <tr>\n",
       "      <th>1202</th>\n",
       "      <td>716439118184652801</td>\n",
       "      <td>NaN</td>\n",
       "      <td>NaN</td>\n",
       "      <td>2016-04-03 01:36:11 +0000</td>\n",
       "      <td>&lt;a href=\"http://twitter.com/download/iphone\" rel=\"nofollow\"&gt;Twitter for iPhone&lt;/a&gt;</td>\n",
       "      <td>This is Bluebert. He just saw that both #FinalFur match ups are split 50/50. Amazed af. 11/10 https://t.co/Kky1DPG4iq</td>\n",
       "      <td>NaN</td>\n",
       "      <td>NaN</td>\n",
       "      <td>NaN</td>\n",
       "      <td>https://twitter.com/dog_rates/status/716439118184652801/photo/1</td>\n",
       "      <td>50</td>\n",
       "      <td>50</td>\n",
       "      <td>Bluebert</td>\n",
       "      <td>None</td>\n",
       "      <td>None</td>\n",
       "      <td>None</td>\n",
       "      <td>None</td>\n",
       "    </tr>\n",
       "    <tr>\n",
       "      <th>1228</th>\n",
       "      <td>713900603437621249</td>\n",
       "      <td>NaN</td>\n",
       "      <td>NaN</td>\n",
       "      <td>2016-03-27 01:29:02 +0000</td>\n",
       "      <td>&lt;a href=\"http://twitter.com/download/iphone\" rel=\"nofollow\"&gt;Twitter for iPhone&lt;/a&gt;</td>\n",
       "      <td>Happy Saturday here's 9 puppers on a bench. 99/90 good work everybody https://t.co/mpvaVxKmc1</td>\n",
       "      <td>NaN</td>\n",
       "      <td>NaN</td>\n",
       "      <td>NaN</td>\n",
       "      <td>https://twitter.com/dog_rates/status/713900603437621249/photo/1</td>\n",
       "      <td>99</td>\n",
       "      <td>90</td>\n",
       "      <td>None</td>\n",
       "      <td>None</td>\n",
       "      <td>None</td>\n",
       "      <td>None</td>\n",
       "      <td>None</td>\n",
       "    </tr>\n",
       "    <tr>\n",
       "      <th>1254</th>\n",
       "      <td>710658690886586372</td>\n",
       "      <td>NaN</td>\n",
       "      <td>NaN</td>\n",
       "      <td>2016-03-18 02:46:49 +0000</td>\n",
       "      <td>&lt;a href=\"http://twitter.com/download/iphone\" rel=\"nofollow\"&gt;Twitter for iPhone&lt;/a&gt;</td>\n",
       "      <td>Here's a brigade of puppers. All look very prepared for whatever happens next. 80/80 https://t.co/0eb7R1Om12</td>\n",
       "      <td>NaN</td>\n",
       "      <td>NaN</td>\n",
       "      <td>NaN</td>\n",
       "      <td>https://twitter.com/dog_rates/status/710658690886586372/photo/1</td>\n",
       "      <td>80</td>\n",
       "      <td>80</td>\n",
       "      <td>None</td>\n",
       "      <td>None</td>\n",
       "      <td>None</td>\n",
       "      <td>None</td>\n",
       "      <td>None</td>\n",
       "    </tr>\n",
       "    <tr>\n",
       "      <th>1274</th>\n",
       "      <td>709198395643068416</td>\n",
       "      <td>NaN</td>\n",
       "      <td>NaN</td>\n",
       "      <td>2016-03-14 02:04:08 +0000</td>\n",
       "      <td>&lt;a href=\"http://twitter.com/download/iphone\" rel=\"nofollow\"&gt;Twitter for iPhone&lt;/a&gt;</td>\n",
       "      <td>From left to right:\\nCletus, Jerome, Alejandro, Burp, &amp;amp; Titson\\nNone know where camera is. 45/50 would hug all at once https://t.co/sedre1ivTK</td>\n",
       "      <td>NaN</td>\n",
       "      <td>NaN</td>\n",
       "      <td>NaN</td>\n",
       "      <td>https://twitter.com/dog_rates/status/709198395643068416/photo/1</td>\n",
       "      <td>45</td>\n",
       "      <td>50</td>\n",
       "      <td>None</td>\n",
       "      <td>None</td>\n",
       "      <td>None</td>\n",
       "      <td>None</td>\n",
       "      <td>None</td>\n",
       "    </tr>\n",
       "    <tr>\n",
       "      <th>1351</th>\n",
       "      <td>704054845121142784</td>\n",
       "      <td>NaN</td>\n",
       "      <td>NaN</td>\n",
       "      <td>2016-02-28 21:25:30 +0000</td>\n",
       "      <td>&lt;a href=\"http://twitter.com/download/iphone\" rel=\"nofollow\"&gt;Twitter for iPhone&lt;/a&gt;</td>\n",
       "      <td>Here is a whole flock of puppers.  60/50 I'll take the lot https://t.co/9dpcw6MdWa</td>\n",
       "      <td>NaN</td>\n",
       "      <td>NaN</td>\n",
       "      <td>NaN</td>\n",
       "      <td>https://twitter.com/dog_rates/status/704054845121142784/photo/1</td>\n",
       "      <td>60</td>\n",
       "      <td>50</td>\n",
       "      <td>a</td>\n",
       "      <td>None</td>\n",
       "      <td>None</td>\n",
       "      <td>None</td>\n",
       "      <td>None</td>\n",
       "    </tr>\n",
       "    <tr>\n",
       "      <th>1433</th>\n",
       "      <td>697463031882764288</td>\n",
       "      <td>NaN</td>\n",
       "      <td>NaN</td>\n",
       "      <td>2016-02-10 16:51:59 +0000</td>\n",
       "      <td>&lt;a href=\"http://twitter.com/download/iphone\" rel=\"nofollow\"&gt;Twitter for iPhone&lt;/a&gt;</td>\n",
       "      <td>Happy Wednesday here's a bucket of pups. 44/40 would pet all at once https://t.co/HppvrYuamZ</td>\n",
       "      <td>NaN</td>\n",
       "      <td>NaN</td>\n",
       "      <td>NaN</td>\n",
       "      <td>https://twitter.com/dog_rates/status/697463031882764288/photo/1</td>\n",
       "      <td>44</td>\n",
       "      <td>40</td>\n",
       "      <td>None</td>\n",
       "      <td>None</td>\n",
       "      <td>None</td>\n",
       "      <td>None</td>\n",
       "      <td>None</td>\n",
       "    </tr>\n",
       "    <tr>\n",
       "      <th>1598</th>\n",
       "      <td>686035780142297088</td>\n",
       "      <td>686034024800862208.00</td>\n",
       "      <td>4196983835.00</td>\n",
       "      <td>2016-01-10 04:04:10 +0000</td>\n",
       "      <td>&lt;a href=\"http://twitter.com/download/iphone\" rel=\"nofollow\"&gt;Twitter for iPhone&lt;/a&gt;</td>\n",
       "      <td>Yes I do realize a rating of 4/20 would've been fitting. However, it would be unjust to give these cooperative pups that low of a rating</td>\n",
       "      <td>NaN</td>\n",
       "      <td>NaN</td>\n",
       "      <td>NaN</td>\n",
       "      <td>NaN</td>\n",
       "      <td>4</td>\n",
       "      <td>20</td>\n",
       "      <td>None</td>\n",
       "      <td>None</td>\n",
       "      <td>None</td>\n",
       "      <td>None</td>\n",
       "      <td>None</td>\n",
       "    </tr>\n",
       "    <tr>\n",
       "      <th>1634</th>\n",
       "      <td>684225744407494656</td>\n",
       "      <td>684222868335505408.00</td>\n",
       "      <td>4196983835.00</td>\n",
       "      <td>2016-01-05 04:11:44 +0000</td>\n",
       "      <td>&lt;a href=\"http://twitter.com/download/iphone\" rel=\"nofollow\"&gt;Twitter for iPhone&lt;/a&gt;</td>\n",
       "      <td>Two sneaky puppers were not initially seen, moving the rating to 143/130. Please forgive us. Thank you https://t.co/kRK51Y5ac3</td>\n",
       "      <td>NaN</td>\n",
       "      <td>NaN</td>\n",
       "      <td>NaN</td>\n",
       "      <td>https://twitter.com/dog_rates/status/684225744407494656/photo/1,https://twitter.com/dog_rates/status/684225744407494656/photo/1</td>\n",
       "      <td>143</td>\n",
       "      <td>130</td>\n",
       "      <td>None</td>\n",
       "      <td>None</td>\n",
       "      <td>None</td>\n",
       "      <td>None</td>\n",
       "      <td>None</td>\n",
       "    </tr>\n",
       "    <tr>\n",
       "      <th>1635</th>\n",
       "      <td>684222868335505415</td>\n",
       "      <td>NaN</td>\n",
       "      <td>NaN</td>\n",
       "      <td>2016-01-05 04:00:18 +0000</td>\n",
       "      <td>&lt;a href=\"http://twitter.com/download/iphone\" rel=\"nofollow\"&gt;Twitter for iPhone&lt;/a&gt;</td>\n",
       "      <td>Someone help the girl is being mugged. Several are distracting her while two steal her shoes. Clever puppers 121/110 https://t.co/1zfnTJLt55</td>\n",
       "      <td>NaN</td>\n",
       "      <td>NaN</td>\n",
       "      <td>NaN</td>\n",
       "      <td>https://twitter.com/dog_rates/status/684222868335505415/photo/1</td>\n",
       "      <td>121</td>\n",
       "      <td>110</td>\n",
       "      <td>None</td>\n",
       "      <td>None</td>\n",
       "      <td>None</td>\n",
       "      <td>None</td>\n",
       "      <td>None</td>\n",
       "    </tr>\n",
       "    <tr>\n",
       "      <th>1662</th>\n",
       "      <td>682962037429899265</td>\n",
       "      <td>NaN</td>\n",
       "      <td>NaN</td>\n",
       "      <td>2016-01-01 16:30:13 +0000</td>\n",
       "      <td>&lt;a href=\"http://twitter.com/download/iphone\" rel=\"nofollow\"&gt;Twitter for iPhone&lt;/a&gt;</td>\n",
       "      <td>This is Darrel. He just robbed a 7/11 and is in a high speed police chase. Was just spotted by the helicopter 10/10 https://t.co/7EsP8LmSp5</td>\n",
       "      <td>NaN</td>\n",
       "      <td>NaN</td>\n",
       "      <td>NaN</td>\n",
       "      <td>https://twitter.com/dog_rates/status/682962037429899265/photo/1</td>\n",
       "      <td>7</td>\n",
       "      <td>11</td>\n",
       "      <td>Darrel</td>\n",
       "      <td>None</td>\n",
       "      <td>None</td>\n",
       "      <td>None</td>\n",
       "      <td>None</td>\n",
       "    </tr>\n",
       "    <tr>\n",
       "      <th>1663</th>\n",
       "      <td>682808988178739200</td>\n",
       "      <td>682788441537560576.00</td>\n",
       "      <td>4196983835.00</td>\n",
       "      <td>2016-01-01 06:22:03 +0000</td>\n",
       "      <td>&lt;a href=\"http://twitter.com/download/iphone\" rel=\"nofollow\"&gt;Twitter for iPhone&lt;/a&gt;</td>\n",
       "      <td>I'm aware that I could've said 20/16, but here at WeRateDogs we are very professional. An inconsistent rating scale is simply irresponsible</td>\n",
       "      <td>NaN</td>\n",
       "      <td>NaN</td>\n",
       "      <td>NaN</td>\n",
       "      <td>NaN</td>\n",
       "      <td>20</td>\n",
       "      <td>16</td>\n",
       "      <td>None</td>\n",
       "      <td>None</td>\n",
       "      <td>None</td>\n",
       "      <td>None</td>\n",
       "      <td>None</td>\n",
       "    </tr>\n",
       "    <tr>\n",
       "      <th>1779</th>\n",
       "      <td>677716515794329600</td>\n",
       "      <td>NaN</td>\n",
       "      <td>NaN</td>\n",
       "      <td>2015-12-18 05:06:23 +0000</td>\n",
       "      <td>&lt;a href=\"http://twitter.com/download/iphone\" rel=\"nofollow\"&gt;Twitter for iPhone&lt;/a&gt;</td>\n",
       "      <td>IT'S PUPPERGEDDON. Total of 144/120 ...I think https://t.co/ZanVtAtvIq</td>\n",
       "      <td>NaN</td>\n",
       "      <td>NaN</td>\n",
       "      <td>NaN</td>\n",
       "      <td>https://twitter.com/dog_rates/status/677716515794329600/photo/1</td>\n",
       "      <td>144</td>\n",
       "      <td>120</td>\n",
       "      <td>None</td>\n",
       "      <td>None</td>\n",
       "      <td>None</td>\n",
       "      <td>None</td>\n",
       "      <td>None</td>\n",
       "    </tr>\n",
       "    <tr>\n",
       "      <th>1843</th>\n",
       "      <td>675853064436391936</td>\n",
       "      <td>NaN</td>\n",
       "      <td>NaN</td>\n",
       "      <td>2015-12-13 01:41:41 +0000</td>\n",
       "      <td>&lt;a href=\"http://twitter.com/download/iphone\" rel=\"nofollow\"&gt;Twitter for iPhone&lt;/a&gt;</td>\n",
       "      <td>Here we have an entire platoon of puppers. Total score: 88/80 would pet all at once https://t.co/y93p6FLvVw</td>\n",
       "      <td>NaN</td>\n",
       "      <td>NaN</td>\n",
       "      <td>NaN</td>\n",
       "      <td>https://twitter.com/dog_rates/status/675853064436391936/photo/1,https://twitter.com/dog_rates/status/675853064436391936/photo/1</td>\n",
       "      <td>88</td>\n",
       "      <td>80</td>\n",
       "      <td>None</td>\n",
       "      <td>None</td>\n",
       "      <td>None</td>\n",
       "      <td>None</td>\n",
       "      <td>None</td>\n",
       "    </tr>\n",
       "    <tr>\n",
       "      <th>2335</th>\n",
       "      <td>666287406224695296</td>\n",
       "      <td>NaN</td>\n",
       "      <td>NaN</td>\n",
       "      <td>2015-11-16 16:11:11 +0000</td>\n",
       "      <td>&lt;a href=\"http://twitter.com/download/iphone\" rel=\"nofollow\"&gt;Twitter for iPhone&lt;/a&gt;</td>\n",
       "      <td>This is an Albanian 3 1/2 legged  Episcopalian. Loves well-polished hardwood flooring. Penis on the collar. 9/10 https://t.co/d9NcXFKwLv</td>\n",
       "      <td>NaN</td>\n",
       "      <td>NaN</td>\n",
       "      <td>NaN</td>\n",
       "      <td>https://twitter.com/dog_rates/status/666287406224695296/photo/1</td>\n",
       "      <td>1</td>\n",
       "      <td>2</td>\n",
       "      <td>an</td>\n",
       "      <td>None</td>\n",
       "      <td>None</td>\n",
       "      <td>None</td>\n",
       "      <td>None</td>\n",
       "    </tr>\n",
       "  </tbody>\n",
       "</table>\n",
       "</div>"
      ],
      "text/plain": [
       "                tweet_id  in_reply_to_status_id  in_reply_to_user_id  \\\n",
       "313   835246439529840640  835245984028504064.00          26259576.00   \n",
       "342   832088576586297345  832087547559997440.00          30582082.00   \n",
       "433   820690176645140481                    NaN                  NaN   \n",
       "516   810984652412424192                    NaN                  NaN   \n",
       "784   775096608509886464                    NaN                  NaN   \n",
       "902   758467244762497024                    NaN                  NaN   \n",
       "1068  740373189193256964                    NaN                  NaN   \n",
       "1120  731156023742988288                    NaN                  NaN   \n",
       "1165  722974582966214656                    NaN                  NaN   \n",
       "1202  716439118184652801                    NaN                  NaN   \n",
       "1228  713900603437621249                    NaN                  NaN   \n",
       "1254  710658690886586372                    NaN                  NaN   \n",
       "1274  709198395643068416                    NaN                  NaN   \n",
       "1351  704054845121142784                    NaN                  NaN   \n",
       "1433  697463031882764288                    NaN                  NaN   \n",
       "1598  686035780142297088  686034024800862208.00        4196983835.00   \n",
       "1634  684225744407494656  684222868335505408.00        4196983835.00   \n",
       "1635  684222868335505415                    NaN                  NaN   \n",
       "1662  682962037429899265                    NaN                  NaN   \n",
       "1663  682808988178739200  682788441537560576.00        4196983835.00   \n",
       "1779  677716515794329600                    NaN                  NaN   \n",
       "1843  675853064436391936                    NaN                  NaN   \n",
       "2335  666287406224695296                    NaN                  NaN   \n",
       "\n",
       "                      timestamp  \\\n",
       "313   2017-02-24 21:54:03 +0000   \n",
       "342   2017-02-16 04:45:50 +0000   \n",
       "433   2017-01-15 17:52:40 +0000   \n",
       "516   2016-12-19 23:06:23 +0000   \n",
       "784   2016-09-11 22:20:06 +0000   \n",
       "902   2016-07-28 01:00:57 +0000   \n",
       "1068  2016-06-08 02:41:38 +0000   \n",
       "1120  2016-05-13 16:15:54 +0000   \n",
       "1165  2016-04-21 02:25:47 +0000   \n",
       "1202  2016-04-03 01:36:11 +0000   \n",
       "1228  2016-03-27 01:29:02 +0000   \n",
       "1254  2016-03-18 02:46:49 +0000   \n",
       "1274  2016-03-14 02:04:08 +0000   \n",
       "1351  2016-02-28 21:25:30 +0000   \n",
       "1433  2016-02-10 16:51:59 +0000   \n",
       "1598  2016-01-10 04:04:10 +0000   \n",
       "1634  2016-01-05 04:11:44 +0000   \n",
       "1635  2016-01-05 04:00:18 +0000   \n",
       "1662  2016-01-01 16:30:13 +0000   \n",
       "1663  2016-01-01 06:22:03 +0000   \n",
       "1779  2015-12-18 05:06:23 +0000   \n",
       "1843  2015-12-13 01:41:41 +0000   \n",
       "2335  2015-11-16 16:11:11 +0000   \n",
       "\n",
       "                                                                                  source  \\\n",
       "313   <a href=\"http://twitter.com/download/iphone\" rel=\"nofollow\">Twitter for iPhone</a>   \n",
       "342   <a href=\"http://twitter.com/download/iphone\" rel=\"nofollow\">Twitter for iPhone</a>   \n",
       "433   <a href=\"http://twitter.com/download/iphone\" rel=\"nofollow\">Twitter for iPhone</a>   \n",
       "516   <a href=\"http://twitter.com/download/iphone\" rel=\"nofollow\">Twitter for iPhone</a>   \n",
       "784   <a href=\"http://twitter.com/download/iphone\" rel=\"nofollow\">Twitter for iPhone</a>   \n",
       "902   <a href=\"http://twitter.com/download/iphone\" rel=\"nofollow\">Twitter for iPhone</a>   \n",
       "1068  <a href=\"http://twitter.com/download/iphone\" rel=\"nofollow\">Twitter for iPhone</a>   \n",
       "1120  <a href=\"http://twitter.com/download/iphone\" rel=\"nofollow\">Twitter for iPhone</a>   \n",
       "1165  <a href=\"http://twitter.com/download/iphone\" rel=\"nofollow\">Twitter for iPhone</a>   \n",
       "1202  <a href=\"http://twitter.com/download/iphone\" rel=\"nofollow\">Twitter for iPhone</a>   \n",
       "1228  <a href=\"http://twitter.com/download/iphone\" rel=\"nofollow\">Twitter for iPhone</a>   \n",
       "1254  <a href=\"http://twitter.com/download/iphone\" rel=\"nofollow\">Twitter for iPhone</a>   \n",
       "1274  <a href=\"http://twitter.com/download/iphone\" rel=\"nofollow\">Twitter for iPhone</a>   \n",
       "1351  <a href=\"http://twitter.com/download/iphone\" rel=\"nofollow\">Twitter for iPhone</a>   \n",
       "1433  <a href=\"http://twitter.com/download/iphone\" rel=\"nofollow\">Twitter for iPhone</a>   \n",
       "1598  <a href=\"http://twitter.com/download/iphone\" rel=\"nofollow\">Twitter for iPhone</a>   \n",
       "1634  <a href=\"http://twitter.com/download/iphone\" rel=\"nofollow\">Twitter for iPhone</a>   \n",
       "1635  <a href=\"http://twitter.com/download/iphone\" rel=\"nofollow\">Twitter for iPhone</a>   \n",
       "1662  <a href=\"http://twitter.com/download/iphone\" rel=\"nofollow\">Twitter for iPhone</a>   \n",
       "1663  <a href=\"http://twitter.com/download/iphone\" rel=\"nofollow\">Twitter for iPhone</a>   \n",
       "1779  <a href=\"http://twitter.com/download/iphone\" rel=\"nofollow\">Twitter for iPhone</a>   \n",
       "1843  <a href=\"http://twitter.com/download/iphone\" rel=\"nofollow\">Twitter for iPhone</a>   \n",
       "2335  <a href=\"http://twitter.com/download/iphone\" rel=\"nofollow\">Twitter for iPhone</a>   \n",
       "\n",
       "                                                                                                                                                                           text  \\\n",
       "313                                                                          @jonnysun @Lin_Manuel ok jomny I know you're excited but 960/00 isn't a valid rating, 13/10 is tho   \n",
       "342                                                                                                                                    @docmisterio account started on 11/15/15   \n",
       "433                                                                         The floofs have been released I repeat the floofs have been released. 84/70 https://t.co/NIYC820tmd   \n",
       "516   Meet Sam. She smiles 24/7 &amp; secretly aspires to be a reindeer. \\nKeep Sam smiling by clicking and sharing this link:\\nhttps://t.co/98tB8y7y7t https://t.co/LouL5vdvxx   \n",
       "784                                RT @dog_rates: After so many requests, this is Bretagne. She was the last surviving 9/11 search dog, and our second ever 14/10. RIP https:/…   \n",
       "902                                                                                              Why does this never happen at my front door... 165/150 https://t.co/HmwrdfEfUE   \n",
       "1068                               After so many requests, this is Bretagne. She was the last surviving 9/11 search dog, and our second ever 14/10. RIP https://t.co/XAVDNDaVgQ   \n",
       "1120                                                  Say hello to this unbelievably well behaved squad of doggos. 204/170 would try to pet all at once https://t.co/yGQI3He3xv   \n",
       "1165                                                                                                           Happy 4/20 from the squad! 13/10 for all https://t.co/eV1diwds8a   \n",
       "1202                                                      This is Bluebert. He just saw that both #FinalFur match ups are split 50/50. Amazed af. 11/10 https://t.co/Kky1DPG4iq   \n",
       "1228                                                                              Happy Saturday here's 9 puppers on a bench. 99/90 good work everybody https://t.co/mpvaVxKmc1   \n",
       "1254                                                               Here's a brigade of puppers. All look very prepared for whatever happens next. 80/80 https://t.co/0eb7R1Om12   \n",
       "1274                         From left to right:\\nCletus, Jerome, Alejandro, Burp, &amp; Titson\\nNone know where camera is. 45/50 would hug all at once https://t.co/sedre1ivTK   \n",
       "1351                                                                                         Here is a whole flock of puppers.  60/50 I'll take the lot https://t.co/9dpcw6MdWa   \n",
       "1433                                                                               Happy Wednesday here's a bucket of pups. 44/40 would pet all at once https://t.co/HppvrYuamZ   \n",
       "1598                                   Yes I do realize a rating of 4/20 would've been fitting. However, it would be unjust to give these cooperative pups that low of a rating   \n",
       "1634                                             Two sneaky puppers were not initially seen, moving the rating to 143/130. Please forgive us. Thank you https://t.co/kRK51Y5ac3   \n",
       "1635                               Someone help the girl is being mugged. Several are distracting her while two steal her shoes. Clever puppers 121/110 https://t.co/1zfnTJLt55   \n",
       "1662                                This is Darrel. He just robbed a 7/11 and is in a high speed police chase. Was just spotted by the helicopter 10/10 https://t.co/7EsP8LmSp5   \n",
       "1663                                I'm aware that I could've said 20/16, but here at WeRateDogs we are very professional. An inconsistent rating scale is simply irresponsible   \n",
       "1779                                                                                                     IT'S PUPPERGEDDON. Total of 144/120 ...I think https://t.co/ZanVtAtvIq   \n",
       "1843                                                                Here we have an entire platoon of puppers. Total score: 88/80 would pet all at once https://t.co/y93p6FLvVw   \n",
       "2335                                   This is an Albanian 3 1/2 legged  Episcopalian. Loves well-polished hardwood flooring. Penis on the collar. 9/10 https://t.co/d9NcXFKwLv   \n",
       "\n",
       "       retweeted_status_id  retweeted_status_user_id  \\\n",
       "313                    NaN                       NaN   \n",
       "342                    NaN                       NaN   \n",
       "433                    NaN                       NaN   \n",
       "516                    NaN                       NaN   \n",
       "784  740373189193256960.00             4196983835.00   \n",
       "902                    NaN                       NaN   \n",
       "1068                   NaN                       NaN   \n",
       "1120                   NaN                       NaN   \n",
       "1165                   NaN                       NaN   \n",
       "1202                   NaN                       NaN   \n",
       "1228                   NaN                       NaN   \n",
       "1254                   NaN                       NaN   \n",
       "1274                   NaN                       NaN   \n",
       "1351                   NaN                       NaN   \n",
       "1433                   NaN                       NaN   \n",
       "1598                   NaN                       NaN   \n",
       "1634                   NaN                       NaN   \n",
       "1635                   NaN                       NaN   \n",
       "1662                   NaN                       NaN   \n",
       "1663                   NaN                       NaN   \n",
       "1779                   NaN                       NaN   \n",
       "1843                   NaN                       NaN   \n",
       "2335                   NaN                       NaN   \n",
       "\n",
       "     retweeted_status_timestamp  \\\n",
       "313                         NaN   \n",
       "342                         NaN   \n",
       "433                         NaN   \n",
       "516                         NaN   \n",
       "784   2016-06-08 02:41:38 +0000   \n",
       "902                         NaN   \n",
       "1068                        NaN   \n",
       "1120                        NaN   \n",
       "1165                        NaN   \n",
       "1202                        NaN   \n",
       "1228                        NaN   \n",
       "1254                        NaN   \n",
       "1274                        NaN   \n",
       "1351                        NaN   \n",
       "1433                        NaN   \n",
       "1598                        NaN   \n",
       "1634                        NaN   \n",
       "1635                        NaN   \n",
       "1662                        NaN   \n",
       "1663                        NaN   \n",
       "1779                        NaN   \n",
       "1843                        NaN   \n",
       "2335                        NaN   \n",
       "\n",
       "                                                                                                                                                                                                                                                        expanded_urls  \\\n",
       "313                                                                                                                                                                                                                                                               NaN   \n",
       "342                                                                                                                                                                                                                                                               NaN   \n",
       "433                                                                   https://twitter.com/dog_rates/status/820690176645140481/photo/1,https://twitter.com/dog_rates/status/820690176645140481/photo/1,https://twitter.com/dog_rates/status/820690176645140481/photo/1   \n",
       "516                                                                                                                                                               https://www.gofundme.com/sams-smile,https://twitter.com/dog_rates/status/810984652412424192/photo/1   \n",
       "784   https://twitter.com/dog_rates/status/740373189193256964/photo/1,https://twitter.com/dog_rates/status/740373189193256964/photo/1,https://twitter.com/dog_rates/status/740373189193256964/photo/1,https://twitter.com/dog_rates/status/740373189193256964/photo/1   \n",
       "902                                                                                                                                                                                                   https://twitter.com/dog_rates/status/758467244762497024/video/1   \n",
       "1068  https://twitter.com/dog_rates/status/740373189193256964/photo/1,https://twitter.com/dog_rates/status/740373189193256964/photo/1,https://twitter.com/dog_rates/status/740373189193256964/photo/1,https://twitter.com/dog_rates/status/740373189193256964/photo/1   \n",
       "1120                                                                                                                                                                                                  https://twitter.com/dog_rates/status/731156023742988288/photo/1   \n",
       "1165                                                                                                                                                                                                  https://twitter.com/dog_rates/status/722974582966214656/photo/1   \n",
       "1202                                                                                                                                                                                                  https://twitter.com/dog_rates/status/716439118184652801/photo/1   \n",
       "1228                                                                                                                                                                                                  https://twitter.com/dog_rates/status/713900603437621249/photo/1   \n",
       "1254                                                                                                                                                                                                  https://twitter.com/dog_rates/status/710658690886586372/photo/1   \n",
       "1274                                                                                                                                                                                                  https://twitter.com/dog_rates/status/709198395643068416/photo/1   \n",
       "1351                                                                                                                                                                                                  https://twitter.com/dog_rates/status/704054845121142784/photo/1   \n",
       "1433                                                                                                                                                                                                  https://twitter.com/dog_rates/status/697463031882764288/photo/1   \n",
       "1598                                                                                                                                                                                                                                                              NaN   \n",
       "1634                                                                                                                                  https://twitter.com/dog_rates/status/684225744407494656/photo/1,https://twitter.com/dog_rates/status/684225744407494656/photo/1   \n",
       "1635                                                                                                                                                                                                  https://twitter.com/dog_rates/status/684222868335505415/photo/1   \n",
       "1662                                                                                                                                                                                                  https://twitter.com/dog_rates/status/682962037429899265/photo/1   \n",
       "1663                                                                                                                                                                                                                                                              NaN   \n",
       "1779                                                                                                                                                                                                  https://twitter.com/dog_rates/status/677716515794329600/photo/1   \n",
       "1843                                                                                                                                  https://twitter.com/dog_rates/status/675853064436391936/photo/1,https://twitter.com/dog_rates/status/675853064436391936/photo/1   \n",
       "2335                                                                                                                                                                                                  https://twitter.com/dog_rates/status/666287406224695296/photo/1   \n",
       "\n",
       "      rating_numerator  rating_denominator      name doggo floofer pupper  \\\n",
       "313                960                   0      None  None    None   None   \n",
       "342                 11                  15      None  None    None   None   \n",
       "433                 84                  70      None  None    None   None   \n",
       "516                 24                   7       Sam  None    None   None   \n",
       "784                  9                  11      None  None    None   None   \n",
       "902                165                 150      None  None    None   None   \n",
       "1068                 9                  11      None  None    None   None   \n",
       "1120               204                 170      this  None    None   None   \n",
       "1165                 4                  20      None  None    None   None   \n",
       "1202                50                  50  Bluebert  None    None   None   \n",
       "1228                99                  90      None  None    None   None   \n",
       "1254                80                  80      None  None    None   None   \n",
       "1274                45                  50      None  None    None   None   \n",
       "1351                60                  50         a  None    None   None   \n",
       "1433                44                  40      None  None    None   None   \n",
       "1598                 4                  20      None  None    None   None   \n",
       "1634               143                 130      None  None    None   None   \n",
       "1635               121                 110      None  None    None   None   \n",
       "1662                 7                  11    Darrel  None    None   None   \n",
       "1663                20                  16      None  None    None   None   \n",
       "1779               144                 120      None  None    None   None   \n",
       "1843                88                  80      None  None    None   None   \n",
       "2335                 1                   2        an  None    None   None   \n",
       "\n",
       "     puppo  \n",
       "313   None  \n",
       "342   None  \n",
       "433   None  \n",
       "516   None  \n",
       "784   None  \n",
       "902   None  \n",
       "1068  None  \n",
       "1120  None  \n",
       "1165  None  \n",
       "1202  None  \n",
       "1228  None  \n",
       "1254  None  \n",
       "1274  None  \n",
       "1351  None  \n",
       "1433  None  \n",
       "1598  None  \n",
       "1634  None  \n",
       "1635  None  \n",
       "1662  None  \n",
       "1663  None  \n",
       "1779  None  \n",
       "1843  None  \n",
       "2335  None  "
      ]
     },
     "execution_count": 14,
     "metadata": {},
     "output_type": "execute_result"
    }
   ],
   "source": [
    "# denominator contains values that are not equal to 10, lets futher explore these entries\n",
    "df_twitter_archive[df_twitter_archive['rating_denominator'] != 10]"
   ]
  },
  {
   "cell_type": "code",
   "execution_count": 15,
   "metadata": {
    "pycharm": {
     "name": "#%%\n"
    }
   },
   "outputs": [
    {
     "data": {
      "text/plain": [
       "23"
      ]
     },
     "execution_count": 15,
     "metadata": {},
     "output_type": "execute_result"
    }
   ],
   "source": [
    "# how many records do we have that a denominator <> 10\n",
    "len(df_twitter_archive[df_twitter_archive['rating_denominator'] != 10])"
   ]
  },
  {
   "cell_type": "markdown",
   "metadata": {
    "pycharm": {
     "name": "#%% md\n"
    }
   },
   "source": [
    "**Observation from programming inspection `rating_denominator`**:\n",
    "\n",
    "- We have only 23 records where the denominator is not equal to 10\n",
    "- In most cases (but not all), it was caused by incorrect extraction from the text field where multiple rating patterns exist, of which the first one was extracted.\n",
    "\n",
    "As it's only 23 records, I would suggest we drop these records to have a clean analysis"
   ]
  },
  {
   "cell_type": "code",
   "execution_count": 16,
   "metadata": {
    "pycharm": {
     "name": "#%%\n"
    }
   },
   "outputs": [
    {
     "name": "stdout",
     "output_type": "stream",
     "text": [
      "\n",
      "UNIQUE VALUES FOR COLUMNS: \n",
      "\n",
      "Unique values for column source: \n",
      " <a href=\"http://twitter.com/download/iphone\" rel=\"nofollow\">Twitter for iPhone</a>     2221\n",
      "<a href=\"http://vine.co\" rel=\"nofollow\">Vine - Make a Scene</a>                          91\n",
      "<a href=\"http://twitter.com\" rel=\"nofollow\">Twitter Web Client</a>                       33\n",
      "<a href=\"https://about.twitter.com/products/tweetdeck\" rel=\"nofollow\">TweetDeck</a>      11\n",
      "Name: source, dtype: int64 \n",
      "\n",
      "Unique values for column rating_numerator: \n",
      " 12      558\n",
      "11      464\n",
      "10      461\n",
      "13      351\n",
      "9       158\n",
      "8       102\n",
      "7        55\n",
      "14       54\n",
      "5        37\n",
      "6        32\n",
      "3        19\n",
      "4        17\n",
      "2         9\n",
      "1         9\n",
      "75        2\n",
      "15        2\n",
      "420       2\n",
      "0         2\n",
      "80        1\n",
      "144       1\n",
      "17        1\n",
      "26        1\n",
      "20        1\n",
      "121       1\n",
      "143       1\n",
      "44        1\n",
      "60        1\n",
      "45        1\n",
      "50        1\n",
      "99        1\n",
      "204       1\n",
      "1776      1\n",
      "165       1\n",
      "666       1\n",
      "27        1\n",
      "182       1\n",
      "24        1\n",
      "960       1\n",
      "84        1\n",
      "88        1\n",
      "Name: rating_numerator, dtype: int64 \n",
      "\n",
      "Unique values for column rating_denominator: \n",
      " 10     2333\n",
      "11        3\n",
      "50        3\n",
      "20        2\n",
      "80        2\n",
      "70        1\n",
      "7         1\n",
      "15        1\n",
      "150       1\n",
      "170       1\n",
      "0         1\n",
      "90        1\n",
      "40        1\n",
      "130       1\n",
      "110       1\n",
      "16        1\n",
      "120       1\n",
      "2         1\n",
      "Name: rating_denominator, dtype: int64 \n",
      "\n",
      "Unique values for column doggo: \n",
      " None     2259\n",
      "doggo      97\n",
      "Name: doggo, dtype: int64 \n",
      "\n",
      "Unique values for column floofer: \n",
      " None       2346\n",
      "floofer      10\n",
      "Name: floofer, dtype: int64 \n",
      "\n",
      "Unique values for column pupper: \n",
      " None      2099\n",
      "pupper     257\n",
      "Name: pupper, dtype: int64 \n",
      "\n",
      "Unique values for column puppo: \n",
      " None     2326\n",
      "puppo      30\n",
      "Name: puppo, dtype: int64 \n",
      "\n"
     ]
    }
   ],
   "source": [
    "# show value counts for some problematic columns\n",
    "print('\\nUNIQUE VALUES FOR COLUMNS: \\n')\n",
    "cols = ['source', 'rating_numerator', 'rating_denominator', 'doggo', 'floofer', 'pupper', 'puppo']\n",
    "for col in cols:\n",
    "    print('Unique values for column {}: \\n {} \\n'.format(col, df_twitter_archive[col].value_counts()))"
   ]
  },
  {
   "cell_type": "markdown",
   "metadata": {
    "pycharm": {
     "name": "#%% md\n"
    }
   },
   "source": [
    "**Observation from programming inspection `value_counts`:**\n",
    "    \n",
    "- rating_denominator = 10 is used most of the time, the rest looks like exceptional errors\n",
    "- not a lot of values seems to be present for the dog stage related columns overall, we have lots of values = 'None'. Maybe not all dog stages were extracted ?"
   ]
  },
  {
   "cell_type": "markdown",
   "metadata": {
    "pycharm": {
     "name": "#%% md\n"
    }
   },
   "source": [
    "#### Duplicates checks"
   ]
  },
  {
   "cell_type": "code",
   "execution_count": 17,
   "metadata": {
    "pycharm": {
     "name": "#%%\n"
    }
   },
   "outputs": [
    {
     "data": {
      "text/plain": [
       "0"
      ]
     },
     "execution_count": 17,
     "metadata": {},
     "output_type": "execute_result"
    }
   ],
   "source": [
    "# Are any rows duplicated ?\n",
    "df_twitter_archive.duplicated().sum()"
   ]
  },
  {
   "cell_type": "code",
   "execution_count": 18,
   "metadata": {
    "pycharm": {
     "name": "#%%\n"
    }
   },
   "outputs": [
    {
     "data": {
      "text/plain": [
       "79"
      ]
     },
     "execution_count": 18,
     "metadata": {},
     "output_type": "execute_result"
    }
   ],
   "source": [
    "# how many duplicated `expanded_urls` exist ?\n",
    "df_twitter_archive['expanded_urls'].dropna().duplicated().sum()"
   ]
  },
  {
   "cell_type": "code",
   "execution_count": 19,
   "metadata": {
    "pycharm": {
     "name": "#%%\n"
    }
   },
   "outputs": [
    {
     "data": {
      "text/html": [
       "<div>\n",
       "<style scoped>\n",
       "    .dataframe tbody tr th:only-of-type {\n",
       "        vertical-align: middle;\n",
       "    }\n",
       "\n",
       "    .dataframe tbody tr th {\n",
       "        vertical-align: top;\n",
       "    }\n",
       "\n",
       "    .dataframe thead th {\n",
       "        text-align: right;\n",
       "    }\n",
       "</style>\n",
       "<table border=\"1\" class=\"dataframe\">\n",
       "  <thead>\n",
       "    <tr style=\"text-align: right;\">\n",
       "      <th></th>\n",
       "      <th>tweet_id</th>\n",
       "      <th>in_reply_to_status_id</th>\n",
       "      <th>in_reply_to_user_id</th>\n",
       "      <th>timestamp</th>\n",
       "      <th>source</th>\n",
       "      <th>text</th>\n",
       "      <th>retweeted_status_id</th>\n",
       "      <th>retweeted_status_user_id</th>\n",
       "      <th>retweeted_status_timestamp</th>\n",
       "      <th>expanded_urls</th>\n",
       "      <th>rating_numerator</th>\n",
       "      <th>rating_denominator</th>\n",
       "      <th>name</th>\n",
       "      <th>doggo</th>\n",
       "      <th>floofer</th>\n",
       "      <th>pupper</th>\n",
       "      <th>puppo</th>\n",
       "    </tr>\n",
       "  </thead>\n",
       "  <tbody>\n",
       "    <tr>\n",
       "      <th>349</th>\n",
       "      <td>831650051525054464</td>\n",
       "      <td>NaN</td>\n",
       "      <td>NaN</td>\n",
       "      <td>2017-02-14 23:43:18 +0000</td>\n",
       "      <td>&lt;a href=\"http://twitter.com/download/iphone\" rel=\"nofollow\"&gt;Twitter for iPhone&lt;/a&gt;</td>\n",
       "      <td>I usually only share these on Friday's, but this is Blue. He's a very smoochable pooch who needs your help. 13/10\\n\\nhttps://t.co/piiX0ke8Z6 https://t.co/1UHrKcaCiO</td>\n",
       "      <td>NaN</td>\n",
       "      <td>NaN</td>\n",
       "      <td>NaN</td>\n",
       "      <td>http://www.gofundme.com/bluethewhitehusky,https://twitter.com/dog_rates/status/831650051525054464/photo/1,https://twitter.com/dog_rates/status/831650051525054464/photo/1,https://twitter.com/dog_rates/status/831650051525054464/photo/1,https://twitter.com/dog_rates/status/831650051525054464/photo/1</td>\n",
       "      <td>13</td>\n",
       "      <td>10</td>\n",
       "      <td>None</td>\n",
       "      <td>None</td>\n",
       "      <td>None</td>\n",
       "      <td>None</td>\n",
       "      <td>None</td>\n",
       "    </tr>\n",
       "    <tr>\n",
       "      <th>204</th>\n",
       "      <td>852936405516943360</td>\n",
       "      <td>NaN</td>\n",
       "      <td>NaN</td>\n",
       "      <td>2017-04-14 17:27:40 +0000</td>\n",
       "      <td>&lt;a href=\"http://twitter.com/download/iphone\" rel=\"nofollow\"&gt;Twitter for iPhone&lt;/a&gt;</td>\n",
       "      <td>RT @dog_rates: I usually only share these on Friday's, but this is Blue. He's a very smoochable pooch who needs your help. 13/10\\n\\nhttps://t…</td>\n",
       "      <td>831650051525054464.00</td>\n",
       "      <td>4196983835.00</td>\n",
       "      <td>2017-02-14 23:43:18 +0000</td>\n",
       "      <td>http://www.gofundme.com/bluethewhitehusky,https://twitter.com/dog_rates/status/831650051525054464/photo/1,https://twitter.com/dog_rates/status/831650051525054464/photo/1,https://twitter.com/dog_rates/status/831650051525054464/photo/1,https://twitter.com/dog_rates/status/831650051525054464/photo/1</td>\n",
       "      <td>13</td>\n",
       "      <td>10</td>\n",
       "      <td>None</td>\n",
       "      <td>None</td>\n",
       "      <td>None</td>\n",
       "      <td>None</td>\n",
       "      <td>None</td>\n",
       "    </tr>\n",
       "    <tr>\n",
       "      <th>2338</th>\n",
       "      <td>666104133288665088</td>\n",
       "      <td>NaN</td>\n",
       "      <td>NaN</td>\n",
       "      <td>2015-11-16 04:02:55 +0000</td>\n",
       "      <td>&lt;a href=\"http://twitter.com/download/iphone\" rel=\"nofollow\"&gt;Twitter for iPhone&lt;/a&gt;</td>\n",
       "      <td>Not familiar with this breed. No tail (weird). Only 2 legs. Doesn't bark. Surprisingly quick. Shits eggs. 1/10 https://t.co/Asgdc6kuLX</td>\n",
       "      <td>NaN</td>\n",
       "      <td>NaN</td>\n",
       "      <td>NaN</td>\n",
       "      <td>https://twitter.com/dog_rates/status/666104133288665088/photo/1</td>\n",
       "      <td>1</td>\n",
       "      <td>10</td>\n",
       "      <td>None</td>\n",
       "      <td>None</td>\n",
       "      <td>None</td>\n",
       "      <td>None</td>\n",
       "      <td>None</td>\n",
       "    </tr>\n",
       "    <tr>\n",
       "      <th>605</th>\n",
       "      <td>798576900688019456</td>\n",
       "      <td>NaN</td>\n",
       "      <td>NaN</td>\n",
       "      <td>2016-11-15 17:22:24 +0000</td>\n",
       "      <td>&lt;a href=\"http://twitter.com/download/iphone\" rel=\"nofollow\"&gt;Twitter for iPhone&lt;/a&gt;</td>\n",
       "      <td>RT @dog_rates: Not familiar with this breed. No tail (weird). Only 2 legs. Doesn't bark. Surprisingly quick. Shits eggs. 1/10 https://t.co/…</td>\n",
       "      <td>666104133288665088.00</td>\n",
       "      <td>4196983835.00</td>\n",
       "      <td>2015-11-16 04:02:55 +0000</td>\n",
       "      <td>https://twitter.com/dog_rates/status/666104133288665088/photo/1</td>\n",
       "      <td>1</td>\n",
       "      <td>10</td>\n",
       "      <td>None</td>\n",
       "      <td>None</td>\n",
       "      <td>None</td>\n",
       "      <td>None</td>\n",
       "      <td>None</td>\n",
       "    </tr>\n",
       "    <tr>\n",
       "      <th>2294</th>\n",
       "      <td>667138269671505920</td>\n",
       "      <td>NaN</td>\n",
       "      <td>NaN</td>\n",
       "      <td>2015-11-19 00:32:12 +0000</td>\n",
       "      <td>&lt;a href=\"http://twitter.com/download/iphone\" rel=\"nofollow\"&gt;Twitter for iPhone&lt;/a&gt;</td>\n",
       "      <td>Extremely intelligent dog here. Has learned to walk like human. Even has his own dog. Very impressive 10/10 https://t.co/0DvHAMdA4V</td>\n",
       "      <td>NaN</td>\n",
       "      <td>NaN</td>\n",
       "      <td>NaN</td>\n",
       "      <td>https://twitter.com/dog_rates/status/667138269671505920/photo/1</td>\n",
       "      <td>10</td>\n",
       "      <td>10</td>\n",
       "      <td>None</td>\n",
       "      <td>None</td>\n",
       "      <td>None</td>\n",
       "      <td>None</td>\n",
       "      <td>None</td>\n",
       "    </tr>\n",
       "    <tr>\n",
       "      <th>...</th>\n",
       "      <td>...</td>\n",
       "      <td>...</td>\n",
       "      <td>...</td>\n",
       "      <td>...</td>\n",
       "      <td>...</td>\n",
       "      <td>...</td>\n",
       "      <td>...</td>\n",
       "      <td>...</td>\n",
       "      <td>...</td>\n",
       "      <td>...</td>\n",
       "      <td>...</td>\n",
       "      <td>...</td>\n",
       "      <td>...</td>\n",
       "      <td>...</td>\n",
       "      <td>...</td>\n",
       "      <td>...</td>\n",
       "      <td>...</td>\n",
       "    </tr>\n",
       "    <tr>\n",
       "      <th>1940</th>\n",
       "      <td>673716320723169284</td>\n",
       "      <td>673715861853720576.00</td>\n",
       "      <td>4196983835.00</td>\n",
       "      <td>2015-12-07 04:11:02 +0000</td>\n",
       "      <td>&lt;a href=\"http://twitter.com/download/iphone\" rel=\"nofollow\"&gt;Twitter for iPhone&lt;/a&gt;</td>\n",
       "      <td>The millennials have spoken and we've decided to immediately demote to a 1/10. Thank you</td>\n",
       "      <td>NaN</td>\n",
       "      <td>NaN</td>\n",
       "      <td>NaN</td>\n",
       "      <td>NaN</td>\n",
       "      <td>1</td>\n",
       "      <td>10</td>\n",
       "      <td>None</td>\n",
       "      <td>None</td>\n",
       "      <td>None</td>\n",
       "      <td>None</td>\n",
       "      <td>None</td>\n",
       "    </tr>\n",
       "    <tr>\n",
       "      <th>2038</th>\n",
       "      <td>671550332464455680</td>\n",
       "      <td>671544874165002240.00</td>\n",
       "      <td>4196983835.00</td>\n",
       "      <td>2015-12-01 04:44:10 +0000</td>\n",
       "      <td>&lt;a href=\"http://twitter.com/download/iphone\" rel=\"nofollow\"&gt;Twitter for iPhone&lt;/a&gt;</td>\n",
       "      <td>After 22 minutes of careful deliberation this dog is being demoted to a 1/10. The longer you look at him the more terrifying he becomes</td>\n",
       "      <td>NaN</td>\n",
       "      <td>NaN</td>\n",
       "      <td>NaN</td>\n",
       "      <td>NaN</td>\n",
       "      <td>1</td>\n",
       "      <td>10</td>\n",
       "      <td>None</td>\n",
       "      <td>None</td>\n",
       "      <td>None</td>\n",
       "      <td>None</td>\n",
       "      <td>None</td>\n",
       "    </tr>\n",
       "    <tr>\n",
       "      <th>2149</th>\n",
       "      <td>669684865554620416</td>\n",
       "      <td>669354382627049472.00</td>\n",
       "      <td>4196983835.00</td>\n",
       "      <td>2015-11-26 01:11:28 +0000</td>\n",
       "      <td>&lt;a href=\"http://twitter.com/download/iphone\" rel=\"nofollow\"&gt;Twitter for iPhone&lt;/a&gt;</td>\n",
       "      <td>After countless hours of research and hundreds of formula alterations we have concluded that Dug should be bumped to an 11/10</td>\n",
       "      <td>NaN</td>\n",
       "      <td>NaN</td>\n",
       "      <td>NaN</td>\n",
       "      <td>NaN</td>\n",
       "      <td>11</td>\n",
       "      <td>10</td>\n",
       "      <td>None</td>\n",
       "      <td>None</td>\n",
       "      <td>None</td>\n",
       "      <td>None</td>\n",
       "      <td>None</td>\n",
       "    </tr>\n",
       "    <tr>\n",
       "      <th>2189</th>\n",
       "      <td>668967877119254528</td>\n",
       "      <td>668920717132582912.00</td>\n",
       "      <td>21435658.00</td>\n",
       "      <td>2015-11-24 01:42:25 +0000</td>\n",
       "      <td>&lt;a href=\"http://twitter.com/download/iphone\" rel=\"nofollow\"&gt;Twitter for iPhone&lt;/a&gt;</td>\n",
       "      <td>12/10 good shit Bubka\\n@wane15</td>\n",
       "      <td>NaN</td>\n",
       "      <td>NaN</td>\n",
       "      <td>NaN</td>\n",
       "      <td>NaN</td>\n",
       "      <td>12</td>\n",
       "      <td>10</td>\n",
       "      <td>None</td>\n",
       "      <td>None</td>\n",
       "      <td>None</td>\n",
       "      <td>None</td>\n",
       "      <td>None</td>\n",
       "    </tr>\n",
       "    <tr>\n",
       "      <th>2298</th>\n",
       "      <td>667070482143944705</td>\n",
       "      <td>667065535570550784.00</td>\n",
       "      <td>4196983835.00</td>\n",
       "      <td>2015-11-18 20:02:51 +0000</td>\n",
       "      <td>&lt;a href=\"http://twitter.com/download/iphone\" rel=\"nofollow\"&gt;Twitter for iPhone&lt;/a&gt;</td>\n",
       "      <td>After much debate this dog is being upgraded to 10/10. I repeat 10/10</td>\n",
       "      <td>NaN</td>\n",
       "      <td>NaN</td>\n",
       "      <td>NaN</td>\n",
       "      <td>NaN</td>\n",
       "      <td>10</td>\n",
       "      <td>10</td>\n",
       "      <td>None</td>\n",
       "      <td>None</td>\n",
       "      <td>None</td>\n",
       "      <td>None</td>\n",
       "      <td>None</td>\n",
       "    </tr>\n",
       "  </tbody>\n",
       "</table>\n",
       "<p>217 rows × 17 columns</p>\n",
       "</div>"
      ],
      "text/plain": [
       "                tweet_id  in_reply_to_status_id  in_reply_to_user_id  \\\n",
       "349   831650051525054464                    NaN                  NaN   \n",
       "204   852936405516943360                    NaN                  NaN   \n",
       "2338  666104133288665088                    NaN                  NaN   \n",
       "605   798576900688019456                    NaN                  NaN   \n",
       "2294  667138269671505920                    NaN                  NaN   \n",
       "...                  ...                    ...                  ...   \n",
       "1940  673716320723169284  673715861853720576.00        4196983835.00   \n",
       "2038  671550332464455680  671544874165002240.00        4196983835.00   \n",
       "2149  669684865554620416  669354382627049472.00        4196983835.00   \n",
       "2189  668967877119254528  668920717132582912.00          21435658.00   \n",
       "2298  667070482143944705  667065535570550784.00        4196983835.00   \n",
       "\n",
       "                      timestamp  \\\n",
       "349   2017-02-14 23:43:18 +0000   \n",
       "204   2017-04-14 17:27:40 +0000   \n",
       "2338  2015-11-16 04:02:55 +0000   \n",
       "605   2016-11-15 17:22:24 +0000   \n",
       "2294  2015-11-19 00:32:12 +0000   \n",
       "...                         ...   \n",
       "1940  2015-12-07 04:11:02 +0000   \n",
       "2038  2015-12-01 04:44:10 +0000   \n",
       "2149  2015-11-26 01:11:28 +0000   \n",
       "2189  2015-11-24 01:42:25 +0000   \n",
       "2298  2015-11-18 20:02:51 +0000   \n",
       "\n",
       "                                                                                  source  \\\n",
       "349   <a href=\"http://twitter.com/download/iphone\" rel=\"nofollow\">Twitter for iPhone</a>   \n",
       "204   <a href=\"http://twitter.com/download/iphone\" rel=\"nofollow\">Twitter for iPhone</a>   \n",
       "2338  <a href=\"http://twitter.com/download/iphone\" rel=\"nofollow\">Twitter for iPhone</a>   \n",
       "605   <a href=\"http://twitter.com/download/iphone\" rel=\"nofollow\">Twitter for iPhone</a>   \n",
       "2294  <a href=\"http://twitter.com/download/iphone\" rel=\"nofollow\">Twitter for iPhone</a>   \n",
       "...                                                                                  ...   \n",
       "1940  <a href=\"http://twitter.com/download/iphone\" rel=\"nofollow\">Twitter for iPhone</a>   \n",
       "2038  <a href=\"http://twitter.com/download/iphone\" rel=\"nofollow\">Twitter for iPhone</a>   \n",
       "2149  <a href=\"http://twitter.com/download/iphone\" rel=\"nofollow\">Twitter for iPhone</a>   \n",
       "2189  <a href=\"http://twitter.com/download/iphone\" rel=\"nofollow\">Twitter for iPhone</a>   \n",
       "2298  <a href=\"http://twitter.com/download/iphone\" rel=\"nofollow\">Twitter for iPhone</a>   \n",
       "\n",
       "                                                                                                                                                                      text  \\\n",
       "349   I usually only share these on Friday's, but this is Blue. He's a very smoochable pooch who needs your help. 13/10\\n\\nhttps://t.co/piiX0ke8Z6 https://t.co/1UHrKcaCiO   \n",
       "204                         RT @dog_rates: I usually only share these on Friday's, but this is Blue. He's a very smoochable pooch who needs your help. 13/10\\n\\nhttps://t…   \n",
       "2338                                Not familiar with this breed. No tail (weird). Only 2 legs. Doesn't bark. Surprisingly quick. Shits eggs. 1/10 https://t.co/Asgdc6kuLX   \n",
       "605                           RT @dog_rates: Not familiar with this breed. No tail (weird). Only 2 legs. Doesn't bark. Surprisingly quick. Shits eggs. 1/10 https://t.co/…   \n",
       "2294                                   Extremely intelligent dog here. Has learned to walk like human. Even has his own dog. Very impressive 10/10 https://t.co/0DvHAMdA4V   \n",
       "...                                                                                                                                                                    ...   \n",
       "1940                                                                              The millennials have spoken and we've decided to immediately demote to a 1/10. Thank you   \n",
       "2038                               After 22 minutes of careful deliberation this dog is being demoted to a 1/10. The longer you look at him the more terrifying he becomes   \n",
       "2149                                         After countless hours of research and hundreds of formula alterations we have concluded that Dug should be bumped to an 11/10   \n",
       "2189                                                                                                                                        12/10 good shit Bubka\\n@wane15   \n",
       "2298                                                                                                 After much debate this dog is being upgraded to 10/10. I repeat 10/10   \n",
       "\n",
       "       retweeted_status_id  retweeted_status_user_id  \\\n",
       "349                    NaN                       NaN   \n",
       "204  831650051525054464.00             4196983835.00   \n",
       "2338                   NaN                       NaN   \n",
       "605  666104133288665088.00             4196983835.00   \n",
       "2294                   NaN                       NaN   \n",
       "...                    ...                       ...   \n",
       "1940                   NaN                       NaN   \n",
       "2038                   NaN                       NaN   \n",
       "2149                   NaN                       NaN   \n",
       "2189                   NaN                       NaN   \n",
       "2298                   NaN                       NaN   \n",
       "\n",
       "     retweeted_status_timestamp  \\\n",
       "349                         NaN   \n",
       "204   2017-02-14 23:43:18 +0000   \n",
       "2338                        NaN   \n",
       "605   2015-11-16 04:02:55 +0000   \n",
       "2294                        NaN   \n",
       "...                         ...   \n",
       "1940                        NaN   \n",
       "2038                        NaN   \n",
       "2149                        NaN   \n",
       "2189                        NaN   \n",
       "2298                        NaN   \n",
       "\n",
       "                                                                                                                                                                                                                                                                                                  expanded_urls  \\\n",
       "349   http://www.gofundme.com/bluethewhitehusky,https://twitter.com/dog_rates/status/831650051525054464/photo/1,https://twitter.com/dog_rates/status/831650051525054464/photo/1,https://twitter.com/dog_rates/status/831650051525054464/photo/1,https://twitter.com/dog_rates/status/831650051525054464/photo/1   \n",
       "204   http://www.gofundme.com/bluethewhitehusky,https://twitter.com/dog_rates/status/831650051525054464/photo/1,https://twitter.com/dog_rates/status/831650051525054464/photo/1,https://twitter.com/dog_rates/status/831650051525054464/photo/1,https://twitter.com/dog_rates/status/831650051525054464/photo/1   \n",
       "2338                                                                                                                                                                                                                                            https://twitter.com/dog_rates/status/666104133288665088/photo/1   \n",
       "605                                                                                                                                                                                                                                             https://twitter.com/dog_rates/status/666104133288665088/photo/1   \n",
       "2294                                                                                                                                                                                                                                            https://twitter.com/dog_rates/status/667138269671505920/photo/1   \n",
       "...                                                                                                                                                                                                                                                                                                         ...   \n",
       "1940                                                                                                                                                                                                                                                                                                        NaN   \n",
       "2038                                                                                                                                                                                                                                                                                                        NaN   \n",
       "2149                                                                                                                                                                                                                                                                                                        NaN   \n",
       "2189                                                                                                                                                                                                                                                                                                        NaN   \n",
       "2298                                                                                                                                                                                                                                                                                                        NaN   \n",
       "\n",
       "      rating_numerator  rating_denominator  name doggo floofer pupper puppo  \n",
       "349                 13                  10  None  None    None   None  None  \n",
       "204                 13                  10  None  None    None   None  None  \n",
       "2338                 1                  10  None  None    None   None  None  \n",
       "605                  1                  10  None  None    None   None  None  \n",
       "2294                10                  10  None  None    None   None  None  \n",
       "...                ...                 ...   ...   ...     ...    ...   ...  \n",
       "1940                 1                  10  None  None    None   None  None  \n",
       "2038                 1                  10  None  None    None   None  None  \n",
       "2149                11                  10  None  None    None   None  None  \n",
       "2189                12                  10  None  None    None   None  None  \n",
       "2298                10                  10  None  None    None   None  None  \n",
       "\n",
       "[217 rows x 17 columns]"
      ]
     },
     "execution_count": 19,
     "metadata": {},
     "output_type": "execute_result"
    }
   ],
   "source": [
    "# display some duplicated `expanded_urls`\n",
    "df_twitter_archive[df_twitter_archive['expanded_urls'].duplicated(keep=False)].sort_values(by='expanded_urls')"
   ]
  },
  {
   "cell_type": "code",
   "execution_count": 20,
   "metadata": {
    "pycharm": {
     "name": "#%%\n"
    }
   },
   "outputs": [
    {
     "data": {
      "text/plain": [
       "112"
      ]
     },
     "execution_count": 20,
     "metadata": {},
     "output_type": "execute_result"
    }
   ],
   "source": [
    "# confirm retweeted_status_id is the link to original tweet_id in case of retweets\n",
    "original_tweets = pd.DataFrame(df_twitter_archive['tweet_id'].astype(int).values.tolist())\n",
    "retweets = pd.DataFrame(df_twitter_archive['retweeted_status_id'].dropna().astype(int).values.tolist())\n",
    "common_elements = np.intersect1d(original_tweets, retweets)\n",
    "len(common_elements)"
   ]
  },
  {
   "cell_type": "code",
   "execution_count": 21,
   "metadata": {
    "pycharm": {
     "name": "#%%\n"
    }
   },
   "outputs": [
    {
     "data": {
      "text/plain": [
       "33"
      ]
     },
     "execution_count": 21,
     "metadata": {},
     "output_type": "execute_result"
    }
   ],
   "source": [
    "# confirm in_reply_to_status_id is the link to original tweet_id in case of replies\n",
    "replies = pd.DataFrame(df_twitter_archive['in_reply_to_status_id'].dropna().astype(int).values.tolist())\n",
    "common_elements = np.intersect1d(original_tweets, replies)\n",
    "len(common_elements)"
   ]
  },
  {
   "cell_type": "markdown",
   "metadata": {
    "pycharm": {
     "name": "#%% md\n"
    }
   },
   "source": [
    "**Observation of duplications:**\n",
    "\n",
    "- duplicated `expanded_urls` seems mostly related to retweets. \n",
    "- `retweeted_status_id` and `in_reply_to_status_id` are links to original tweet_id's and can be used to identify tweets that are not original posts."
   ]
  },
  {
   "cell_type": "code",
   "execution_count": 22,
   "metadata": {
    "pycharm": {
     "name": "#%%\n"
    }
   },
   "outputs": [
    {
     "data": {
      "text/plain": [
       "0"
      ]
     },
     "execution_count": 22,
     "metadata": {},
     "output_type": "execute_result"
    }
   ],
   "source": [
    "# Do we have any records prior Aug 1st, 2017 ?\n",
    "len(df_twitter_archive[df_twitter_archive['timestamp'].astype('datetime64[ns]').dt.strftime('%Y-%m-%d') > '2017-08-01'])"
   ]
  },
  {
   "cell_type": "markdown",
   "metadata": {
    "pycharm": {
     "name": "#%% md\n"
    }
   },
   "source": [
    "<a id='twitter_api'></a>\n",
    "<span style=\"color:blue; font-size:16px\">2.2 Assess twitter API data</span>"
   ]
  },
  {
   "cell_type": "code",
   "execution_count": 23,
   "metadata": {
    "pycharm": {
     "name": "#%%\n"
    }
   },
   "outputs": [
    {
     "data": {
      "text/html": [
       "<div>\n",
       "<style scoped>\n",
       "    .dataframe tbody tr th:only-of-type {\n",
       "        vertical-align: middle;\n",
       "    }\n",
       "\n",
       "    .dataframe tbody tr th {\n",
       "        vertical-align: top;\n",
       "    }\n",
       "\n",
       "    .dataframe thead th {\n",
       "        text-align: right;\n",
       "    }\n",
       "</style>\n",
       "<table border=\"1\" class=\"dataframe\">\n",
       "  <thead>\n",
       "    <tr style=\"text-align: right;\">\n",
       "      <th></th>\n",
       "      <th>id</th>\n",
       "      <th>text</th>\n",
       "      <th>retweet_count</th>\n",
       "      <th>reply_count</th>\n",
       "      <th>like_count</th>\n",
       "      <th>quote_count</th>\n",
       "      <th>media_url</th>\n",
       "      <th>media_type</th>\n",
       "      <th>short_url</th>\n",
       "      <th>expanded_url</th>\n",
       "      <th>annotation</th>\n",
       "    </tr>\n",
       "  </thead>\n",
       "  <tbody>\n",
       "    <tr>\n",
       "      <th>516</th>\n",
       "      <td>807010152071229440</td>\n",
       "      <td>This is Lennon. He's a Boopershnoop Pupperdoop. Quite rare. Exceptionally pettable. 12/10 would definitely boop that shnoop https://t.co/fhgP6vSfhX</td>\n",
       "      <td>3527</td>\n",
       "      <td>106</td>\n",
       "      <td>12060</td>\n",
       "      <td>230</td>\n",
       "      <td>https://pbs.twimg.com/media/CzMTcZoXUAEKqEt.jpg</td>\n",
       "      <td>photo</td>\n",
       "      <td>https://t.co/fhgP6vSfhX</td>\n",
       "      <td>https://twitter.com/dog_rates/status/807010152071229440/photo/1</td>\n",
       "      <td>Lennon</td>\n",
       "    </tr>\n",
       "    <tr>\n",
       "      <th>783</th>\n",
       "      <td>772102971039580160</td>\n",
       "      <td>This is Penny. She's an OU cheerleader. About to do a triple back handspring down the stairs. 11/10 hype af https://t.co/B2f3XkGU5c</td>\n",
       "      <td>842</td>\n",
       "      <td>18</td>\n",
       "      <td>3653</td>\n",
       "      <td>48</td>\n",
       "      <td>https://pbs.twimg.com/media/CrcPjh0WcAA_SPT.jpg</td>\n",
       "      <td>photo</td>\n",
       "      <td>https://t.co/B2f3XkGU5c</td>\n",
       "      <td>https://twitter.com/dog_rates/status/772102971039580160/photo/1</td>\n",
       "      <td>Penny</td>\n",
       "    </tr>\n",
       "    <tr>\n",
       "      <th>1588</th>\n",
       "      <td>685169283572338688</td>\n",
       "      <td>Meet Gerbald. He just found out he's adopted. Poor pupper. Snazzy tongue tho. 11/10 would hold close in time of need https://t.co/UfGkB9Wrud</td>\n",
       "      <td>1254</td>\n",
       "      <td>31</td>\n",
       "      <td>3681</td>\n",
       "      <td>1</td>\n",
       "      <td>https://pbs.twimg.com/media/CYI10WhWsAAjzii.jpg</td>\n",
       "      <td>photo</td>\n",
       "      <td>https://t.co/UfGkB9Wrud</td>\n",
       "      <td>https://twitter.com/dog_rates/status/685169283572338688/photo/1</td>\n",
       "      <td>Gerbald</td>\n",
       "    </tr>\n",
       "    <tr>\n",
       "      <th>230</th>\n",
       "      <td>846153765933735936</td>\n",
       "      <td>This is Vixen. He really likes bananas. Steals them when he thinks nobody's watching. 13/10 opportunistic af https://t.co/a0CkS5ExFR</td>\n",
       "      <td>7985</td>\n",
       "      <td>148</td>\n",
       "      <td>28291</td>\n",
       "      <td>406</td>\n",
       "      <td>https://pbs.twimg.com/media/C74kWqoU8AEaf3v.jpg</td>\n",
       "      <td>photo</td>\n",
       "      <td>https://t.co/a0CkS5ExFR</td>\n",
       "      <td>https://twitter.com/dog_rates/status/846153765933735936/photo/1</td>\n",
       "      <td>Vixen</td>\n",
       "    </tr>\n",
       "    <tr>\n",
       "      <th>1370</th>\n",
       "      <td>699691744225525762</td>\n",
       "      <td>This is Dave. He's a tropical pup. Short lil legs (dachshund mix?) Excels underwater, but refuses to eat kibble 5/10 https://t.co/ZJnCxlIf62</td>\n",
       "      <td>4054</td>\n",
       "      <td>114</td>\n",
       "      <td>9214</td>\n",
       "      <td>1</td>\n",
       "      <td>https://pbs.twimg.com/media/CbXN7aPWIAE0Xt1.jpg</td>\n",
       "      <td>photo</td>\n",
       "      <td>https://t.co/ZJnCxlIf62</td>\n",
       "      <td>https://twitter.com/dog_rates/status/699691744225525762/photo/1</td>\n",
       "      <td>Dave</td>\n",
       "    </tr>\n",
       "    <tr>\n",
       "      <th>560</th>\n",
       "      <td>800443802682937345</td>\n",
       "      <td>RT @dog_rates: This is Sampson. He's about to get hit with a vicious draw 2. Has no idea. 11/10 poor pupper https://t.co/FYT9QBEnKG</td>\n",
       "      <td>3938</td>\n",
       "      <td>0</td>\n",
       "      <td>0</td>\n",
       "      <td>0</td>\n",
       "      <td>https://pbs.twimg.com/media/CsVO7ljW8AAckRD.jpg</td>\n",
       "      <td>photo</td>\n",
       "      <td>https://t.co/FYT9QBEnKG</td>\n",
       "      <td>https://twitter.com/dog_rates/status/776113305656188928/photo/1</td>\n",
       "      <td>Sampson</td>\n",
       "    </tr>\n",
       "    <tr>\n",
       "      <th>1542</th>\n",
       "      <td>687704180304273409</td>\n",
       "      <td>Say hello to Blakely. He thinks that's a hat. Silly pupper. That's a nanner. 9/10 https://t.co/UwOV1jqKRt</td>\n",
       "      <td>756</td>\n",
       "      <td>19</td>\n",
       "      <td>2189</td>\n",
       "      <td>0</td>\n",
       "      <td>https://pbs.twimg.com/media/CYs3TKzUAAAF9A2.jpg</td>\n",
       "      <td>photo</td>\n",
       "      <td>https://t.co/UwOV1jqKRt</td>\n",
       "      <td>https://twitter.com/dog_rates/status/687704180304273409/photo/1</td>\n",
       "      <td>Blakely</td>\n",
       "    </tr>\n",
       "    <tr>\n",
       "      <th>2146</th>\n",
       "      <td>669203728096960512</td>\n",
       "      <td>This is Samsom. He is sexually confused. Really wants to be a triceratops. 9/10 just a great guy https://t.co/HPoce45SI3</td>\n",
       "      <td>398</td>\n",
       "      <td>5</td>\n",
       "      <td>866</td>\n",
       "      <td>0</td>\n",
       "      <td>https://pbs.twimg.com/media/CUl9PGBVEAUV3Wz.jpg</td>\n",
       "      <td>photo</td>\n",
       "      <td>https://t.co/HPoce45SI3</td>\n",
       "      <td>https://twitter.com/dog_rates/status/669203728096960512/photo/1</td>\n",
       "      <td>Samsom</td>\n",
       "    </tr>\n",
       "    <tr>\n",
       "      <th>323</th>\n",
       "      <td>832215909146226688</td>\n",
       "      <td>RT @dog_rates: This is Logan, the Chow who lived. He solemnly swears he's up to lots of good. H*ckin magical af 9.75/10 https://t.co/yBO5wu…</td>\n",
       "      <td>5602</td>\n",
       "      <td>0</td>\n",
       "      <td>0</td>\n",
       "      <td>0</td>\n",
       "      <td>NaN</td>\n",
       "      <td>NaN</td>\n",
       "      <td>NaN</td>\n",
       "      <td>NaN</td>\n",
       "      <td>Logan</td>\n",
       "    </tr>\n",
       "    <tr>\n",
       "      <th>1427</th>\n",
       "      <td>695314793360662529</td>\n",
       "      <td>This is Colin. He really likes green beans. It's tearing his family apart. 10/10 please pray for Colin https://t.co/ioFy0cmK03</td>\n",
       "      <td>1269</td>\n",
       "      <td>34</td>\n",
       "      <td>3268</td>\n",
       "      <td>1</td>\n",
       "      <td>https://pbs.twimg.com/media/CaZBErtWEAEI1aC.jpg</td>\n",
       "      <td>photo</td>\n",
       "      <td>https://t.co/ioFy0cmK03</td>\n",
       "      <td>https://twitter.com/dog_rates/status/695314793360662529/photo/1</td>\n",
       "      <td>Colin</td>\n",
       "    </tr>\n",
       "    <tr>\n",
       "      <th>1770</th>\n",
       "      <td>676975532580409345</td>\n",
       "      <td>This is Cooper. He doesn't know how cheese works. Likes the way it feels on his face. Cheeky tongue slip. 11/10 https://t.co/j1zczS0lI5</td>\n",
       "      <td>927</td>\n",
       "      <td>27</td>\n",
       "      <td>2459</td>\n",
       "      <td>0</td>\n",
       "      <td>https://pbs.twimg.com/media/CWUZpydWcAAeipD.jpg</td>\n",
       "      <td>photo</td>\n",
       "      <td>https://t.co/j1zczS0lI5</td>\n",
       "      <td>https://twitter.com/dog_rates/status/676975532580409345/photo/1</td>\n",
       "      <td>Cooper</td>\n",
       "    </tr>\n",
       "    <tr>\n",
       "      <th>972</th>\n",
       "      <td>747933425676525569</td>\n",
       "      <td>Pls don't send more sherks. I don't care how seemingly floofy they are. It does me so much frighten. Thank u. 11/10 https://t.co/oQqlOsla4R</td>\n",
       "      <td>2305</td>\n",
       "      <td>53</td>\n",
       "      <td>6012</td>\n",
       "      <td>107</td>\n",
       "      <td>https://pbs.twimg.com/media/CmExV2qWkAAn_pN.jpg</td>\n",
       "      <td>photo</td>\n",
       "      <td>https://t.co/oQqlOsla4R</td>\n",
       "      <td>https://twitter.com/dog_rates/status/747933425676525569/photo/1</td>\n",
       "      <td>NaN</td>\n",
       "    </tr>\n",
       "    <tr>\n",
       "      <th>1816</th>\n",
       "      <td>675822767435051008</td>\n",
       "      <td>🎶 HELLO FROM THE OTHER SIIIIIIIIDE 🎶 10/10s https://t.co/GK2HJtkdQk</td>\n",
       "      <td>467</td>\n",
       "      <td>14</td>\n",
       "      <td>1345</td>\n",
       "      <td>0</td>\n",
       "      <td>https://pbs.twimg.com/media/CWEBOFYWwAA-O2c.jpg</td>\n",
       "      <td>photo</td>\n",
       "      <td>https://t.co/GK2HJtkdQk</td>\n",
       "      <td>https://twitter.com/dog_rates/status/675822767435051008/photo/1</td>\n",
       "      <td>NaN</td>\n",
       "    </tr>\n",
       "    <tr>\n",
       "      <th>1356</th>\n",
       "      <td>700747788515020802</td>\n",
       "      <td>We only rate dogs. Pls stop sending in non-canines like this Mongolian grass snake. This is very frustrating. 11/10 https://t.co/22x9SbCYCU</td>\n",
       "      <td>8267</td>\n",
       "      <td>141</td>\n",
       "      <td>20473</td>\n",
       "      <td>111</td>\n",
       "      <td>https://pbs.twimg.com/media/CbmOY41UAAQylmA.jpg</td>\n",
       "      <td>photo</td>\n",
       "      <td>https://t.co/22x9SbCYCU</td>\n",
       "      <td>https://twitter.com/dog_rates/status/700747788515020802/photo/1</td>\n",
       "      <td>NaN</td>\n",
       "    </tr>\n",
       "    <tr>\n",
       "      <th>2127</th>\n",
       "      <td>669583744538451968</td>\n",
       "      <td>Special dog here. Pretty big. Neck kinda long for dog. Cool spots. Must be a Dalmatian variant. 6/10 would still pet https://t.co/f8GXeDbFzu</td>\n",
       "      <td>783</td>\n",
       "      <td>9</td>\n",
       "      <td>1291</td>\n",
       "      <td>0</td>\n",
       "      <td>https://pbs.twimg.com/media/CUrW3DWXIAAiRqk.jpg</td>\n",
       "      <td>photo</td>\n",
       "      <td>https://t.co/f8GXeDbFzu</td>\n",
       "      <td>https://twitter.com/dog_rates/status/669583744538451968/photo/1</td>\n",
       "      <td>Dalmatian variant</td>\n",
       "    </tr>\n",
       "    <tr>\n",
       "      <th>446</th>\n",
       "      <td>817181837579653120</td>\n",
       "      <td>RT @dog_rates: Here's a pupper with squeaky hiccups. Please enjoy. 13/10 https://t.co/MiMKtsLN6k</td>\n",
       "      <td>7696</td>\n",
       "      <td>0</td>\n",
       "      <td>0</td>\n",
       "      <td>0</td>\n",
       "      <td>NaN</td>\n",
       "      <td>NaN</td>\n",
       "      <td>https://t.co/MiMKtsLN6k</td>\n",
       "      <td>https://twitter.com/dog_rates/status/815966073409433600/video/1</td>\n",
       "      <td>NaN</td>\n",
       "    </tr>\n",
       "    <tr>\n",
       "      <th>1895</th>\n",
       "      <td>674063288070742018</td>\n",
       "      <td>This is Earl. Earl is lost. Someone help Earl. He has no tags. Just trying to get home. 5/10 hang in there Earl https://t.co/1ZbfqAVDg6</td>\n",
       "      <td>1876</td>\n",
       "      <td>43</td>\n",
       "      <td>5557</td>\n",
       "      <td>8</td>\n",
       "      <td>https://pbs.twimg.com/media/CVrA-rIWEAANxwQ.jpg</td>\n",
       "      <td>photo</td>\n",
       "      <td>https://t.co/1ZbfqAVDg6</td>\n",
       "      <td>https://twitter.com/dog_rates/status/674063288070742018/photo/1</td>\n",
       "      <td>Earl</td>\n",
       "    </tr>\n",
       "    <tr>\n",
       "      <th>792</th>\n",
       "      <td>770787852854652928</td>\n",
       "      <td>This is Winston. His tongue has gone rogue. Doing him quite a frighten. 10/10 hang in there Winston https://t.co/d0QEbp78Yi</td>\n",
       "      <td>1077</td>\n",
       "      <td>28</td>\n",
       "      <td>4473</td>\n",
       "      <td>48</td>\n",
       "      <td>https://pbs.twimg.com/media/CrJjdZmXgAEWLSD.jpg</td>\n",
       "      <td>photo</td>\n",
       "      <td>https://t.co/d0QEbp78Yi</td>\n",
       "      <td>https://twitter.com/dog_rates/status/770787852854652928/photo/1</td>\n",
       "      <td>Winston</td>\n",
       "    </tr>\n",
       "    <tr>\n",
       "      <th>1388</th>\n",
       "      <td>698549713696649216</td>\n",
       "      <td>This is Claude. He's trying to be seductive but he forgot to turn on the fireplace. 9/10 damn it Claude https://t.co/EPdQquc1dG</td>\n",
       "      <td>546</td>\n",
       "      <td>18</td>\n",
       "      <td>2084</td>\n",
       "      <td>0</td>\n",
       "      <td>https://pbs.twimg.com/media/CbG_QRJXEAALVWy.jpg</td>\n",
       "      <td>photo</td>\n",
       "      <td>https://t.co/EPdQquc1dG</td>\n",
       "      <td>https://twitter.com/dog_rates/status/698549713696649216/photo/1</td>\n",
       "      <td>Claude</td>\n",
       "    </tr>\n",
       "    <tr>\n",
       "      <th>1103</th>\n",
       "      <td>728760639972315136</td>\n",
       "      <td>When you're way too slow for the \"down low\" portion of a high five. 13/10 https://t.co/Cofwoy7Vpq</td>\n",
       "      <td>1508</td>\n",
       "      <td>31</td>\n",
       "      <td>4173</td>\n",
       "      <td>2</td>\n",
       "      <td>https://pbs.twimg.com/media/Ch0T71OWMAA4yIw.jpg</td>\n",
       "      <td>photo</td>\n",
       "      <td>https://t.co/Cofwoy7Vpq</td>\n",
       "      <td>https://twitter.com/dog_rates/status/728760639972315136/photo/1</td>\n",
       "      <td>NaN</td>\n",
       "    </tr>\n",
       "  </tbody>\n",
       "</table>\n",
       "</div>"
      ],
      "text/plain": [
       "                      id  \\\n",
       "516   807010152071229440   \n",
       "783   772102971039580160   \n",
       "1588  685169283572338688   \n",
       "230   846153765933735936   \n",
       "1370  699691744225525762   \n",
       "560   800443802682937345   \n",
       "1542  687704180304273409   \n",
       "2146  669203728096960512   \n",
       "323   832215909146226688   \n",
       "1427  695314793360662529   \n",
       "1770  676975532580409345   \n",
       "972   747933425676525569   \n",
       "1816  675822767435051008   \n",
       "1356  700747788515020802   \n",
       "2127  669583744538451968   \n",
       "446   817181837579653120   \n",
       "1895  674063288070742018   \n",
       "792   770787852854652928   \n",
       "1388  698549713696649216   \n",
       "1103  728760639972315136   \n",
       "\n",
       "                                                                                                                                                     text  \\\n",
       "516   This is Lennon. He's a Boopershnoop Pupperdoop. Quite rare. Exceptionally pettable. 12/10 would definitely boop that shnoop https://t.co/fhgP6vSfhX   \n",
       "783                   This is Penny. She's an OU cheerleader. About to do a triple back handspring down the stairs. 11/10 hype af https://t.co/B2f3XkGU5c   \n",
       "1588         Meet Gerbald. He just found out he's adopted. Poor pupper. Snazzy tongue tho. 11/10 would hold close in time of need https://t.co/UfGkB9Wrud   \n",
       "230                  This is Vixen. He really likes bananas. Steals them when he thinks nobody's watching. 13/10 opportunistic af https://t.co/a0CkS5ExFR   \n",
       "1370         This is Dave. He's a tropical pup. Short lil legs (dachshund mix?) Excels underwater, but refuses to eat kibble 5/10 https://t.co/ZJnCxlIf62   \n",
       "560                   RT @dog_rates: This is Sampson. He's about to get hit with a vicious draw 2. Has no idea. 11/10 poor pupper https://t.co/FYT9QBEnKG   \n",
       "1542                                            Say hello to Blakely. He thinks that's a hat. Silly pupper. That's a nanner. 9/10 https://t.co/UwOV1jqKRt   \n",
       "2146                             This is Samsom. He is sexually confused. Really wants to be a triceratops. 9/10 just a great guy https://t.co/HPoce45SI3   \n",
       "323          RT @dog_rates: This is Logan, the Chow who lived. He solemnly swears he's up to lots of good. H*ckin magical af 9.75/10 https://t.co/yBO5wu…   \n",
       "1427                       This is Colin. He really likes green beans. It's tearing his family apart. 10/10 please pray for Colin https://t.co/ioFy0cmK03   \n",
       "1770              This is Cooper. He doesn't know how cheese works. Likes the way it feels on his face. Cheeky tongue slip. 11/10 https://t.co/j1zczS0lI5   \n",
       "972           Pls don't send more sherks. I don't care how seemingly floofy they are. It does me so much frighten. Thank u. 11/10 https://t.co/oQqlOsla4R   \n",
       "1816                                                                                  🎶 HELLO FROM THE OTHER SIIIIIIIIDE 🎶 10/10s https://t.co/GK2HJtkdQk   \n",
       "1356          We only rate dogs. Pls stop sending in non-canines like this Mongolian grass snake. This is very frustrating. 11/10 https://t.co/22x9SbCYCU   \n",
       "2127         Special dog here. Pretty big. Neck kinda long for dog. Cool spots. Must be a Dalmatian variant. 6/10 would still pet https://t.co/f8GXeDbFzu   \n",
       "446                                                      RT @dog_rates: Here's a pupper with squeaky hiccups. Please enjoy. 13/10 https://t.co/MiMKtsLN6k   \n",
       "1895              This is Earl. Earl is lost. Someone help Earl. He has no tags. Just trying to get home. 5/10 hang in there Earl https://t.co/1ZbfqAVDg6   \n",
       "792                           This is Winston. His tongue has gone rogue. Doing him quite a frighten. 10/10 hang in there Winston https://t.co/d0QEbp78Yi   \n",
       "1388                      This is Claude. He's trying to be seductive but he forgot to turn on the fireplace. 9/10 damn it Claude https://t.co/EPdQquc1dG   \n",
       "1103                                                    When you're way too slow for the \"down low\" portion of a high five. 13/10 https://t.co/Cofwoy7Vpq   \n",
       "\n",
       "      retweet_count  reply_count  like_count  quote_count  \\\n",
       "516            3527          106       12060          230   \n",
       "783             842           18        3653           48   \n",
       "1588           1254           31        3681            1   \n",
       "230            7985          148       28291          406   \n",
       "1370           4054          114        9214            1   \n",
       "560            3938            0           0            0   \n",
       "1542            756           19        2189            0   \n",
       "2146            398            5         866            0   \n",
       "323            5602            0           0            0   \n",
       "1427           1269           34        3268            1   \n",
       "1770            927           27        2459            0   \n",
       "972            2305           53        6012          107   \n",
       "1816            467           14        1345            0   \n",
       "1356           8267          141       20473          111   \n",
       "2127            783            9        1291            0   \n",
       "446            7696            0           0            0   \n",
       "1895           1876           43        5557            8   \n",
       "792            1077           28        4473           48   \n",
       "1388            546           18        2084            0   \n",
       "1103           1508           31        4173            2   \n",
       "\n",
       "                                            media_url media_type  \\\n",
       "516   https://pbs.twimg.com/media/CzMTcZoXUAEKqEt.jpg      photo   \n",
       "783   https://pbs.twimg.com/media/CrcPjh0WcAA_SPT.jpg      photo   \n",
       "1588  https://pbs.twimg.com/media/CYI10WhWsAAjzii.jpg      photo   \n",
       "230   https://pbs.twimg.com/media/C74kWqoU8AEaf3v.jpg      photo   \n",
       "1370  https://pbs.twimg.com/media/CbXN7aPWIAE0Xt1.jpg      photo   \n",
       "560   https://pbs.twimg.com/media/CsVO7ljW8AAckRD.jpg      photo   \n",
       "1542  https://pbs.twimg.com/media/CYs3TKzUAAAF9A2.jpg      photo   \n",
       "2146  https://pbs.twimg.com/media/CUl9PGBVEAUV3Wz.jpg      photo   \n",
       "323                                               NaN        NaN   \n",
       "1427  https://pbs.twimg.com/media/CaZBErtWEAEI1aC.jpg      photo   \n",
       "1770  https://pbs.twimg.com/media/CWUZpydWcAAeipD.jpg      photo   \n",
       "972   https://pbs.twimg.com/media/CmExV2qWkAAn_pN.jpg      photo   \n",
       "1816  https://pbs.twimg.com/media/CWEBOFYWwAA-O2c.jpg      photo   \n",
       "1356  https://pbs.twimg.com/media/CbmOY41UAAQylmA.jpg      photo   \n",
       "2127  https://pbs.twimg.com/media/CUrW3DWXIAAiRqk.jpg      photo   \n",
       "446                                               NaN        NaN   \n",
       "1895  https://pbs.twimg.com/media/CVrA-rIWEAANxwQ.jpg      photo   \n",
       "792   https://pbs.twimg.com/media/CrJjdZmXgAEWLSD.jpg      photo   \n",
       "1388  https://pbs.twimg.com/media/CbG_QRJXEAALVWy.jpg      photo   \n",
       "1103  https://pbs.twimg.com/media/Ch0T71OWMAA4yIw.jpg      photo   \n",
       "\n",
       "                    short_url  \\\n",
       "516   https://t.co/fhgP6vSfhX   \n",
       "783   https://t.co/B2f3XkGU5c   \n",
       "1588  https://t.co/UfGkB9Wrud   \n",
       "230   https://t.co/a0CkS5ExFR   \n",
       "1370  https://t.co/ZJnCxlIf62   \n",
       "560   https://t.co/FYT9QBEnKG   \n",
       "1542  https://t.co/UwOV1jqKRt   \n",
       "2146  https://t.co/HPoce45SI3   \n",
       "323                       NaN   \n",
       "1427  https://t.co/ioFy0cmK03   \n",
       "1770  https://t.co/j1zczS0lI5   \n",
       "972   https://t.co/oQqlOsla4R   \n",
       "1816  https://t.co/GK2HJtkdQk   \n",
       "1356  https://t.co/22x9SbCYCU   \n",
       "2127  https://t.co/f8GXeDbFzu   \n",
       "446   https://t.co/MiMKtsLN6k   \n",
       "1895  https://t.co/1ZbfqAVDg6   \n",
       "792   https://t.co/d0QEbp78Yi   \n",
       "1388  https://t.co/EPdQquc1dG   \n",
       "1103  https://t.co/Cofwoy7Vpq   \n",
       "\n",
       "                                                         expanded_url  \\\n",
       "516   https://twitter.com/dog_rates/status/807010152071229440/photo/1   \n",
       "783   https://twitter.com/dog_rates/status/772102971039580160/photo/1   \n",
       "1588  https://twitter.com/dog_rates/status/685169283572338688/photo/1   \n",
       "230   https://twitter.com/dog_rates/status/846153765933735936/photo/1   \n",
       "1370  https://twitter.com/dog_rates/status/699691744225525762/photo/1   \n",
       "560   https://twitter.com/dog_rates/status/776113305656188928/photo/1   \n",
       "1542  https://twitter.com/dog_rates/status/687704180304273409/photo/1   \n",
       "2146  https://twitter.com/dog_rates/status/669203728096960512/photo/1   \n",
       "323                                                               NaN   \n",
       "1427  https://twitter.com/dog_rates/status/695314793360662529/photo/1   \n",
       "1770  https://twitter.com/dog_rates/status/676975532580409345/photo/1   \n",
       "972   https://twitter.com/dog_rates/status/747933425676525569/photo/1   \n",
       "1816  https://twitter.com/dog_rates/status/675822767435051008/photo/1   \n",
       "1356  https://twitter.com/dog_rates/status/700747788515020802/photo/1   \n",
       "2127  https://twitter.com/dog_rates/status/669583744538451968/photo/1   \n",
       "446   https://twitter.com/dog_rates/status/815966073409433600/video/1   \n",
       "1895  https://twitter.com/dog_rates/status/674063288070742018/photo/1   \n",
       "792   https://twitter.com/dog_rates/status/770787852854652928/photo/1   \n",
       "1388  https://twitter.com/dog_rates/status/698549713696649216/photo/1   \n",
       "1103  https://twitter.com/dog_rates/status/728760639972315136/photo/1   \n",
       "\n",
       "             annotation  \n",
       "516              Lennon  \n",
       "783               Penny  \n",
       "1588            Gerbald  \n",
       "230               Vixen  \n",
       "1370               Dave  \n",
       "560             Sampson  \n",
       "1542            Blakely  \n",
       "2146             Samsom  \n",
       "323               Logan  \n",
       "1427              Colin  \n",
       "1770             Cooper  \n",
       "972                 NaN  \n",
       "1816                NaN  \n",
       "1356                NaN  \n",
       "2127  Dalmatian variant  \n",
       "446                 NaN  \n",
       "1895               Earl  \n",
       "792             Winston  \n",
       "1388             Claude  \n",
       "1103                NaN  "
      ]
     },
     "execution_count": 23,
     "metadata": {},
     "output_type": "execute_result"
    }
   ],
   "source": [
    "# visual inspection of twitter api data\n",
    "df_tweepy = pd.read_csv(filename_twitter_api_output)\n",
    "df_tweepy.sample(20)"
   ]
  },
  {
   "cell_type": "code",
   "execution_count": 24,
   "metadata": {
    "pycharm": {
     "name": "#%%\n"
    }
   },
   "outputs": [
    {
     "name": "stdout",
     "output_type": "stream",
     "text": [
      "<class 'pandas.core.frame.DataFrame'>\n",
      "RangeIndex: 2326 entries, 0 to 2325\n",
      "Data columns (total 11 columns):\n",
      " #   Column         Non-Null Count  Dtype \n",
      "---  ------         --------------  ----- \n",
      " 0   id             2326 non-null   int64 \n",
      " 1   text           2326 non-null   object\n",
      " 2   retweet_count  2326 non-null   int64 \n",
      " 3   reply_count    2326 non-null   int64 \n",
      " 4   like_count     2326 non-null   int64 \n",
      " 5   quote_count    2326 non-null   int64 \n",
      " 6   media_url      1973 non-null   object\n",
      " 7   media_type     1973 non-null   object\n",
      " 8   short_url      2194 non-null   object\n",
      " 9   expanded_url   2194 non-null   object\n",
      " 10  annotation     1722 non-null   object\n",
      "dtypes: int64(5), object(6)\n",
      "memory usage: 200.0+ KB\n"
     ]
    }
   ],
   "source": [
    "df_tweepy.info()"
   ]
  },
  {
   "cell_type": "code",
   "execution_count": 25,
   "metadata": {
    "pycharm": {
     "name": "#%%\n"
    }
   },
   "outputs": [
    {
     "data": {
      "text/plain": [
       "id               2326\n",
       "text             2326\n",
       "retweet_count    1642\n",
       "reply_count       222\n",
       "like_count       1957\n",
       "quote_count       350\n",
       "media_url        1918\n",
       "media_type          1\n",
       "short_url        2122\n",
       "expanded_url     2122\n",
       "annotation       1109\n",
       "dtype: int64"
      ]
     },
     "execution_count": 25,
     "metadata": {},
     "output_type": "execute_result"
    }
   ],
   "source": [
    "df_tweepy.nunique()"
   ]
  },
  {
   "cell_type": "code",
   "execution_count": null,
   "metadata": {},
   "outputs": [],
   "source": []
  },
  {
   "cell_type": "markdown",
   "metadata": {
    "pycharm": {
     "name": "#%% md\n"
    }
   },
   "source": [
    "**Observations:**\n",
    "- missing records: 2326 records exist vs 2356 records in the master archive table in 2.1\n",
    "- expanded_url contains the same information as df_twitter_archive.expanded_url\n",
    "- short_url is the same URL that is contained inside df_twitter_archive.text\n",
    "- annotation contains mostly either the name of the dog, breed, or some location. A lot of NaN records exist"
   ]
  },
  {
   "cell_type": "markdown",
   "metadata": {
    "pycharm": {
     "name": "#%% md\n"
    }
   },
   "source": [
    "<a id='twitter_predictions'></a>\n",
    "<span style=\"color:blue; font-size:16px\">2.3 Assess twitter breed predictions</span>"
   ]
  },
  {
   "cell_type": "code",
   "execution_count": 26,
   "metadata": {
    "pycharm": {
     "name": "#%%\n"
    }
   },
   "outputs": [
    {
     "data": {
      "text/html": [
       "<div>\n",
       "<style scoped>\n",
       "    .dataframe tbody tr th:only-of-type {\n",
       "        vertical-align: middle;\n",
       "    }\n",
       "\n",
       "    .dataframe tbody tr th {\n",
       "        vertical-align: top;\n",
       "    }\n",
       "\n",
       "    .dataframe thead th {\n",
       "        text-align: right;\n",
       "    }\n",
       "</style>\n",
       "<table border=\"1\" class=\"dataframe\">\n",
       "  <thead>\n",
       "    <tr style=\"text-align: right;\">\n",
       "      <th></th>\n",
       "      <th>tweet_id</th>\n",
       "      <th>jpg_url</th>\n",
       "      <th>img_num</th>\n",
       "      <th>p1</th>\n",
       "      <th>p1_conf</th>\n",
       "      <th>p1_dog</th>\n",
       "      <th>p2</th>\n",
       "      <th>p2_conf</th>\n",
       "      <th>p2_dog</th>\n",
       "      <th>p3</th>\n",
       "      <th>p3_conf</th>\n",
       "      <th>p3_dog</th>\n",
       "    </tr>\n",
       "  </thead>\n",
       "  <tbody>\n",
       "    <tr>\n",
       "      <th>1155</th>\n",
       "      <td>733109485275860992</td>\n",
       "      <td>https://pbs.twimg.com/media/CiyHLocU4AI2pJu.jpg</td>\n",
       "      <td>1</td>\n",
       "      <td>golden_retriever</td>\n",
       "      <td>0.95</td>\n",
       "      <td>True</td>\n",
       "      <td>Labrador_retriever</td>\n",
       "      <td>0.04</td>\n",
       "      <td>True</td>\n",
       "      <td>doormat</td>\n",
       "      <td>0.00</td>\n",
       "      <td>False</td>\n",
       "    </tr>\n",
       "    <tr>\n",
       "      <th>979</th>\n",
       "      <td>707297311098011648</td>\n",
       "      <td>https://pbs.twimg.com/media/CdDTJLMW4AEST--.jpg</td>\n",
       "      <td>1</td>\n",
       "      <td>Blenheim_spaniel</td>\n",
       "      <td>0.37</td>\n",
       "      <td>True</td>\n",
       "      <td>Shih-Tzu</td>\n",
       "      <td>0.20</td>\n",
       "      <td>True</td>\n",
       "      <td>black-footed_ferret</td>\n",
       "      <td>0.10</td>\n",
       "      <td>False</td>\n",
       "    </tr>\n",
       "    <tr>\n",
       "      <th>138</th>\n",
       "      <td>668537837512433665</td>\n",
       "      <td>https://pbs.twimg.com/media/CUcfnWlWsAAzlwE.jpg</td>\n",
       "      <td>1</td>\n",
       "      <td>Lakeland_terrier</td>\n",
       "      <td>0.37</td>\n",
       "      <td>True</td>\n",
       "      <td>toy_poodle</td>\n",
       "      <td>0.25</td>\n",
       "      <td>True</td>\n",
       "      <td>Chihuahua</td>\n",
       "      <td>0.19</td>\n",
       "      <td>True</td>\n",
       "    </tr>\n",
       "    <tr>\n",
       "      <th>1267</th>\n",
       "      <td>749403093750648834</td>\n",
       "      <td>https://pbs.twimg.com/media/CmZqIslWIAQFiqe.jpg</td>\n",
       "      <td>1</td>\n",
       "      <td>Chesapeake_Bay_retriever</td>\n",
       "      <td>0.69</td>\n",
       "      <td>True</td>\n",
       "      <td>curly-coated_retriever</td>\n",
       "      <td>0.08</td>\n",
       "      <td>True</td>\n",
       "      <td>Irish_water_spaniel</td>\n",
       "      <td>0.05</td>\n",
       "      <td>True</td>\n",
       "    </tr>\n",
       "    <tr>\n",
       "      <th>472</th>\n",
       "      <td>675145476954566656</td>\n",
       "      <td>https://pbs.twimg.com/media/CV6ZOPqWsAA20Uj.jpg</td>\n",
       "      <td>1</td>\n",
       "      <td>Labrador_retriever</td>\n",
       "      <td>0.46</td>\n",
       "      <td>True</td>\n",
       "      <td>Great_Dane</td>\n",
       "      <td>0.24</td>\n",
       "      <td>True</td>\n",
       "      <td>Staffordshire_bullterrier</td>\n",
       "      <td>0.12</td>\n",
       "      <td>True</td>\n",
       "    </tr>\n",
       "    <tr>\n",
       "      <th>1735</th>\n",
       "      <td>821765923262631936</td>\n",
       "      <td>https://pbs.twimg.com/media/C2d_vnHWEAE9phX.jpg</td>\n",
       "      <td>1</td>\n",
       "      <td>golden_retriever</td>\n",
       "      <td>0.98</td>\n",
       "      <td>True</td>\n",
       "      <td>Labrador_retriever</td>\n",
       "      <td>0.01</td>\n",
       "      <td>True</td>\n",
       "      <td>Saluki</td>\n",
       "      <td>0.00</td>\n",
       "      <td>True</td>\n",
       "    </tr>\n",
       "    <tr>\n",
       "      <th>1853</th>\n",
       "      <td>840696689258311684</td>\n",
       "      <td>https://pbs.twimg.com/media/C6rBLenU0AAr8MN.jpg</td>\n",
       "      <td>1</td>\n",
       "      <td>web_site</td>\n",
       "      <td>0.84</td>\n",
       "      <td>False</td>\n",
       "      <td>rule</td>\n",
       "      <td>0.01</td>\n",
       "      <td>False</td>\n",
       "      <td>envelope</td>\n",
       "      <td>0.01</td>\n",
       "      <td>False</td>\n",
       "    </tr>\n",
       "    <tr>\n",
       "      <th>1258</th>\n",
       "      <td>748692773788876800</td>\n",
       "      <td>https://pbs.twimg.com/media/CmPkGhFXEAABO1n.jpg</td>\n",
       "      <td>1</td>\n",
       "      <td>ox</td>\n",
       "      <td>0.34</td>\n",
       "      <td>False</td>\n",
       "      <td>plow</td>\n",
       "      <td>0.27</td>\n",
       "      <td>False</td>\n",
       "      <td>oxcart</td>\n",
       "      <td>0.25</td>\n",
       "      <td>False</td>\n",
       "    </tr>\n",
       "    <tr>\n",
       "      <th>1268</th>\n",
       "      <td>749417653287129088</td>\n",
       "      <td>https://pbs.twimg.com/media/CmZ3YH9WEAAowi3.jpg</td>\n",
       "      <td>2</td>\n",
       "      <td>papillon</td>\n",
       "      <td>0.77</td>\n",
       "      <td>True</td>\n",
       "      <td>Shetland_sheepdog</td>\n",
       "      <td>0.04</td>\n",
       "      <td>True</td>\n",
       "      <td>collie</td>\n",
       "      <td>0.04</td>\n",
       "      <td>True</td>\n",
       "    </tr>\n",
       "    <tr>\n",
       "      <th>644</th>\n",
       "      <td>681579835668455424</td>\n",
       "      <td>https://pbs.twimg.com/media/CXV1Ot_W8AEpkQO.jpg</td>\n",
       "      <td>1</td>\n",
       "      <td>Rottweiler</td>\n",
       "      <td>0.76</td>\n",
       "      <td>True</td>\n",
       "      <td>Labrador_retriever</td>\n",
       "      <td>0.10</td>\n",
       "      <td>True</td>\n",
       "      <td>Staffordshire_bullterrier</td>\n",
       "      <td>0.04</td>\n",
       "      <td>True</td>\n",
       "    </tr>\n",
       "    <tr>\n",
       "      <th>18</th>\n",
       "      <td>666268910803644416</td>\n",
       "      <td>https://pbs.twimg.com/media/CT8QCd1WEAADXws.jpg</td>\n",
       "      <td>1</td>\n",
       "      <td>desktop_computer</td>\n",
       "      <td>0.09</td>\n",
       "      <td>False</td>\n",
       "      <td>desk</td>\n",
       "      <td>0.09</td>\n",
       "      <td>False</td>\n",
       "      <td>bookcase</td>\n",
       "      <td>0.08</td>\n",
       "      <td>False</td>\n",
       "    </tr>\n",
       "    <tr>\n",
       "      <th>1514</th>\n",
       "      <td>786664955043049472</td>\n",
       "      <td>https://pbs.twimg.com/media/CurLmoqXgAEPoJ-.jpg</td>\n",
       "      <td>1</td>\n",
       "      <td>Leonberg</td>\n",
       "      <td>0.51</td>\n",
       "      <td>True</td>\n",
       "      <td>keeshond</td>\n",
       "      <td>0.46</td>\n",
       "      <td>True</td>\n",
       "      <td>Pomeranian</td>\n",
       "      <td>0.01</td>\n",
       "      <td>True</td>\n",
       "    </tr>\n",
       "    <tr>\n",
       "      <th>1523</th>\n",
       "      <td>788150585577050112</td>\n",
       "      <td>https://pbs.twimg.com/media/CvASw6dWcAQmo3X.jpg</td>\n",
       "      <td>3</td>\n",
       "      <td>chow</td>\n",
       "      <td>0.81</td>\n",
       "      <td>True</td>\n",
       "      <td>Pomeranian</td>\n",
       "      <td>0.11</td>\n",
       "      <td>True</td>\n",
       "      <td>Chihuahua</td>\n",
       "      <td>0.02</td>\n",
       "      <td>True</td>\n",
       "    </tr>\n",
       "    <tr>\n",
       "      <th>373</th>\n",
       "      <td>672988786805112832</td>\n",
       "      <td>https://pbs.twimg.com/media/CVbvjKqW4AA_CuD.jpg</td>\n",
       "      <td>1</td>\n",
       "      <td>Lakeland_terrier</td>\n",
       "      <td>0.84</td>\n",
       "      <td>True</td>\n",
       "      <td>West_Highland_white_terrier</td>\n",
       "      <td>0.07</td>\n",
       "      <td>True</td>\n",
       "      <td>wire-haired_fox_terrier</td>\n",
       "      <td>0.04</td>\n",
       "      <td>True</td>\n",
       "    </tr>\n",
       "    <tr>\n",
       "      <th>705</th>\n",
       "      <td>684940049151070208</td>\n",
       "      <td>https://pbs.twimg.com/media/CYFlVUFWwAAEsWX.jpg</td>\n",
       "      <td>2</td>\n",
       "      <td>Border_collie</td>\n",
       "      <td>0.67</td>\n",
       "      <td>True</td>\n",
       "      <td>collie</td>\n",
       "      <td>0.18</td>\n",
       "      <td>True</td>\n",
       "      <td>Old_English_sheepdog</td>\n",
       "      <td>0.07</td>\n",
       "      <td>True</td>\n",
       "    </tr>\n",
       "    <tr>\n",
       "      <th>546</th>\n",
       "      <td>677328882937298944</td>\n",
       "      <td>https://pbs.twimg.com/media/CWZbBlAUsAAjRg5.jpg</td>\n",
       "      <td>1</td>\n",
       "      <td>water_buffalo</td>\n",
       "      <td>0.42</td>\n",
       "      <td>False</td>\n",
       "      <td>kelpie</td>\n",
       "      <td>0.03</td>\n",
       "      <td>True</td>\n",
       "      <td>Staffordshire_bullterrier</td>\n",
       "      <td>0.03</td>\n",
       "      <td>True</td>\n",
       "    </tr>\n",
       "    <tr>\n",
       "      <th>1246</th>\n",
       "      <td>747594051852075008</td>\n",
       "      <td>https://pbs.twimg.com/media/Cl_80k5WkAEbo9m.jpg</td>\n",
       "      <td>1</td>\n",
       "      <td>basenji</td>\n",
       "      <td>0.39</td>\n",
       "      <td>True</td>\n",
       "      <td>dingo</td>\n",
       "      <td>0.27</td>\n",
       "      <td>False</td>\n",
       "      <td>Chihuahua</td>\n",
       "      <td>0.10</td>\n",
       "      <td>True</td>\n",
       "    </tr>\n",
       "    <tr>\n",
       "      <th>922</th>\n",
       "      <td>702217446468493312</td>\n",
       "      <td>https://pbs.twimg.com/media/Cb7HCMkWEAAV9zY.jpg</td>\n",
       "      <td>1</td>\n",
       "      <td>golden_retriever</td>\n",
       "      <td>0.24</td>\n",
       "      <td>True</td>\n",
       "      <td>chow</td>\n",
       "      <td>0.23</td>\n",
       "      <td>True</td>\n",
       "      <td>cocker_spaniel</td>\n",
       "      <td>0.19</td>\n",
       "      <td>True</td>\n",
       "    </tr>\n",
       "    <tr>\n",
       "      <th>82</th>\n",
       "      <td>667491009379606528</td>\n",
       "      <td>https://pbs.twimg.com/media/CUNniSlUYAEj1Jl.jpg</td>\n",
       "      <td>1</td>\n",
       "      <td>borzoi</td>\n",
       "      <td>0.85</td>\n",
       "      <td>True</td>\n",
       "      <td>ice_bear</td>\n",
       "      <td>0.13</td>\n",
       "      <td>False</td>\n",
       "      <td>weasel</td>\n",
       "      <td>0.01</td>\n",
       "      <td>False</td>\n",
       "    </tr>\n",
       "    <tr>\n",
       "      <th>1467</th>\n",
       "      <td>778748913645780993</td>\n",
       "      <td>https://pbs.twimg.com/media/Cs6r_-kVIAALh1p.jpg</td>\n",
       "      <td>1</td>\n",
       "      <td>Staffordshire_bullterrier</td>\n",
       "      <td>0.35</td>\n",
       "      <td>True</td>\n",
       "      <td>boxer</td>\n",
       "      <td>0.20</td>\n",
       "      <td>True</td>\n",
       "      <td>American_Staffordshire_terrier</td>\n",
       "      <td>0.14</td>\n",
       "      <td>True</td>\n",
       "    </tr>\n",
       "  </tbody>\n",
       "</table>\n",
       "</div>"
      ],
      "text/plain": [
       "                tweet_id                                          jpg_url  \\\n",
       "1155  733109485275860992  https://pbs.twimg.com/media/CiyHLocU4AI2pJu.jpg   \n",
       "979   707297311098011648  https://pbs.twimg.com/media/CdDTJLMW4AEST--.jpg   \n",
       "138   668537837512433665  https://pbs.twimg.com/media/CUcfnWlWsAAzlwE.jpg   \n",
       "1267  749403093750648834  https://pbs.twimg.com/media/CmZqIslWIAQFiqe.jpg   \n",
       "472   675145476954566656  https://pbs.twimg.com/media/CV6ZOPqWsAA20Uj.jpg   \n",
       "1735  821765923262631936  https://pbs.twimg.com/media/C2d_vnHWEAE9phX.jpg   \n",
       "1853  840696689258311684  https://pbs.twimg.com/media/C6rBLenU0AAr8MN.jpg   \n",
       "1258  748692773788876800  https://pbs.twimg.com/media/CmPkGhFXEAABO1n.jpg   \n",
       "1268  749417653287129088  https://pbs.twimg.com/media/CmZ3YH9WEAAowi3.jpg   \n",
       "644   681579835668455424  https://pbs.twimg.com/media/CXV1Ot_W8AEpkQO.jpg   \n",
       "18    666268910803644416  https://pbs.twimg.com/media/CT8QCd1WEAADXws.jpg   \n",
       "1514  786664955043049472  https://pbs.twimg.com/media/CurLmoqXgAEPoJ-.jpg   \n",
       "1523  788150585577050112  https://pbs.twimg.com/media/CvASw6dWcAQmo3X.jpg   \n",
       "373   672988786805112832  https://pbs.twimg.com/media/CVbvjKqW4AA_CuD.jpg   \n",
       "705   684940049151070208  https://pbs.twimg.com/media/CYFlVUFWwAAEsWX.jpg   \n",
       "546   677328882937298944  https://pbs.twimg.com/media/CWZbBlAUsAAjRg5.jpg   \n",
       "1246  747594051852075008  https://pbs.twimg.com/media/Cl_80k5WkAEbo9m.jpg   \n",
       "922   702217446468493312  https://pbs.twimg.com/media/Cb7HCMkWEAAV9zY.jpg   \n",
       "82    667491009379606528  https://pbs.twimg.com/media/CUNniSlUYAEj1Jl.jpg   \n",
       "1467  778748913645780993  https://pbs.twimg.com/media/Cs6r_-kVIAALh1p.jpg   \n",
       "\n",
       "      img_num                         p1  p1_conf  p1_dog  \\\n",
       "1155        1           golden_retriever     0.95    True   \n",
       "979         1           Blenheim_spaniel     0.37    True   \n",
       "138         1           Lakeland_terrier     0.37    True   \n",
       "1267        1   Chesapeake_Bay_retriever     0.69    True   \n",
       "472         1         Labrador_retriever     0.46    True   \n",
       "1735        1           golden_retriever     0.98    True   \n",
       "1853        1                   web_site     0.84   False   \n",
       "1258        1                         ox     0.34   False   \n",
       "1268        2                   papillon     0.77    True   \n",
       "644         1                 Rottweiler     0.76    True   \n",
       "18          1           desktop_computer     0.09   False   \n",
       "1514        1                   Leonberg     0.51    True   \n",
       "1523        3                       chow     0.81    True   \n",
       "373         1           Lakeland_terrier     0.84    True   \n",
       "705         2              Border_collie     0.67    True   \n",
       "546         1              water_buffalo     0.42   False   \n",
       "1246        1                    basenji     0.39    True   \n",
       "922         1           golden_retriever     0.24    True   \n",
       "82          1                     borzoi     0.85    True   \n",
       "1467        1  Staffordshire_bullterrier     0.35    True   \n",
       "\n",
       "                               p2  p2_conf  p2_dog  \\\n",
       "1155           Labrador_retriever     0.04    True   \n",
       "979                      Shih-Tzu     0.20    True   \n",
       "138                    toy_poodle     0.25    True   \n",
       "1267       curly-coated_retriever     0.08    True   \n",
       "472                    Great_Dane     0.24    True   \n",
       "1735           Labrador_retriever     0.01    True   \n",
       "1853                         rule     0.01   False   \n",
       "1258                         plow     0.27   False   \n",
       "1268            Shetland_sheepdog     0.04    True   \n",
       "644            Labrador_retriever     0.10    True   \n",
       "18                           desk     0.09   False   \n",
       "1514                     keeshond     0.46    True   \n",
       "1523                   Pomeranian     0.11    True   \n",
       "373   West_Highland_white_terrier     0.07    True   \n",
       "705                        collie     0.18    True   \n",
       "546                        kelpie     0.03    True   \n",
       "1246                        dingo     0.27   False   \n",
       "922                          chow     0.23    True   \n",
       "82                       ice_bear     0.13   False   \n",
       "1467                        boxer     0.20    True   \n",
       "\n",
       "                                  p3  p3_conf  p3_dog  \n",
       "1155                         doormat     0.00   False  \n",
       "979              black-footed_ferret     0.10   False  \n",
       "138                        Chihuahua     0.19    True  \n",
       "1267             Irish_water_spaniel     0.05    True  \n",
       "472        Staffordshire_bullterrier     0.12    True  \n",
       "1735                          Saluki     0.00    True  \n",
       "1853                        envelope     0.01   False  \n",
       "1258                          oxcart     0.25   False  \n",
       "1268                          collie     0.04    True  \n",
       "644        Staffordshire_bullterrier     0.04    True  \n",
       "18                          bookcase     0.08   False  \n",
       "1514                      Pomeranian     0.01    True  \n",
       "1523                       Chihuahua     0.02    True  \n",
       "373          wire-haired_fox_terrier     0.04    True  \n",
       "705             Old_English_sheepdog     0.07    True  \n",
       "546        Staffordshire_bullterrier     0.03    True  \n",
       "1246                       Chihuahua     0.10    True  \n",
       "922                   cocker_spaniel     0.19    True  \n",
       "82                            weasel     0.01   False  \n",
       "1467  American_Staffordshire_terrier     0.14    True  "
      ]
     },
     "execution_count": 26,
     "metadata": {},
     "output_type": "execute_result"
    }
   ],
   "source": [
    "# visual inspection of twitter predictions\n",
    "df_twitter_predictions = pd.read_csv(filename_image_predictions, sep='\\t')\n",
    "df_twitter_predictions.sample(20)"
   ]
  },
  {
   "cell_type": "code",
   "execution_count": 27,
   "metadata": {
    "pycharm": {
     "name": "#%%\n"
    }
   },
   "outputs": [
    {
     "name": "stdout",
     "output_type": "stream",
     "text": [
      "<class 'pandas.core.frame.DataFrame'>\n",
      "RangeIndex: 2075 entries, 0 to 2074\n",
      "Data columns (total 12 columns):\n",
      " #   Column    Non-Null Count  Dtype  \n",
      "---  ------    --------------  -----  \n",
      " 0   tweet_id  2075 non-null   int64  \n",
      " 1   jpg_url   2075 non-null   object \n",
      " 2   img_num   2075 non-null   int64  \n",
      " 3   p1        2075 non-null   object \n",
      " 4   p1_conf   2075 non-null   float64\n",
      " 5   p1_dog    2075 non-null   bool   \n",
      " 6   p2        2075 non-null   object \n",
      " 7   p2_conf   2075 non-null   float64\n",
      " 8   p2_dog    2075 non-null   bool   \n",
      " 9   p3        2075 non-null   object \n",
      " 10  p3_conf   2075 non-null   float64\n",
      " 11  p3_dog    2075 non-null   bool   \n",
      "dtypes: bool(3), float64(3), int64(2), object(4)\n",
      "memory usage: 152.1+ KB\n"
     ]
    }
   ],
   "source": [
    "df_twitter_predictions.info()"
   ]
  },
  {
   "cell_type": "code",
   "execution_count": 28,
   "metadata": {
    "pycharm": {
     "name": "#%%\n"
    }
   },
   "outputs": [
    {
     "data": {
      "text/plain": [
       "tweet_id    2075\n",
       "jpg_url     2009\n",
       "img_num        4\n",
       "p1           378\n",
       "p1_conf     2006\n",
       "p1_dog         2\n",
       "p2           405\n",
       "p2_conf     2004\n",
       "p2_dog         2\n",
       "p3           408\n",
       "p3_conf     2006\n",
       "p3_dog         2\n",
       "dtype: int64"
      ]
     },
     "execution_count": 28,
     "metadata": {},
     "output_type": "execute_result"
    }
   ],
   "source": [
    "df_twitter_predictions.nunique()"
   ]
  },
  {
   "cell_type": "code",
   "execution_count": 29,
   "metadata": {
    "pycharm": {
     "name": "#%%\n"
    }
   },
   "outputs": [
    {
     "data": {
      "text/plain": [
       "0"
      ]
     },
     "execution_count": 29,
     "metadata": {},
     "output_type": "execute_result"
    }
   ],
   "source": [
    "df_twitter_predictions.duplicated().sum()"
   ]
  },
  {
   "cell_type": "code",
   "execution_count": 30,
   "metadata": {
    "pycharm": {
     "name": "#%%\n"
    }
   },
   "outputs": [
    {
     "data": {
      "text/plain": [
       "0"
      ]
     },
     "execution_count": 30,
     "metadata": {},
     "output_type": "execute_result"
    }
   ],
   "source": [
    "# how many duplicated tweet ids exist ?\n",
    "df_twitter_predictions['tweet_id'].dropna().duplicated().sum()"
   ]
  },
  {
   "cell_type": "markdown",
   "metadata": {
    "pycharm": {
     "name": "#%% md\n"
    }
   },
   "source": [
    "**Observations:**\n",
    "- `df_twitter_predictions` contain only 2075 records, whilst df_twitter_archive contain 2356 records. Means some records are missing, not all dogs have breed predictions.\n",
    "- 3 different dog breed predictions exist for each dog, of which we need to select the best breed.\n",
    "- breed name can be formatted better. Remove '_' and capitalize each word."
   ]
  },
  {
   "cell_type": "markdown",
   "metadata": {
    "pycharm": {
     "name": "#%% md\n"
    }
   },
   "source": [
    "## Summary of assessment\n",
    "\n",
    "### Quality issues\n",
    "Do we have all of the records that we should? Do we have missing records or not? Are there specific rows, columns, or cells missing?\n",
    "\n",
    "<blockquote>\n",
    "    \n",
    "#### Completeness Issues (e.g. missing data)\n",
    "\n",
    "1. twitter_archive: Replies to original tweets exist causing duplicate tweets\n",
    "\n",
    "2. twitter_archive: Retweets exist causing duplicate tweets\n",
    "\n",
    "3. twitter_archive: `name` contains string value 'None' indicating missing data\n",
    "\n",
    "4. twitter_archive: Columns `doggo, floofer, pupper, puppo` contain value 'None' indicating missing data\n",
    "\n",
    "5. twitter_archive: some `expanded_urls` are duplicated (it might be because of retweets and replies)\n",
    "\n",
    "\n",
    "#### Validity Issues (incorrect entries, data types)\n",
    "\n",
    "6. twitter_archive: 23 records (prior start of cleaning) have ratings_denominator values other than 10\n",
    "7. twitter_archive: `expanded_urls` contains more than one url sometimes, example tweet id 853299958564483072\n",
    "\n",
    "\n",
    "#### Accuracy Issues\n",
    "\n",
    "8. twitter_archive: `name` starting with lower case are not valid dog names e.g. 'the, 'actually', 'this', 'one'\n",
    "\n",
    "\n",
    "#### Consistency\n",
    "\n",
    "9. twitter_api: 'id' column should be called 'tweet_id' to be consistent with twitter_archive table.\n",
    "  \n",
    "</blockquote>"
   ]
  },
  {
   "cell_type": "markdown",
   "metadata": {
    "pycharm": {
     "name": "#%% md\n"
    }
   },
   "source": [
    "### Tidiness issues\n",
    "\n",
    "<blockquote>\n",
    "    \n",
    "#### Twitter archive table:\n",
    "\n",
    "1. `timestamp` should be type datetime\n",
    "\n",
    "2. `source` contain multiple pieces of information: url and source\n",
    "\n",
    "3. `text` contains multiple information: text, score and url\n",
    "\n",
    "4.  Columns exist with 90% missing data: `in_reply_to_status_id, in_reply_to_user_id, retweeted_status_id, retweeted_status_user_id, retweeted_status_timestamp`\n",
    "\n",
    "5. `doggo, floofer, pupper, puppo` should be converted into one column to reflect the dog stage\n",
    "\n",
    "#### `twitter_api` table:\n",
    "\n",
    "6. `retweet_count`, `like_count`, `media_url` and `annotation` columns should be merged with selected fields from twitter archive table to build a new master table avoiding duplicated columns\n",
    "\n",
    "#### Twitter predictions table:\n",
    "\n",
    "7.  The best dog breed should be selected and be part the new twitter master table\n",
    "8.  Breed name are badly formatted, it contains '_' instead of spaces and each word can be capitalized.\n",
    "</blockquote>"
   ]
  },
  {
   "cell_type": "markdown",
   "metadata": {
    "pycharm": {
     "name": "#%% md\n"
    }
   },
   "source": [
    "<a id='cleaning'></a>\n",
    "<span style=\"color:blue; font-size:30px; line-height:40px; font-family: Calibri;\">Step 3: Cleaning Data</span>\n",
    "\n",
    "\n",
    "#### Project criteria\n",
    "\n",
    "In this section, clean **all** of the issues you documented while assessing. \n",
    "\n",
    "Make sure you complete the following items in this step.\n",
    "\n",
    "Before you perform the cleaning, you will make a copy of the original data.\n",
    "During cleaning, use the define-code-test framework and clearly document it.\n",
    "Cleaning includes merging individual pieces of data according to the rules of tidy data. The result should be a high-quality and tidy master pandas DataFrame (or DataFrames, if appropriate)."
   ]
  },
  {
   "cell_type": "code",
   "execution_count": 31,
   "metadata": {
    "pycharm": {
     "name": "#%%\n"
    }
   },
   "outputs": [],
   "source": [
    "# Make copies of original pieces of data\n",
    "df_twitter_archive_clean = df_twitter_archive.copy() \n",
    "df_tweepy_clean = df_tweepy.copy()\n",
    "df_twitter_predictions_clean = df_twitter_predictions.copy()"
   ]
  },
  {
   "cell_type": "markdown",
   "metadata": {
    "pycharm": {
     "name": "#%% md\n"
    }
   },
   "source": [
    "<span style=\"color:blue; font-size:22px; line-height:40px; font-family: Calibri;\">Quality Issues</span>"
   ]
  },
  {
   "cell_type": "markdown",
   "metadata": {
    "pycharm": {
     "name": "#%% md\n"
    }
   },
   "source": [
    "<span style=\"color:blue; font-size:18px; font-family: Calibri;\">Quality Issue #1: twitter_archive : replies to original tweets exist causing duplicate tweets</span>"
   ]
  },
  {
   "cell_type": "markdown",
   "metadata": {
    "pycharm": {
     "name": "#%% md\n"
    }
   },
   "source": [
    "#### Define: Filter the dataset where 'in_reply_to_status_id' `isnull()`"
   ]
  },
  {
   "cell_type": "markdown",
   "metadata": {
    "pycharm": {
     "name": "#%% md\n"
    }
   },
   "source": [
    "#### Code"
   ]
  },
  {
   "cell_type": "code",
   "execution_count": 32,
   "metadata": {
    "pycharm": {
     "name": "#%%\n"
    }
   },
   "outputs": [],
   "source": [
    "df_twitter_archive_clean = df_twitter_archive_clean[df_twitter_archive_clean['in_reply_to_status_id'].isnull()]"
   ]
  },
  {
   "cell_type": "markdown",
   "metadata": {
    "pycharm": {
     "name": "#%% md\n"
    }
   },
   "source": [
    "#### Test"
   ]
  },
  {
   "cell_type": "code",
   "execution_count": 33,
   "metadata": {
    "pycharm": {
     "name": "#%%\n"
    }
   },
   "outputs": [],
   "source": [
    "# no records should exist where in_reply_to_status_id have values\n",
    "assert len(df_twitter_archive_clean[~df_twitter_archive_clean['in_reply_to_status_id'].isnull()]) == 0"
   ]
  },
  {
   "cell_type": "markdown",
   "metadata": {
    "pycharm": {
     "name": "#%% md\n"
    }
   },
   "source": [
    "<span style=\"color:blue; font-size:18px; font-family: Calibri;\"> Quality Issue #2: twitter_archive : retweets exist in the dataset causing duplicate postings</span>"
   ]
  },
  {
   "cell_type": "markdown",
   "metadata": {
    "pycharm": {
     "name": "#%% md\n"
    }
   },
   "source": [
    "#### Define: Filter the dataset where 'in_reply_to_status_id' `isnull()`"
   ]
  },
  {
   "cell_type": "markdown",
   "metadata": {
    "pycharm": {
     "name": "#%% md\n"
    }
   },
   "source": [
    "#### Code"
   ]
  },
  {
   "cell_type": "code",
   "execution_count": 34,
   "metadata": {
    "pycharm": {
     "name": "#%%\n"
    }
   },
   "outputs": [],
   "source": [
    "df_twitter_archive_clean = df_twitter_archive_clean[df_twitter_archive_clean['retweeted_status_id'].isnull()]"
   ]
  },
  {
   "cell_type": "markdown",
   "metadata": {
    "pycharm": {
     "name": "#%% md\n"
    }
   },
   "source": [
    "#### Test"
   ]
  },
  {
   "cell_type": "code",
   "execution_count": 35,
   "metadata": {
    "pycharm": {
     "name": "#%%\n"
    }
   },
   "outputs": [],
   "source": [
    "# no records should exist where retweeted_status_id is populated\n",
    "assert len(df_twitter_archive_clean[~df_twitter_archive_clean['retweeted_status_id'].isnull()]) == 0"
   ]
  },
  {
   "cell_type": "markdown",
   "metadata": {
    "pycharm": {
     "name": "#%% md\n"
    }
   },
   "source": [
    "<span style=\"color:blue; font-size:18px; font-family: Calibri;\">Quality Issue #3: twitter_archive : 'name' contains string value 'None' indicating missing data</span>"
   ]
  },
  {
   "cell_type": "markdown",
   "metadata": {
    "pycharm": {
     "name": "#%% md\n"
    }
   },
   "source": [
    "#### Define: Convert string value 'None' to None in column 'name' using pandas `replace()` method, to correctly identify missing names"
   ]
  },
  {
   "cell_type": "markdown",
   "metadata": {
    "pycharm": {
     "name": "#%% md\n"
    }
   },
   "source": [
    "#### Code"
   ]
  },
  {
   "cell_type": "code",
   "execution_count": 36,
   "metadata": {
    "pycharm": {
     "name": "#%%\n"
    }
   },
   "outputs": [],
   "source": [
    "df_twitter_archive_clean['name'] = df_twitter_archive_clean['name'].replace('None', None)"
   ]
  },
  {
   "cell_type": "markdown",
   "metadata": {
    "pycharm": {
     "name": "#%% md\n"
    }
   },
   "source": [
    "#### Test"
   ]
  },
  {
   "cell_type": "code",
   "execution_count": 37,
   "metadata": {
    "pycharm": {
     "name": "#%%\n"
    }
   },
   "outputs": [],
   "source": [
    "# how many records exist where dog name is 'None' ?\n",
    "assert len(df_twitter_archive_clean.query('name == \"None\"')) == 0"
   ]
  },
  {
   "cell_type": "code",
   "execution_count": 38,
   "metadata": {},
   "outputs": [
    {
     "name": "stdout",
     "output_type": "stream",
     "text": [
      "<class 'pandas.core.series.Series'>\n",
      "Int64Index: 2097 entries, 0 to 2355\n",
      "Series name: name\n",
      "Non-Null Count  Dtype \n",
      "--------------  ----- \n",
      "1494 non-null   object\n",
      "dtypes: object(1)\n",
      "memory usage: 32.8+ KB\n"
     ]
    }
   ],
   "source": [
    "# can we now identify missing records in the name field correctly?\n",
    "df_twitter_archive_clean.name.info()"
   ]
  },
  {
   "cell_type": "markdown",
   "metadata": {
    "pycharm": {
     "name": "#%% md\n"
    }
   },
   "source": [
    "<span style=\"color:blue; font-size:18px; font-family: Calibri;\">Quality Issue #4: twitter_archive: Columns 'doggo', 'floofer', 'pupper' and 'puppo' contain value 'None' indicating missing data</span>"
   ]
  },
  {
   "cell_type": "markdown",
   "metadata": {
    "pycharm": {
     "name": "#%% md\n"
    }
   },
   "source": [
    "#### Define: Convert string value 'None' to np.nan in columns doggo, floofer, pupper and puppo using pandas `replace()` method"
   ]
  },
  {
   "cell_type": "markdown",
   "metadata": {
    "pycharm": {
     "name": "#%% md\n"
    }
   },
   "source": [
    "#### Code"
   ]
  },
  {
   "cell_type": "code",
   "execution_count": 39,
   "metadata": {
    "pycharm": {
     "name": "#%%\n"
    }
   },
   "outputs": [],
   "source": [
    "cols = ['doggo', 'floofer', 'pupper', 'puppo']\n",
    "df_twitter_archive_clean[cols] = df_twitter_archive_clean[cols].replace('None', None)"
   ]
  },
  {
   "cell_type": "markdown",
   "metadata": {
    "pycharm": {
     "name": "#%% md\n"
    }
   },
   "source": [
    "#### Test"
   ]
  },
  {
   "cell_type": "code",
   "execution_count": 40,
   "metadata": {
    "pycharm": {
     "name": "#%%\n"
    }
   },
   "outputs": [],
   "source": [
    "# No more \"None\" values should exist\n",
    "assert len(df_twitter_archive_clean.query('doggo == \"None\"')) == 0"
   ]
  },
  {
   "cell_type": "code",
   "execution_count": 41,
   "metadata": {
    "pycharm": {
     "name": "#%%\n"
    }
   },
   "outputs": [],
   "source": [
    "# No more \"None\" values should exist\n",
    "assert len(df_twitter_archive_clean.query('floofer == \"None\"')) == 0"
   ]
  },
  {
   "cell_type": "code",
   "execution_count": 42,
   "metadata": {
    "pycharm": {
     "name": "#%%\n"
    }
   },
   "outputs": [],
   "source": [
    "# No more \"None\" values should exist\n",
    "assert len(df_twitter_archive_clean.query('pupper == \"None\"')) == 0"
   ]
  },
  {
   "cell_type": "code",
   "execution_count": 43,
   "metadata": {
    "pycharm": {
     "name": "#%%\n"
    }
   },
   "outputs": [],
   "source": [
    "# No more \"None\" values should exist\n",
    "assert len(df_twitter_archive_clean.query('puppo == \"None\"')) == 0"
   ]
  },
  {
   "cell_type": "code",
   "execution_count": 44,
   "metadata": {
    "pycharm": {
     "name": "#%%\n"
    }
   },
   "outputs": [
    {
     "data": {
      "text/plain": [
       "None     2014\n",
       "doggo      83\n",
       "Name: doggo, dtype: int64"
      ]
     },
     "execution_count": 44,
     "metadata": {},
     "output_type": "execute_result"
    }
   ],
   "source": [
    "# All None values should be replaced with None\n",
    "df_twitter_archive_clean.doggo.value_counts(dropna=False)"
   ]
  },
  {
   "cell_type": "markdown",
   "metadata": {
    "pycharm": {
     "name": "#%% md\n"
    }
   },
   "source": [
    "<span style=\"color:blue; font-size:18px; font-family: Calibri;\">Quality Issue #5: twitter_archive: some expanded_urls are duplicated (it might be because of retweets and replies)</span>"
   ]
  },
  {
   "cell_type": "markdown",
   "metadata": {
    "pycharm": {
     "name": "#%% md\n"
    }
   },
   "source": [
    "#### Define: Drop records with duplicate `expanded_urls`, by first sorting the dataset by 'expanded_urls' and then use pandas `duplicated` method, keeping the first record, as this is the original tweet."
   ]
  },
  {
   "cell_type": "markdown",
   "metadata": {
    "pycharm": {
     "name": "#%% md\n"
    }
   },
   "source": [
    "#### Code"
   ]
  },
  {
   "cell_type": "code",
   "execution_count": 45,
   "metadata": {
    "pycharm": {
     "name": "#%%\n"
    }
   },
   "outputs": [],
   "source": [
    "# sort table by tweet_id, as we want keep the records with first posting\n",
    "df_twitter_archive_clean.sort_values('tweet_id', axis=0, inplace=True)"
   ]
  },
  {
   "cell_type": "code",
   "execution_count": 46,
   "metadata": {
    "pycharm": {
     "name": "#%%\n"
    }
   },
   "outputs": [
    {
     "data": {
      "text/plain": [
       "2097"
      ]
     },
     "execution_count": 46,
     "metadata": {},
     "output_type": "execute_result"
    }
   ],
   "source": [
    "# number of records before we start\n",
    "records_before = df_twitter_archive_clean.shape[0]\n",
    "records_before"
   ]
  },
  {
   "cell_type": "code",
   "execution_count": 47,
   "metadata": {
    "pycharm": {
     "name": "#%%\n"
    }
   },
   "outputs": [
    {
     "data": {
      "text/html": [
       "<div>\n",
       "<style scoped>\n",
       "    .dataframe tbody tr th:only-of-type {\n",
       "        vertical-align: middle;\n",
       "    }\n",
       "\n",
       "    .dataframe tbody tr th {\n",
       "        vertical-align: top;\n",
       "    }\n",
       "\n",
       "    .dataframe thead th {\n",
       "        text-align: right;\n",
       "    }\n",
       "</style>\n",
       "<table border=\"1\" class=\"dataframe\">\n",
       "  <thead>\n",
       "    <tr style=\"text-align: right;\">\n",
       "      <th></th>\n",
       "      <th>tweet_id</th>\n",
       "      <th>in_reply_to_status_id</th>\n",
       "      <th>in_reply_to_user_id</th>\n",
       "      <th>timestamp</th>\n",
       "      <th>source</th>\n",
       "      <th>text</th>\n",
       "      <th>retweeted_status_id</th>\n",
       "      <th>retweeted_status_user_id</th>\n",
       "      <th>retweeted_status_timestamp</th>\n",
       "      <th>expanded_urls</th>\n",
       "      <th>rating_numerator</th>\n",
       "      <th>rating_denominator</th>\n",
       "      <th>name</th>\n",
       "      <th>doggo</th>\n",
       "      <th>floofer</th>\n",
       "      <th>pupper</th>\n",
       "      <th>puppo</th>\n",
       "    </tr>\n",
       "  </thead>\n",
       "  <tbody>\n",
       "    <tr>\n",
       "      <th>2212</th>\n",
       "      <td>668587383441514497</td>\n",
       "      <td>NaN</td>\n",
       "      <td>NaN</td>\n",
       "      <td>2015-11-23 00:30:28 +0000</td>\n",
       "      <td>&lt;a href=\"http://vine.co\" rel=\"nofollow\"&gt;Vine - Make a Scene&lt;/a&gt;</td>\n",
       "      <td>Never forget this vine. You will not stop watching for at least 15 minutes. This is the second coveted.. 13/10 https://t.co/roqIxCvEB3</td>\n",
       "      <td>NaN</td>\n",
       "      <td>NaN</td>\n",
       "      <td>NaN</td>\n",
       "      <td>https://vine.co/v/ea0OwvPTx9l</td>\n",
       "      <td>13</td>\n",
       "      <td>10</td>\n",
       "      <td>the</td>\n",
       "      <td>None</td>\n",
       "      <td>None</td>\n",
       "      <td>None</td>\n",
       "      <td>None</td>\n",
       "    </tr>\n",
       "    <tr>\n",
       "      <th>657</th>\n",
       "      <td>791774931465953280</td>\n",
       "      <td>NaN</td>\n",
       "      <td>NaN</td>\n",
       "      <td>2016-10-27 22:53:48 +0000</td>\n",
       "      <td>&lt;a href=\"http://vine.co\" rel=\"nofollow\"&gt;Vine - Make a Scene&lt;/a&gt;</td>\n",
       "      <td>Vine will be deeply missed. This was by far my favorite one. 14/10 https://t.co/roqIxCvEB3</td>\n",
       "      <td>NaN</td>\n",
       "      <td>NaN</td>\n",
       "      <td>NaN</td>\n",
       "      <td>https://vine.co/v/ea0OwvPTx9l</td>\n",
       "      <td>14</td>\n",
       "      <td>10</td>\n",
       "      <td>None</td>\n",
       "      <td>None</td>\n",
       "      <td>None</td>\n",
       "      <td>None</td>\n",
       "      <td>None</td>\n",
       "    </tr>\n",
       "    <tr>\n",
       "      <th>1445</th>\n",
       "      <td>696518437233913856</td>\n",
       "      <td>NaN</td>\n",
       "      <td>NaN</td>\n",
       "      <td>2016-02-08 02:18:30 +0000</td>\n",
       "      <td>&lt;a href=\"http://twitter.com/download/iphone\" rel=\"nofollow\"&gt;Twitter for iPhone&lt;/a&gt;</td>\n",
       "      <td>Oh my god 10/10 for every little hot dog pupper</td>\n",
       "      <td>NaN</td>\n",
       "      <td>NaN</td>\n",
       "      <td>NaN</td>\n",
       "      <td>NaN</td>\n",
       "      <td>10</td>\n",
       "      <td>10</td>\n",
       "      <td>None</td>\n",
       "      <td>None</td>\n",
       "      <td>None</td>\n",
       "      <td>pupper</td>\n",
       "      <td>None</td>\n",
       "    </tr>\n",
       "    <tr>\n",
       "      <th>707</th>\n",
       "      <td>785515384317313025</td>\n",
       "      <td>NaN</td>\n",
       "      <td>NaN</td>\n",
       "      <td>2016-10-10 16:20:36 +0000</td>\n",
       "      <td>&lt;a href=\"http://twitter.com/download/iphone\" rel=\"nofollow\"&gt;Twitter for iPhone&lt;/a&gt;</td>\n",
       "      <td>Today, 10/10, should be National Dog Rates Day</td>\n",
       "      <td>NaN</td>\n",
       "      <td>NaN</td>\n",
       "      <td>NaN</td>\n",
       "      <td>NaN</td>\n",
       "      <td>10</td>\n",
       "      <td>10</td>\n",
       "      <td>None</td>\n",
       "      <td>None</td>\n",
       "      <td>None</td>\n",
       "      <td>None</td>\n",
       "      <td>None</td>\n",
       "    </tr>\n",
       "    <tr>\n",
       "      <th>375</th>\n",
       "      <td>828361771580813312</td>\n",
       "      <td>NaN</td>\n",
       "      <td>NaN</td>\n",
       "      <td>2017-02-05 21:56:51 +0000</td>\n",
       "      <td>&lt;a href=\"http://twitter.com\" rel=\"nofollow\"&gt;Twitter Web Client&lt;/a&gt;</td>\n",
       "      <td>Beebop and Doobert should start a band 12/10 would listen</td>\n",
       "      <td>NaN</td>\n",
       "      <td>NaN</td>\n",
       "      <td>NaN</td>\n",
       "      <td>NaN</td>\n",
       "      <td>12</td>\n",
       "      <td>10</td>\n",
       "      <td>None</td>\n",
       "      <td>None</td>\n",
       "      <td>None</td>\n",
       "      <td>None</td>\n",
       "      <td>None</td>\n",
       "    </tr>\n",
       "  </tbody>\n",
       "</table>\n",
       "</div>"
      ],
      "text/plain": [
       "                tweet_id  in_reply_to_status_id  in_reply_to_user_id  \\\n",
       "2212  668587383441514497                    NaN                  NaN   \n",
       "657   791774931465953280                    NaN                  NaN   \n",
       "1445  696518437233913856                    NaN                  NaN   \n",
       "707   785515384317313025                    NaN                  NaN   \n",
       "375   828361771580813312                    NaN                  NaN   \n",
       "\n",
       "                      timestamp  \\\n",
       "2212  2015-11-23 00:30:28 +0000   \n",
       "657   2016-10-27 22:53:48 +0000   \n",
       "1445  2016-02-08 02:18:30 +0000   \n",
       "707   2016-10-10 16:20:36 +0000   \n",
       "375   2017-02-05 21:56:51 +0000   \n",
       "\n",
       "                                                                                  source  \\\n",
       "2212                     <a href=\"http://vine.co\" rel=\"nofollow\">Vine - Make a Scene</a>   \n",
       "657                      <a href=\"http://vine.co\" rel=\"nofollow\">Vine - Make a Scene</a>   \n",
       "1445  <a href=\"http://twitter.com/download/iphone\" rel=\"nofollow\">Twitter for iPhone</a>   \n",
       "707   <a href=\"http://twitter.com/download/iphone\" rel=\"nofollow\">Twitter for iPhone</a>   \n",
       "375                   <a href=\"http://twitter.com\" rel=\"nofollow\">Twitter Web Client</a>   \n",
       "\n",
       "                                                                                                                                        text  \\\n",
       "2212  Never forget this vine. You will not stop watching for at least 15 minutes. This is the second coveted.. 13/10 https://t.co/roqIxCvEB3   \n",
       "657                                               Vine will be deeply missed. This was by far my favorite one. 14/10 https://t.co/roqIxCvEB3   \n",
       "1445                                                                                         Oh my god 10/10 for every little hot dog pupper   \n",
       "707                                                                                           Today, 10/10, should be National Dog Rates Day   \n",
       "375                                                                                Beebop and Doobert should start a band 12/10 would listen   \n",
       "\n",
       "      retweeted_status_id  retweeted_status_user_id  \\\n",
       "2212                  NaN                       NaN   \n",
       "657                   NaN                       NaN   \n",
       "1445                  NaN                       NaN   \n",
       "707                   NaN                       NaN   \n",
       "375                   NaN                       NaN   \n",
       "\n",
       "     retweeted_status_timestamp                  expanded_urls  \\\n",
       "2212                        NaN  https://vine.co/v/ea0OwvPTx9l   \n",
       "657                         NaN  https://vine.co/v/ea0OwvPTx9l   \n",
       "1445                        NaN                            NaN   \n",
       "707                         NaN                            NaN   \n",
       "375                         NaN                            NaN   \n",
       "\n",
       "      rating_numerator  rating_denominator  name doggo floofer  pupper puppo  \n",
       "2212                13                  10   the  None    None    None  None  \n",
       "657                 14                  10  None  None    None    None  None  \n",
       "1445                10                  10  None  None    None  pupper  None  \n",
       "707                 10                  10  None  None    None    None  None  \n",
       "375                 12                  10  None  None    None    None  None  "
      ]
     },
     "execution_count": 47,
     "metadata": {},
     "output_type": "execute_result"
    }
   ],
   "source": [
    "# display the duplicated `expanded_urls` to double check their existance after some records in \n",
    "# issue 1 and 2 were dropped\n",
    "df_twitter_archive_clean[df_twitter_archive_clean['expanded_urls'].duplicated(keep=False)].sort_values(by='expanded_urls')"
   ]
  },
  {
   "cell_type": "markdown",
   "metadata": {
    "pycharm": {
     "name": "#%% md\n"
    }
   },
   "source": [
    "**Observation:**\n",
    "\n",
    "Only 1 duplicate still remain after we dropped retweets and replies. We should not drop rows with NaN values"
   ]
  },
  {
   "cell_type": "code",
   "execution_count": 48,
   "metadata": {
    "pycharm": {
     "name": "#%%\n"
    }
   },
   "outputs": [],
   "source": [
    "# remove the 1 duplicate that still exist\n",
    "df_twitter_archive_clean = df_twitter_archive_clean[(~df_twitter_archive_clean['expanded_urls'].duplicated(keep='first')) | (df_twitter_archive_clean['expanded_urls'].isnull())]"
   ]
  },
  {
   "cell_type": "markdown",
   "metadata": {
    "pycharm": {
     "name": "#%% md\n"
    }
   },
   "source": [
    "#### Test"
   ]
  },
  {
   "cell_type": "code",
   "execution_count": 49,
   "metadata": {
    "pycharm": {
     "name": "#%%\n"
    }
   },
   "outputs": [],
   "source": [
    "# only 1 record should be dropped\n",
    "assert (records_before - df_twitter_archive_clean.shape[0]) == 1"
   ]
  },
  {
   "cell_type": "code",
   "execution_count": 50,
   "metadata": {
    "pycharm": {
     "name": "#%%\n"
    }
   },
   "outputs": [
    {
     "data": {
      "text/html": [
       "<div>\n",
       "<style scoped>\n",
       "    .dataframe tbody tr th:only-of-type {\n",
       "        vertical-align: middle;\n",
       "    }\n",
       "\n",
       "    .dataframe tbody tr th {\n",
       "        vertical-align: top;\n",
       "    }\n",
       "\n",
       "    .dataframe thead th {\n",
       "        text-align: right;\n",
       "    }\n",
       "</style>\n",
       "<table border=\"1\" class=\"dataframe\">\n",
       "  <thead>\n",
       "    <tr style=\"text-align: right;\">\n",
       "      <th></th>\n",
       "      <th>tweet_id</th>\n",
       "      <th>in_reply_to_status_id</th>\n",
       "      <th>in_reply_to_user_id</th>\n",
       "      <th>timestamp</th>\n",
       "      <th>source</th>\n",
       "      <th>text</th>\n",
       "      <th>retweeted_status_id</th>\n",
       "      <th>retweeted_status_user_id</th>\n",
       "      <th>retweeted_status_timestamp</th>\n",
       "      <th>expanded_urls</th>\n",
       "      <th>rating_numerator</th>\n",
       "      <th>rating_denominator</th>\n",
       "      <th>name</th>\n",
       "      <th>doggo</th>\n",
       "      <th>floofer</th>\n",
       "      <th>pupper</th>\n",
       "      <th>puppo</th>\n",
       "    </tr>\n",
       "  </thead>\n",
       "  <tbody>\n",
       "    <tr>\n",
       "      <th>2212</th>\n",
       "      <td>668587383441514497</td>\n",
       "      <td>NaN</td>\n",
       "      <td>NaN</td>\n",
       "      <td>2015-11-23 00:30:28 +0000</td>\n",
       "      <td>&lt;a href=\"http://vine.co\" rel=\"nofollow\"&gt;Vine - Make a Scene&lt;/a&gt;</td>\n",
       "      <td>Never forget this vine. You will not stop watching for at least 15 minutes. This is the second coveted.. 13/10 https://t.co/roqIxCvEB3</td>\n",
       "      <td>NaN</td>\n",
       "      <td>NaN</td>\n",
       "      <td>NaN</td>\n",
       "      <td>https://vine.co/v/ea0OwvPTx9l</td>\n",
       "      <td>13</td>\n",
       "      <td>10</td>\n",
       "      <td>the</td>\n",
       "      <td>None</td>\n",
       "      <td>None</td>\n",
       "      <td>None</td>\n",
       "      <td>None</td>\n",
       "    </tr>\n",
       "  </tbody>\n",
       "</table>\n",
       "</div>"
      ],
      "text/plain": [
       "                tweet_id  in_reply_to_status_id  in_reply_to_user_id  \\\n",
       "2212  668587383441514497                    NaN                  NaN   \n",
       "\n",
       "                      timestamp  \\\n",
       "2212  2015-11-23 00:30:28 +0000   \n",
       "\n",
       "                                                               source  \\\n",
       "2212  <a href=\"http://vine.co\" rel=\"nofollow\">Vine - Make a Scene</a>   \n",
       "\n",
       "                                                                                                                                        text  \\\n",
       "2212  Never forget this vine. You will not stop watching for at least 15 minutes. This is the second coveted.. 13/10 https://t.co/roqIxCvEB3   \n",
       "\n",
       "      retweeted_status_id  retweeted_status_user_id  \\\n",
       "2212                  NaN                       NaN   \n",
       "\n",
       "     retweeted_status_timestamp                  expanded_urls  \\\n",
       "2212                        NaN  https://vine.co/v/ea0OwvPTx9l   \n",
       "\n",
       "      rating_numerator  rating_denominator name doggo floofer pupper puppo  \n",
       "2212                13                  10  the  None    None   None  None  "
      ]
     },
     "execution_count": 50,
     "metadata": {},
     "output_type": "execute_result"
    }
   ],
   "source": [
    "# Make sure we kept the first tweet_id\n",
    "df_twitter_archive_clean[df_twitter_archive_clean['tweet_id'] == 668587383441514497]"
   ]
  },
  {
   "cell_type": "markdown",
   "metadata": {
    "pycharm": {
     "name": "#%% md\n"
    }
   },
   "source": [
    "<span style=\"color:blue; font-size:18px; font-family: Calibri;\">Quality Issue #6: twitter_archive: 23 records (prior start of cleaning) have ratings_denominator values other than 10</span>"
   ]
  },
  {
   "cell_type": "markdown",
   "metadata": {
    "pycharm": {
     "name": "#%% md\n"
    }
   },
   "source": [
    "#### Define: Filter the dataset where `ratings_demominator` == 10"
   ]
  },
  {
   "cell_type": "markdown",
   "metadata": {
    "pycharm": {
     "name": "#%% md\n"
    }
   },
   "source": [
    "## Code"
   ]
  },
  {
   "cell_type": "code",
   "execution_count": 51,
   "metadata": {
    "pycharm": {
     "name": "#%%\n"
    }
   },
   "outputs": [],
   "source": [
    "# Take snapshot of number of records before\n",
    "records_before = df_twitter_archive_clean.shape[0]"
   ]
  },
  {
   "cell_type": "code",
   "execution_count": 52,
   "metadata": {
    "pycharm": {
     "name": "#%%\n"
    }
   },
   "outputs": [],
   "source": [
    "df_twitter_archive_clean = df_twitter_archive_clean[df_twitter_archive_clean['rating_denominator'] == 10]"
   ]
  },
  {
   "cell_type": "markdown",
   "metadata": {
    "pycharm": {
     "name": "#%% md\n"
    }
   },
   "source": [
    "#### Test"
   ]
  },
  {
   "cell_type": "code",
   "execution_count": 53,
   "metadata": {
    "pycharm": {
     "name": "#%%\n"
    }
   },
   "outputs": [
    {
     "name": "stdout",
     "output_type": "stream",
     "text": [
      "Number of records dropped: 17\n"
     ]
    }
   ],
   "source": [
    "records_after = df_twitter_archive_clean.shape[0]\n",
    "print('Number of records dropped: {}'.format(records_before - records_after))"
   ]
  },
  {
   "cell_type": "code",
   "execution_count": 54,
   "metadata": {
    "pycharm": {
     "name": "#%%\n"
    }
   },
   "outputs": [],
   "source": [
    "# 'rating_denomitor' should only have the value 10\n",
    "assert len(df_twitter_archive_clean[df_twitter_archive_clean['rating_denominator'] != 10]) == 0"
   ]
  },
  {
   "cell_type": "markdown",
   "metadata": {
    "pycharm": {
     "name": "#%% md\n"
    }
   },
   "source": [
    "<span style=\"color:blue; font-size:18px; font-family: Calibri;\">Quality Issue #7: twitter_archive: expanded_urls contains more than one url sometimes (e.g. tweet id 853299958564483072)</span>"
   ]
  },
  {
   "cell_type": "markdown",
   "metadata": {
    "pycharm": {
     "name": "#%% md\n"
    }
   },
   "source": [
    "#### Define: Split expanded_urls column using pandas `str.split()` method with ',' as delimiter and take the first entry. "
   ]
  },
  {
   "cell_type": "markdown",
   "metadata": {
    "pycharm": {
     "name": "#%% md\n"
    }
   },
   "source": [
    "#### Code"
   ]
  },
  {
   "cell_type": "code",
   "execution_count": 55,
   "metadata": {
    "pycharm": {
     "name": "#%%\n"
    }
   },
   "outputs": [
    {
     "data": {
      "text/html": [
       "<div>\n",
       "<style scoped>\n",
       "    .dataframe tbody tr th:only-of-type {\n",
       "        vertical-align: middle;\n",
       "    }\n",
       "\n",
       "    .dataframe tbody tr th {\n",
       "        vertical-align: top;\n",
       "    }\n",
       "\n",
       "    .dataframe thead th {\n",
       "        text-align: right;\n",
       "    }\n",
       "</style>\n",
       "<table border=\"1\" class=\"dataframe\">\n",
       "  <thead>\n",
       "    <tr style=\"text-align: right;\">\n",
       "      <th></th>\n",
       "      <th>tweet_id</th>\n",
       "      <th>in_reply_to_status_id</th>\n",
       "      <th>in_reply_to_user_id</th>\n",
       "      <th>timestamp</th>\n",
       "      <th>source</th>\n",
       "      <th>text</th>\n",
       "      <th>retweeted_status_id</th>\n",
       "      <th>retweeted_status_user_id</th>\n",
       "      <th>retweeted_status_timestamp</th>\n",
       "      <th>expanded_urls</th>\n",
       "      <th>rating_numerator</th>\n",
       "      <th>rating_denominator</th>\n",
       "      <th>name</th>\n",
       "      <th>doggo</th>\n",
       "      <th>floofer</th>\n",
       "      <th>pupper</th>\n",
       "      <th>puppo</th>\n",
       "    </tr>\n",
       "  </thead>\n",
       "  <tbody>\n",
       "    <tr>\n",
       "      <th>203</th>\n",
       "      <td>853299958564483072</td>\n",
       "      <td>NaN</td>\n",
       "      <td>NaN</td>\n",
       "      <td>2017-04-15 17:32:18 +0000</td>\n",
       "      <td>&lt;a href=\"http://twitter.com/download/iphone\" rel=\"nofollow\"&gt;Twitter for iPhone&lt;/a&gt;</td>\n",
       "      <td>This is Rumpole. He'll be your Uber driver this evening. Won't start driving until you buckle pup. 13/10 h*ckin safe good boy https://t.co/EX9Z3EXlVP</td>\n",
       "      <td>NaN</td>\n",
       "      <td>NaN</td>\n",
       "      <td>NaN</td>\n",
       "      <td>https://twitter.com/dog_rates/status/853299958564483072/photo/1,https://twitter.com/dog_rates/status/853299958564483072/photo/1</td>\n",
       "      <td>13</td>\n",
       "      <td>10</td>\n",
       "      <td>Rumpole</td>\n",
       "      <td>None</td>\n",
       "      <td>None</td>\n",
       "      <td>None</td>\n",
       "      <td>None</td>\n",
       "    </tr>\n",
       "  </tbody>\n",
       "</table>\n",
       "</div>"
      ],
      "text/plain": [
       "               tweet_id  in_reply_to_status_id  in_reply_to_user_id  \\\n",
       "203  853299958564483072                    NaN                  NaN   \n",
       "\n",
       "                     timestamp  \\\n",
       "203  2017-04-15 17:32:18 +0000   \n",
       "\n",
       "                                                                                 source  \\\n",
       "203  <a href=\"http://twitter.com/download/iphone\" rel=\"nofollow\">Twitter for iPhone</a>   \n",
       "\n",
       "                                                                                                                                                      text  \\\n",
       "203  This is Rumpole. He'll be your Uber driver this evening. Won't start driving until you buckle pup. 13/10 h*ckin safe good boy https://t.co/EX9Z3EXlVP   \n",
       "\n",
       "     retweeted_status_id  retweeted_status_user_id retweeted_status_timestamp  \\\n",
       "203                  NaN                       NaN                        NaN   \n",
       "\n",
       "                                                                                                                       expanded_urls  \\\n",
       "203  https://twitter.com/dog_rates/status/853299958564483072/photo/1,https://twitter.com/dog_rates/status/853299958564483072/photo/1   \n",
       "\n",
       "     rating_numerator  rating_denominator     name doggo floofer pupper puppo  \n",
       "203                13                  10  Rumpole  None    None   None  None  "
      ]
     },
     "execution_count": 55,
     "metadata": {},
     "output_type": "execute_result"
    }
   ],
   "source": [
    "# display example tweet prior cleaning\n",
    "df_twitter_archive_clean.query('tweet_id == 853299958564483072')"
   ]
  },
  {
   "cell_type": "code",
   "execution_count": 56,
   "metadata": {
    "pycharm": {
     "name": "#%%\n"
    }
   },
   "outputs": [],
   "source": [
    "df_twitter_archive_clean['expanded_urls'] = df_twitter_archive_clean['expanded_urls'].str.split(',').str[0]"
   ]
  },
  {
   "cell_type": "markdown",
   "metadata": {
    "pycharm": {
     "name": "#%% md\n"
    }
   },
   "source": [
    "#### Test"
   ]
  },
  {
   "cell_type": "code",
   "execution_count": 57,
   "metadata": {
    "pycharm": {
     "name": "#%%\n"
    }
   },
   "outputs": [
    {
     "data": {
      "text/html": [
       "<div>\n",
       "<style scoped>\n",
       "    .dataframe tbody tr th:only-of-type {\n",
       "        vertical-align: middle;\n",
       "    }\n",
       "\n",
       "    .dataframe tbody tr th {\n",
       "        vertical-align: top;\n",
       "    }\n",
       "\n",
       "    .dataframe thead th {\n",
       "        text-align: right;\n",
       "    }\n",
       "</style>\n",
       "<table border=\"1\" class=\"dataframe\">\n",
       "  <thead>\n",
       "    <tr style=\"text-align: right;\">\n",
       "      <th></th>\n",
       "      <th>tweet_id</th>\n",
       "      <th>in_reply_to_status_id</th>\n",
       "      <th>in_reply_to_user_id</th>\n",
       "      <th>timestamp</th>\n",
       "      <th>source</th>\n",
       "      <th>text</th>\n",
       "      <th>retweeted_status_id</th>\n",
       "      <th>retweeted_status_user_id</th>\n",
       "      <th>retweeted_status_timestamp</th>\n",
       "      <th>expanded_urls</th>\n",
       "      <th>rating_numerator</th>\n",
       "      <th>rating_denominator</th>\n",
       "      <th>name</th>\n",
       "      <th>doggo</th>\n",
       "      <th>floofer</th>\n",
       "      <th>pupper</th>\n",
       "      <th>puppo</th>\n",
       "    </tr>\n",
       "  </thead>\n",
       "  <tbody>\n",
       "    <tr>\n",
       "      <th>203</th>\n",
       "      <td>853299958564483072</td>\n",
       "      <td>NaN</td>\n",
       "      <td>NaN</td>\n",
       "      <td>2017-04-15 17:32:18 +0000</td>\n",
       "      <td>&lt;a href=\"http://twitter.com/download/iphone\" rel=\"nofollow\"&gt;Twitter for iPhone&lt;/a&gt;</td>\n",
       "      <td>This is Rumpole. He'll be your Uber driver this evening. Won't start driving until you buckle pup. 13/10 h*ckin safe good boy https://t.co/EX9Z3EXlVP</td>\n",
       "      <td>NaN</td>\n",
       "      <td>NaN</td>\n",
       "      <td>NaN</td>\n",
       "      <td>https://twitter.com/dog_rates/status/853299958564483072/photo/1</td>\n",
       "      <td>13</td>\n",
       "      <td>10</td>\n",
       "      <td>Rumpole</td>\n",
       "      <td>None</td>\n",
       "      <td>None</td>\n",
       "      <td>None</td>\n",
       "      <td>None</td>\n",
       "    </tr>\n",
       "  </tbody>\n",
       "</table>\n",
       "</div>"
      ],
      "text/plain": [
       "               tweet_id  in_reply_to_status_id  in_reply_to_user_id  \\\n",
       "203  853299958564483072                    NaN                  NaN   \n",
       "\n",
       "                     timestamp  \\\n",
       "203  2017-04-15 17:32:18 +0000   \n",
       "\n",
       "                                                                                 source  \\\n",
       "203  <a href=\"http://twitter.com/download/iphone\" rel=\"nofollow\">Twitter for iPhone</a>   \n",
       "\n",
       "                                                                                                                                                      text  \\\n",
       "203  This is Rumpole. He'll be your Uber driver this evening. Won't start driving until you buckle pup. 13/10 h*ckin safe good boy https://t.co/EX9Z3EXlVP   \n",
       "\n",
       "     retweeted_status_id  retweeted_status_user_id retweeted_status_timestamp  \\\n",
       "203                  NaN                       NaN                        NaN   \n",
       "\n",
       "                                                       expanded_urls  \\\n",
       "203  https://twitter.com/dog_rates/status/853299958564483072/photo/1   \n",
       "\n",
       "     rating_numerator  rating_denominator     name doggo floofer pupper puppo  \n",
       "203                13                  10  Rumpole  None    None   None  None  "
      ]
     },
     "execution_count": 57,
     "metadata": {},
     "output_type": "execute_result"
    }
   ],
   "source": [
    "# display example tweet after cleaning\n",
    "df_twitter_archive_clean.query('tweet_id == 853299958564483072')"
   ]
  },
  {
   "cell_type": "markdown",
   "metadata": {
    "pycharm": {
     "name": "#%% md\n"
    }
   },
   "source": [
    "<span style=\"color:blue; font-size:18px; font-family: Calibri;\">Quality Issue #8: twitter_archive: name starting with lower case are not valid dog names e.g. 'the, 'actually', 'this', 'one'</span>"
   ]
  },
  {
   "cell_type": "markdown",
   "metadata": {
    "pycharm": {
     "name": "#%% md\n"
    }
   },
   "source": [
    "#### Define: Replace dog names which contain only lower case names with np.nan. Create a temporary 'lower' column which contain a boolean flag if the dog name is only lower case. Override the contents of dog name with np.nan where the new boolean flag is true. Drop the temporary 'lower' column as last step."
   ]
  },
  {
   "cell_type": "markdown",
   "metadata": {
    "pycharm": {
     "name": "#%% md\n"
    }
   },
   "source": [
    "#### Code"
   ]
  },
  {
   "cell_type": "code",
   "execution_count": 58,
   "metadata": {
    "pycharm": {
     "name": "#%%\n"
    }
   },
   "outputs": [
    {
     "name": "stdout",
     "output_type": "stream",
     "text": [
      "Number of records where dog name contain np.nan: 591\n"
     ]
    }
   ],
   "source": [
    "# How many dog names do we have with np.nan ?\n",
    "nan_before = df_twitter_archive_clean['name'].isna().sum()\n",
    "print('Number of records where dog name contain np.nan: {}'.format(nan_before))"
   ]
  },
  {
   "cell_type": "code",
   "execution_count": 59,
   "metadata": {
    "pycharm": {
     "name": "#%%\n"
    }
   },
   "outputs": [
    {
     "name": "stdout",
     "output_type": "stream",
     "text": [
      "Number of records with only lower case dog names: 101\n"
     ]
    }
   ],
   "source": [
    "# create a new column with flag if dog name only contains lower case characters\n",
    "df_twitter_archive_clean['lower'] = df_twitter_archive_clean['name'].str.islower()\n",
    "lowercase_records = len(df_twitter_archive_clean[df_twitter_archive_clean['lower'] == True])\n",
    "print('Number of records with only lower case dog names: {}'.format(lowercase_records))"
   ]
  },
  {
   "cell_type": "code",
   "execution_count": 60,
   "metadata": {
    "pycharm": {
     "name": "#%%\n"
    }
   },
   "outputs": [],
   "source": [
    "# change dog name with only lower case values to nan\n",
    "df_twitter_archive_clean.loc[df_twitter_archive_clean['lower'] == True, 'name'] = np.nan"
   ]
  },
  {
   "cell_type": "code",
   "execution_count": 61,
   "metadata": {
    "pycharm": {
     "name": "#%%\n"
    }
   },
   "outputs": [],
   "source": [
    "# drop temp column 'lower'\n",
    "df_twitter_archive_clean.drop(['lower'], axis=1, inplace=True)"
   ]
  },
  {
   "cell_type": "markdown",
   "metadata": {
    "pycharm": {
     "name": "#%% md\n"
    }
   },
   "source": [
    "#### Test"
   ]
  },
  {
   "cell_type": "code",
   "execution_count": 62,
   "metadata": {
    "pycharm": {
     "name": "#%%\n"
    }
   },
   "outputs": [],
   "source": [
    "# We expect to have 101 more records where dog name = np.nan\n",
    "assert (nan_before + lowercase_records) == df_twitter_archive_clean['name'].isna().sum()"
   ]
  },
  {
   "cell_type": "markdown",
   "metadata": {
    "pycharm": {
     "name": "#%% md\n"
    }
   },
   "source": [
    "<span style=\"color:blue; font-size:18px; font-family: Calibri;\">Quality Issue #9: twitter_api: 'id' column should be called 'tweet_id' to be consistent with twitter_archive table</span>"
   ]
  },
  {
   "cell_type": "markdown",
   "metadata": {
    "pycharm": {
     "name": "#%% md\n"
    }
   },
   "source": [
    "#### Define: rename column 'id' to 'tweet_id' using pandas `rename()` method"
   ]
  },
  {
   "cell_type": "markdown",
   "metadata": {
    "pycharm": {
     "name": "#%% md\n"
    }
   },
   "source": [
    "#### Code"
   ]
  },
  {
   "cell_type": "code",
   "execution_count": 63,
   "metadata": {
    "pycharm": {
     "name": "#%%\n"
    }
   },
   "outputs": [],
   "source": [
    "df_tweepy_clean.rename({'id': 'tweet_id'}, axis=1, inplace=True)"
   ]
  },
  {
   "cell_type": "markdown",
   "metadata": {
    "pycharm": {
     "name": "#%% md\n"
    }
   },
   "source": [
    "#### Test"
   ]
  },
  {
   "cell_type": "code",
   "execution_count": 64,
   "metadata": {
    "pycharm": {
     "name": "#%%\n"
    }
   },
   "outputs": [],
   "source": [
    "# check that first column name is now 'tweet_id'\n",
    "assert df_tweepy_clean.columns[0] == 'tweet_id'"
   ]
  },
  {
   "cell_type": "markdown",
   "metadata": {
    "pycharm": {
     "name": "#%% md\n"
    }
   },
   "source": [
    "<a id='tidiness'></a>\n",
    "<span style=\"color:blue; font-size:25px; line-height:40px; font-family: Calibri;\">Tidiness issues</span>"
   ]
  },
  {
   "cell_type": "markdown",
   "metadata": {
    "pycharm": {
     "name": "#%% md\n"
    }
   },
   "source": [
    "<span style=\"color:blue; font-size:18px; font-family: Calibri;\">Tidiness Issue #1: timestamp should be type datetime</span>"
   ]
  },
  {
   "cell_type": "markdown",
   "metadata": {
    "pycharm": {
     "name": "#%% md\n"
    }
   },
   "source": [
    "#### Define: convert timestamp from type string to datetime using pandas `to_datetime` method.  Only keep the date part of the timestamp and drop the time."
   ]
  },
  {
   "cell_type": "markdown",
   "metadata": {
    "pycharm": {
     "name": "#%% md\n"
    }
   },
   "source": [
    "#### Code"
   ]
  },
  {
   "cell_type": "code",
   "execution_count": 65,
   "metadata": {
    "pycharm": {
     "name": "#%%\n"
    }
   },
   "outputs": [],
   "source": [
    "df_twitter_archive_clean['timestamp'] = pd.to_datetime(df_twitter_archive_clean['timestamp']).dt.date.astype('datetime64[ns]')"
   ]
  },
  {
   "cell_type": "markdown",
   "metadata": {
    "pycharm": {
     "name": "#%% md\n"
    }
   },
   "source": [
    "#### Test"
   ]
  },
  {
   "cell_type": "code",
   "execution_count": 66,
   "metadata": {
    "pycharm": {
     "name": "#%%\n"
    }
   },
   "outputs": [],
   "source": [
    "assert df_twitter_archive_clean.timestamp.dtype.name == 'datetime64[ns]'"
   ]
  },
  {
   "cell_type": "code",
   "execution_count": 67,
   "metadata": {
    "pycharm": {
     "name": "#%%\n"
    }
   },
   "outputs": [
    {
     "data": {
      "text/plain": [
       "1415   2016-02-14\n",
       "752    2016-09-22\n",
       "1133   2016-05-07\n",
       "1280   2016-03-13\n",
       "1835   2015-12-13\n",
       "1360   2016-02-26\n",
       "1258   2016-03-17\n",
       "1490   2016-01-29\n",
       "1668   2015-12-31\n",
       "783    2016-09-12\n",
       "Name: timestamp, dtype: datetime64[ns]"
      ]
     },
     "execution_count": 67,
     "metadata": {},
     "output_type": "execute_result"
    }
   ],
   "source": [
    "# timestamp should now contain only a date without time\n",
    "df_twitter_archive_clean.timestamp.sample(10)"
   ]
  },
  {
   "cell_type": "markdown",
   "metadata": {
    "pycharm": {
     "name": "#%% md\n"
    }
   },
   "source": [
    "<span style=\"color:blue; font-size:18px; font-family: Calibri;\">Tidiness Issue #2: source contain multiple pieces of information: url and source</span>"
   ]
  },
  {
   "cell_type": "markdown",
   "metadata": {
    "pycharm": {
     "name": "#%% md\n"
    }
   },
   "source": [
    "#### Define: keep only the source part of the text, by using `str.split` statement using '>' as a delimiter. Keep all the text after the delimiter."
   ]
  },
  {
   "cell_type": "markdown",
   "metadata": {
    "pycharm": {
     "name": "#%% md\n"
    }
   },
   "source": [
    "#### Code"
   ]
  },
  {
   "cell_type": "code",
   "execution_count": 68,
   "metadata": {
    "pycharm": {
     "name": "#%%\n"
    }
   },
   "outputs": [
    {
     "data": {
      "text/plain": [
       "array(['<a href=\"http://twitter.com/download/iphone\" rel=\"nofollow\">Twitter for iPhone</a>',\n",
       "       '<a href=\"http://twitter.com\" rel=\"nofollow\">Twitter Web Client</a>',\n",
       "       '<a href=\"http://vine.co\" rel=\"nofollow\">Vine - Make a Scene</a>',\n",
       "       '<a href=\"https://about.twitter.com/products/tweetdeck\" rel=\"nofollow\">TweetDeck</a>'],\n",
       "      dtype=object)"
      ]
     },
     "execution_count": 68,
     "metadata": {},
     "output_type": "execute_result"
    }
   ],
   "source": [
    "# inspect unique entries before clean-up\n",
    "df_twitter_archive_clean['source'].unique()"
   ]
  },
  {
   "cell_type": "code",
   "execution_count": 69,
   "metadata": {
    "pycharm": {
     "name": "#%%\n"
    }
   },
   "outputs": [],
   "source": [
    "df_twitter_archive_clean['source'] = df_twitter_archive_clean.source.str.split(\">\").str[-2].str.replace('</a', '')"
   ]
  },
  {
   "cell_type": "markdown",
   "metadata": {
    "pycharm": {
     "name": "#%% md\n"
    }
   },
   "source": [
    "#### Test"
   ]
  },
  {
   "cell_type": "code",
   "execution_count": 70,
   "metadata": {
    "pycharm": {
     "name": "#%%\n"
    }
   },
   "outputs": [
    {
     "data": {
      "text/plain": [
       "array(['Twitter for iPhone', 'Twitter Web Client', 'Vine - Make a Scene',\n",
       "       'TweetDeck'], dtype=object)"
      ]
     },
     "execution_count": 70,
     "metadata": {},
     "output_type": "execute_result"
    }
   ],
   "source": [
    "# inspect unique entries after clean-up, it should now only contain the source\n",
    "df_twitter_archive_clean['source'].unique()"
   ]
  },
  {
   "cell_type": "markdown",
   "metadata": {
    "pycharm": {
     "name": "#%% md\n"
    }
   },
   "source": [
    "<span style=\"color:blue; font-size:18px; font-family: Calibri;\">Tidiness Issue #3: text contains multiple information: text, score and url</span>"
   ]
  },
  {
   "cell_type": "markdown",
   "metadata": {
    "pycharm": {
     "name": "#%% md\n"
    }
   },
   "source": [
    "#### Define: Create a new column 'cleantext', by remove the score and url from the original text field, using regex expressions. First remove the URL, then remove all text after the score pattern, dropping temporary fields that are needed as last step."
   ]
  },
  {
   "cell_type": "markdown",
   "metadata": {
    "pycharm": {
     "name": "#%% md\n"
    }
   },
   "source": [
    "#### Code"
   ]
  },
  {
   "cell_type": "code",
   "execution_count": 71,
   "metadata": {
    "pycharm": {
     "name": "#%%\n"
    }
   },
   "outputs": [],
   "source": [
    "# first remove the URL pattern\n",
    "df_twitter_archive_clean['tmptext'] = df_twitter_archive_clean['text'].str.split('https:\\/\\/.*').str[0].str.rstrip()"
   ]
  },
  {
   "cell_type": "code",
   "execution_count": 72,
   "metadata": {
    "pycharm": {
     "name": "#%%\n"
    }
   },
   "outputs": [],
   "source": [
    "# second remove all text after the score pattern\n",
    "df_twitter_archive_clean['cleantext'] = df_twitter_archive_clean['tmptext'].str.split('\\d+/\\d+').str[0]\n",
    "\n",
    "# drop tempory fields no longer needed\n",
    "df_twitter_archive_clean.drop(['tmptext'], axis=1, inplace=True)"
   ]
  },
  {
   "cell_type": "markdown",
   "metadata": {
    "pycharm": {
     "name": "#%% md\n"
    }
   },
   "source": [
    "#### Test"
   ]
  },
  {
   "cell_type": "code",
   "execution_count": 73,
   "metadata": {
    "pycharm": {
     "name": "#%%\n"
    }
   },
   "outputs": [
    {
     "data": {
      "text/html": [
       "<div>\n",
       "<style scoped>\n",
       "    .dataframe tbody tr th:only-of-type {\n",
       "        vertical-align: middle;\n",
       "    }\n",
       "\n",
       "    .dataframe tbody tr th {\n",
       "        vertical-align: top;\n",
       "    }\n",
       "\n",
       "    .dataframe thead th {\n",
       "        text-align: right;\n",
       "    }\n",
       "</style>\n",
       "<table border=\"1\" class=\"dataframe\">\n",
       "  <thead>\n",
       "    <tr style=\"text-align: right;\">\n",
       "      <th></th>\n",
       "      <th>text</th>\n",
       "      <th>cleantext</th>\n",
       "    </tr>\n",
       "  </thead>\n",
       "  <tbody>\n",
       "    <tr>\n",
       "      <th>2191</th>\n",
       "      <td>This is a Slovakian Helter Skelter Feta named Leroi. Likes to skip on roofs. Good traction. Much balance. 10/10 wow! https://t.co/Dmy2mY2Qj5</td>\n",
       "      <td>This is a Slovakian Helter Skelter Feta named Leroi. Likes to skip on roofs. Good traction. Much balance.</td>\n",
       "    </tr>\n",
       "    <tr>\n",
       "      <th>1877</th>\n",
       "      <td>C'mon guys. We've been over this. We only rate dogs. This is a cow. Please only submit dogs. Thank you...... 9/10 https://t.co/WjcELNEqN2</td>\n",
       "      <td>C'mon guys. We've been over this. We only rate dogs. This is a cow. Please only submit dogs. Thank you......</td>\n",
       "    </tr>\n",
       "    <tr>\n",
       "      <th>2007</th>\n",
       "      <td>This is Kreg. He has the eyes of a tyrannical dictator. Will not rest until household is his. 10/10 https://t.co/TUeuaOmunV</td>\n",
       "      <td>This is Kreg. He has the eyes of a tyrannical dictator. Will not rest until household is his.</td>\n",
       "    </tr>\n",
       "    <tr>\n",
       "      <th>2339</th>\n",
       "      <td>Oh my. Here you are seeing an Adobe Setter giving birth to twins!!! The world is an amazing place. 11/10 https://t.co/11LvqN4WLq</td>\n",
       "      <td>Oh my. Here you are seeing an Adobe Setter giving birth to twins!!! The world is an amazing place.</td>\n",
       "    </tr>\n",
       "    <tr>\n",
       "      <th>467</th>\n",
       "      <td>Name a more iconic quartet... I'll wait. 13/10 for all https://t.co/kCLgD8687T</td>\n",
       "      <td>Name a more iconic quartet... I'll wait.</td>\n",
       "    </tr>\n",
       "    <tr>\n",
       "      <th>1289</th>\n",
       "      <td>This is Jebberson. He's the reigning hide and seek world champion. 10/10 hasn't lost his touch https://t.co/VEFkvWCoHF</td>\n",
       "      <td>This is Jebberson. He's the reigning hide and seek world champion.</td>\n",
       "    </tr>\n",
       "    <tr>\n",
       "      <th>1450</th>\n",
       "      <td>Here's a dog enjoying a sunset. 11/10 would trade lives with https://t.co/VsQdLxrv9h</td>\n",
       "      <td>Here's a dog enjoying a sunset.</td>\n",
       "    </tr>\n",
       "    <tr>\n",
       "      <th>1198</th>\n",
       "      <td>This is Link. He struggles with couches. 10/10 would assist https://t.co/SbX4e6Yg3o</td>\n",
       "      <td>This is Link. He struggles with couches.</td>\n",
       "    </tr>\n",
       "    <tr>\n",
       "      <th>1995</th>\n",
       "      <td>Meet Scott. Just trying to catch his train to work. Doesn't need everybody staring. 9/10 ignore the haters pupper https://t.co/jyXbZ35MYz</td>\n",
       "      <td>Meet Scott. Just trying to catch his train to work. Doesn't need everybody staring.</td>\n",
       "    </tr>\n",
       "    <tr>\n",
       "      <th>1121</th>\n",
       "      <td>We only rate dogs. Pls stop sending non-canines like this Bulgarian Eyeless Porch Bear. This is unacceptable... 9/10 https://t.co/2yctWAUZ3Z</td>\n",
       "      <td>We only rate dogs. Pls stop sending non-canines like this Bulgarian Eyeless Porch Bear. This is unacceptable...</td>\n",
       "    </tr>\n",
       "  </tbody>\n",
       "</table>\n",
       "</div>"
      ],
      "text/plain": [
       "                                                                                                                                              text  \\\n",
       "2191  This is a Slovakian Helter Skelter Feta named Leroi. Likes to skip on roofs. Good traction. Much balance. 10/10 wow! https://t.co/Dmy2mY2Qj5   \n",
       "1877     C'mon guys. We've been over this. We only rate dogs. This is a cow. Please only submit dogs. Thank you...... 9/10 https://t.co/WjcELNEqN2   \n",
       "2007                   This is Kreg. He has the eyes of a tyrannical dictator. Will not rest until household is his. 10/10 https://t.co/TUeuaOmunV   \n",
       "2339              Oh my. Here you are seeing an Adobe Setter giving birth to twins!!! The world is an amazing place. 11/10 https://t.co/11LvqN4WLq   \n",
       "467                                                                 Name a more iconic quartet... I'll wait. 13/10 for all https://t.co/kCLgD8687T   \n",
       "1289                        This is Jebberson. He's the reigning hide and seek world champion. 10/10 hasn't lost his touch https://t.co/VEFkvWCoHF   \n",
       "1450                                                          Here's a dog enjoying a sunset. 11/10 would trade lives with https://t.co/VsQdLxrv9h   \n",
       "1198                                                           This is Link. He struggles with couches. 10/10 would assist https://t.co/SbX4e6Yg3o   \n",
       "1995     Meet Scott. Just trying to catch his train to work. Doesn't need everybody staring. 9/10 ignore the haters pupper https://t.co/jyXbZ35MYz   \n",
       "1121  We only rate dogs. Pls stop sending non-canines like this Bulgarian Eyeless Porch Bear. This is unacceptable... 9/10 https://t.co/2yctWAUZ3Z   \n",
       "\n",
       "                                                                                                             cleantext  \n",
       "2191        This is a Slovakian Helter Skelter Feta named Leroi. Likes to skip on roofs. Good traction. Much balance.   \n",
       "1877     C'mon guys. We've been over this. We only rate dogs. This is a cow. Please only submit dogs. Thank you......   \n",
       "2007                    This is Kreg. He has the eyes of a tyrannical dictator. Will not rest until household is his.   \n",
       "2339               Oh my. Here you are seeing an Adobe Setter giving birth to twins!!! The world is an amazing place.   \n",
       "467                                                                          Name a more iconic quartet... I'll wait.   \n",
       "1289                                               This is Jebberson. He's the reigning hide and seek world champion.   \n",
       "1450                                                                                  Here's a dog enjoying a sunset.   \n",
       "1198                                                                         This is Link. He struggles with couches.   \n",
       "1995                              Meet Scott. Just trying to catch his train to work. Doesn't need everybody staring.   \n",
       "1121  We only rate dogs. Pls stop sending non-canines like this Bulgarian Eyeless Porch Bear. This is unacceptable...   "
      ]
     },
     "execution_count": 73,
     "metadata": {},
     "output_type": "execute_result"
    }
   ],
   "source": [
    "df_twitter_archive_clean[['text', 'cleantext']].sample(10)"
   ]
  },
  {
   "cell_type": "markdown",
   "metadata": {
    "pycharm": {
     "name": "#%% md\n"
    }
   },
   "source": [
    "<span style=\"color:blue; font-size:18px; font-family: Calibri;\">Tidiness Issue #4:  Columns exist with 90% missing data: in_reply_to_status_id, in_reply_to_user_id, retweeted_status_id, retweeted_status_user_id, retweeted_status_timestamp</span>"
   ]
  },
  {
   "cell_type": "markdown",
   "metadata": {
    "pycharm": {
     "name": "#%% md\n"
    }
   },
   "source": [
    "#### Define: drop columns no longer needed after retweets and replies are removed. Columns to drop: in_reply_to_status_id\tin_reply_to_user_id, retweeted_status_id\tretweeted_status_user_id, retweeted_status_timestamp"
   ]
  },
  {
   "cell_type": "markdown",
   "metadata": {
    "pycharm": {
     "name": "#%% md\n"
    }
   },
   "source": [
    "#### Code"
   ]
  },
  {
   "cell_type": "code",
   "execution_count": 74,
   "metadata": {
    "pycharm": {
     "name": "#%%\n"
    }
   },
   "outputs": [],
   "source": [
    "cols_to_drop = ['in_reply_to_status_id', 'in_reply_to_user_id', 'retweeted_status_id', \n",
    "                'retweeted_status_user_id', 'retweeted_status_timestamp']"
   ]
  },
  {
   "cell_type": "code",
   "execution_count": 75,
   "metadata": {
    "pycharm": {
     "name": "#%%\n"
    }
   },
   "outputs": [],
   "source": [
    "df_twitter_archive_clean.drop(cols_to_drop, axis=1, inplace=True)"
   ]
  },
  {
   "cell_type": "markdown",
   "metadata": {
    "pycharm": {
     "name": "#%% md\n"
    }
   },
   "source": [
    "#### Test"
   ]
  },
  {
   "cell_type": "code",
   "execution_count": 76,
   "metadata": {
    "pycharm": {
     "name": "#%%\n"
    }
   },
   "outputs": [],
   "source": [
    "# check that all columns dropped no longer exist in the dataset\n",
    "assert (cols_to_drop in df_twitter_archive_clean.columns.tolist()) == False"
   ]
  },
  {
   "cell_type": "markdown",
   "metadata": {
    "pycharm": {
     "name": "#%% md\n"
    }
   },
   "source": [
    "<span style=\"color:blue; font-size:18px; font-family: Calibri;\">Tidiness Issue #5: doggo, floofer, pupper, puppo should be converted into one column to reflect the dog stage</span>"
   ]
  },
  {
   "cell_type": "markdown",
   "metadata": {
    "pycharm": {
     "name": "#%% md\n"
    }
   },
   "source": [
    "#### Define: \n",
    "Consolidate the different dog stage columns into one column by using the pandas `melt` and `rename` methods. Drop the 'variable' column as it's not needed. \n",
    "\n",
    "In addition, rebuild dog stages from the original 'text' column, using regex `extract()` to attempt to reduce NaN values. \n",
    "\n",
    "Build a new dog stage feature combining the values of 2 approaches above. Use the original dog stage as the base, but fill NaN values with values from dog stages build from text, using pandas `fillna` method\n",
    "\n",
    "Drop the dog stage build from text, as it's no longer needed as it's merged into one consolidated column\n",
    "Drop the original text as it's no longer needed"
   ]
  },
  {
   "cell_type": "markdown",
   "metadata": {
    "pycharm": {
     "name": "#%% md\n"
    }
   },
   "source": [
    "#### Code"
   ]
  },
  {
   "cell_type": "code",
   "execution_count": 77,
   "metadata": {
    "pycharm": {
     "name": "#%%\n"
    }
   },
   "outputs": [
    {
     "name": "stdout",
     "output_type": "stream",
     "text": [
      "`df_twitter_archive_clean` records before `melt` statement: 2079\n"
     ]
    }
   ],
   "source": [
    "# We need to make sure records before and after melt are the same later on. Take a before snapshot\n",
    "records_before = df_twitter_archive_clean.shape[0]\n",
    "print('`df_twitter_archive_clean` records before `melt` statement: {}'.format(records_before))"
   ]
  },
  {
   "cell_type": "code",
   "execution_count": 78,
   "metadata": {
    "pycharm": {
     "name": "#%%\n"
    }
   },
   "outputs": [
    {
     "data": {
      "text/html": [
       "<div>\n",
       "<style scoped>\n",
       "    .dataframe tbody tr th:only-of-type {\n",
       "        vertical-align: middle;\n",
       "    }\n",
       "\n",
       "    .dataframe tbody tr th {\n",
       "        vertical-align: top;\n",
       "    }\n",
       "\n",
       "    .dataframe thead th {\n",
       "        text-align: right;\n",
       "    }\n",
       "</style>\n",
       "<table border=\"1\" class=\"dataframe\">\n",
       "  <thead>\n",
       "    <tr style=\"text-align: right;\">\n",
       "      <th></th>\n",
       "      <th>tweet_id</th>\n",
       "      <th>timestamp</th>\n",
       "      <th>source</th>\n",
       "      <th>text</th>\n",
       "      <th>expanded_urls</th>\n",
       "      <th>rating_numerator</th>\n",
       "      <th>rating_denominator</th>\n",
       "      <th>name</th>\n",
       "      <th>doggo</th>\n",
       "      <th>floofer</th>\n",
       "      <th>pupper</th>\n",
       "      <th>puppo</th>\n",
       "      <th>cleantext</th>\n",
       "    </tr>\n",
       "  </thead>\n",
       "  <tbody>\n",
       "    <tr>\n",
       "      <th>1445</th>\n",
       "      <td>696518437233913856</td>\n",
       "      <td>2016-02-08</td>\n",
       "      <td>Twitter for iPhone</td>\n",
       "      <td>Oh my god 10/10 for every little hot dog pupper</td>\n",
       "      <td>NaN</td>\n",
       "      <td>10</td>\n",
       "      <td>10</td>\n",
       "      <td>None</td>\n",
       "      <td>None</td>\n",
       "      <td>None</td>\n",
       "      <td>pupper</td>\n",
       "      <td>None</td>\n",
       "      <td>Oh my god</td>\n",
       "    </tr>\n",
       "  </tbody>\n",
       "</table>\n",
       "</div>"
      ],
      "text/plain": [
       "                tweet_id  timestamp              source  \\\n",
       "1445  696518437233913856 2016-02-08  Twitter for iPhone   \n",
       "\n",
       "                                                 text expanded_urls  \\\n",
       "1445  Oh my god 10/10 for every little hot dog pupper           NaN   \n",
       "\n",
       "      rating_numerator  rating_denominator  name doggo floofer  pupper puppo  \\\n",
       "1445                10                  10  None  None    None  pupper  None   \n",
       "\n",
       "       cleantext  \n",
       "1445  Oh my god   "
      ]
     },
     "execution_count": 78,
     "metadata": {},
     "output_type": "execute_result"
    }
   ],
   "source": [
    "# using one tweet as test, lets capture its before values\n",
    "df_twitter_archive_clean[df_twitter_archive_clean['tweet_id'] == 696518437233913856]"
   ]
  },
  {
   "cell_type": "markdown",
   "metadata": {
    "pycharm": {
     "name": "#%% md\n"
    }
   },
   "source": [
    "###### Step 1: Merge dog stages into a single field"
   ]
  },
  {
   "cell_type": "code",
   "execution_count": 79,
   "metadata": {
    "pycharm": {
     "name": "#%%\n"
    }
   },
   "outputs": [],
   "source": [
    "# Extract dog_stage information in seperate dataframe\n",
    "dog_stage = df_twitter_archive_clean.filter(['tweet_id', 'floofer', 'pupper', 'doggo', 'puppo'], \n",
    "                                            axis = 1).copy()\n",
    "\n",
    "# Consolidate different dog stages into one column \n",
    "dog_stage = pd.melt(dog_stage, \n",
    "                    id_vars = ['tweet_id'], \n",
    "                    value_vars = ['floofer', 'doggo', 'pupper', 'puppo'], \n",
    "                    value_name=\"dog_stage\")\n",
    "\n",
    "dog_stage.drop('variable', axis = 1, inplace = True)\n",
    "\n",
    "# #Delete rows with Dog_stage \"NaN\" as well as records with more than one dog stage\n",
    "dog_stage.drop(dog_stage.query('dog_stage != dog_stage').index, axis = 0, inplace = True)\n",
    "dog_stage.drop_duplicates(subset = 'tweet_id', keep = False, inplace = True)"
   ]
  },
  {
   "cell_type": "code",
   "execution_count": 80,
   "metadata": {
    "pycharm": {
     "name": "#%%\n"
    }
   },
   "outputs": [],
   "source": [
    "# Merge manipulated dataset with df_twitter_clean and delete all other dog stage columns\n",
    "df_twitter_archive_clean = pd.merge(df_twitter_archive_clean, dog_stage,on = ['tweet_id'], how = 'left')\n",
    "df_twitter_archive_clean.drop(['floofer', 'pupper', 'doggo', 'puppo'], axis = 1, inplace = True)\n",
    "# Write all category names lower key\n",
    "df_twitter_archive_clean.dog_stage = df_twitter_archive_clean.dog_stage.str.lower()"
   ]
  },
  {
   "cell_type": "markdown",
   "metadata": {
    "pycharm": {
     "name": "#%% md\n"
    }
   },
   "source": [
    "###### Step 2: Rebuild dog stages from the text"
   ]
  },
  {
   "cell_type": "code",
   "execution_count": 81,
   "metadata": {
    "pycharm": {
     "name": "#%%\n"
    }
   },
   "outputs": [],
   "source": [
    "# rebuild dog stages from the text\n",
    "df_twitter_archive_clean['dog_stage_text'] = df_twitter_archive_clean['text'].str.extract('([Pp]uppo|[Pp]upper|[Ff]loofer|[Dd]oggo|[Bb]lep)', expand=True)\n",
    "\n",
    "# convert to lower case\n",
    "df_twitter_archive_clean.dog_stage_text = df_twitter_archive_clean.dog_stage_text.str.lower()"
   ]
  },
  {
   "cell_type": "markdown",
   "metadata": {
    "pycharm": {
     "name": "#%% md\n"
    }
   },
   "source": [
    "###### Step 3: Build a new dog_stage column consisting of a combination of above 2 approaches.\n",
    "Use the orginal dog stage as the base, but fill NaN values with values from dog stages build from text"
   ]
  },
  {
   "cell_type": "code",
   "execution_count": 82,
   "metadata": {
    "pycharm": {
     "name": "#%%\n"
    }
   },
   "outputs": [],
   "source": [
    "df_twitter_archive_clean['dog_stage'] = df_twitter_archive_clean['dog_stage'].fillna(df_twitter_archive_clean['dog_stage_text'])"
   ]
  },
  {
   "cell_type": "markdown",
   "metadata": {
    "pycharm": {
     "name": "#%% md\n"
    }
   },
   "source": [
    "#### Test"
   ]
  },
  {
   "cell_type": "code",
   "execution_count": 83,
   "metadata": {
    "pycharm": {
     "name": "#%%\n"
    }
   },
   "outputs": [],
   "source": [
    "records_after = df_twitter_archive_clean.shape[0]\n",
    "assert records_before == records_after"
   ]
  },
  {
   "cell_type": "code",
   "execution_count": 84,
   "metadata": {
    "pycharm": {
     "name": "#%%\n"
    }
   },
   "outputs": [],
   "source": [
    "# make sure all NaN entries from combined dog stage column that could be filled from text are now filled\n",
    "assert len(df_twitter_archive_clean.query('(dog_stage.isnull()) & (~dog_stage_text.isnull())')) == 0"
   ]
  },
  {
   "cell_type": "code",
   "execution_count": 85,
   "metadata": {
    "pycharm": {
     "name": "#%%\n"
    }
   },
   "outputs": [],
   "source": [
    "df_twitter_archive_clean.drop(['dog_stage_text', 'text'], axis=1, inplace=True)"
   ]
  },
  {
   "cell_type": "code",
   "execution_count": 86,
   "metadata": {
    "pycharm": {
     "name": "#%%\n"
    }
   },
   "outputs": [
    {
     "data": {
      "text/plain": [
       "1709"
      ]
     },
     "execution_count": 86,
     "metadata": {},
     "output_type": "execute_result"
    }
   ],
   "source": [
    "# how many None values now exist after improvements ?\n",
    "df_twitter_archive_clean['dog_stage'].isna().sum()"
   ]
  },
  {
   "cell_type": "code",
   "execution_count": 87,
   "metadata": {
    "pycharm": {
     "name": "#%%\n"
    }
   },
   "outputs": [
    {
     "data": {
      "text/html": [
       "<div>\n",
       "<style scoped>\n",
       "    .dataframe tbody tr th:only-of-type {\n",
       "        vertical-align: middle;\n",
       "    }\n",
       "\n",
       "    .dataframe tbody tr th {\n",
       "        vertical-align: top;\n",
       "    }\n",
       "\n",
       "    .dataframe thead th {\n",
       "        text-align: right;\n",
       "    }\n",
       "</style>\n",
       "<table border=\"1\" class=\"dataframe\">\n",
       "  <thead>\n",
       "    <tr style=\"text-align: right;\">\n",
       "      <th></th>\n",
       "      <th>tweet_id</th>\n",
       "      <th>timestamp</th>\n",
       "      <th>source</th>\n",
       "      <th>expanded_urls</th>\n",
       "      <th>rating_numerator</th>\n",
       "      <th>rating_denominator</th>\n",
       "      <th>name</th>\n",
       "      <th>cleantext</th>\n",
       "      <th>dog_stage</th>\n",
       "    </tr>\n",
       "  </thead>\n",
       "  <tbody>\n",
       "    <tr>\n",
       "      <th>869</th>\n",
       "      <td>696518437233913856</td>\n",
       "      <td>2016-02-08</td>\n",
       "      <td>Twitter for iPhone</td>\n",
       "      <td>NaN</td>\n",
       "      <td>10</td>\n",
       "      <td>10</td>\n",
       "      <td>None</td>\n",
       "      <td>Oh my god</td>\n",
       "      <td>pupper</td>\n",
       "    </tr>\n",
       "  </tbody>\n",
       "</table>\n",
       "</div>"
      ],
      "text/plain": [
       "               tweet_id  timestamp              source expanded_urls  \\\n",
       "869  696518437233913856 2016-02-08  Twitter for iPhone           NaN   \n",
       "\n",
       "     rating_numerator  rating_denominator  name   cleantext dog_stage  \n",
       "869                10                  10  None  Oh my god     pupper  "
      ]
     },
     "execution_count": 87,
     "metadata": {},
     "output_type": "execute_result"
    }
   ],
   "source": [
    "# Visually inspect specific tweet dog stage which should contain 'pupper'\n",
    "df_twitter_archive_clean[df_twitter_archive_clean['tweet_id'] == 696518437233913856]"
   ]
  },
  {
   "cell_type": "markdown",
   "metadata": {
    "pycharm": {
     "name": "#%% md\n"
    }
   },
   "source": [
    "<span style=\"color:blue; font-size:18px; font-family: Calibri;\">Tidiness Issue #6: 'retweet_count', 'like_count', 'media_url' and 'annotation' columns should be merged with selected fields from twitter archive table to build a new master table avoiding duplicated columns. Drop records where tweet no longer exist in API by joining on 'inner'</span>"
   ]
  },
  {
   "cell_type": "markdown",
   "metadata": {
    "pycharm": {
     "name": "#%% md\n"
    }
   },
   "source": [
    "#### Define: filter and copy dataset `df_tweepy` selecting only those columns to be merged with `df_twitter_archive` table. Create a new master twitter table."
   ]
  },
  {
   "cell_type": "markdown",
   "metadata": {
    "pycharm": {
     "name": "#%% md\n"
    }
   },
   "source": [
    "#### Code"
   ]
  },
  {
   "cell_type": "code",
   "execution_count": 88,
   "metadata": {
    "pycharm": {
     "name": "#%%\n"
    }
   },
   "outputs": [],
   "source": [
    "# create new dataset containing only API data we want to merge to a master dataset\n",
    "df_tweepy_filtered = df_tweepy_clean.filter(['tweet_id', 'retweet_count', 'like_count', 'media_url', 'short_url', 'annotation'], \n",
    "                                            axis = 1).copy()"
   ]
  },
  {
   "cell_type": "code",
   "execution_count": 89,
   "metadata": {
    "pycharm": {
     "name": "#%%\n"
    }
   },
   "outputs": [],
   "source": [
    "df_twitter_master = pd.merge(df_twitter_archive_clean, df_tweepy_filtered, on=['tweet_id'], how='inner')"
   ]
  },
  {
   "cell_type": "markdown",
   "metadata": {
    "pycharm": {
     "name": "#%% md\n"
    }
   },
   "source": [
    "#### Test"
   ]
  },
  {
   "cell_type": "code",
   "execution_count": 90,
   "metadata": {
    "pycharm": {
     "name": "#%%\n"
    }
   },
   "outputs": [
    {
     "data": {
      "text/html": [
       "<div>\n",
       "<style scoped>\n",
       "    .dataframe tbody tr th:only-of-type {\n",
       "        vertical-align: middle;\n",
       "    }\n",
       "\n",
       "    .dataframe tbody tr th {\n",
       "        vertical-align: top;\n",
       "    }\n",
       "\n",
       "    .dataframe thead th {\n",
       "        text-align: right;\n",
       "    }\n",
       "</style>\n",
       "<table border=\"1\" class=\"dataframe\">\n",
       "  <thead>\n",
       "    <tr style=\"text-align: right;\">\n",
       "      <th></th>\n",
       "      <th>tweet_id</th>\n",
       "      <th>timestamp</th>\n",
       "      <th>source</th>\n",
       "      <th>expanded_urls</th>\n",
       "      <th>rating_numerator</th>\n",
       "      <th>rating_denominator</th>\n",
       "      <th>name</th>\n",
       "      <th>cleantext</th>\n",
       "      <th>dog_stage</th>\n",
       "      <th>retweet_count</th>\n",
       "      <th>like_count</th>\n",
       "      <th>media_url</th>\n",
       "      <th>short_url</th>\n",
       "      <th>annotation</th>\n",
       "    </tr>\n",
       "  </thead>\n",
       "  <tbody>\n",
       "    <tr>\n",
       "      <th>2023</th>\n",
       "      <td>882268110199369728</td>\n",
       "      <td>2017-07-04</td>\n",
       "      <td>Twitter for iPhone</td>\n",
       "      <td>https://twitter.com/dog_rates/status/882268110199369728/photo/1</td>\n",
       "      <td>13</td>\n",
       "      <td>10</td>\n",
       "      <td>Alfy</td>\n",
       "      <td>This is Alfy. You're witnessing his first watermelon experience. I think it was a success.</td>\n",
       "      <td>NaN</td>\n",
       "      <td>9372</td>\n",
       "      <td>38085</td>\n",
       "      <td>https://pbs.twimg.com/media/DD5yKdPW0AArzX8.jpg</td>\n",
       "      <td>https://t.co/fYP5RlutfA</td>\n",
       "      <td>Alfy</td>\n",
       "    </tr>\n",
       "    <tr>\n",
       "      <th>1816</th>\n",
       "      <td>833722901757046785</td>\n",
       "      <td>2017-02-20</td>\n",
       "      <td>Twitter for iPhone</td>\n",
       "      <td>https://twitter.com/dog_rates/status/833722901757046785/photo/1</td>\n",
       "      <td>13</td>\n",
       "      <td>10</td>\n",
       "      <td>Bronte</td>\n",
       "      <td>This is Bronte. She's fairly h*ckin aerodynamic. Also patiently waiting for mom to make her a main character.</td>\n",
       "      <td>NaN</td>\n",
       "      <td>2940</td>\n",
       "      <td>19053</td>\n",
       "      <td>https://pbs.twimg.com/media/C5H6jmgW8AAevqq.jpg</td>\n",
       "      <td>https://t.co/w1MQWO2PET</td>\n",
       "      <td>Bronte</td>\n",
       "    </tr>\n",
       "    <tr>\n",
       "      <th>1398</th>\n",
       "      <td>760641137271070720</td>\n",
       "      <td>2016-08-03</td>\n",
       "      <td>Twitter for iPhone</td>\n",
       "      <td>https://twitter.com/dog_rates/status/760641137271070720/photo/1</td>\n",
       "      <td>12</td>\n",
       "      <td>10</td>\n",
       "      <td>Theo</td>\n",
       "      <td>This is Theo. He can walk on water. Still coming to terms with it.</td>\n",
       "      <td>NaN</td>\n",
       "      <td>1164</td>\n",
       "      <td>4543</td>\n",
       "      <td>https://pbs.twimg.com/media/Co5XExUWgAAL5L_.jpg</td>\n",
       "      <td>https://t.co/8Kmuj6SFbC</td>\n",
       "      <td>Theo</td>\n",
       "    </tr>\n",
       "    <tr>\n",
       "      <th>1910</th>\n",
       "      <td>854010172552949760</td>\n",
       "      <td>2017-04-17</td>\n",
       "      <td>Twitter for iPhone</td>\n",
       "      <td>https://twitter.com/dog_rates/status/854010172552949760/photo/1</td>\n",
       "      <td>11</td>\n",
       "      <td>10</td>\n",
       "      <td>None</td>\n",
       "      <td>At first I thought this was a shy doggo, but it's actually a Rare Canadian Floofer Owl. Amateurs would confuse the two.</td>\n",
       "      <td>doggo</td>\n",
       "      <td>2740</td>\n",
       "      <td>14339</td>\n",
       "      <td>https://pbs.twimg.com/media/C9oNt91WAAAFSLS.jpg</td>\n",
       "      <td>https://t.co/TXdT3tmuYk</td>\n",
       "      <td>NaN</td>\n",
       "    </tr>\n",
       "    <tr>\n",
       "      <th>438</th>\n",
       "      <td>674468880899788800</td>\n",
       "      <td>2015-12-09</td>\n",
       "      <td>Twitter for iPhone</td>\n",
       "      <td>https://twitter.com/dog_rates/status/674468880899788800/photo/1</td>\n",
       "      <td>13</td>\n",
       "      <td>10</td>\n",
       "      <td>Louis</td>\n",
       "      <td>This is Louis. He thinks he's flying.</td>\n",
       "      <td>NaN</td>\n",
       "      <td>1753</td>\n",
       "      <td>5447</td>\n",
       "      <td>https://pbs.twimg.com/media/CVwx3dNWsAAdo4G.jpg</td>\n",
       "      <td>https://t.co/6d9WziPXmx</td>\n",
       "      <td>Louis</td>\n",
       "    </tr>\n",
       "  </tbody>\n",
       "</table>\n",
       "</div>"
      ],
      "text/plain": [
       "                tweet_id  timestamp              source  \\\n",
       "2023  882268110199369728 2017-07-04  Twitter for iPhone   \n",
       "1816  833722901757046785 2017-02-20  Twitter for iPhone   \n",
       "1398  760641137271070720 2016-08-03  Twitter for iPhone   \n",
       "1910  854010172552949760 2017-04-17  Twitter for iPhone   \n",
       "438   674468880899788800 2015-12-09  Twitter for iPhone   \n",
       "\n",
       "                                                        expanded_urls  \\\n",
       "2023  https://twitter.com/dog_rates/status/882268110199369728/photo/1   \n",
       "1816  https://twitter.com/dog_rates/status/833722901757046785/photo/1   \n",
       "1398  https://twitter.com/dog_rates/status/760641137271070720/photo/1   \n",
       "1910  https://twitter.com/dog_rates/status/854010172552949760/photo/1   \n",
       "438   https://twitter.com/dog_rates/status/674468880899788800/photo/1   \n",
       "\n",
       "      rating_numerator  rating_denominator    name  \\\n",
       "2023                13                  10    Alfy   \n",
       "1816                13                  10  Bronte   \n",
       "1398                12                  10    Theo   \n",
       "1910                11                  10    None   \n",
       "438                 13                  10   Louis   \n",
       "\n",
       "                                                                                                                     cleantext  \\\n",
       "2023                               This is Alfy. You're witnessing his first watermelon experience. I think it was a success.    \n",
       "1816            This is Bronte. She's fairly h*ckin aerodynamic. Also patiently waiting for mom to make her a main character.    \n",
       "1398                                                       This is Theo. He can walk on water. Still coming to terms with it.    \n",
       "1910  At first I thought this was a shy doggo, but it's actually a Rare Canadian Floofer Owl. Amateurs would confuse the two.    \n",
       "438                                                                                     This is Louis. He thinks he's flying.    \n",
       "\n",
       "     dog_stage  retweet_count  like_count  \\\n",
       "2023       NaN           9372       38085   \n",
       "1816       NaN           2940       19053   \n",
       "1398       NaN           1164        4543   \n",
       "1910     doggo           2740       14339   \n",
       "438        NaN           1753        5447   \n",
       "\n",
       "                                            media_url  \\\n",
       "2023  https://pbs.twimg.com/media/DD5yKdPW0AArzX8.jpg   \n",
       "1816  https://pbs.twimg.com/media/C5H6jmgW8AAevqq.jpg   \n",
       "1398  https://pbs.twimg.com/media/Co5XExUWgAAL5L_.jpg   \n",
       "1910  https://pbs.twimg.com/media/C9oNt91WAAAFSLS.jpg   \n",
       "438   https://pbs.twimg.com/media/CVwx3dNWsAAdo4G.jpg   \n",
       "\n",
       "                    short_url annotation  \n",
       "2023  https://t.co/fYP5RlutfA       Alfy  \n",
       "1816  https://t.co/w1MQWO2PET     Bronte  \n",
       "1398  https://t.co/8Kmuj6SFbC       Theo  \n",
       "1910  https://t.co/TXdT3tmuYk        NaN  \n",
       "438   https://t.co/6d9WziPXmx      Louis  "
      ]
     },
     "execution_count": 90,
     "metadata": {},
     "output_type": "execute_result"
    }
   ],
   "source": [
    "# Visually inspect dataset to make sure it contains the intended columns\n",
    "df_twitter_master.sample(5)"
   ]
  },
  {
   "cell_type": "markdown",
   "metadata": {
    "pycharm": {
     "name": "#%% md\n"
    }
   },
   "source": [
    "<span style=\"color:blue; font-size:18px; font-family: Calibri;\">Tidiness Issue #7: twitter_prediction: The best dog breed should be selected and be part of the new twitter master table</span>"
   ]
  },
  {
   "cell_type": "markdown",
   "metadata": {
    "pycharm": {
     "name": "#%% md\n"
    }
   },
   "source": [
    "#### Define: Select the breed with the highest probabilty where the breed is actually a valid dog breed. If none of the breed predictions is actually a dog breed, take the breed with the highest prediction nevertheless. Add the selected breed to the main twitter master table."
   ]
  },
  {
   "cell_type": "code",
   "execution_count": 91,
   "metadata": {
    "pycharm": {
     "name": "#%%\n"
    }
   },
   "outputs": [
    {
     "data": {
      "text/html": [
       "<div>\n",
       "<style scoped>\n",
       "    .dataframe tbody tr th:only-of-type {\n",
       "        vertical-align: middle;\n",
       "    }\n",
       "\n",
       "    .dataframe tbody tr th {\n",
       "        vertical-align: top;\n",
       "    }\n",
       "\n",
       "    .dataframe thead th {\n",
       "        text-align: right;\n",
       "    }\n",
       "</style>\n",
       "<table border=\"1\" class=\"dataframe\">\n",
       "  <thead>\n",
       "    <tr style=\"text-align: right;\">\n",
       "      <th></th>\n",
       "      <th>tweet_id</th>\n",
       "      <th>jpg_url</th>\n",
       "      <th>img_num</th>\n",
       "      <th>p1</th>\n",
       "      <th>p1_conf</th>\n",
       "      <th>p1_dog</th>\n",
       "      <th>p2</th>\n",
       "      <th>p2_conf</th>\n",
       "      <th>p2_dog</th>\n",
       "      <th>p3</th>\n",
       "      <th>p3_conf</th>\n",
       "      <th>p3_dog</th>\n",
       "    </tr>\n",
       "  </thead>\n",
       "  <tbody>\n",
       "    <tr>\n",
       "      <th>0</th>\n",
       "      <td>666020888022790149</td>\n",
       "      <td>https://pbs.twimg.com/media/CT4udn0WwAA0aMy.jpg</td>\n",
       "      <td>1</td>\n",
       "      <td>Welsh_springer_spaniel</td>\n",
       "      <td>0.47</td>\n",
       "      <td>True</td>\n",
       "      <td>collie</td>\n",
       "      <td>0.16</td>\n",
       "      <td>True</td>\n",
       "      <td>Shetland_sheepdog</td>\n",
       "      <td>0.06</td>\n",
       "      <td>True</td>\n",
       "    </tr>\n",
       "    <tr>\n",
       "      <th>1</th>\n",
       "      <td>666029285002620928</td>\n",
       "      <td>https://pbs.twimg.com/media/CT42GRgUYAA5iDo.jpg</td>\n",
       "      <td>1</td>\n",
       "      <td>redbone</td>\n",
       "      <td>0.51</td>\n",
       "      <td>True</td>\n",
       "      <td>miniature_pinscher</td>\n",
       "      <td>0.07</td>\n",
       "      <td>True</td>\n",
       "      <td>Rhodesian_ridgeback</td>\n",
       "      <td>0.07</td>\n",
       "      <td>True</td>\n",
       "    </tr>\n",
       "    <tr>\n",
       "      <th>2</th>\n",
       "      <td>666033412701032449</td>\n",
       "      <td>https://pbs.twimg.com/media/CT4521TWwAEvMyu.jpg</td>\n",
       "      <td>1</td>\n",
       "      <td>German_shepherd</td>\n",
       "      <td>0.60</td>\n",
       "      <td>True</td>\n",
       "      <td>malinois</td>\n",
       "      <td>0.14</td>\n",
       "      <td>True</td>\n",
       "      <td>bloodhound</td>\n",
       "      <td>0.12</td>\n",
       "      <td>True</td>\n",
       "    </tr>\n",
       "    <tr>\n",
       "      <th>3</th>\n",
       "      <td>666044226329800704</td>\n",
       "      <td>https://pbs.twimg.com/media/CT5Dr8HUEAA-lEu.jpg</td>\n",
       "      <td>1</td>\n",
       "      <td>Rhodesian_ridgeback</td>\n",
       "      <td>0.41</td>\n",
       "      <td>True</td>\n",
       "      <td>redbone</td>\n",
       "      <td>0.36</td>\n",
       "      <td>True</td>\n",
       "      <td>miniature_pinscher</td>\n",
       "      <td>0.22</td>\n",
       "      <td>True</td>\n",
       "    </tr>\n",
       "    <tr>\n",
       "      <th>4</th>\n",
       "      <td>666049248165822465</td>\n",
       "      <td>https://pbs.twimg.com/media/CT5IQmsXIAAKY4A.jpg</td>\n",
       "      <td>1</td>\n",
       "      <td>miniature_pinscher</td>\n",
       "      <td>0.56</td>\n",
       "      <td>True</td>\n",
       "      <td>Rottweiler</td>\n",
       "      <td>0.24</td>\n",
       "      <td>True</td>\n",
       "      <td>Doberman</td>\n",
       "      <td>0.15</td>\n",
       "      <td>True</td>\n",
       "    </tr>\n",
       "    <tr>\n",
       "      <th>...</th>\n",
       "      <td>...</td>\n",
       "      <td>...</td>\n",
       "      <td>...</td>\n",
       "      <td>...</td>\n",
       "      <td>...</td>\n",
       "      <td>...</td>\n",
       "      <td>...</td>\n",
       "      <td>...</td>\n",
       "      <td>...</td>\n",
       "      <td>...</td>\n",
       "      <td>...</td>\n",
       "      <td>...</td>\n",
       "    </tr>\n",
       "    <tr>\n",
       "      <th>2070</th>\n",
       "      <td>891327558926688256</td>\n",
       "      <td>https://pbs.twimg.com/media/DF6hr6BUMAAzZgT.jpg</td>\n",
       "      <td>2</td>\n",
       "      <td>basset</td>\n",
       "      <td>0.56</td>\n",
       "      <td>True</td>\n",
       "      <td>English_springer</td>\n",
       "      <td>0.23</td>\n",
       "      <td>True</td>\n",
       "      <td>German_short-haired_pointer</td>\n",
       "      <td>0.18</td>\n",
       "      <td>True</td>\n",
       "    </tr>\n",
       "    <tr>\n",
       "      <th>2071</th>\n",
       "      <td>891689557279858688</td>\n",
       "      <td>https://pbs.twimg.com/media/DF_q7IAWsAEuuN8.jpg</td>\n",
       "      <td>1</td>\n",
       "      <td>paper_towel</td>\n",
       "      <td>0.17</td>\n",
       "      <td>False</td>\n",
       "      <td>Labrador_retriever</td>\n",
       "      <td>0.17</td>\n",
       "      <td>True</td>\n",
       "      <td>spatula</td>\n",
       "      <td>0.04</td>\n",
       "      <td>False</td>\n",
       "    </tr>\n",
       "    <tr>\n",
       "      <th>2072</th>\n",
       "      <td>891815181378084864</td>\n",
       "      <td>https://pbs.twimg.com/media/DGBdLU1WsAANxJ9.jpg</td>\n",
       "      <td>1</td>\n",
       "      <td>Chihuahua</td>\n",
       "      <td>0.72</td>\n",
       "      <td>True</td>\n",
       "      <td>malamute</td>\n",
       "      <td>0.08</td>\n",
       "      <td>True</td>\n",
       "      <td>kelpie</td>\n",
       "      <td>0.03</td>\n",
       "      <td>True</td>\n",
       "    </tr>\n",
       "    <tr>\n",
       "      <th>2073</th>\n",
       "      <td>892177421306343426</td>\n",
       "      <td>https://pbs.twimg.com/media/DGGmoV4XsAAUL6n.jpg</td>\n",
       "      <td>1</td>\n",
       "      <td>Chihuahua</td>\n",
       "      <td>0.32</td>\n",
       "      <td>True</td>\n",
       "      <td>Pekinese</td>\n",
       "      <td>0.09</td>\n",
       "      <td>True</td>\n",
       "      <td>papillon</td>\n",
       "      <td>0.07</td>\n",
       "      <td>True</td>\n",
       "    </tr>\n",
       "    <tr>\n",
       "      <th>2074</th>\n",
       "      <td>892420643555336193</td>\n",
       "      <td>https://pbs.twimg.com/media/DGKD1-bXoAAIAUK.jpg</td>\n",
       "      <td>1</td>\n",
       "      <td>orange</td>\n",
       "      <td>0.10</td>\n",
       "      <td>False</td>\n",
       "      <td>bagel</td>\n",
       "      <td>0.09</td>\n",
       "      <td>False</td>\n",
       "      <td>banana</td>\n",
       "      <td>0.08</td>\n",
       "      <td>False</td>\n",
       "    </tr>\n",
       "  </tbody>\n",
       "</table>\n",
       "<p>2075 rows × 12 columns</p>\n",
       "</div>"
      ],
      "text/plain": [
       "                tweet_id                                          jpg_url  \\\n",
       "0     666020888022790149  https://pbs.twimg.com/media/CT4udn0WwAA0aMy.jpg   \n",
       "1     666029285002620928  https://pbs.twimg.com/media/CT42GRgUYAA5iDo.jpg   \n",
       "2     666033412701032449  https://pbs.twimg.com/media/CT4521TWwAEvMyu.jpg   \n",
       "3     666044226329800704  https://pbs.twimg.com/media/CT5Dr8HUEAA-lEu.jpg   \n",
       "4     666049248165822465  https://pbs.twimg.com/media/CT5IQmsXIAAKY4A.jpg   \n",
       "...                  ...                                              ...   \n",
       "2070  891327558926688256  https://pbs.twimg.com/media/DF6hr6BUMAAzZgT.jpg   \n",
       "2071  891689557279858688  https://pbs.twimg.com/media/DF_q7IAWsAEuuN8.jpg   \n",
       "2072  891815181378084864  https://pbs.twimg.com/media/DGBdLU1WsAANxJ9.jpg   \n",
       "2073  892177421306343426  https://pbs.twimg.com/media/DGGmoV4XsAAUL6n.jpg   \n",
       "2074  892420643555336193  https://pbs.twimg.com/media/DGKD1-bXoAAIAUK.jpg   \n",
       "\n",
       "      img_num                      p1  p1_conf  p1_dog                  p2  \\\n",
       "0           1  Welsh_springer_spaniel     0.47    True              collie   \n",
       "1           1                 redbone     0.51    True  miniature_pinscher   \n",
       "2           1         German_shepherd     0.60    True            malinois   \n",
       "3           1     Rhodesian_ridgeback     0.41    True             redbone   \n",
       "4           1      miniature_pinscher     0.56    True          Rottweiler   \n",
       "...       ...                     ...      ...     ...                 ...   \n",
       "2070        2                  basset     0.56    True    English_springer   \n",
       "2071        1             paper_towel     0.17   False  Labrador_retriever   \n",
       "2072        1               Chihuahua     0.72    True            malamute   \n",
       "2073        1               Chihuahua     0.32    True            Pekinese   \n",
       "2074        1                  orange     0.10   False               bagel   \n",
       "\n",
       "      p2_conf  p2_dog                           p3  p3_conf  p3_dog  \n",
       "0        0.16    True            Shetland_sheepdog     0.06    True  \n",
       "1        0.07    True          Rhodesian_ridgeback     0.07    True  \n",
       "2        0.14    True                   bloodhound     0.12    True  \n",
       "3        0.36    True           miniature_pinscher     0.22    True  \n",
       "4        0.24    True                     Doberman     0.15    True  \n",
       "...       ...     ...                          ...      ...     ...  \n",
       "2070     0.23    True  German_short-haired_pointer     0.18    True  \n",
       "2071     0.17    True                      spatula     0.04   False  \n",
       "2072     0.08    True                       kelpie     0.03    True  \n",
       "2073     0.09    True                     papillon     0.07    True  \n",
       "2074     0.09   False                       banana     0.08   False  \n",
       "\n",
       "[2075 rows x 12 columns]"
      ]
     },
     "execution_count": 91,
     "metadata": {},
     "output_type": "execute_result"
    }
   ],
   "source": [
    "df_twitter_predictions_clean"
   ]
  },
  {
   "cell_type": "markdown",
   "metadata": {
    "pycharm": {
     "name": "#%% md\n"
    }
   },
   "source": [
    "#### Code"
   ]
  },
  {
   "cell_type": "code",
   "execution_count": 92,
   "metadata": {
    "pycharm": {
     "name": "#%%\n"
    }
   },
   "outputs": [],
   "source": [
    "# select the best dog breed where the prediction is actually a dog greed with confidence level above 10%\n",
    "df_twitter_predictions_clean['breed'] = np.where((df_twitter_predictions_clean['p1_dog'] == True) & (df_twitter_predictions_clean['p1_conf'] > 0.05), df_twitter_predictions_clean['p1'],\n",
    "                                        np.where((df_twitter_predictions_clean['p2_dog'] == True) & (df_twitter_predictions_clean['p2_conf'] > 0.05), df_twitter_predictions_clean['p2'],\n",
    "                                        np.where((df_twitter_predictions_clean['p3_dog'] == True) & (df_twitter_predictions_clean['p3_conf'] > 0.05), df_twitter_predictions_clean['p3'], np.nan)))"
   ]
  },
  {
   "cell_type": "code",
   "execution_count": 93,
   "metadata": {
    "pycharm": {
     "name": "#%%\n"
    }
   },
   "outputs": [],
   "source": [
    "# filter predictions to contain fields to be added to master table\n",
    "df_twitter_prediction_filtered = df_twitter_predictions_clean.filter(['tweet_id', 'breed', 'jpg_url'], axis=1).copy()\n",
    "\n",
    "# merge selected dog breed with twitter master table\n",
    "df_twitter_master = pd.merge(df_twitter_master, df_twitter_prediction_filtered, on = ['tweet_id'], how = 'left')"
   ]
  },
  {
   "cell_type": "markdown",
   "metadata": {
    "pycharm": {
     "name": "#%% md\n"
    }
   },
   "source": [
    "#### Test"
   ]
  },
  {
   "cell_type": "code",
   "execution_count": 94,
   "metadata": {
    "pycharm": {
     "name": "#%%\n"
    }
   },
   "outputs": [
    {
     "data": {
      "text/plain": [
       "501"
      ]
     },
     "execution_count": 94,
     "metadata": {},
     "output_type": "execute_result"
    }
   ],
   "source": [
    "# check number of NaN records\n",
    "df_twitter_master.breed.isna().sum()"
   ]
  },
  {
   "cell_type": "code",
   "execution_count": 95,
   "metadata": {
    "pycharm": {
     "name": "#%%\n"
    }
   },
   "outputs": [],
   "source": [
    "# p1 should be selected as breed if first prediction is a valid dog breed\n",
    "assert len(df_twitter_predictions_clean.query('p1_dog == True & p1_conf > 0.05 & breed != p1')) == 0"
   ]
  },
  {
   "cell_type": "code",
   "execution_count": 96,
   "metadata": {
    "pycharm": {
     "name": "#%%\n"
    }
   },
   "outputs": [],
   "source": [
    "# p2 should be selected as breed if first prediction is not a valid dog breed, but second prediction is a valid dog breed\n",
    "assert len(df_twitter_predictions_clean.query('p1_dog == False & p2_dog == True & p2_conf > 0.05 & breed != p2')) == 0"
   ]
  },
  {
   "cell_type": "code",
   "execution_count": 97,
   "metadata": {
    "pycharm": {
     "name": "#%%\n"
    }
   },
   "outputs": [],
   "source": [
    "# p3 should be selected as breed if first and second predictions are not a valid dog breed, but third prediction is a valid breed\n",
    "assert len(df_twitter_predictions_clean.query('p1_dog == False & p2_dog == False & p3_dog == True & p3_conf > 0.05 & breed != p3')) == 0"
   ]
  },
  {
   "cell_type": "code",
   "execution_count": 98,
   "metadata": {
    "pycharm": {
     "name": "#%%\n"
    }
   },
   "outputs": [],
   "source": [
    "# np.nan should be selected as breed if all predictions are not valid dog breeds\n",
    "assert len(df_twitter_predictions_clean.query('p1_dog == False & p2_dog == False & p3_dog == False & breed == breed')) == 0"
   ]
  },
  {
   "cell_type": "code",
   "execution_count": 99,
   "metadata": {
    "pycharm": {
     "name": "#%%\n"
    }
   },
   "outputs": [
    {
     "data": {
      "text/html": [
       "<div>\n",
       "<style scoped>\n",
       "    .dataframe tbody tr th:only-of-type {\n",
       "        vertical-align: middle;\n",
       "    }\n",
       "\n",
       "    .dataframe tbody tr th {\n",
       "        vertical-align: top;\n",
       "    }\n",
       "\n",
       "    .dataframe thead th {\n",
       "        text-align: right;\n",
       "    }\n",
       "</style>\n",
       "<table border=\"1\" class=\"dataframe\">\n",
       "  <thead>\n",
       "    <tr style=\"text-align: right;\">\n",
       "      <th></th>\n",
       "      <th>tweet_id</th>\n",
       "      <th>timestamp</th>\n",
       "      <th>source</th>\n",
       "      <th>expanded_urls</th>\n",
       "      <th>rating_numerator</th>\n",
       "      <th>rating_denominator</th>\n",
       "      <th>name</th>\n",
       "      <th>cleantext</th>\n",
       "      <th>dog_stage</th>\n",
       "      <th>retweet_count</th>\n",
       "      <th>like_count</th>\n",
       "      <th>media_url</th>\n",
       "      <th>short_url</th>\n",
       "      <th>annotation</th>\n",
       "      <th>breed</th>\n",
       "      <th>jpg_url</th>\n",
       "    </tr>\n",
       "  </thead>\n",
       "  <tbody>\n",
       "    <tr>\n",
       "      <th>408</th>\n",
       "      <td>673919437611909120</td>\n",
       "      <td>2015-12-07</td>\n",
       "      <td>Twitter for iPhone</td>\n",
       "      <td>https://twitter.com/dog_rates/status/673919437611909120/photo/1</td>\n",
       "      <td>11</td>\n",
       "      <td>10</td>\n",
       "      <td>Obie</td>\n",
       "      <td>This is Obie. He is on guard watching for evildoers from the comfort of his pumpkin. Very brave pupper.</td>\n",
       "      <td>pupper</td>\n",
       "      <td>314</td>\n",
       "      <td>1031</td>\n",
       "      <td>https://pbs.twimg.com/media/CVo-JuMWwAAet6F.jpg</td>\n",
       "      <td>https://t.co/cdwPTsGEAb</td>\n",
       "      <td>Obie</td>\n",
       "      <td>schipperke</td>\n",
       "      <td>https://pbs.twimg.com/media/CVo-JuMWwAAet6F.jpg</td>\n",
       "    </tr>\n",
       "    <tr>\n",
       "      <th>1230</th>\n",
       "      <td>740699697422163968</td>\n",
       "      <td>2016-06-09</td>\n",
       "      <td>Twitter for iPhone</td>\n",
       "      <td>https://twitter.com/dog_rates/status/740699697422163968/photo/1</td>\n",
       "      <td>8</td>\n",
       "      <td>10</td>\n",
       "      <td>Chip</td>\n",
       "      <td>This is Chip. He only mowed half the yard.</td>\n",
       "      <td>NaN</td>\n",
       "      <td>692</td>\n",
       "      <td>2566</td>\n",
       "      <td>https://pbs.twimg.com/media/Ckd-bqVUkAIiyM7.jpg</td>\n",
       "      <td>https://t.co/LjzZKQ7vmK</td>\n",
       "      <td>Chip</td>\n",
       "      <td>NaN</td>\n",
       "      <td>https://pbs.twimg.com/media/Ckd-bqVUkAIiyM7.jpg</td>\n",
       "    </tr>\n",
       "    <tr>\n",
       "      <th>1728</th>\n",
       "      <td>819238181065359361</td>\n",
       "      <td>2017-01-11</td>\n",
       "      <td>Twitter Web Client</td>\n",
       "      <td>http://us.blastingnews.com/news/2017/01/200-dogs-saved-from-south-korean-dog-meat-industry-001385441.html?sbdht=_pM1QUzk3wsfscF9XF2WEd9KoWDpsQlMUjfh1HxxUq0u5mMbiu2B0kw2_</td>\n",
       "      <td>10</td>\n",
       "      <td>10</td>\n",
       "      <td>None</td>\n",
       "      <td>Some happy pupper news to share.</td>\n",
       "      <td>pupper</td>\n",
       "      <td>373</td>\n",
       "      <td>2065</td>\n",
       "      <td>NaN</td>\n",
       "      <td>https://t.co/MefMAZX2uv</td>\n",
       "      <td>NaN</td>\n",
       "      <td>NaN</td>\n",
       "      <td>NaN</td>\n",
       "    </tr>\n",
       "    <tr>\n",
       "      <th>1736</th>\n",
       "      <td>820749716845686786</td>\n",
       "      <td>2017-01-15</td>\n",
       "      <td>Twitter for iPhone</td>\n",
       "      <td>https://twitter.com/dog_rates/status/820749716845686786/photo/1</td>\n",
       "      <td>13</td>\n",
       "      <td>10</td>\n",
       "      <td>Sunny</td>\n",
       "      <td>Meet Sunny. He can take down a polar bear in one fell swoop. Fr*cken deadly af.</td>\n",
       "      <td>NaN</td>\n",
       "      <td>8995</td>\n",
       "      <td>28912</td>\n",
       "      <td>https://pbs.twimg.com/media/C2PjgjRXgAUgKyC.jpg</td>\n",
       "      <td>https://t.co/EMq8Ud6Ze1</td>\n",
       "      <td>Sunny</td>\n",
       "      <td>golden_retriever</td>\n",
       "      <td>https://pbs.twimg.com/media/C2PjgjQXcAAc4Uu.jpg</td>\n",
       "    </tr>\n",
       "    <tr>\n",
       "      <th>1038</th>\n",
       "      <td>709566166965075968</td>\n",
       "      <td>2016-03-15</td>\n",
       "      <td>Twitter for iPhone</td>\n",
       "      <td>https://twitter.com/dog_rates/status/709566166965075968/photo/1</td>\n",
       "      <td>12</td>\n",
       "      <td>10</td>\n",
       "      <td>Olaf</td>\n",
       "      <td>This is Olaf. He's gotta be rare. Seems sturdy. Tail is floofy af.</td>\n",
       "      <td>NaN</td>\n",
       "      <td>1046</td>\n",
       "      <td>3172</td>\n",
       "      <td>https://pbs.twimg.com/media/Cdjiqi6XIAIUOg-.jpg</td>\n",
       "      <td>https://t.co/E9jaU59bh9</td>\n",
       "      <td>Olaf</td>\n",
       "      <td>chow</td>\n",
       "      <td>https://pbs.twimg.com/media/Cdjiqi6XIAIUOg-.jpg</td>\n",
       "    </tr>\n",
       "  </tbody>\n",
       "</table>\n",
       "</div>"
      ],
      "text/plain": [
       "                tweet_id  timestamp              source  \\\n",
       "408   673919437611909120 2015-12-07  Twitter for iPhone   \n",
       "1230  740699697422163968 2016-06-09  Twitter for iPhone   \n",
       "1728  819238181065359361 2017-01-11  Twitter Web Client   \n",
       "1736  820749716845686786 2017-01-15  Twitter for iPhone   \n",
       "1038  709566166965075968 2016-03-15  Twitter for iPhone   \n",
       "\n",
       "                                                                                                                                                                  expanded_urls  \\\n",
       "408                                                                                                             https://twitter.com/dog_rates/status/673919437611909120/photo/1   \n",
       "1230                                                                                                            https://twitter.com/dog_rates/status/740699697422163968/photo/1   \n",
       "1728  http://us.blastingnews.com/news/2017/01/200-dogs-saved-from-south-korean-dog-meat-industry-001385441.html?sbdht=_pM1QUzk3wsfscF9XF2WEd9KoWDpsQlMUjfh1HxxUq0u5mMbiu2B0kw2_   \n",
       "1736                                                                                                            https://twitter.com/dog_rates/status/820749716845686786/photo/1   \n",
       "1038                                                                                                            https://twitter.com/dog_rates/status/709566166965075968/photo/1   \n",
       "\n",
       "      rating_numerator  rating_denominator   name  \\\n",
       "408                 11                  10   Obie   \n",
       "1230                 8                  10   Chip   \n",
       "1728                10                  10   None   \n",
       "1736                13                  10  Sunny   \n",
       "1038                12                  10   Olaf   \n",
       "\n",
       "                                                                                                     cleantext  \\\n",
       "408   This is Obie. He is on guard watching for evildoers from the comfort of his pumpkin. Very brave pupper.    \n",
       "1230                                                               This is Chip. He only mowed half the yard.    \n",
       "1728                                                                         Some happy pupper news to share.    \n",
       "1736                          Meet Sunny. He can take down a polar bear in one fell swoop. Fr*cken deadly af.    \n",
       "1038                                       This is Olaf. He's gotta be rare. Seems sturdy. Tail is floofy af.    \n",
       "\n",
       "     dog_stage  retweet_count  like_count  \\\n",
       "408     pupper            314        1031   \n",
       "1230       NaN            692        2566   \n",
       "1728    pupper            373        2065   \n",
       "1736       NaN           8995       28912   \n",
       "1038       NaN           1046        3172   \n",
       "\n",
       "                                            media_url  \\\n",
       "408   https://pbs.twimg.com/media/CVo-JuMWwAAet6F.jpg   \n",
       "1230  https://pbs.twimg.com/media/Ckd-bqVUkAIiyM7.jpg   \n",
       "1728                                              NaN   \n",
       "1736  https://pbs.twimg.com/media/C2PjgjRXgAUgKyC.jpg   \n",
       "1038  https://pbs.twimg.com/media/Cdjiqi6XIAIUOg-.jpg   \n",
       "\n",
       "                    short_url annotation             breed  \\\n",
       "408   https://t.co/cdwPTsGEAb       Obie        schipperke   \n",
       "1230  https://t.co/LjzZKQ7vmK       Chip               NaN   \n",
       "1728  https://t.co/MefMAZX2uv        NaN               NaN   \n",
       "1736  https://t.co/EMq8Ud6Ze1      Sunny  golden_retriever   \n",
       "1038  https://t.co/E9jaU59bh9       Olaf              chow   \n",
       "\n",
       "                                              jpg_url  \n",
       "408   https://pbs.twimg.com/media/CVo-JuMWwAAet6F.jpg  \n",
       "1230  https://pbs.twimg.com/media/Ckd-bqVUkAIiyM7.jpg  \n",
       "1728                                              NaN  \n",
       "1736  https://pbs.twimg.com/media/C2PjgjQXcAAc4Uu.jpg  \n",
       "1038  https://pbs.twimg.com/media/Cdjiqi6XIAIUOg-.jpg  "
      ]
     },
     "execution_count": 99,
     "metadata": {},
     "output_type": "execute_result"
    }
   ],
   "source": [
    "# visually inspect if breed is now part of the master table\n",
    "df_twitter_master.sample(5)"
   ]
  },
  {
   "cell_type": "markdown",
   "metadata": {
    "pycharm": {
     "name": "#%% md\n"
    }
   },
   "source": [
    "<span style=\"color:blue; font-size:18px; font-family: Calibri;\">Tidiness Issue #8: Breed name are badly formatted, it contains '_' instead of spaces and each word can be capitalized.</span>"
   ]
  },
  {
   "cell_type": "markdown",
   "metadata": {
    "pycharm": {
     "name": "#%% md\n"
    }
   },
   "source": [
    "#### Define: replace '_' with ' ' using pandas `replace()` method and capitalize first letter of each word using `title` method"
   ]
  },
  {
   "cell_type": "markdown",
   "metadata": {
    "pycharm": {
     "name": "#%% md\n"
    }
   },
   "source": [
    "#### Code"
   ]
  },
  {
   "cell_type": "code",
   "execution_count": 100,
   "metadata": {
    "pycharm": {
     "name": "#%%\n"
    }
   },
   "outputs": [],
   "source": [
    "df_twitter_master['breed'] = df_twitter_master['breed'].str.replace('_', ' ').str.title()"
   ]
  },
  {
   "cell_type": "markdown",
   "metadata": {
    "pycharm": {
     "name": "#%% md\n"
    }
   },
   "source": [
    "#### Test"
   ]
  },
  {
   "cell_type": "code",
   "execution_count": 101,
   "metadata": {
    "pycharm": {
     "name": "#%%\n"
    }
   },
   "outputs": [
    {
     "data": {
      "text/plain": [
       "array(['Welsh Springer Spaniel', 'Redbone', 'German Shepherd',\n",
       "       'Rhodesian Ridgeback', 'Miniature Pinscher',\n",
       "       'Bernese Mountain Dog', nan, 'Chow', 'Miniature Poodle',\n",
       "       'Golden Retriever', 'Gordon Setter', 'Walker Hound', 'Pug',\n",
       "       'Bloodhound', 'Lhasa', 'English Setter', 'Italian Greyhound',\n",
       "       'Newfoundland', 'Malamute', 'Soft-Coated Wheaten Terrier',\n",
       "       'Chihuahua', 'Black-And-Tan Coonhound', 'Toy Terrier',\n",
       "       'Blenheim Spaniel', 'Pembroke', 'Irish Terrier',\n",
       "       'Chesapeake Bay Retriever', 'Curly-Coated Retriever', 'Dalmatian',\n",
       "       'Border Collie', 'Labrador Retriever', 'Miniature Schnauzer',\n",
       "       'Maltese Dog', 'Airedale', 'Rottweiler',\n",
       "       'West Highland White Terrier', 'Toy Poodle', 'Giant Schnauzer',\n",
       "       'Vizsla', 'Siberian Husky', 'Papillon', 'Saint Bernard',\n",
       "       'Tibetan Terrier', 'Borzoi', 'Beagle', 'Yorkshire Terrier',\n",
       "       'Pomeranian', 'Kuvasz', 'Flat-Coated Retriever',\n",
       "       'Norwegian Elkhound', 'Boxer', 'Standard Poodle',\n",
       "       'Staffordshire Bullterrier', 'Basenji', 'Lakeland Terrier',\n",
       "       'American Staffordshire Terrier', 'Shih-Tzu', 'Groenendael',\n",
       "       'French Bulldog', 'Pekinese', 'Komondor', 'Malinois', 'Kelpie',\n",
       "       'Brittany Spaniel', 'Cocker Spaniel', 'Basset', 'English Springer',\n",
       "       'Cardigan', 'Brabancon Griffon', 'Eskimo Dog',\n",
       "       'German Short-Haired Pointer', 'Shetland Sheepdog', 'Cairn',\n",
       "       'Whippet', 'Sussex Spaniel', 'Dandie Dinmont', 'Ibizan Hound',\n",
       "       'Norwich Terrier', 'Keeshond', 'Norfolk Terrier',\n",
       "       'Old English Sheepdog', 'Samoyed', 'Doberman', 'Irish Wolfhound',\n",
       "       'Great Pyrenees', 'Schipperke', 'Bull Mastiff', 'Collie',\n",
       "       'Greater Swiss Mountain Dog', 'Scottish Deerhound',\n",
       "       'Standard Schnauzer', 'Irish Water Spaniel', 'Boston Bull',\n",
       "       'Japanese Spaniel', 'Entlebucher', 'Bluetick', 'Irish Setter',\n",
       "       'Leonberg', 'Mexican Hairless', 'Weimaraner', 'Great Dane',\n",
       "       'Tibetan Mastiff', 'Scotch Terrier', 'Australian Terrier',\n",
       "       'Briard', 'Appenzeller', 'Border Terrier', 'Bedlington Terrier',\n",
       "       'Wire-Haired Fox Terrier', 'Saluki', 'Silky Terrier',\n",
       "       'Afghan Hound', 'Clumber', 'Bouvier Des Flandres'], dtype=object)"
      ]
     },
     "execution_count": 101,
     "metadata": {},
     "output_type": "execute_result"
    }
   ],
   "source": [
    "df_twitter_master['breed'].unique()"
   ]
  },
  {
   "cell_type": "code",
   "execution_count": null,
   "metadata": {
    "pycharm": {
     "name": "#%%\n"
    }
   },
   "outputs": [],
   "source": []
  },
  {
   "cell_type": "markdown",
   "metadata": {
    "pycharm": {
     "name": "#%% md\n"
    }
   },
   "source": [
    "<a id='storing'></a>\n",
    "<span style=\"color:blue; font-size:30px; line-height:40px; font-family: Calibri;\">Step 5: Storing Data</span>\n",
    "\n",
    "Save gathered, assessed, and cleaned master dataset to a CSV file named \"twitter_archive_master.csv\"."
   ]
  },
  {
   "cell_type": "code",
   "execution_count": 102,
   "metadata": {
    "pycharm": {
     "name": "#%%\n"
    }
   },
   "outputs": [],
   "source": [
    "df_twitter_master.to_csv('../data/twitter_archive_master.csv', index=False)"
   ]
  },
  {
   "cell_type": "markdown",
   "metadata": {
    "pycharm": {
     "name": "#%% md\n"
    }
   },
   "source": [
    "<a id='visuals'></a>\n",
    "<span style=\"color:blue; font-size:30px; line-height:40px; font-family: Calibri;\">Step 6: Analyzing and Visualizing Data</span>\n",
    "\n",
    "In this section, analyze and visualize your wrangled data. You must produce at least **three (3) insights and one (1) visualization.**"
   ]
  },
  {
   "cell_type": "code",
   "execution_count": 103,
   "metadata": {
    "pycharm": {
     "name": "#%%\n"
    }
   },
   "outputs": [
    {
     "data": {
      "text/html": [
       "<div>\n",
       "<style scoped>\n",
       "    .dataframe tbody tr th:only-of-type {\n",
       "        vertical-align: middle;\n",
       "    }\n",
       "\n",
       "    .dataframe tbody tr th {\n",
       "        vertical-align: top;\n",
       "    }\n",
       "\n",
       "    .dataframe thead th {\n",
       "        text-align: right;\n",
       "    }\n",
       "</style>\n",
       "<table border=\"1\" class=\"dataframe\">\n",
       "  <thead>\n",
       "    <tr style=\"text-align: right;\">\n",
       "      <th></th>\n",
       "      <th>tweet_id</th>\n",
       "      <th>timestamp</th>\n",
       "      <th>source</th>\n",
       "      <th>expanded_urls</th>\n",
       "      <th>rating_numerator</th>\n",
       "      <th>rating_denominator</th>\n",
       "      <th>name</th>\n",
       "      <th>cleantext</th>\n",
       "      <th>dog_stage</th>\n",
       "      <th>retweet_count</th>\n",
       "      <th>like_count</th>\n",
       "      <th>media_url</th>\n",
       "      <th>short_url</th>\n",
       "      <th>annotation</th>\n",
       "      <th>breed</th>\n",
       "      <th>jpg_url</th>\n",
       "    </tr>\n",
       "  </thead>\n",
       "  <tbody>\n",
       "    <tr>\n",
       "      <th>1427</th>\n",
       "      <td>766423258543644672</td>\n",
       "      <td>2016-08-18</td>\n",
       "      <td>Twitter for iPhone</td>\n",
       "      <td>https://twitter.com/dog_rates/status/766423258543644672/photo/1</td>\n",
       "      <td>9</td>\n",
       "      <td>10</td>\n",
       "      <td>Shadoe</td>\n",
       "      <td>This is Shadoe. Her tongue flies out of her mouth at random. Can't have a serious conversation with her.</td>\n",
       "      <td>NaN</td>\n",
       "      <td>1419</td>\n",
       "      <td>5480</td>\n",
       "      <td>https://pbs.twimg.com/media/CqLh4yHXYAAJTv8.jpg</td>\n",
       "      <td>https://t.co/Tytt15VquG</td>\n",
       "      <td>Shadoe</td>\n",
       "      <td>Keeshond</td>\n",
       "      <td>https://pbs.twimg.com/media/CqLh4yJWcAAHomv.jpg</td>\n",
       "    </tr>\n",
       "    <tr>\n",
       "      <th>1721</th>\n",
       "      <td>818259473185828864</td>\n",
       "      <td>2017-01-09</td>\n",
       "      <td>Twitter for iPhone</td>\n",
       "      <td>https://twitter.com/dog_rates/status/818259473185828864/photo/1</td>\n",
       "      <td>12</td>\n",
       "      <td>10</td>\n",
       "      <td>Florence</td>\n",
       "      <td>This is Florence. He saw the same snap you sent him on your story. Pretty pupset with you.</td>\n",
       "      <td>NaN</td>\n",
       "      <td>2030</td>\n",
       "      <td>10117</td>\n",
       "      <td>https://pbs.twimg.com/media/C1sKo_QUkAALtkw.jpg</td>\n",
       "      <td>https://t.co/rnkvT2kvib</td>\n",
       "      <td>Florence</td>\n",
       "      <td>Miniature Schnauzer</td>\n",
       "      <td>https://pbs.twimg.com/media/C1sKo_QUkAALtkw.jpg</td>\n",
       "    </tr>\n",
       "    <tr>\n",
       "      <th>999</th>\n",
       "      <td>707297311098011648</td>\n",
       "      <td>2016-03-08</td>\n",
       "      <td>Twitter for iPhone</td>\n",
       "      <td>https://twitter.com/dog_rates/status/707297311098011648/photo/1</td>\n",
       "      <td>10</td>\n",
       "      <td>10</td>\n",
       "      <td>Cassie</td>\n",
       "      <td>This is Cassie. She can go from sweet to scary af in a matter of seconds.</td>\n",
       "      <td>NaN</td>\n",
       "      <td>698</td>\n",
       "      <td>2507</td>\n",
       "      <td>https://pbs.twimg.com/media/CdDTJLMW4AEST--.jpg</td>\n",
       "      <td>https://t.co/B6dmZmJBdK</td>\n",
       "      <td>Cassie</td>\n",
       "      <td>Blenheim Spaniel</td>\n",
       "      <td>https://pbs.twimg.com/media/CdDTJLMW4AEST--.jpg</td>\n",
       "    </tr>\n",
       "  </tbody>\n",
       "</table>\n",
       "</div>"
      ],
      "text/plain": [
       "                tweet_id   timestamp              source  \\\n",
       "1427  766423258543644672  2016-08-18  Twitter for iPhone   \n",
       "1721  818259473185828864  2017-01-09  Twitter for iPhone   \n",
       "999   707297311098011648  2016-03-08  Twitter for iPhone   \n",
       "\n",
       "                                                        expanded_urls  \\\n",
       "1427  https://twitter.com/dog_rates/status/766423258543644672/photo/1   \n",
       "1721  https://twitter.com/dog_rates/status/818259473185828864/photo/1   \n",
       "999   https://twitter.com/dog_rates/status/707297311098011648/photo/1   \n",
       "\n",
       "      rating_numerator  rating_denominator      name  \\\n",
       "1427                 9                  10    Shadoe   \n",
       "1721                12                  10  Florence   \n",
       "999                 10                  10    Cassie   \n",
       "\n",
       "                                                                                                      cleantext  \\\n",
       "1427  This is Shadoe. Her tongue flies out of her mouth at random. Can't have a serious conversation with her.    \n",
       "1721                This is Florence. He saw the same snap you sent him on your story. Pretty pupset with you.    \n",
       "999                                  This is Cassie. She can go from sweet to scary af in a matter of seconds.    \n",
       "\n",
       "     dog_stage  retweet_count  like_count  \\\n",
       "1427       NaN           1419        5480   \n",
       "1721       NaN           2030       10117   \n",
       "999        NaN            698        2507   \n",
       "\n",
       "                                            media_url  \\\n",
       "1427  https://pbs.twimg.com/media/CqLh4yHXYAAJTv8.jpg   \n",
       "1721  https://pbs.twimg.com/media/C1sKo_QUkAALtkw.jpg   \n",
       "999   https://pbs.twimg.com/media/CdDTJLMW4AEST--.jpg   \n",
       "\n",
       "                    short_url annotation                breed  \\\n",
       "1427  https://t.co/Tytt15VquG     Shadoe             Keeshond   \n",
       "1721  https://t.co/rnkvT2kvib   Florence  Miniature Schnauzer   \n",
       "999   https://t.co/B6dmZmJBdK     Cassie     Blenheim Spaniel   \n",
       "\n",
       "                                              jpg_url  \n",
       "1427  https://pbs.twimg.com/media/CqLh4yJWcAAHomv.jpg  \n",
       "1721  https://pbs.twimg.com/media/C1sKo_QUkAALtkw.jpg  \n",
       "999   https://pbs.twimg.com/media/CdDTJLMW4AEST--.jpg  "
      ]
     },
     "execution_count": 103,
     "metadata": {},
     "output_type": "execute_result"
    }
   ],
   "source": [
    "# read the cleaned twitter master data from csv\n",
    "df_twitter_master = pd.read_csv('../data/twitter_archive_master.csv')\n",
    "df_twitter_master.sample(3)"
   ]
  },
  {
   "cell_type": "markdown",
   "metadata": {
    "pycharm": {
     "name": "#%% md\n"
    }
   },
   "source": [
    "### First Impressions"
   ]
  },
  {
   "cell_type": "code",
   "execution_count": 104,
   "metadata": {
    "pycharm": {
     "name": "#%%\n"
    }
   },
   "outputs": [
    {
     "name": "stdout",
     "output_type": "stream",
     "text": [
      "<class 'pandas.core.frame.DataFrame'>\n",
      "RangeIndex: 2071 entries, 0 to 2070\n",
      "Data columns (total 16 columns):\n",
      " #   Column              Non-Null Count  Dtype \n",
      "---  ------              --------------  ----- \n",
      " 0   tweet_id            2071 non-null   int64 \n",
      " 1   timestamp           2071 non-null   object\n",
      " 2   source              2071 non-null   object\n",
      " 3   expanded_urls       2068 non-null   object\n",
      " 4   rating_numerator    2071 non-null   int64 \n",
      " 5   rating_denominator  2071 non-null   int64 \n",
      " 6   name                1380 non-null   object\n",
      " 7   cleantext           2064 non-null   object\n",
      " 8   dog_stage           368 non-null    object\n",
      " 9   retweet_count       2071 non-null   int64 \n",
      " 10  like_count          2071 non-null   int64 \n",
      " 11  media_url           1872 non-null   object\n",
      " 12  short_url           2068 non-null   object\n",
      " 13  annotation          1567 non-null   object\n",
      " 14  breed               1570 non-null   object\n",
      " 15  jpg_url             1946 non-null   object\n",
      "dtypes: int64(5), object(11)\n",
      "memory usage: 259.0+ KB\n"
     ]
    }
   ],
   "source": [
    "df_twitter_master.info()"
   ]
  },
  {
   "cell_type": "code",
   "execution_count": 105,
   "metadata": {
    "pycharm": {
     "name": "#%%\n"
    }
   },
   "outputs": [
    {
     "name": "stdout",
     "output_type": "stream",
     "text": [
      "<class 'pandas.core.series.Series'>\n",
      "RangeIndex: 2071 entries, 0 to 2070\n",
      "Series name: timestamp\n",
      "Non-Null Count  Dtype         \n",
      "--------------  -----         \n",
      "2071 non-null   datetime64[ns]\n",
      "dtypes: datetime64[ns](1)\n",
      "memory usage: 16.3 KB\n"
     ]
    }
   ],
   "source": [
    "# convert timestamp to the correct datatype as the conversion during cleaning is lost when reading from csv \n",
    "df_twitter_master['timestamp'] = pd.to_datetime(df_twitter_master['timestamp']).dt.date.astype('datetime64[ns]')\n",
    "df_twitter_master.timestamp.info()"
   ]
  },
  {
   "cell_type": "code",
   "execution_count": 106,
   "metadata": {
    "pycharm": {
     "name": "#%%\n"
    }
   },
   "outputs": [
    {
     "data": {
      "text/html": [
       "<div>\n",
       "<style scoped>\n",
       "    .dataframe tbody tr th:only-of-type {\n",
       "        vertical-align: middle;\n",
       "    }\n",
       "\n",
       "    .dataframe tbody tr th {\n",
       "        vertical-align: top;\n",
       "    }\n",
       "\n",
       "    .dataframe thead th {\n",
       "        text-align: right;\n",
       "    }\n",
       "</style>\n",
       "<table border=\"1\" class=\"dataframe\">\n",
       "  <thead>\n",
       "    <tr style=\"text-align: right;\">\n",
       "      <th></th>\n",
       "      <th>tweet_id</th>\n",
       "      <th>rating_numerator</th>\n",
       "      <th>rating_denominator</th>\n",
       "      <th>retweet_count</th>\n",
       "      <th>like_count</th>\n",
       "    </tr>\n",
       "  </thead>\n",
       "  <tbody>\n",
       "    <tr>\n",
       "      <th>count</th>\n",
       "      <td>2071.00</td>\n",
       "      <td>2071.00</td>\n",
       "      <td>2071.00</td>\n",
       "      <td>2071.00</td>\n",
       "      <td>2071.00</td>\n",
       "    </tr>\n",
       "    <tr>\n",
       "      <th>mean</th>\n",
       "      <td>736452450228852352.00</td>\n",
       "      <td>11.70</td>\n",
       "      <td>10.00</td>\n",
       "      <td>2239.56</td>\n",
       "      <td>7538.70</td>\n",
       "    </tr>\n",
       "    <tr>\n",
       "      <th>std</th>\n",
       "      <td>67185635006163952.00</td>\n",
       "      <td>39.90</td>\n",
       "      <td>0.00</td>\n",
       "      <td>3923.89</td>\n",
       "      <td>10983.82</td>\n",
       "    </tr>\n",
       "    <tr>\n",
       "      <th>min</th>\n",
       "      <td>666020888022790144.00</td>\n",
       "      <td>0.00</td>\n",
       "      <td>10.00</td>\n",
       "      <td>11.00</td>\n",
       "      <td>62.00</td>\n",
       "    </tr>\n",
       "    <tr>\n",
       "      <th>25%</th>\n",
       "      <td>676610346575097856.00</td>\n",
       "      <td>10.00</td>\n",
       "      <td>10.00</td>\n",
       "      <td>493.50</td>\n",
       "      <td>1660.00</td>\n",
       "    </tr>\n",
       "    <tr>\n",
       "      <th>50%</th>\n",
       "      <td>709449600415961088.00</td>\n",
       "      <td>11.00</td>\n",
       "      <td>10.00</td>\n",
       "      <td>1085.00</td>\n",
       "      <td>3432.00</td>\n",
       "    </tr>\n",
       "    <tr>\n",
       "      <th>75%</th>\n",
       "      <td>787557781765275648.00</td>\n",
       "      <td>12.00</td>\n",
       "      <td>10.00</td>\n",
       "      <td>2561.50</td>\n",
       "      <td>9403.50</td>\n",
       "    </tr>\n",
       "    <tr>\n",
       "      <th>max</th>\n",
       "      <td>892420643555336192.00</td>\n",
       "      <td>1776.00</td>\n",
       "      <td>10.00</td>\n",
       "      <td>69094.00</td>\n",
       "      <td>141242.00</td>\n",
       "    </tr>\n",
       "  </tbody>\n",
       "</table>\n",
       "</div>"
      ],
      "text/plain": [
       "                   tweet_id  rating_numerator  rating_denominator  \\\n",
       "count               2071.00           2071.00             2071.00   \n",
       "mean  736452450228852352.00             11.70               10.00   \n",
       "std    67185635006163952.00             39.90                0.00   \n",
       "min   666020888022790144.00              0.00               10.00   \n",
       "25%   676610346575097856.00             10.00               10.00   \n",
       "50%   709449600415961088.00             11.00               10.00   \n",
       "75%   787557781765275648.00             12.00               10.00   \n",
       "max   892420643555336192.00           1776.00               10.00   \n",
       "\n",
       "       retweet_count  like_count  \n",
       "count        2071.00     2071.00  \n",
       "mean         2239.56     7538.70  \n",
       "std          3923.89    10983.82  \n",
       "min            11.00       62.00  \n",
       "25%           493.50     1660.00  \n",
       "50%          1085.00     3432.00  \n",
       "75%          2561.50     9403.50  \n",
       "max         69094.00   141242.00  "
      ]
     },
     "execution_count": 106,
     "metadata": {},
     "output_type": "execute_result"
    }
   ],
   "source": [
    "df_twitter_master.describe()"
   ]
  },
  {
   "cell_type": "markdown",
   "metadata": {
    "pycharm": {
     "name": "#%% md\n"
    }
   },
   "source": [
    "**Observation from `describe()`:**\n",
    "    \n",
    "- rating_numerator have max value 1776, which looks like an outlier"
   ]
  },
  {
   "cell_type": "code",
   "execution_count": 107,
   "metadata": {
    "pycharm": {
     "name": "#%%\n"
    }
   },
   "outputs": [
    {
     "data": {
      "image/png": "[encoded data removed]",
      "text/plain": [
       "<Figure size 640x480 with 1 Axes>"
      ]
     },
     "metadata": {},
     "output_type": "display_data"
    }
   ],
   "source": [
    "# Further explore exceptionally high rating_numerator values\n",
    "df_twitter_master.rating_numerator.plot(kind='box')\n",
    "plt.title('Detecting outliers')\n",
    "plt.show()"
   ]
  },
  {
   "cell_type": "markdown",
   "metadata": {
    "pycharm": {
     "name": "#%% md\n"
    }
   },
   "source": [
    "**Observation from boxplot for rating_numerator:**\n",
    "    \n",
    "- rating_numerator values above 100 looks rather exceptional"
   ]
  },
  {
   "cell_type": "code",
   "execution_count": 108,
   "metadata": {
    "pycharm": {
     "name": "#%%\n"
    }
   },
   "outputs": [
    {
     "data": {
      "text/html": [
       "<div>\n",
       "<style scoped>\n",
       "    .dataframe tbody tr th:only-of-type {\n",
       "        vertical-align: middle;\n",
       "    }\n",
       "\n",
       "    .dataframe tbody tr th {\n",
       "        vertical-align: top;\n",
       "    }\n",
       "\n",
       "    .dataframe thead th {\n",
       "        text-align: right;\n",
       "    }\n",
       "</style>\n",
       "<table border=\"1\" class=\"dataframe\">\n",
       "  <thead>\n",
       "    <tr style=\"text-align: right;\">\n",
       "      <th></th>\n",
       "      <th>tweet_id</th>\n",
       "      <th>timestamp</th>\n",
       "      <th>source</th>\n",
       "      <th>expanded_urls</th>\n",
       "      <th>rating_numerator</th>\n",
       "      <th>rating_denominator</th>\n",
       "      <th>name</th>\n",
       "      <th>cleantext</th>\n",
       "      <th>dog_stage</th>\n",
       "      <th>retweet_count</th>\n",
       "      <th>like_count</th>\n",
       "      <th>media_url</th>\n",
       "      <th>short_url</th>\n",
       "      <th>annotation</th>\n",
       "      <th>breed</th>\n",
       "      <th>jpg_url</th>\n",
       "    </tr>\n",
       "  </thead>\n",
       "  <tbody>\n",
       "    <tr>\n",
       "      <th>274</th>\n",
       "      <td>670842764863651840</td>\n",
       "      <td>2015-11-29</td>\n",
       "      <td>Twitter for iPhone</td>\n",
       "      <td>https://twitter.com/dog_rates/status/670842764863651840/photo/1</td>\n",
       "      <td>420</td>\n",
       "      <td>10</td>\n",
       "      <td>NaN</td>\n",
       "      <td>After so many requests... here you go.\\n\\nGood dogg.</td>\n",
       "      <td>NaN</td>\n",
       "      <td>7405</td>\n",
       "      <td>21377</td>\n",
       "      <td>https://pbs.twimg.com/media/CU9P717W4AAOlKx.jpg</td>\n",
       "      <td>https://t.co/yfAAo1gdeY</td>\n",
       "      <td>NaN</td>\n",
       "      <td>NaN</td>\n",
       "      <td>https://pbs.twimg.com/media/CU9P717W4AAOlKx.jpg</td>\n",
       "    </tr>\n",
       "    <tr>\n",
       "      <th>1311</th>\n",
       "      <td>749981277374128128</td>\n",
       "      <td>2016-07-04</td>\n",
       "      <td>TweetDeck</td>\n",
       "      <td>https://twitter.com/dog_rates/status/749981277374128128/photo/1</td>\n",
       "      <td>1776</td>\n",
       "      <td>10</td>\n",
       "      <td>Atticus</td>\n",
       "      <td>This is Atticus. He's quite simply America af.</td>\n",
       "      <td>NaN</td>\n",
       "      <td>2221</td>\n",
       "      <td>4672</td>\n",
       "      <td>https://pbs.twimg.com/media/CmgBZ7kWcAAlzFD.jpg</td>\n",
       "      <td>https://t.co/GRXwMxLBkh</td>\n",
       "      <td>Atticus</td>\n",
       "      <td>NaN</td>\n",
       "      <td>https://pbs.twimg.com/media/CmgBZ7kWcAAlzFD.jpg</td>\n",
       "    </tr>\n",
       "  </tbody>\n",
       "</table>\n",
       "</div>"
      ],
      "text/plain": [
       "                tweet_id  timestamp              source  \\\n",
       "274   670842764863651840 2015-11-29  Twitter for iPhone   \n",
       "1311  749981277374128128 2016-07-04           TweetDeck   \n",
       "\n",
       "                                                        expanded_urls  \\\n",
       "274   https://twitter.com/dog_rates/status/670842764863651840/photo/1   \n",
       "1311  https://twitter.com/dog_rates/status/749981277374128128/photo/1   \n",
       "\n",
       "      rating_numerator  rating_denominator     name  \\\n",
       "274                420                  10      NaN   \n",
       "1311              1776                  10  Atticus   \n",
       "\n",
       "                                                  cleantext dog_stage  \\\n",
       "274   After so many requests... here you go.\\n\\nGood dogg.        NaN   \n",
       "1311        This is Atticus. He's quite simply America af.        NaN   \n",
       "\n",
       "      retweet_count  like_count  \\\n",
       "274            7405       21377   \n",
       "1311           2221        4672   \n",
       "\n",
       "                                            media_url  \\\n",
       "274   https://pbs.twimg.com/media/CU9P717W4AAOlKx.jpg   \n",
       "1311  https://pbs.twimg.com/media/CmgBZ7kWcAAlzFD.jpg   \n",
       "\n",
       "                    short_url annotation breed  \\\n",
       "274   https://t.co/yfAAo1gdeY        NaN   NaN   \n",
       "1311  https://t.co/GRXwMxLBkh    Atticus   NaN   \n",
       "\n",
       "                                              jpg_url  \n",
       "274   https://pbs.twimg.com/media/CU9P717W4AAOlKx.jpg  \n",
       "1311  https://pbs.twimg.com/media/CmgBZ7kWcAAlzFD.jpg  "
      ]
     },
     "execution_count": 108,
     "metadata": {},
     "output_type": "execute_result"
    }
   ],
   "source": [
    "# how many records for rating_numerator outliers do we have ?\n",
    "df_twitter_master.query('rating_numerator >= 100')"
   ]
  },
  {
   "cell_type": "markdown",
   "metadata": {
    "pycharm": {
     "name": "#%% md\n"
    }
   },
   "source": [
    "**Observation for rating_numerator outliers:**\n",
    "\n",
    "- Dogs with numerator as outliers > 100, do have a high amount of retweet and like counts, it might be the most popular dogs so lets keep the records"
   ]
  },
  {
   "cell_type": "markdown",
   "metadata": {
    "pycharm": {
     "name": "#%% md\n"
    }
   },
   "source": [
    "### Insight questions to answer:\n",
    "\n",
    "1. Which breeds are tweeted the most ?\n",
    "2. Which breeds are the post popular ?\n",
    "3. What is the tweet trent over time ?"
   ]
  },
  {
   "cell_type": "markdown",
   "metadata": {
    "pycharm": {
     "name": "#%% md\n"
    }
   },
   "source": [
    "### Insight 1: Which breeds are tweeted the most by their owners ?"
   ]
  },
  {
   "cell_type": "code",
   "execution_count": 109,
   "metadata": {
    "pycharm": {
     "name": "#%%\n"
    }
   },
   "outputs": [
    {
     "data": {
      "image/png": "[encoded data removed]",
      "text/plain": [
       "<Figure size 640x480 with 1 Axes>"
      ]
     },
     "metadata": {},
     "output_type": "display_data"
    }
   ],
   "source": [
    "# Display the top 10 breeds that gets tweeted the most\n",
    "df_twitter_master.breed.value_counts()[:10].plot(kind='bar')\n",
    "plt.title('Top 10 breeds tweeted the most by their owners')\n",
    "plt.xlabel('Breed')\n",
    "plt.ylabel('Number of tweets')\n",
    "plt.show()"
   ]
  },
  {
   "cell_type": "markdown",
   "metadata": {
    "pycharm": {
     "name": "#%% md\n"
    }
   },
   "source": [
    "### Insight  2: Which breeds are the post popular ?"
   ]
  },
  {
   "cell_type": "code",
   "execution_count": 110,
   "metadata": {
    "pycharm": {
     "name": "#%%\n"
    }
   },
   "outputs": [
    {
     "data": {
      "image/png": "[encoded data removed]",
      "text/plain": [
       "<Figure size 640x480 with 1 Axes>"
      ]
     },
     "metadata": {},
     "output_type": "display_data"
    }
   ],
   "source": [
    "# Display the top 10 breeds with highest like counts\n",
    "popular_breeds = df_twitter_master.groupby('breed', as_index=False)['like_count'].sum().sort_values(by='like_count', ascending=False, ignore_index=True)[:10]\n",
    "ax1 = popular_breeds.plot(kind='bar', x='breed')\n",
    "\n",
    "# turn off exponential formatting\n",
    "ax1.ticklabel_format(useOffset=False, style='plain', axis='y')\n",
    "plt.title('Top 10 breeds with highest #likes')\n",
    "plt.ylabel('Number of likes')\n",
    "plt.xlabel('Breed')\n",
    "plt.show()"
   ]
  },
  {
   "cell_type": "code",
   "execution_count": 111,
   "metadata": {
    "pycharm": {
     "name": "#%%\n"
    }
   },
   "outputs": [
    {
     "data": {
      "image/png": "[encoded data removed]",
      "text/plain": [
       "<Figure size 640x480 with 1 Axes>"
      ]
     },
     "metadata": {},
     "output_type": "display_data"
    }
   ],
   "source": [
    "# Display the top 10 breeds with highest mean counts\n",
    "popular_breeds = df_twitter_master.groupby('breed', as_index=False)['like_count'].mean().sort_values(by='like_count', ascending=False, ignore_index=True)[:10]\n",
    "ax1 = popular_breeds.plot(kind='bar', x='breed')\n",
    "\n",
    "# turn off exponential formatting\n",
    "ax1.ticklabel_format(useOffset=False, style='plain', axis='y')\n",
    "plt.title('Top 10 breeds with highest average likes')\n",
    "plt.ylabel('Average number of likes')\n",
    "plt.xlabel('Breed')\n",
    "plt.show()"
   ]
  },
  {
   "cell_type": "markdown",
   "metadata": {
    "pycharm": {
     "name": "#%% md\n"
    }
   },
   "source": [
    "### Insight 3: What is the tweet trent over time ?"
   ]
  },
  {
   "cell_type": "code",
   "execution_count": 112,
   "metadata": {
    "pycharm": {
     "name": "#%%\n"
    }
   },
   "outputs": [
    {
     "data": {
      "text/html": [
       "<div>\n",
       "<style scoped>\n",
       "    .dataframe tbody tr th:only-of-type {\n",
       "        vertical-align: middle;\n",
       "    }\n",
       "\n",
       "    .dataframe tbody tr th {\n",
       "        vertical-align: top;\n",
       "    }\n",
       "\n",
       "    .dataframe thead th {\n",
       "        text-align: right;\n",
       "    }\n",
       "</style>\n",
       "<table border=\"1\" class=\"dataframe\">\n",
       "  <thead>\n",
       "    <tr style=\"text-align: right;\">\n",
       "      <th></th>\n",
       "      <th>tweet_id</th>\n",
       "    </tr>\n",
       "    <tr>\n",
       "      <th>timestamp</th>\n",
       "      <th></th>\n",
       "    </tr>\n",
       "  </thead>\n",
       "  <tbody>\n",
       "    <tr>\n",
       "      <th>2015-11-15</th>\n",
       "      <td>666020888022790149</td>\n",
       "    </tr>\n",
       "    <tr>\n",
       "      <th>2015-11-15</th>\n",
       "      <td>666029285002620928</td>\n",
       "    </tr>\n",
       "    <tr>\n",
       "      <th>2015-11-15</th>\n",
       "      <td>666033412701032449</td>\n",
       "    </tr>\n",
       "    <tr>\n",
       "      <th>2015-11-16</th>\n",
       "      <td>666044226329800704</td>\n",
       "    </tr>\n",
       "    <tr>\n",
       "      <th>2015-11-16</th>\n",
       "      <td>666049248165822465</td>\n",
       "    </tr>\n",
       "  </tbody>\n",
       "</table>\n",
       "</div>"
      ],
      "text/plain": [
       "                      tweet_id\n",
       "timestamp                     \n",
       "2015-11-15  666020888022790149\n",
       "2015-11-15  666029285002620928\n",
       "2015-11-15  666033412701032449\n",
       "2015-11-16  666044226329800704\n",
       "2015-11-16  666049248165822465"
      ]
     },
     "execution_count": 112,
     "metadata": {},
     "output_type": "execute_result"
    }
   ],
   "source": [
    "# Create a time series dataset, to track the number of tweets per month\n",
    "twitter_timeseries = df_twitter_master.filter(['timestamp', 'tweet_id'], axis=1).copy()\n",
    "\n",
    "# set datetime field as index\n",
    "twitter_timeseries.set_index('timestamp', inplace=True) \n",
    "\n",
    "twitter_timeseries.head()"
   ]
  },
  {
   "cell_type": "code",
   "execution_count": 113,
   "metadata": {
    "pycharm": {
     "name": "#%%\n"
    }
   },
   "outputs": [
    {
     "data": {
      "text/html": [
       "<div>\n",
       "<style scoped>\n",
       "    .dataframe tbody tr th:only-of-type {\n",
       "        vertical-align: middle;\n",
       "    }\n",
       "\n",
       "    .dataframe tbody tr th {\n",
       "        vertical-align: top;\n",
       "    }\n",
       "\n",
       "    .dataframe thead th {\n",
       "        text-align: right;\n",
       "    }\n",
       "</style>\n",
       "<table border=\"1\" class=\"dataframe\">\n",
       "  <thead>\n",
       "    <tr style=\"text-align: right;\">\n",
       "      <th></th>\n",
       "      <th>tweet_id</th>\n",
       "    </tr>\n",
       "    <tr>\n",
       "      <th>timestamp</th>\n",
       "      <th></th>\n",
       "    </tr>\n",
       "  </thead>\n",
       "  <tbody>\n",
       "    <tr>\n",
       "      <th>2015-11-30</th>\n",
       "      <td>295</td>\n",
       "    </tr>\n",
       "    <tr>\n",
       "      <th>2015-12-31</th>\n",
       "      <td>369</td>\n",
       "    </tr>\n",
       "    <tr>\n",
       "      <th>2016-01-31</th>\n",
       "      <td>181</td>\n",
       "    </tr>\n",
       "    <tr>\n",
       "      <th>2016-02-29</th>\n",
       "      <td>119</td>\n",
       "    </tr>\n",
       "    <tr>\n",
       "      <th>2016-03-31</th>\n",
       "      <td>129</td>\n",
       "    </tr>\n",
       "    <tr>\n",
       "      <th>2016-04-30</th>\n",
       "      <td>58</td>\n",
       "    </tr>\n",
       "    <tr>\n",
       "      <th>2016-05-31</th>\n",
       "      <td>58</td>\n",
       "    </tr>\n",
       "    <tr>\n",
       "      <th>2016-06-30</th>\n",
       "      <td>89</td>\n",
       "    </tr>\n",
       "    <tr>\n",
       "      <th>2016-07-31</th>\n",
       "      <td>94</td>\n",
       "    </tr>\n",
       "    <tr>\n",
       "      <th>2016-08-31</th>\n",
       "      <td>60</td>\n",
       "    </tr>\n",
       "    <tr>\n",
       "      <th>2016-09-30</th>\n",
       "      <td>68</td>\n",
       "    </tr>\n",
       "    <tr>\n",
       "      <th>2016-10-31</th>\n",
       "      <td>71</td>\n",
       "    </tr>\n",
       "    <tr>\n",
       "      <th>2016-11-30</th>\n",
       "      <td>54</td>\n",
       "    </tr>\n",
       "    <tr>\n",
       "      <th>2016-12-31</th>\n",
       "      <td>56</td>\n",
       "    </tr>\n",
       "    <tr>\n",
       "      <th>2017-01-31</th>\n",
       "      <td>68</td>\n",
       "    </tr>\n",
       "    <tr>\n",
       "      <th>2017-02-28</th>\n",
       "      <td>67</td>\n",
       "    </tr>\n",
       "    <tr>\n",
       "      <th>2017-03-31</th>\n",
       "      <td>50</td>\n",
       "    </tr>\n",
       "    <tr>\n",
       "      <th>2017-04-30</th>\n",
       "      <td>42</td>\n",
       "    </tr>\n",
       "    <tr>\n",
       "      <th>2017-05-31</th>\n",
       "      <td>43</td>\n",
       "    </tr>\n",
       "    <tr>\n",
       "      <th>2017-06-30</th>\n",
       "      <td>47</td>\n",
       "    </tr>\n",
       "    <tr>\n",
       "      <th>2017-07-31</th>\n",
       "      <td>51</td>\n",
       "    </tr>\n",
       "    <tr>\n",
       "      <th>2017-08-31</th>\n",
       "      <td>2</td>\n",
       "    </tr>\n",
       "  </tbody>\n",
       "</table>\n",
       "</div>"
      ],
      "text/plain": [
       "            tweet_id\n",
       "timestamp           \n",
       "2015-11-30       295\n",
       "2015-12-31       369\n",
       "2016-01-31       181\n",
       "2016-02-29       119\n",
       "2016-03-31       129\n",
       "2016-04-30        58\n",
       "2016-05-31        58\n",
       "2016-06-30        89\n",
       "2016-07-31        94\n",
       "2016-08-31        60\n",
       "2016-09-30        68\n",
       "2016-10-31        71\n",
       "2016-11-30        54\n",
       "2016-12-31        56\n",
       "2017-01-31        68\n",
       "2017-02-28        67\n",
       "2017-03-31        50\n",
       "2017-04-30        42\n",
       "2017-05-31        43\n",
       "2017-06-30        47\n",
       "2017-07-31        51\n",
       "2017-08-31         2"
      ]
     },
     "execution_count": 113,
     "metadata": {},
     "output_type": "execute_result"
    }
   ],
   "source": [
    "# calculate the mean tweets per month\n",
    "freq = 'M'\n",
    "twitter_timeseries = twitter_timeseries.resample(freq).count()\n",
    "twitter_timeseries"
   ]
  },
  {
   "cell_type": "code",
   "execution_count": 114,
   "metadata": {
    "pycharm": {
     "name": "#%%\n"
    }
   },
   "outputs": [
    {
     "data": {
      "image/png": "[encoded data removed]",
      "text/plain": [
       "<Figure size 640x480 with 1 Axes>"
      ]
     },
     "metadata": {},
     "output_type": "display_data"
    }
   ],
   "source": [
    "ax = twitter_timeseries.plot()\n",
    "ax.get_legend().remove()\n",
    "plt.title('Tweet trend by monthy')\n",
    "plt.ylabel('Number of tweets')\n",
    "plt.show()"
   ]
  },
  {
   "cell_type": "markdown",
   "metadata": {
    "pycharm": {
     "name": "#%% md\n"
    }
   },
   "source": [
    "### Insights:\n",
    "\n",
    "**Insight 1: Which breeds are tweeted the most ?**\n",
    "Owners of Golden Retrievers and Labradors tweet the most\n",
    "\n",
    "**Insight 2: Which dog breeds are the post popular ?**\n",
    "Be careful of Simpsons' Paradox, because the owners of labradors tweet the most, they also receive the most total likes. Bedlington Terrier and Saluki dog breeds receive the most average likes per breed\n",
    "\n",
    "**Insight 3: What is the tweet trent over time ?**\n",
    "There is downwards trend of number of tweets per month, from Nov 2015 to Oct 2017. The popularity of WeRateDogs seems to decline"
   ]
  },
  {
   "cell_type": "markdown",
   "metadata": {
    "pycharm": {
     "name": "#%% md\n"
    }
   },
   "source": [
    "### Visualization"
   ]
  },
  {
   "cell_type": "markdown",
   "metadata": {
    "pycharm": {
     "name": "#%%\n"
    }
   },
   "source": [
    "Display profiles cards of the dog with the most likes in the top 5 breeds"
   ]
  },
  {
   "cell_type": "code",
   "execution_count": 115,
   "metadata": {
    "pycharm": {
     "name": "#%%\n"
    }
   },
   "outputs": [
    {
     "name": "stdout",
     "output_type": "stream",
     "text": [
      "<class 'pandas.core.frame.DataFrame'>\n",
      "RangeIndex: 2071 entries, 0 to 2070\n",
      "Data columns (total 16 columns):\n",
      " #   Column              Non-Null Count  Dtype         \n",
      "---  ------              --------------  -----         \n",
      " 0   tweet_id            2071 non-null   int64         \n",
      " 1   timestamp           2071 non-null   datetime64[ns]\n",
      " 2   source              2071 non-null   object        \n",
      " 3   expanded_urls       2068 non-null   object        \n",
      " 4   rating_numerator    2071 non-null   int64         \n",
      " 5   rating_denominator  2071 non-null   int64         \n",
      " 6   name                1380 non-null   object        \n",
      " 7   cleantext           2064 non-null   object        \n",
      " 8   dog_stage           368 non-null    object        \n",
      " 9   retweet_count       2071 non-null   int64         \n",
      " 10  like_count          2071 non-null   int64         \n",
      " 11  media_url           1872 non-null   object        \n",
      " 12  short_url           2068 non-null   object        \n",
      " 13  annotation          1567 non-null   object        \n",
      " 14  breed               1570 non-null   object        \n",
      " 15  jpg_url             1946 non-null   object        \n",
      "dtypes: datetime64[ns](1), int64(5), object(10)\n",
      "memory usage: 259.0+ KB\n"
     ]
    }
   ],
   "source": [
    "# Make sure string fields to be used in the profile cards don't contain too much NaN\n",
    "df_twitter_master.info()"
   ]
  },
  {
   "cell_type": "code",
   "execution_count": 116,
   "metadata": {
    "pycharm": {
     "name": "#%%\n"
    }
   },
   "outputs": [],
   "source": [
    "# Feature engineering for better visualization\n",
    "# Convert None values to 'Unknown' as it looks better on the 'profile' card\n",
    "df_twitter_master['name'] = df_twitter_master['name'].fillna('unknown')\n",
    "df_twitter_master['breed'] = df_twitter_master['breed'].fillna('unknown')\n",
    "df_twitter_master['dog_stage'] = df_twitter_master['dog_stage'].fillna('unknown')\n",
    "df_twitter_master['annotation'] = df_twitter_master['annotation'].fillna('')"
   ]
  },
  {
   "cell_type": "code",
   "execution_count": 117,
   "metadata": {
    "pycharm": {
     "name": "#%%\n"
    }
   },
   "outputs": [
    {
     "data": {
      "text/html": [
       "\n",
       "            <p>\n",
       "                <img src=https://pbs.twimg.com/media/DDxPFwbWAAEbVVR.jpg alt=881666595344535552 width=300 style=\"float:left\">\n",
       "                <h4>This is Gary. He couldn't miss this puppertunity for a selfie. Flawless focusing skills. </h4><br>\n",
       "                <em>Name: Gary</em><br>\n",
       "                <em>Breed: Saluki</em><br>    \n",
       "                <em>Dog stage: pupper</em><br>                 \n",
       "                <em>Score: 13/10</em><br>\n",
       "                <em>Likes : 43140</em><br>    \n",
       "                <em>Retweets : 8724</em><br>  \n",
       "                <em><a href=https://t.co/7CSWCl8I6s>https://t.co/7CSWCl8I6s</a></em>\n",
       "            </p>\n",
       "\n",
       "            "
      ],
      "text/plain": [
       "<IPython.core.display.HTML object>"
      ]
     },
     "metadata": {},
     "output_type": "display_data"
    },
    {
     "data": {
      "text/html": [
       "\n",
       "            <p>\n",
       "                <img src=https://pbs.twimg.com/media/DAZAUfBXcAAG_Nn.jpg alt=866450705531457537 width=300 style=\"float:left\">\n",
       "                <h4>This is Jamesy. He gives a kiss to every other pupper he sees on his walk. </h4><br>\n",
       "                <em>Name: Jamesy</em><br>\n",
       "                <em>Breed: French Bulldog</em><br>    \n",
       "                <em>Dog stage: pupper</em><br>                 \n",
       "                <em>Score: 13/10</em><br>\n",
       "                <em>Likes : 105531</em><br>    \n",
       "                <em>Retweets : 29478</em><br>  \n",
       "                <em><a href=https://t.co/wk7TfysWHr>https://t.co/wk7TfysWHr</a></em>\n",
       "            </p>\n",
       "\n",
       "            "
      ],
      "text/plain": [
       "<IPython.core.display.HTML object>"
      ]
     },
     "metadata": {},
     "output_type": "display_data"
    },
    {
     "data": {
      "text/html": [
       "\n",
       "            <p>\n",
       "                <img src=https://pbs.twimg.com/ext_tw_video_thumb/861288473281437696/pu/img/RERGmRgPyaaaB-tB.jpg alt=861288531465048066 width=300 style=\"float:left\">\n",
       "                <h4>HI. MY. NAME. IS. BOOMER. AND. I. WANT. TO. SAY. IT'S. H*CKIN. RIDICULOUS. THAT. DOGS. CAN'T VOTE. ABSOLUTE. CODSWALLUP. THANK. YOU. </h4><br>\n",
       "                <em>Name: unknown</em><br>\n",
       "                <em>Breed: Bouvier Des Flandres</em><br>    \n",
       "                <em>Dog stage: unknown</em><br>                 \n",
       "                <em>Score: 13/10</em><br>\n",
       "                <em>Likes : 14907</em><br>    \n",
       "                <em>Retweets : 3503</em><br>  \n",
       "                <em><a href=https://t.co/SqKJPwbQ2g>https://t.co/SqKJPwbQ2g</a></em>\n",
       "            </p>\n",
       "\n",
       "            "
      ],
      "text/plain": [
       "<IPython.core.display.HTML object>"
      ]
     },
     "metadata": {},
     "output_type": "display_data"
    },
    {
     "data": {
      "text/html": [
       "\n",
       "            <p>\n",
       "                <img src=https://pbs.twimg.com/media/CwJR1okWIAA6XMp.jpg alt=793286476301799424 width=300 style=\"float:left\">\n",
       "                <h4>This is Moreton. He's the Good Boy Who Lived. </h4><br>\n",
       "                <em>Name: Moreton</em><br>\n",
       "                <em>Breed: Afghan Hound</em><br>    \n",
       "                <em>Dog stage: unknown</em><br>                 \n",
       "                <em>Score: 13/10</em><br>\n",
       "                <em>Likes : 22645</em><br>    \n",
       "                <em>Retweets : 8411</em><br>  \n",
       "                <em><a href=https://t.co/rLHGx3VAF3>https://t.co/rLHGx3VAF3</a></em>\n",
       "            </p>\n",
       "\n",
       "            "
      ],
      "text/plain": [
       "<IPython.core.display.HTML object>"
      ]
     },
     "metadata": {},
     "output_type": "display_data"
    },
    {
     "data": {
      "text/html": [
       "\n",
       "            <p>\n",
       "                <img src=https://pbs.twimg.com/media/C9px7jyVwAAnmwN.jpg alt=854120357044912130 width=300 style=\"float:left\">\n",
       "                <h4>Sometimes you guys remind me just how impactful a pupper can be. Cooper will be remembered as a good boy by so many. </h4><br>\n",
       "                <em>Name: Cooper</em><br>\n",
       "                <em>Breed: Black-And-Tan Coonhound</em><br>    \n",
       "                <em>Dog stage: pupper</em><br>                 \n",
       "                <em>Score: 14/10</em><br>\n",
       "                <em>Likes : 28288</em><br>    \n",
       "                <em>Retweets : 6447</em><br>  \n",
       "                <em><a href=https://t.co/oBL7LEJEzR>https://t.co/oBL7LEJEzR</a></em>\n",
       "            </p>\n",
       "\n",
       "            "
      ],
      "text/plain": [
       "<IPython.core.display.HTML object>"
      ]
     },
     "metadata": {},
     "output_type": "display_data"
    }
   ],
   "source": [
    "# Select the most liked dog in the top average liked breeds\n",
    "for breed in popular_breeds['breed'][:5]:\n",
    "\n",
    "    # Select the most popular dog within the selected breed\n",
    "    idx = df_twitter_master.query('breed == @breed')['like_count'].idxmax()\n",
    "    best = df_twitter_master.loc[idx]\n",
    "\n",
    "    display_image(best)"
   ]
  },
  {
   "cell_type": "code",
   "execution_count": 118,
   "metadata": {
    "pycharm": {
     "name": "#%%\n"
    }
   },
   "outputs": [
    {
     "data": {
      "text/html": [
       "\n",
       "            <p>\n",
       "                <img src=https://pbs.twimg.com/ext_tw_video_thumb/744234667679821824/pu/img/1GaWmtJtdqzZV7jy.jpg alt=744234799360020481 width=300 style=\"float:left\">\n",
       "                <h4>Here's a doggo realizing you can stand in a pool. </h4><br>\n",
       "                <em>Name: Tina Conrad</em><br>\n",
       "                <em>Breed: Labrador Retriever</em><br>    \n",
       "                <em>Dog stage: doggo</em><br>                 \n",
       "                <em>Score: 13/10</em><br>\n",
       "                <em>Likes : 141242</em><br>    \n",
       "                <em>Retweets : 69094</em><br>  \n",
       "                <em><a href=https://t.co/7wE9LTEXC4>https://t.co/7wE9LTEXC4</a></em>\n",
       "            </p>\n",
       "\n",
       "            "
      ],
      "text/plain": [
       "<IPython.core.display.HTML object>"
      ]
     },
     "metadata": {},
     "output_type": "display_data"
    }
   ],
   "source": [
    "# just for fun, display the dog with the most tweets\n",
    "idx = df_twitter_master.like_count.idxmax()\n",
    "best = df_twitter_master.loc[idx]\n",
    "display_image(best)"
   ]
  },
  {
   "cell_type": "markdown",
   "source": [
    "<a id='references'></a>\n",
    "<span style=\"color:blue; font-size:30px; line-height:40px; font-family: Calibri;\">References</span>"
   ],
   "metadata": {
    "collapsed": false,
    "pycharm": {
     "name": "#%% md\n"
    }
   }
  },
  {
   "cell_type": "markdown",
   "source": [
    "- [Font color in headings](https://stackoverflow.com/questions/4182554/html-css-font-color-vs-span-style)\n",
    "- [Twitter documentation for get_tweets using V2](https://developer.twitter.com/en/docs/twitter-api/tweets/lookup/api-reference/get-tweets-id)\n",
    "- [Twitter source code example for get_tweets using V2](https://github.com/twitterdev/Twitter-API-v2-sample-code/blob/main/Tweet-Lookup/get_tweets_with_bearer_token.py)\n",
    "- [reading a json file](https://knowledge.udacity.com/questions/66949#66975)\n",
    "- [Twitter API v2, tweepy and pandas in Python](https://www.kirenz.com/post/2021-12-10-twitter-api-v2-tweepy-and-pandas-in-python/twitter-api-v2-tweepy-and-pandas-in-python/)\n",
    "- [How to handle dog stages](https://knowledge.udacity.com/questions/196883)\n",
    "- [prevent exponential format when plotting](https://stackoverflow.com/questions/14711655/how-to-prevent-numbers-being-changed-to-exponential-form-in-a-plot)\n",
    "- [How to display images and text together using HTML](https://stackoverflow.com/questions/25698448/how-to-embed-html-into-ipython-output)"
   ],
   "metadata": {
    "collapsed": false,
    "pycharm": {
     "name": "#%% md\n"
    }
   }
  },
  {
   "cell_type": "markdown",
   "source": [
    "<a id='submission'></a>\n",
    "<span style=\"color:blue; font-size:30px; line-height:40px; font-family: Calibri;\">Submission</span>"
   ],
   "metadata": {
    "collapsed": false,
    "pycharm": {
     "name": "#%% md\n"
    }
   }
  },
  {
   "cell_type": "markdown",
   "metadata": {},
   "source": [
    "- [Font color in headings](https://stackoverflow.com/questions/4182554/html-css-font-color-vs-span-style)\n",
    "- [Twitter documentation for get_tweets using V2](https://developer.twitter.com/en/docs/twitter-api/tweets/lookup/api-reference/get-tweets-id)\n",
    "- [Twitter source code example for get_tweets using V2](https://github.com/twitterdev/Twitter-API-v2-sample-code/blob/main/Tweet-Lookup/get_tweets_with_bearer_token.py)\n",
    "- [reading a json file](https://knowledge.udacity.com/questions/66949#66975)\n",
    "- [Twitter API v2, tweepy and pandas in Python](https://www.kirenz.com/post/2021-12-10-twitter-api-v2-tweepy-and-pandas-in-python/twitter-api-v2-tweepy-and-pandas-in-python/)\n",
    "- [How to handle dog stages](https://knowledge.udacity.com/questions/196883)\n",
    "- [prevent exponential format when plotting](https://stackoverflow.com/questions/14711655/how-to-prevent-numbers-being-changed-to-exponential-form-in-a-plot)\n",
    "- [How to display images and text together using HTML](https://stackoverflow.com/questions/25698448/how-to-embed-html-into-ipython-output)"
   ]
  },
  {
   "cell_type": "markdown",
   "metadata": {},
   "source": [
    "<a id='submission'></a>\n",
    "<span style=\"color:blue; font-size:30px; line-height:40px; font-family: Calibri;\">Submission</span>"
   ]
  },
  {
   "cell_type": "code",
   "execution_count": 121,
   "metadata": {
    "pycharm": {
     "name": "#%%\n"
    }
   },
   "outputs": [
    {
     "name": "stderr",
     "output_type": "stream",
     "text": [
      "[NbConvertApp] WARNING | Config option `kernel_spec_manager_class` not recognized by `NbConvertApp`.\n",
      "[NbConvertApp] Converting notebook wrangle_act.ipynb to html\n",
      "[NbConvertApp] Writing 1231032 bytes to wrangle_act.html\n"
     ]
    },
    {
     "data": {
      "text/plain": [
       "0"
      ]
     },
     "execution_count": 121,
     "metadata": {},
     "output_type": "execute_result"
    }
   ],
   "source": [
    "# convert notebook to html\n",
    "os.system('jupyter nbconvert --to html wrangle_act.ipynb')"
   ]
  },
  {
   "cell_type": "code",
   "execution_count": null,
   "metadata": {},
   "outputs": [],
   "source": []
  }
 ],
 "metadata": {
  "extensions": {
   "jupyter_dashboards": {
    "activeView": "report_default",
    "version": 1,
    "views": {
     "grid_default": {
      "cellMargin": 10,
      "defaultCellHeight": 20,
      "maxColumns": 12,
      "name": "grid",
      "type": "grid"
     },
     "report_default": {
      "name": "report",
      "type": "report"
     }
    }
   }
  },
  "kernelspec": {
   "display_name": "Python [conda env:weratedogs] *",
   "language": "python",
   "name": "conda-env-weratedogs-py"
  },
  "language_info": {
   "codemirror_mode": {
    "name": "ipython",
    "version": 3
   },
   "file_extension": ".py",
   "mimetype": "text/x-python",
   "name": "python",
   "nbconvert_exporter": "python",
   "pygments_lexer": "ipython3",
   "version": "3.9.15"
  }
 },
 "nbformat": 4,
 "nbformat_minor": 2
}