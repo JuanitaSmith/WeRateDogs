{
 "cells": [
  {
   "cell_type": "markdown",
   "metadata": {
    "extensions": {
     "jupyter_dashboards": {
      "version": 1,
      "views": {
       "grid_default": {
        "col": 0,
        "height": 4,
        "hidden": false,
        "row": 0,
        "width": 4
       },
       "report_default": {
        "hidden": false
       }
      }
     }
    },
    "pycharm": {
     "name": "#%% md\n"
    }
   },
   "source": [
    "# Udacity Data Analysis Nanodegree\n",
    "# Project 3: Wrangling and Analyze Data"
   ]
  },
  {
   "cell_type": "markdown",
   "metadata": {
    "pycharm": {
     "name": "#%% md\n"
    }
   },
   "source": [
    "- [Introduction](#intro)\n",
    "- [Step 1: Data Gathering](#datagathering)\n",
    "- [Step 2: Assessing data](#assess)\n",
    "- [Step 3: Cleaning](#cleaning)\n",
    "- [Step 4: Storing Data](#storing)\n",
    "- [Step 5: Analysing and Visualization](#visuals)\n",
    "- [References](#references)\n",
    "- [Submission](#submission)"
   ]
  },
  {
   "cell_type": "markdown",
   "metadata": {
    "pycharm": {
     "name": "#%% md\n"
    }
   },
   "source": [
    "<a id='intro'></a>\n",
    "<span style=\"color:blue; font-size:30px; line-height:40px; font-family: Calibri;\">Introduction</span>"
   ]
  },
  {
   "cell_type": "markdown",
   "metadata": {
    "pycharm": {
     "name": "#%% md\n"
    }
   },
   "source": [
    "This project was completed as part of the 'Data Analyst' nanodegree with Udacity. \n",
    "\n",
    "The goal of the project was to demonstrate the data wrangling and analysis skills obtained from the course.\n",
    "\n",
    "The dataset to be wrangled is the tweet archive of Twitter user [@dog_rates](https://twitter.com/dog_rates), also known as [WeRateDogs](https://en.wikipedia.org/wiki/WeRateDogs). WeRateDogs is a Twitter account that rates people's dogs with a humorous comment about the dog. Dog owners upload a picture of their dog, writes a funny comment and give their own dog a rating out of 10. Owners almost always give their dogs a rating greater than 10. e.g 11/10, 12/10, 13/10, it's the nature of the website. WeRateDogs has over 4 million followers and has received international media coverage. It's only a bit of fun, and brings great joy when browsing the cutest dog images !"
   ]
  },
  {
   "cell_type": "code",
   "execution_count": null,
   "outputs": [],
   "source": [
    "import json\n",
    "import os\n",
    "import time\n",
    "from io import BytesIO\n",
    "\n",
    "import matplotlib.pyplot as plt\n",
    "import seaborn as sns\n",
    "import numpy as np\n",
    "import pandas as pd\n",
    "import requests\n",
    "import tweepy\n",
    "from IPython.display import HTML, display\n",
    "from PIL import Image\n",
    "\n",
    "# import custom functions that generate visualizations for repetitive code\n",
    "from src.utils import *\n",
    "\n",
    "# magic word for producing visualizations in notebook\n",
    "%matplotlib inline\n",
    "\n",
    "# suppress matplotlib user warnings\n",
    "import warnings\n",
    "warnings.filterwarnings(\"ignore\", category=UserWarning, module=\"matplotlib\")\n",
    "\n",
    "# environment settings\n",
    "pd.set_option('display.max_colwidth', None)\n",
    "\n",
    "# stock scientific notation on graphs\n",
    "pd.options.display.float_format = '{:.2f}'.format"
   ],
   "metadata": {
    "collapsed": false,
    "pycharm": {
     "name": "#%%\n"
    }
   }
  },
  {
   "cell_type": "code",
   "execution_count": null,
   "outputs": [],
   "source": [
    "# Default parameters\n",
    "\n",
    "# general data directory\n",
    "filename_general = '../data'\n",
    "\n",
    "# twitter archive\n",
    "filename_twitter_archive = '../data/twitter_archive_enhanced.csv'\n",
    "\n",
    "# image predictions\n",
    "folder_image_predictions = '../data/image_predictions'\n",
    "filename_image_predictions = '../data/image_predictions/image_predictions.tsv'\n",
    "\n",
    "# additional data from twitter API \n",
    "folder_twitter_api = '../data/json'\n",
    "filename_twitter_api = '../data/json/tweet_json.txt'\n",
    "filename_twitter_api_output = '../data/tweepy_api.csv'\n",
    "filename_twitter_api_errors = '../data/tweepy_api_errors.txt'\n",
    "\n",
    "# dog posters\n",
    "folder_image_profiles = '../data/image_profiles'\n",
    "filename_image_errors = '../data/json/api_missing_data_errors.txt'"
   ],
   "metadata": {
    "collapsed": false,
    "pycharm": {
     "name": "#%%\n"
    }
   }
  },
  {
   "cell_type": "markdown",
   "source": [
    "<a id='datagathering'></a>\n",
    "<span style=\"color:blue; font-size:30px; line-height:40px; font-family: Calibri;\">Step 1: Data Gathering</span>\n",
    "\n",
    "\n",
    "In the cell below, gather **all** three pieces of data for this project and load them in the notebook. **Note:** the methods required to gather each data are different.\n",
    "\n",
    "<span style=\"color:blue\">1.1 Directly download the WeRateDogs Twitter archive data (twitter_archive_enhanced.csv)</span>"
   ],
   "metadata": {
    "collapsed": false,
    "pycharm": {
     "name": "#%% md\n"
    }
   }
  },
  {
   "cell_type": "code",
   "execution_count": null,
   "outputs": [],
   "source": [
    "# Download file from Udacity server\n",
    "url = 'https://d17h27t6h515a5.cloudfront.net/topher/2017/August/59a4e958_twitter-archive-enhanced/twitter-archive-enhanced.csv'\n",
    "df_twitter_archive = pd.read_csv(url)\n",
    "df_twitter_archive.head()"
   ],
   "metadata": {
    "collapsed": false,
    "pycharm": {
     "name": "#%%\n"
    }
   }
  },
  {
   "cell_type": "code",
   "execution_count": null,
   "outputs": [],
   "source": [
    "df_twitter_archive.shape"
   ],
   "metadata": {
    "collapsed": false,
    "pycharm": {
     "name": "#%%\n"
    }
   }
  },
  {
   "cell_type": "code",
   "execution_count": null,
   "outputs": [],
   "source": [
    "# write WeRateDogs Twitter archive data to csv\n",
    "\n",
    "# Make main data directory if it doesn't already exist\n",
    "create_folder(filename_general)\n",
    "\n",
    "df_twitter_archive.to_csv(filename_twitter_archive, index=False)"
   ],
   "metadata": {
    "collapsed": false,
    "pycharm": {
     "name": "#%%\n"
    }
   }
  },
  {
   "cell_type": "markdown",
   "source": [
    "<span style=\"color:blue\">1.2 Use the Requests library to download each tweet's image prediction (image_predictions.tsv)</span>"
   ],
   "metadata": {
    "collapsed": false,
    "pycharm": {
     "name": "#%% md\n"
    }
   }
  },
  {
   "cell_type": "code",
   "execution_count": null,
   "outputs": [],
   "source": [
    "# Make directory if it doesn't already exist\n",
    "create_folder(folder_image_predictions)"
   ],
   "metadata": {
    "collapsed": false,
    "pycharm": {
     "name": "#%%\n"
    }
   }
  },
  {
   "cell_type": "code",
   "execution_count": null,
   "outputs": [],
   "source": [
    "# download and save image predictions\n",
    "udacity_url = 'https://d17h27t6h515a5.cloudfront.net/topher/2017/August/599fd2ad_image-predictions/image-predictions.tsv'\n",
    "response = requests.get(udacity_url)  \n",
    "\n",
    "# save file \n",
    "with open(filename_image_predictions, mode = 'wb') as file:\n",
    "    file.write(response.content)"
   ],
   "metadata": {
    "collapsed": false,
    "pycharm": {
     "name": "#%%\n"
    }
   }
  },
  {
   "cell_type": "markdown",
   "source": [
    "Test if file was downloaded from Udacity server successfully"
   ],
   "metadata": {
    "collapsed": false,
    "pycharm": {
     "name": "#%% md\n"
    }
   }
  },
  {
   "cell_type": "code",
   "execution_count": null,
   "outputs": [],
   "source": [
    "# check that a file was saved in the new directory\n",
    "assert len(os.listdir(folder_image_predictions)) == 1"
   ],
   "metadata": {
    "collapsed": false,
    "pycharm": {
     "name": "#%%\n"
    }
   }
  },
  {
   "cell_type": "code",
   "execution_count": null,
   "outputs": [],
   "source": [
    "# load new file into a dataframe\n",
    "df_image_predictions = pd.read_csv(filename_image_predictions, sep='\\t')"
   ],
   "metadata": {
    "collapsed": false,
    "pycharm": {
     "name": "#%%\n"
    }
   }
  },
  {
   "cell_type": "markdown",
   "source": [
    "Test if file was loaded into a dataframe successfully"
   ],
   "metadata": {
    "collapsed": false,
    "pycharm": {
     "name": "#%% md\n"
    }
   }
  },
  {
   "cell_type": "code",
   "execution_count": null,
   "outputs": [],
   "source": [
    "df_image_predictions.head()"
   ],
   "metadata": {
    "collapsed": false,
    "pycharm": {
     "name": "#%%\n"
    }
   }
  },
  {
   "cell_type": "code",
   "execution_count": null,
   "outputs": [],
   "source": [
    "df_image_predictions.shape"
   ],
   "metadata": {
    "collapsed": false,
    "pycharm": {
     "name": "#%%\n"
    }
   }
  },
  {
   "cell_type": "markdown",
   "source": [
    "<span style=\"color:blue\">1.3 Use twitter API 'tweepy' to retrieve additional data</span>\n",
    "\n",
    "For each twitter id in the twitter archive file from step 1.1, retrieve additional data from the API\n",
    "Minimum requirement: retweet count, and favorite count"
   ],
   "metadata": {
    "collapsed": false,
    "pycharm": {
     "name": "#%% md\n"
    }
   }
  },
  {
   "cell_type": "code",
   "execution_count": null,
   "outputs": [],
   "source": [
    "# import API credentials from environment variables\n",
    "consumer_key = os.environ.get('TWITTER_CONSUMER_KEY')\n",
    "consumer_secret = os.environ.get('TWITTER_CONSUMER_SECRET')\n",
    "access_token = os.environ.get('TWITTER_ACCESS_TOKEN')\n",
    "access_secret = os.environ.get('TWITTER_ACCESS_SECRET')\n",
    "bearer_token = os.environ.get('TWITTER_BEARER_TOKEN')"
   ],
   "metadata": {
    "collapsed": false,
    "pycharm": {
     "name": "#%%\n"
    }
   }
  },
  {
   "cell_type": "code",
   "execution_count": null,
   "outputs": [],
   "source": [
    "# download and save files\n",
    "\n",
    "start_time = time.time()\n",
    "\n",
    "# create a folder if it does not exist\n",
    "create_folder(folder_twitter_api)\n",
    "error_list = []\n",
    "counter = 1\n",
    "total_records = df_twitter_archive['tweet_id'].shape[0]\n",
    "\n",
    "# Make a connection with API v2\n",
    "client = tweepy.Client( bearer_token=bearer_token, \n",
    "                        consumer_key=consumer_key, \n",
    "                        consumer_secret=consumer_secret, \n",
    "                        access_token=access_token, \n",
    "                        access_token_secret=access_secret, \n",
    "                        return_type = requests.Response,\n",
    "                        wait_on_rate_limit=True)\n",
    "\n",
    "# write json file\n",
    "with open(filename_twitter_api, 'w') as outfile:\n",
    "\n",
    "    for tweet_id in df_twitter_archive['tweet_id']:\n",
    "\n",
    "            # This cell is slow so print counter to gauge time remaining   \n",
    "            if counter%50 == 0:\n",
    "                print('Tweet: {}, {} out of {} tweets completed'.format(tweet_id, counter, total_records))\n",
    "\n",
    "            # call get_tweets API\n",
    "            tweet_fields = [\"public_metrics\", \"entities\", \"text\", \"attachments\",\"geo\"]\n",
    "            expansions = ['geo.place_id', 'attachments.media_keys']\n",
    "            media_fields = ['url', 'type']\n",
    "            place_fields = ['country_code', 'full_name', 'place_type']\n",
    "            response = client.get_tweets(tweet_id, \n",
    "                                         tweet_fields=tweet_fields, \n",
    "                                         expansions=expansions,\n",
    "                                         media_fields=media_fields,\n",
    "                                         place_fields = place_fields)\n",
    "            if response.status_code == 200:        \n",
    "                # write tweet to file on its own line\n",
    "                json_string = json.dumps(response.json()) \n",
    "                outfile.write(json_string + '\\n')\n",
    "\n",
    "            else:\n",
    "                # construct error message and append to error list\n",
    "                error_message = \"Request returned an error: {} {}\".format(response.status_code, response.text)\n",
    "                print(error_message)\n",
    "                error_list.append(error_message)\n",
    "                \n",
    "            counter+=1\n",
    "            \n",
    "end_time = time.time()\n",
    "print('Executing time: {}'.format(end_time - start_time))"
   ],
   "metadata": {
    "collapsed": false,
    "pycharm": {
     "name": "#%%\n"
    }
   }
  },
  {
   "cell_type": "code",
   "execution_count": null,
   "outputs": [],
   "source": [
    "# create .txt file containing API errors\n",
    "if len(error_list) > 0:\n",
    "    with open('../data/json/api_errors.txt', 'w') as outfile:\n",
    "        outfile.write(str(error_list))"
   ],
   "metadata": {
    "collapsed": false,
    "pycharm": {
     "name": "#%%\n"
    }
   }
  },
  {
   "cell_type": "code",
   "execution_count": null,
   "outputs": [],
   "source": [
    "# read json file and import into a dataframe\n",
    "\n",
    "selected_attr = []\n",
    "error_list = []\n",
    "counter=0\n",
    "\n",
    "with open(filename_twitter_api, 'r') as json_file:\n",
    "    for line in json_file:\n",
    "\n",
    "        json_data = json.loads(line)\n",
    "        \n",
    "        # Extract \"data\" value from dictionary\n",
    "        try:\n",
    "            tweets_data = json_data['data'][0] \n",
    "            tweet_id = tweets_data['id']\n",
    "            text = tweets_data['text']            \n",
    "        except:\n",
    "            message = ('Error for index {}: [data] not available could be tweet no longer exist'.format(counter))\n",
    "            error_list.append(message)\n",
    "            continue\n",
    "        \n",
    "        # get first image of dog\n",
    "        try: \n",
    "            tweets_media = json_data['includes'] \n",
    "            media_url = tweets_media['media'][0]['url']\n",
    "            media_type = tweets_media['media'][0]['type']  \n",
    "        except:\n",
    "            media_url = media_type = ''\n",
    "            message = 'Error for index {}: media not available for tweet {}'.format(counter, tweet_id)\n",
    "            error_list.append(message)\n",
    "\n",
    "        # get public statistics e.g. retweet and like data\n",
    "        try:\n",
    "            retweet_count = tweets_data['public_metrics']['retweet_count']\n",
    "            reply_count = tweets_data['public_metrics']['reply_count']\n",
    "            like_count = tweets_data['public_metrics']['like_count']\n",
    "            quote_count = tweets_data['public_metrics']['quote_count']   \n",
    "        except:\n",
    "            retweet_count = reply_count = like_count = quote_count = ''  \n",
    "            message = ('Error for index {}: public statistics not available for tweet {}'.format(counter, tweet_id))   \n",
    "            error_list.append(message)\n",
    "                       \n",
    "        # get first available urls\n",
    "        try:\n",
    "            short_url = tweets_data['entities']['urls'][0]['url']                              \n",
    "            expanded_url = tweets_data['entities']['urls'][0]['expanded_url']    \n",
    "        except:\n",
    "            short_url = expanded_url = ''        \n",
    "            message = ('Error for index {}: URL not available for tweet {}'.format(counter, tweet_id))   \n",
    "            error_list.append(message)            \n",
    "            \n",
    "        \n",
    "        # get first annotation to possibly pick up the name of the dog, if it exists\n",
    "        try:\n",
    "            annotation = tweets_data['entities']['annotations'][0]['normalized_text'] \n",
    "        except:\n",
    "            annotation = ''\n",
    "            message = ('Error for index {}: Annotations not available for tweet {}'.format(counter, tweet_id)) \n",
    "            error_list.append(message)      \n",
    "\n",
    "            \n",
    "        selected_attr.append({\"id\": tweet_id,\n",
    "                              \"text\": text,\n",
    "                              \"retweet_count\": retweet_count,\n",
    "                              \"reply_count\":  reply_count,\n",
    "                              \"like_count\": like_count,\n",
    "                              \"quote_count\": quote_count,\n",
    "                              \"media_url\": media_url,\n",
    "                              \"media_type\": media_type,                  \n",
    "                              \"short_url\": short_url ,                      \n",
    "                              \"expanded_url\": expanded_url,\n",
    "                              \"annotation\": annotation\n",
    "                             })\n",
    "            \n",
    "        counter+=1"
   ],
   "metadata": {
    "collapsed": false,
    "pycharm": {
     "name": "#%%\n"
    }
   }
  },
  {
   "cell_type": "code",
   "execution_count": null,
   "outputs": [],
   "source": [
    "#create dataframe\n",
    "df_tweepy = pd.DataFrame(selected_attr)\n",
    "df_tweepy.head()"
   ],
   "metadata": {
    "collapsed": false,
    "pycharm": {
     "name": "#%%\n"
    }
   }
  },
  {
   "cell_type": "code",
   "execution_count": null,
   "outputs": [],
   "source": [
    "# create .txt file containing missing data problems we could not retrieve from the dumped json data\n",
    "if len(error_list) > 0:\n",
    "    with open(filename_twitter_api_errors, 'w') as outfile:\n",
    "        outfile.write(str(error_list))"
   ],
   "metadata": {
    "collapsed": false,
    "pycharm": {
     "name": "#%%\n"
    }
   }
  },
  {
   "cell_type": "code",
   "execution_count": null,
   "outputs": [],
   "source": [
    "df_tweepy.to_csv('../data/tweepy_api.csv', index=False)"
   ],
   "metadata": {
    "collapsed": false,
    "pycharm": {
     "name": "#%%\n"
    }
   }
  },
  {
   "cell_type": "markdown",
   "source": [
    "<span style=\"color:blue\">1.4 Download dog profile images (optional extra step)</span>"
   ],
   "metadata": {
    "collapsed": false,
    "pycharm": {
     "name": "#%% md\n"
    }
   }
  },
  {
   "cell_type": "code",
   "execution_count": null,
   "outputs": [],
   "source": [
    "df_tweepy = pd.read_csv(filename_twitter_api_output)\n",
    "df_tweepy.head(5)            "
   ],
   "metadata": {
    "collapsed": false,
    "pycharm": {
     "name": "#%%\n"
    }
   }
  },
  {
   "cell_type": "code",
   "execution_count": null,
   "outputs": [],
   "source": [
    "# retrieve dog posters\n",
    "\n",
    "start_time = time.time()\n",
    "\n",
    "df_list = []\n",
    "image_errors = []\n",
    "counter = 0\n",
    "total_records = df_tweepy.shape[0]\n",
    "\n",
    "  \n",
    "# Make directory if it doesn't already exist\n",
    "create_folder(folder_image_profiles)    \n",
    "\n",
    "# Download images\n",
    "for i in df_tweepy.index:\n",
    "    \n",
    "    url = df_tweepy['media_url'][i]\n",
    "    tweet_id = df_tweepy['id'][i]\n",
    "    \n",
    "    if url:\n",
    "        try:\n",
    "            # Download movie poster image\n",
    "            r = requests.get(url)\n",
    "            i = Image.open(BytesIO(r.content))\n",
    "            # file format of images, e.g. jpg\n",
    "            image_file_format = url.split('.')[-1]\n",
    "            i.save(folder_image_profiles + \"/\" + str(tweet_id) + \".\" + image_file_format)\n",
    "\n",
    "        except Exception as e:\n",
    "            error_message = (str(counter) + \"_\" + str(tweet_id) + \": \" + str(e))\n",
    "            image_errors.append(error_message)              \n",
    "            \n",
    "  # This cell is slow so print progress to gauge time remaining\n",
    "    counter+=1 \n",
    "    if counter%100 == 0:\n",
    "        print('Tweet: {}, {} out of {} images downloaded'.format(tweet_id, counter, total_records))            \n",
    "            \n",
    "end_time = time.time()\n",
    "print('Executing time: {}'.format(end_time - start_time))"
   ],
   "metadata": {
    "collapsed": false,
    "pycharm": {
     "name": "#%%\n"
    }
   }
  },
  {
   "cell_type": "code",
   "execution_count": null,
   "outputs": [],
   "source": [
    "# create .txt file containing missing data problems we could not retrieve from the dumped json data\n",
    "if len(image_errors) > 0:\n",
    "    with open(filename_image_errors, 'w') as outfile:\n",
    "        outfile.write(str(image_errors))\n",
    "        \n",
    "print('Whilst downloading images, {} errors occurred'.format(len(image_errors)))"
   ],
   "metadata": {
    "collapsed": false,
    "pycharm": {
     "name": "#%%\n"
    }
   }
  },
  {
   "cell_type": "markdown",
   "source": [
    "<a id='assess'></a>\n",
    "<span style=\"color:blue; font-size:30px; line-height:40px; font-family: Calibri;\">Step 2: Assessing Data</span>\n",
    "\n",
    "##### Project criteria: \n",
    "\n",
    "In this section, detect and document at least **eight (8) quality issues and two (2) tidiness issue**. Use **both** visual and programmatic assessment to assess the data.\n",
    "\n",
    "**Note:** pay attention to the following key points when assessing the data:\n",
    "\n",
    "* You only want original ratings (no retweets) that have images. Though there are 5000+ tweets in the dataset, not all are dog ratings and some are retweets.\n",
    "* The fact that the rating numerators are greater than the denominators does not need to be cleaned. This [unique rating system](http://knowyourmeme.com/memes/theyre-good-dogs-brent) is a big part of the popularity of WeRateDogs.\n",
    "* You do not need to gather the tweets beyond August 1st, 2017. You can, but note that you won't be able to gather the image predictions for these tweets since you don't have access to the algorithm used.\n"
   ],
   "metadata": {
    "collapsed": false,
    "pycharm": {
     "name": "#%% md\n"
    }
   }
  },
  {
   "cell_type": "markdown",
   "source": [
    "Index:\n",
    "\n",
    "- [Step 2.1: Assess twitter archive data](#twitter_archive)\n",
    "- [Step 2.2: Assess twitter API data](#twitter_api)\n",
    "- [Step 2.3: Assess twitter breed prediction data](#twitter_predictions)"
   ],
   "metadata": {
    "collapsed": false,
    "pycharm": {
     "name": "#%% md\n"
    }
   }
  },
  {
   "cell_type": "markdown",
   "source": [
    "<a id='twitter_archive'></a>\n",
    "<span style=\"color:blue; font-size:16px\">2.1 Assess twitter archive data</span>"
   ],
   "metadata": {
    "collapsed": false,
    "pycharm": {
     "name": "#%% md\n"
    }
   }
  },
  {
   "cell_type": "code",
   "execution_count": null,
   "outputs": [],
   "source": [
    "# read twitter_archive table and do visual assessment of a sample\n",
    "df_twitter_archive = pd.read_csv(filename_twitter_archive)\n",
    "df_twitter_archive.sample(20)"
   ],
   "metadata": {
    "collapsed": false,
    "pycharm": {
     "name": "#%%\n"
    }
   }
  },
  {
   "cell_type": "markdown",
   "source": [
    "**Observations from visual inspection**:\n",
    "- columns related to retweet and replies (`in_reply_to_status_id, in_reply_to_user_id, retweeted_status_id, etweeted_status_user_id, retweeted_status_timestamp`) have a lot of missing values and indicate not a lot of retweets occur\n",
    "- `source` contain multiple information (url, source)\n",
    "- `text` contain multiple sets of information (text, rating and url)\n",
    "- `name`: lots of values with 'None' indicating missing data\n",
    "- `name`: contains invalid data like 'a'\n",
    "- `doggo, floofer, pupper, puppo` : contains lots of 'None', values indicating missing values. Columns describe the stage/age of a dog\n",
    "- `expanded_urls` contains more than one url sometimes, example tweet id 853299958564483072"
   ],
   "metadata": {
    "collapsed": false,
    "pycharm": {
     "name": "#%% md\n"
    }
   }
  },
  {
   "cell_type": "code",
   "execution_count": null,
   "outputs": [],
   "source": [
    "# which datatypes does the dataset have, and how many missing values can be observed ?\n",
    "df_twitter_archive.info()"
   ],
   "metadata": {
    "collapsed": false,
    "pycharm": {
     "name": "#%%\n"
    }
   }
  },
  {
   "cell_type": "markdown",
   "source": [
    "**Observation from programming inspection `info()`:**\n",
    "\n",
    "- Dataset have 2356 rows and 17 columns. \n",
    "- The following columns related to retweets and replies have more than 90% missing data:\n",
    "    - in_reply_to_status_id  \n",
    "    - in_reply_to_user_id \n",
    "    - retweeted_status_id\n",
    "    - retweeted_status_user_id \n",
    "    - retweeted_status_timestamp "
   ],
   "metadata": {
    "collapsed": false,
    "pycharm": {
     "name": "#%% md\n"
    }
   }
  },
  {
   "cell_type": "code",
   "execution_count": null,
   "outputs": [],
   "source": [
    "# how many unique values does each column of the dataset have ?\n",
    "df_twitter_archive.nunique()"
   ],
   "metadata": {
    "collapsed": false,
    "pycharm": {
     "name": "#%%\n"
    }
   }
  },
  {
   "cell_type": "markdown",
   "source": [
    "**Observation from programming inspection `nunique()`:**\n",
    "    \n",
    "- columns related to retweets (`in_reply_to_status_id, in_reply_to_user_id, retweeted_status_id, retweeted_status_user_id, retweeted_status_timestamp`): have < 200 unique values indicating we have very little retweets and replies in general\n",
    "- `expanded_urls`: contain 2297 non-null entries and yet have 2218 unique values, which indicate duplicates exist\n",
    "- `name`: only 957 unique values exist for 2356 dogs, meaning lots of dogs have the same name and/or lots of missing values exist\n",
    "- `doggo, floofer, pupper, puppo` : contains only 2 possible values indicating these might be binary fields related to the stage/age of a dog"
   ],
   "metadata": {
    "collapsed": false,
    "pycharm": {
     "name": "#%% md\n"
    }
   }
  },
  {
   "cell_type": "code",
   "execution_count": null,
   "outputs": [],
   "source": [
    "# show unique values for some columns\n",
    "print('\\nUNIQUE VALUES FOR COLUMNS: \\n')\n",
    "cols = ['source', 'text', 'rating_numerator', 'rating_denominator', 'name', 'doggo', 'floofer', 'pupper', 'puppo']\n",
    "for col in cols:\n",
    "    print('Unique values for column {}: \\n {} \\n'.format(col, df_twitter_archive[col].sort_values().unique()))"
   ],
   "metadata": {
    "collapsed": false,
    "pycharm": {
     "name": "#%%\n"
    }
   }
  },
  {
   "cell_type": "markdown",
   "source": [
    "**Observation from programming inspection `unique()`:**\n",
    "- `source` contain multiple pieces of information: url and source\n",
    "- `doggo, floofer, pupper, puppo` contain string values 'None' which indicate missing data\n",
    "- `text` contains multiple information: text, score and url\n",
    "- `name` starting with lower case are not valid dog names e.g. 'the, 'actually', 'this', 'one'\n",
    "- `rating_denominator` contains values that are not equal to 10"
   ],
   "metadata": {
    "collapsed": false,
    "pycharm": {
     "name": "#%% md\n"
    }
   }
  },
  {
   "cell_type": "code",
   "execution_count": null,
   "outputs": [],
   "source": [
    "# denominator contains values that are not equal to 10, lets futher explore these entries\n",
    "df_twitter_archive[df_twitter_archive['rating_denominator'] != 10]"
   ],
   "metadata": {
    "collapsed": false,
    "pycharm": {
     "name": "#%%\n"
    }
   }
  },
  {
   "cell_type": "code",
   "execution_count": null,
   "outputs": [],
   "source": [
    "# how many records do we have that a denominator <> 10\n",
    "len(df_twitter_archive[df_twitter_archive['rating_denominator'] != 10])"
   ],
   "metadata": {
    "collapsed": false,
    "pycharm": {
     "name": "#%%\n"
    }
   }
  },
  {
   "cell_type": "markdown",
   "source": [
    "**Observation from programming inspection `rating_denominator`**:\n",
    "\n",
    "- We have only 23 records where the denominator is not equal to 10\n",
    "- In most cases (but not all), it was caused by incorrect extraction from the text field where multiple rating patterns exist, of which the first one was extracted.\n",
    "\n",
    "As it's only 23 records, I would suggest we drop these records to have a clean analysis"
   ],
   "metadata": {
    "collapsed": false,
    "pycharm": {
     "name": "#%% md\n"
    }
   }
  },
  {
   "cell_type": "code",
   "execution_count": null,
   "outputs": [],
   "source": [
    "# show value counts for some problematic columns\n",
    "print('\\nUNIQUE VALUES FOR COLUMNS: \\n')\n",
    "cols = ['source', 'rating_numerator', 'rating_denominator', 'doggo', 'floofer', 'pupper', 'puppo']\n",
    "for col in cols:\n",
    "    print('Unique values for column {}: \\n {} \\n'.format(col, df_twitter_archive[col].value_counts()))"
   ],
   "metadata": {
    "collapsed": false,
    "pycharm": {
     "name": "#%%\n"
    }
   }
  },
  {
   "cell_type": "markdown",
   "source": [
    "**Observation from programming inspection `value_counts`:**\n",
    "    \n",
    "- rating_denominator = 10 is used most of the time, the rest looks like exceptional errors\n",
    "- not a lot of values seems to be present for the dog stage related columns overall, we have lots of values = 'None'. Maybe not all dog stages were extracted ?"
   ],
   "metadata": {
    "collapsed": false,
    "pycharm": {
     "name": "#%% md\n"
    }
   }
  },
  {
   "cell_type": "markdown",
   "source": [
    "#### Duplicate checks"
   ],
   "metadata": {
    "collapsed": false,
    "pycharm": {
     "name": "#%% md\n"
    }
   }
  },
  {
   "cell_type": "code",
   "execution_count": null,
   "outputs": [],
   "source": [
    "# Are any rows duplicated ?\n",
    "df_twitter_archive.duplicated().sum()"
   ],
   "metadata": {
    "collapsed": false,
    "pycharm": {
     "name": "#%%\n"
    }
   }
  },
  {
   "cell_type": "code",
   "execution_count": null,
   "outputs": [],
   "source": [
    "# how many duplicated `expanded_urls` exist ?\n",
    "df_twitter_archive['expanded_urls'].dropna().duplicated().sum()"
   ],
   "metadata": {
    "collapsed": false,
    "pycharm": {
     "name": "#%%\n"
    }
   }
  },
  {
   "cell_type": "code",
   "execution_count": null,
   "outputs": [],
   "source": [
    "# display some duplicated `expanded_urls`\n",
    "df_twitter_archive[df_twitter_archive['expanded_urls'].duplicated(keep=False)].sort_values(by='expanded_urls')"
   ],
   "metadata": {
    "collapsed": false,
    "pycharm": {
     "name": "#%%\n"
    }
   }
  },
  {
   "cell_type": "code",
   "execution_count": null,
   "outputs": [],
   "source": [
    "# confirm retweeted_status_id is the link to original tweet_id in case of retweets\n",
    "original_tweets = pd.DataFrame(df_twitter_archive['tweet_id'].astype(int).values.tolist())\n",
    "retweets = pd.DataFrame(df_twitter_archive['retweeted_status_id'].dropna().astype(int).values.tolist())\n",
    "common_elements = np.intersect1d(original_tweets, retweets)\n",
    "len(common_elements)"
   ],
   "metadata": {
    "collapsed": false,
    "pycharm": {
     "name": "#%%\n"
    }
   }
  },
  {
   "cell_type": "code",
   "execution_count": null,
   "outputs": [],
   "source": [
    "# confirm in_reply_to_status_id is the link to original tweet_id in case of replies\n",
    "replies = pd.DataFrame(df_twitter_archive['in_reply_to_status_id'].dropna().astype(int).values.tolist())\n",
    "common_elements = np.intersect1d(original_tweets, replies)\n",
    "len(common_elements)"
   ],
   "metadata": {
    "collapsed": false,
    "pycharm": {
     "name": "#%%\n"
    }
   }
  },
  {
   "cell_type": "markdown",
   "source": [
    "**Observation of duplications:**\n",
    "\n",
    "- duplicated `expanded_urls` seems mostly related to retweets. \n",
    "- `retweeted_status_id` and `in_reply_to_status_id` are links to original tweet_ids and can be used to identify tweets that are not original posts."
   ],
   "metadata": {
    "collapsed": false,
    "pycharm": {
     "name": "#%% md\n"
    }
   }
  },
  {
   "cell_type": "code",
   "execution_count": null,
   "outputs": [],
   "source": [
    "# Do we have any records prior Aug 1st, 2017 ?\n",
    "len(df_twitter_archive[df_twitter_archive['timestamp'].astype('datetime64[ns]').dt.strftime('%Y-%m-%d') > '2017-08-01'])"
   ],
   "metadata": {
    "collapsed": false,
    "pycharm": {
     "name": "#%%\n"
    }
   }
  },
  {
   "cell_type": "markdown",
   "source": [
    "<a id='twitter_api'></a>\n",
    "<span style=\"color:blue; font-size:16px\">2.2 Assess twitter API data</span>"
   ],
   "metadata": {
    "collapsed": false,
    "pycharm": {
     "name": "#%% md\n"
    }
   }
  },
  {
   "cell_type": "code",
   "execution_count": null,
   "outputs": [],
   "source": [
    "# visual inspection of Twitter api data\n",
    "df_tweepy = pd.read_csv(filename_twitter_api_output)\n",
    "df_tweepy.sample(20)"
   ],
   "metadata": {
    "collapsed": false,
    "pycharm": {
     "name": "#%%\n"
    }
   }
  },
  {
   "cell_type": "code",
   "execution_count": null,
   "outputs": [],
   "source": [
    "df_tweepy.info()"
   ],
   "metadata": {
    "collapsed": false,
    "pycharm": {
     "name": "#%%\n"
    }
   }
  },
  {
   "cell_type": "code",
   "execution_count": null,
   "outputs": [],
   "source": [
    "df_tweepy.nunique()"
   ],
   "metadata": {
    "collapsed": false,
    "pycharm": {
     "name": "#%%\n"
    }
   }
  },
  {
   "cell_type": "code",
   "execution_count": null,
   "outputs": [],
   "source": [],
   "metadata": {
    "collapsed": false,
    "pycharm": {
     "name": "#%%\n"
    }
   }
  },
  {
   "cell_type": "markdown",
   "source": [
    "**Observations:**\n",
    "- missing records: 2326 records exist vs 2356 records in the master archive table in 2.1\n",
    "- expanded_url contains the same information as df_twitter_archive.expanded_url\n",
    "- short_url is the same URL that is contained inside df_twitter_archive.text\n",
    "- annotation contains mostly either the name of the dog, breed, or some location. A lot of NaN records exist"
   ],
   "metadata": {
    "collapsed": false,
    "pycharm": {
     "name": "#%% md\n"
    }
   }
  },
  {
   "cell_type": "markdown",
   "source": [
    "<a id='twitter_predictions'></a>\n",
    "<span style=\"color:blue; font-size:16px\">2.3 Assess twitter breed predictions</span>"
   ],
   "metadata": {
    "collapsed": false,
    "pycharm": {
     "name": "#%% md\n"
    }
   }
  },
  {
   "cell_type": "code",
   "execution_count": null,
   "outputs": [],
   "source": [
    "# visual inspection of twitter predictions\n",
    "df_twitter_predictions = pd.read_csv(filename_image_predictions, sep='\\t')\n",
    "df_twitter_predictions.sample(20)"
   ],
   "metadata": {
    "collapsed": false,
    "pycharm": {
     "name": "#%%\n"
    }
   }
  },
  {
   "cell_type": "code",
   "execution_count": null,
   "outputs": [],
   "source": [
    "df_twitter_predictions.info()"
   ],
   "metadata": {
    "collapsed": false,
    "pycharm": {
     "name": "#%%\n"
    }
   }
  },
  {
   "cell_type": "code",
   "execution_count": null,
   "outputs": [],
   "source": [
    "df_twitter_predictions.nunique()"
   ],
   "metadata": {
    "collapsed": false,
    "pycharm": {
     "name": "#%%\n"
    }
   }
  },
  {
   "cell_type": "code",
   "execution_count": null,
   "outputs": [],
   "source": [
    "df_twitter_predictions.duplicated().sum()"
   ],
   "metadata": {
    "collapsed": false,
    "pycharm": {
     "name": "#%%\n"
    }
   }
  },
  {
   "cell_type": "code",
   "execution_count": null,
   "outputs": [],
   "source": [
    "# how many duplicated tweet ids exist ?\n",
    "df_twitter_predictions['tweet_id'].dropna().duplicated().sum()"
   ],
   "metadata": {
    "collapsed": false,
    "pycharm": {
     "name": "#%%\n"
    }
   }
  },
  {
   "cell_type": "markdown",
   "source": [
    "**Observations:**\n",
    "- `df_twitter_predictions` contain only 2075 records, whilst df_twitter_archive contain 2356 records. Means some records are missing, not all dogs have breed predictions.\n",
    "- 3 different dog breed predictions exist for each dog, of which we need to select the best breed.\n",
    "- breed name can be formatted better. Remove '_' and capitalize each word."
   ],
   "metadata": {
    "collapsed": false,
    "pycharm": {
     "name": "#%% md\n"
    }
   }
  },
  {
   "cell_type": "markdown",
   "source": [
    "## Summary of assessment\n",
    "\n",
    "### Quality issues\n",
    "Do we have all the records that we should? Do we have missing records or not? Are there specific rows, columns, or cells missing?\n",
    "\n",
    "<blockquote>\n",
    "    \n",
    "#### Completeness Issues (e.g. missing data)\n",
    "\n",
    "1. twitter_archive: Replies to original tweets exist causing duplicate tweets\n",
    "\n",
    "2. twitter_archive: Retweets exist causing duplicate tweets\n",
    "\n",
    "3. twitter_archive: `name` contains string value 'None' indicating missing data\n",
    "\n",
    "4. twitter_archive: Columns `doggo, floofer, pupper, puppo` contain value 'None' indicating missing data\n",
    "\n",
    "5. twitter_archive: some `expanded_urls` are duplicated (it might be because of retweets and replies)\n",
    "    \n",
    "6.  Columns exist with 90% missing data: `in_reply_to_status_id, in_reply_to_user_id, retweeted_status_id, retweeted_status_user_id, retweeted_status_timestamp`\n",
    "\n",
    "\n",
    "#### Validity Issues (incorrect entries, data types)\n",
    "\n",
    "7. twitter_archive: 23 records (prior start of cleaning) have ratings_denominator values other than 10\n",
    "8. twitter_archive: `expanded_urls` contains more than one url sometimes, example tweet id 853299958564483072\n",
    "9. `timestamp` should be type datetime    \n",
    "\n",
    "\n",
    "#### Accuracy Issues\n",
    "\n",
    "10. twitter_archive: `name` starting with lower case are not valid dog names e.g. 'the, 'actually', 'this', 'one'\n",
    "\n",
    "\n",
    "#### Consistency\n",
    "\n",
    "11. twitter_api: 'id' column should be called 'tweet_id' to be consistent with twitter_archive table.\n",
    "  \n",
    "</blockquote>"
   ],
   "metadata": {
    "collapsed": false,
    "pycharm": {
     "name": "#%% md\n"
    }
   }
  },
  {
   "cell_type": "markdown",
   "source": [
    "### Tidiness issues\n",
    "\n",
    "<blockquote>\n",
    "    \n",
    "#### Twitter archive table:\n",
    "\n",
    "1. `source` contain multiple pieces of information: url and source\n",
    "\n",
    "2. `text` contains multiple information: text, score and url\n",
    "  \n",
    "3. The dog stage is one variable and hence should form a single column. But this variable is spread across 4 columns - doggo, floofer, pupper, puppo\n",
    "\n",
    "#### `twitter_api` table:\n",
    "\n",
    "4. Information about tweets is spread across three different files/dataframes\n",
    "\n",
    "#### Twitter predictions table:\n",
    "\n",
    "5.  Information about tweets is spread across three different files/dataframes\n",
    "6.  Breed name are badly formatted, it contains '_' instead of spaces and each word can be capitalized.\n",
    "</blockquote>"
   ],
   "metadata": {
    "collapsed": false,
    "pycharm": {
     "name": "#%% md\n"
    }
   }
  },
  {
   "cell_type": "markdown",
   "source": [
    "<a id='cleaning'></a>\n",
    "<span style=\"color:blue; font-size:30px; line-height:40px; font-family: Calibri;\">Step 3: Cleaning Data</span>\n",
    "\n",
    "\n",
    "#### Project criteria\n",
    "\n",
    "In this section, clean **all** the issues you documented while assessing.\n",
    "\n",
    "Make sure you complete the following items in this step.\n",
    "\n",
    "Before you perform the cleaning, you will make a copy of the original data.\n",
    "During cleaning, use the define-code-test framework and clearly document it.\n",
    "Cleaning includes merging individual pieces of data according to the rules of tidy data. The result should be a high-quality and tidy master pandas DataFrame (or DataFrames, if appropriate)."
   ],
   "metadata": {
    "collapsed": false,
    "pycharm": {
     "name": "#%% md\n"
    }
   }
  },
  {
   "cell_type": "code",
   "execution_count": null,
   "outputs": [],
   "source": [
    "# Make copies of original pieces of data\n",
    "df_twitter_archive_clean = df_twitter_archive.copy() \n",
    "df_tweepy_clean = df_tweepy.copy()\n",
    "df_twitter_predictions_clean = df_twitter_predictions.copy()"
   ],
   "metadata": {
    "collapsed": false,
    "pycharm": {
     "name": "#%%\n"
    }
   }
  },
  {
   "cell_type": "markdown",
   "source": [
    "<span style=\"color:blue; font-size:22px; line-height:40px; font-family: Calibri;\">Quality Issues</span>"
   ],
   "metadata": {
    "collapsed": false,
    "pycharm": {
     "name": "#%% md\n"
    }
   }
  },
  {
   "cell_type": "markdown",
   "source": [
    "<span style=\"color:blue; font-size:18px; font-family: Calibri;\">Quality Issue #1: twitter_archive : replies to original tweets exist causing duplicate tweets</span>"
   ],
   "metadata": {
    "collapsed": false,
    "pycharm": {
     "name": "#%% md\n"
    }
   }
  },
  {
   "cell_type": "markdown",
   "source": [
    "#### Define: Filter the dataset where 'in_reply_to_status_id' `isnull()`"
   ],
   "metadata": {
    "collapsed": false,
    "pycharm": {
     "name": "#%% md\n"
    }
   }
  },
  {
   "cell_type": "markdown",
   "source": [
    "#### Code"
   ],
   "metadata": {
    "collapsed": false,
    "pycharm": {
     "name": "#%% md\n"
    }
   }
  },
  {
   "cell_type": "code",
   "execution_count": null,
   "outputs": [],
   "source": [
    "df_twitter_archive_clean = df_twitter_archive_clean[df_twitter_archive_clean['in_reply_to_status_id'].isnull()]"
   ],
   "metadata": {
    "collapsed": false,
    "pycharm": {
     "name": "#%%\n"
    }
   }
  },
  {
   "cell_type": "markdown",
   "source": [
    "#### Test"
   ],
   "metadata": {
    "collapsed": false,
    "pycharm": {
     "name": "#%% md\n"
    }
   }
  },
  {
   "cell_type": "code",
   "execution_count": null,
   "outputs": [],
   "source": [
    "# no records should exist where in_reply_to_status_id have values\n",
    "assert len(df_twitter_archive_clean[~df_twitter_archive_clean['in_reply_to_status_id'].isnull()]) == 0"
   ],
   "metadata": {
    "collapsed": false,
    "pycharm": {
     "name": "#%%\n"
    }
   }
  },
  {
   "cell_type": "markdown",
   "source": [
    "<span style=\"color:blue; font-size:18px; font-family: Calibri;\"> Quality Issue #2: twitter_archive : retweets exist in the dataset causing duplicate postings</span>"
   ],
   "metadata": {
    "collapsed": false,
    "pycharm": {
     "name": "#%% md\n"
    }
   }
  },
  {
   "cell_type": "markdown",
   "source": [
    "#### Define: Filter the dataset where 'in_reply_to_status_id' `isnull()`"
   ],
   "metadata": {
    "collapsed": false,
    "pycharm": {
     "name": "#%% md\n"
    }
   }
  },
  {
   "cell_type": "markdown",
   "source": [
    "#### Code"
   ],
   "metadata": {
    "collapsed": false,
    "pycharm": {
     "name": "#%% md\n"
    }
   }
  },
  {
   "cell_type": "code",
   "execution_count": null,
   "outputs": [],
   "source": [
    "df_twitter_archive_clean = df_twitter_archive_clean[df_twitter_archive_clean['retweeted_status_id'].isnull()]"
   ],
   "metadata": {
    "collapsed": false,
    "pycharm": {
     "name": "#%%\n"
    }
   }
  },
  {
   "cell_type": "markdown",
   "source": [
    "#### Test"
   ],
   "metadata": {
    "collapsed": false,
    "pycharm": {
     "name": "#%% md\n"
    }
   }
  },
  {
   "cell_type": "code",
   "execution_count": null,
   "outputs": [],
   "source": [
    "# no records should exist where retweeted_status_id is populated\n",
    "assert len(df_twitter_archive_clean[~df_twitter_archive_clean['retweeted_status_id'].isnull()]) == 0"
   ],
   "metadata": {
    "collapsed": false,
    "pycharm": {
     "name": "#%%\n"
    }
   }
  },
  {
   "cell_type": "markdown",
   "source": [
    "<span style=\"color:blue; font-size:18px; font-family: Calibri;\">Quality Issue #3: twitter_archive : 'name' contains string value 'None' indicating missing data</span>"
   ],
   "metadata": {
    "collapsed": false,
    "pycharm": {
     "name": "#%% md\n"
    }
   }
  },
  {
   "cell_type": "markdown",
   "source": [
    "#### Define: Convert string value 'None' to None in column 'name' using pandas `replace()` method, to correctly identify missing names"
   ],
   "metadata": {
    "collapsed": false,
    "pycharm": {
     "name": "#%% md\n"
    }
   }
  },
  {
   "cell_type": "markdown",
   "source": [
    "#### Code"
   ],
   "metadata": {
    "collapsed": false,
    "pycharm": {
     "name": "#%% md\n"
    }
   }
  },
  {
   "cell_type": "code",
   "execution_count": null,
   "outputs": [],
   "source": [
    "df_twitter_archive_clean['name'] = df_twitter_archive_clean['name'].replace('None', None)"
   ],
   "metadata": {
    "collapsed": false,
    "pycharm": {
     "name": "#%%\n"
    }
   }
  },
  {
   "cell_type": "markdown",
   "source": [
    "#### Test"
   ],
   "metadata": {
    "collapsed": false,
    "pycharm": {
     "name": "#%% md\n"
    }
   }
  },
  {
   "cell_type": "code",
   "execution_count": null,
   "outputs": [],
   "source": [
    "# how many records exist where dog name is 'None' ?\n",
    "assert len(df_twitter_archive_clean.query('name == \"None\"')) == 0"
   ],
   "metadata": {
    "collapsed": false,
    "pycharm": {
     "name": "#%%\n"
    }
   }
  },
  {
   "cell_type": "code",
   "execution_count": null,
   "outputs": [],
   "source": [
    "# can we now identify missing records in the name field correctly?\n",
    "df_twitter_archive_clean.name.info()"
   ],
   "metadata": {
    "collapsed": false,
    "pycharm": {
     "name": "#%%\n"
    }
   }
  },
  {
   "cell_type": "markdown",
   "source": [
    "<span style=\"color:blue; font-size:18px; font-family: Calibri;\">Quality Issue #4: twitter_archive: Columns 'doggo', 'floofer', 'pupper' and 'puppo' contain value 'None' indicating missing data</span>"
   ],
   "metadata": {
    "collapsed": false,
    "pycharm": {
     "name": "#%% md\n"
    }
   }
  },
  {
   "cell_type": "markdown",
   "source": [
    "#### Define: Convert string value 'None' to np.nan in columns doggo, floofer, pupper and puppo using pandas `replace()` method."
   ],
   "metadata": {
    "collapsed": false,
    "pycharm": {
     "name": "#%% md\n"
    }
   }
  },
  {
   "cell_type": "markdown",
   "source": [
    "#### Code"
   ],
   "metadata": {
    "collapsed": false,
    "pycharm": {
     "name": "#%% md\n"
    }
   }
  },
  {
   "cell_type": "code",
   "execution_count": null,
   "outputs": [],
   "source": [
    "cols = ['doggo', 'floofer', 'pupper', 'puppo']\n",
    "df_twitter_archive_clean[cols] = df_twitter_archive_clean[cols].replace('None', None)"
   ],
   "metadata": {
    "collapsed": false,
    "pycharm": {
     "name": "#%%\n"
    }
   }
  },
  {
   "cell_type": "markdown",
   "source": [
    "#### Test"
   ],
   "metadata": {
    "collapsed": false,
    "pycharm": {
     "name": "#%% md\n"
    }
   }
  },
  {
   "cell_type": "code",
   "execution_count": null,
   "outputs": [],
   "source": [
    "# No more \"None\" values should exist\n",
    "assert len(df_twitter_archive_clean.query('doggo == \"None\"')) == 0"
   ],
   "metadata": {
    "collapsed": false,
    "pycharm": {
     "name": "#%%\n"
    }
   }
  },
  {
   "cell_type": "code",
   "execution_count": null,
   "outputs": [],
   "source": [
    "# No more \"None\" values should exist\n",
    "assert len(df_twitter_archive_clean.query('floofer == \"None\"')) == 0"
   ],
   "metadata": {
    "collapsed": false,
    "pycharm": {
     "name": "#%%\n"
    }
   }
  },
  {
   "cell_type": "code",
   "execution_count": null,
   "outputs": [],
   "source": [
    "# No more \"None\" values should exist\n",
    "assert len(df_twitter_archive_clean.query('pupper == \"None\"')) == 0"
   ],
   "metadata": {
    "collapsed": false,
    "pycharm": {
     "name": "#%%\n"
    }
   }
  },
  {
   "cell_type": "code",
   "execution_count": null,
   "outputs": [],
   "source": [
    "# No more \"None\" values should exist\n",
    "assert len(df_twitter_archive_clean.query('puppo == \"None\"')) == 0"
   ],
   "metadata": {
    "collapsed": false,
    "pycharm": {
     "name": "#%%\n"
    }
   }
  },
  {
   "cell_type": "code",
   "execution_count": null,
   "outputs": [],
   "source": [
    "# All None values should be replaced with None\n",
    "df_twitter_archive_clean.doggo.value_counts(dropna=False)"
   ],
   "metadata": {
    "collapsed": false,
    "pycharm": {
     "name": "#%%\n"
    }
   }
  },
  {
   "cell_type": "markdown",
   "source": [
    "<span style=\"color:blue; font-size:18px; font-family: Calibri;\">Quality Issue #5: twitter_archive: some expanded_urls are duplicated (it might be because of retweets and replies)</span>"
   ],
   "metadata": {
    "collapsed": false,
    "pycharm": {
     "name": "#%% md\n"
    }
   }
  },
  {
   "cell_type": "markdown",
   "source": [
    "#### Define: Drop records with duplicate `expanded_urls`, by first sorting the dataset by 'expanded_urls' and then use pandas `duplicated` method, keeping the first record, as this is the original tweet."
   ],
   "metadata": {
    "collapsed": false,
    "pycharm": {
     "name": "#%% md\n"
    }
   }
  },
  {
   "cell_type": "markdown",
   "source": [
    "#### Code"
   ],
   "metadata": {
    "collapsed": false,
    "pycharm": {
     "name": "#%% md\n"
    }
   }
  },
  {
   "cell_type": "code",
   "execution_count": null,
   "outputs": [],
   "source": [
    "# sort table by tweet_id, as we want keep the records with first posting\n",
    "df_twitter_archive_clean.sort_values('tweet_id', axis=0, inplace=True)"
   ],
   "metadata": {
    "collapsed": false,
    "pycharm": {
     "name": "#%%\n"
    }
   }
  },
  {
   "cell_type": "code",
   "execution_count": null,
   "outputs": [],
   "source": [
    "# number of records before we start\n",
    "records_before = df_twitter_archive_clean.shape[0]\n",
    "records_before"
   ],
   "metadata": {
    "collapsed": false,
    "pycharm": {
     "name": "#%%\n"
    }
   }
  },
  {
   "cell_type": "code",
   "execution_count": null,
   "outputs": [],
   "source": [
    "# display the duplicated `expanded_urls` to double-check their existence after some records in\n",
    "# issue 1 and 2 were dropped\n",
    "df_twitter_archive_clean[df_twitter_archive_clean['expanded_urls'].duplicated(keep=False)].sort_values(by='expanded_urls')"
   ],
   "metadata": {
    "collapsed": false,
    "pycharm": {
     "name": "#%%\n"
    }
   }
  },
  {
   "cell_type": "markdown",
   "source": [
    "**Observation:**\n",
    "\n",
    "Only 1 duplicate still remain after we dropped retweets and replies. We should not drop rows with NaN values"
   ],
   "metadata": {
    "collapsed": false,
    "pycharm": {
     "name": "#%% md\n"
    }
   }
  },
  {
   "cell_type": "code",
   "execution_count": null,
   "outputs": [],
   "source": [
    "# remove the 1 duplicate that still exist\n",
    "df_twitter_archive_clean = df_twitter_archive_clean[(~df_twitter_archive_clean['expanded_urls'].duplicated(keep='first')) | (df_twitter_archive_clean['expanded_urls'].isnull())]"
   ],
   "metadata": {
    "collapsed": false,
    "pycharm": {
     "name": "#%%\n"
    }
   }
  },
  {
   "cell_type": "markdown",
   "source": [
    "#### Test"
   ],
   "metadata": {
    "collapsed": false,
    "pycharm": {
     "name": "#%% md\n"
    }
   }
  },
  {
   "cell_type": "code",
   "execution_count": null,
   "outputs": [],
   "source": [
    "# only 1 record should be dropped\n",
    "assert (records_before - df_twitter_archive_clean.shape[0]) == 1"
   ],
   "metadata": {
    "collapsed": false,
    "pycharm": {
     "name": "#%%\n"
    }
   }
  },
  {
   "cell_type": "code",
   "execution_count": null,
   "outputs": [],
   "source": [
    "# Make sure we kept the first tweet_id\n",
    "df_twitter_archive_clean[df_twitter_archive_clean['tweet_id'] == 668587383441514497]"
   ],
   "metadata": {
    "collapsed": false,
    "pycharm": {
     "name": "#%%\n"
    }
   }
  },
  {
   "cell_type": "markdown",
   "source": [
    "<span style=\"color:blue; font-size:18px; font-family: Calibri;\">Quality Issue #6:  Columns exist with 90% missing data: in_reply_to_status_id, in_reply_to_user_id, retweeted_status_id, retweeted_status_user_id, retweeted_status_timestamp</span>"
   ],
   "metadata": {
    "collapsed": false,
    "pycharm": {
     "name": "#%% md\n"
    }
   }
  },
  {
   "cell_type": "markdown",
   "source": [
    "#### Define: drop columns no longer needed after retweets and replies are removed. Columns to drop: in_reply_to_status_id\tin_reply_to_user_id, retweeted_status_id\tretweeted_status_user_id, retweeted_status_timestamp"
   ],
   "metadata": {
    "collapsed": false,
    "pycharm": {
     "name": "#%% md\n"
    }
   }
  },
  {
   "cell_type": "markdown",
   "source": [
    "#### Code"
   ],
   "metadata": {
    "collapsed": false,
    "pycharm": {
     "name": "#%% md\n"
    }
   }
  },
  {
   "cell_type": "code",
   "execution_count": null,
   "outputs": [],
   "source": [
    "cols_to_drop = ['in_reply_to_status_id', 'in_reply_to_user_id', 'retweeted_status_id', \n",
    "                'retweeted_status_user_id', 'retweeted_status_timestamp']"
   ],
   "metadata": {
    "collapsed": false,
    "pycharm": {
     "name": "#%%\n"
    }
   }
  },
  {
   "cell_type": "code",
   "execution_count": null,
   "outputs": [],
   "source": [
    "df_twitter_archive_clean.drop(cols_to_drop, axis=1, inplace=True)"
   ],
   "metadata": {
    "collapsed": false,
    "pycharm": {
     "name": "#%%\n"
    }
   }
  },
  {
   "cell_type": "markdown",
   "source": [
    "#### Test"
   ],
   "metadata": {
    "collapsed": false,
    "pycharm": {
     "name": "#%% md\n"
    }
   }
  },
  {
   "cell_type": "code",
   "execution_count": null,
   "outputs": [],
   "source": [
    "# check that all columns dropped no longer exist in the dataset\n",
    "assert (cols_to_drop in df_twitter_archive_clean.columns.tolist()) == False"
   ],
   "metadata": {
    "collapsed": false,
    "pycharm": {
     "name": "#%%\n"
    }
   }
  },
  {
   "cell_type": "markdown",
   "source": [
    "<span style=\"color:blue; font-size:18px; font-family: Calibri;\">Quality Issue #7: twitter_archive: 23 records (prior start of cleaning) have ratings_denominator values other than 10</span>"
   ],
   "metadata": {
    "collapsed": false,
    "pycharm": {
     "name": "#%% md\n"
    }
   }
  },
  {
   "cell_type": "markdown",
   "source": [
    "#### Define: Filter the dataset where `ratings_demominator` == 10"
   ],
   "metadata": {
    "collapsed": false,
    "pycharm": {
     "name": "#%% md\n"
    }
   }
  },
  {
   "cell_type": "markdown",
   "source": [
    "## Code"
   ],
   "metadata": {
    "collapsed": false,
    "pycharm": {
     "name": "#%% md\n"
    }
   }
  },
  {
   "cell_type": "code",
   "execution_count": null,
   "outputs": [],
   "source": [
    "# Take snapshot of number of records before\n",
    "records_before = df_twitter_archive_clean.shape[0]"
   ],
   "metadata": {
    "collapsed": false,
    "pycharm": {
     "name": "#%%\n"
    }
   }
  },
  {
   "cell_type": "code",
   "execution_count": null,
   "outputs": [],
   "source": [
    "df_twitter_archive_clean = df_twitter_archive_clean[df_twitter_archive_clean['rating_denominator'] == 10]"
   ],
   "metadata": {
    "collapsed": false,
    "pycharm": {
     "name": "#%%\n"
    }
   }
  },
  {
   "cell_type": "markdown",
   "source": [
    "#### Test"
   ],
   "metadata": {
    "collapsed": false,
    "pycharm": {
     "name": "#%% md\n"
    }
   }
  },
  {
   "cell_type": "code",
   "execution_count": null,
   "outputs": [],
   "source": [
    "records_after = df_twitter_archive_clean.shape[0]\n",
    "print('Number of records dropped: {}'.format(records_before - records_after))"
   ],
   "metadata": {
    "collapsed": false,
    "pycharm": {
     "name": "#%%\n"
    }
   }
  },
  {
   "cell_type": "code",
   "execution_count": null,
   "outputs": [],
   "source": [
    "# 'rating_denomitor' should only have the value 10\n",
    "assert len(df_twitter_archive_clean[df_twitter_archive_clean['rating_denominator'] != 10]) == 0"
   ],
   "metadata": {
    "collapsed": false,
    "pycharm": {
     "name": "#%%\n"
    }
   }
  },
  {
   "cell_type": "markdown",
   "source": [
    "<span style=\"color:blue; font-size:18px; font-family: Calibri;\">Quality Issue #8: twitter_archive: expanded_urls contains more than one url sometimes (e.g. tweet id 853299958564483072)</span>"
   ],
   "metadata": {
    "collapsed": false,
    "pycharm": {
     "name": "#%% md\n"
    }
   }
  },
  {
   "cell_type": "markdown",
   "source": [
    "#### Define: Split expanded_urls column using pandas `str.split()` method with ',' as delimiter and take the first entry. "
   ],
   "metadata": {
    "collapsed": false,
    "pycharm": {
     "name": "#%% md\n"
    }
   }
  },
  {
   "cell_type": "markdown",
   "source": [
    "#### Code"
   ],
   "metadata": {
    "collapsed": false,
    "pycharm": {
     "name": "#%% md\n"
    }
   }
  },
  {
   "cell_type": "code",
   "execution_count": null,
   "outputs": [],
   "source": [
    "# display example tweet prior cleaning\n",
    "df_twitter_archive_clean.query('tweet_id == 853299958564483072')"
   ],
   "metadata": {
    "collapsed": false,
    "pycharm": {
     "name": "#%%\n"
    }
   }
  },
  {
   "cell_type": "code",
   "execution_count": null,
   "outputs": [],
   "source": [
    "df_twitter_archive_clean['expanded_urls'] = df_twitter_archive_clean['expanded_urls'].str.split(',').str[0]"
   ],
   "metadata": {
    "collapsed": false,
    "pycharm": {
     "name": "#%%\n"
    }
   }
  },
  {
   "cell_type": "markdown",
   "source": [
    "#### Test"
   ],
   "metadata": {
    "collapsed": false,
    "pycharm": {
     "name": "#%% md\n"
    }
   }
  },
  {
   "cell_type": "code",
   "execution_count": null,
   "outputs": [],
   "source": [
    "# display example tweet after cleaning\n",
    "df_twitter_archive_clean.query('tweet_id == 853299958564483072')"
   ],
   "metadata": {
    "collapsed": false,
    "pycharm": {
     "name": "#%%\n"
    }
   }
  },
  {
   "cell_type": "markdown",
   "source": [
    "<span style=\"color:blue; font-size:18px; font-family: Calibri;\">Quality Issue #9: timestamp should be type datetime</span>"
   ],
   "metadata": {
    "collapsed": false,
    "pycharm": {
     "name": "#%% md\n"
    }
   }
  },
  {
   "cell_type": "markdown",
   "source": [
    "#### Define: convert timestamp from type string to datetime using pandas `to_datetime` method.  Only keep the date part of the timestamp and drop the time."
   ],
   "metadata": {
    "collapsed": false,
    "pycharm": {
     "name": "#%% md\n"
    }
   }
  },
  {
   "cell_type": "markdown",
   "source": [
    "#### Code"
   ],
   "metadata": {
    "collapsed": false,
    "pycharm": {
     "name": "#%% md\n"
    }
   }
  },
  {
   "cell_type": "code",
   "execution_count": null,
   "outputs": [],
   "source": [
    "df_twitter_archive_clean['timestamp'] = pd.to_datetime(df_twitter_archive_clean['timestamp']).dt.date.astype('datetime64[ns]')"
   ],
   "metadata": {
    "collapsed": false,
    "pycharm": {
     "name": "#%%\n"
    }
   }
  },
  {
   "cell_type": "markdown",
   "source": [
    "#### Test"
   ],
   "metadata": {
    "collapsed": false,
    "pycharm": {
     "name": "#%% md\n"
    }
   }
  },
  {
   "cell_type": "code",
   "execution_count": null,
   "outputs": [],
   "source": [
    "assert df_twitter_archive_clean.timestamp.dtype.name == 'datetime64[ns]'"
   ],
   "metadata": {
    "collapsed": false,
    "pycharm": {
     "name": "#%%\n"
    }
   }
  },
  {
   "cell_type": "code",
   "execution_count": null,
   "outputs": [],
   "source": [
    "# timestamp should now contain only a date without time\n",
    "df_twitter_archive_clean.timestamp.sample(10)"
   ],
   "metadata": {
    "collapsed": false,
    "pycharm": {
     "name": "#%%\n"
    }
   }
  },
  {
   "cell_type": "markdown",
   "source": [
    "<span style=\"color:blue; font-size:18px; font-family: Calibri;\">Quality Issue #10: twitter_archive: name starting with lower case are not valid dog names e.g. 'the, 'actually', 'this', 'one'</span>"
   ],
   "metadata": {
    "collapsed": false,
    "pycharm": {
     "name": "#%% md\n"
    }
   }
  },
  {
   "cell_type": "markdown",
   "source": [
    "#### Code"
   ],
   "metadata": {
    "collapsed": false,
    "pycharm": {
     "name": "#%% md\n"
    }
   }
  },
  {
   "cell_type": "code",
   "execution_count": null,
   "outputs": [],
   "source": [
    "# How many dog names do we have with np.nan ?\n",
    "nan_before = df_twitter_archive_clean['name'].isna().sum()\n",
    "print('Number of records where dog name contain np.nan: {}'.format(nan_before))"
   ],
   "metadata": {
    "collapsed": false,
    "pycharm": {
     "name": "#%%\n"
    }
   }
  },
  {
   "cell_type": "code",
   "execution_count": null,
   "outputs": [],
   "source": [
    "# create a new column with flag if dog name only contains lower case characters\n",
    "df_twitter_archive_clean['lower'] = df_twitter_archive_clean['name'].str.islower()\n",
    "lowercase_records = len(df_twitter_archive_clean[df_twitter_archive_clean['lower'] == True])\n",
    "print('Number of records with only lower case dog names: {}'.format(lowercase_records))"
   ],
   "metadata": {
    "collapsed": false,
    "pycharm": {
     "name": "#%%\n"
    }
   }
  },
  {
   "cell_type": "code",
   "execution_count": null,
   "outputs": [],
   "source": [
    "# change dog name with only lower case values to nan\n",
    "df_twitter_archive_clean.loc[df_twitter_archive_clean['lower'] == True, 'name'] = np.nan"
   ],
   "metadata": {
    "collapsed": false,
    "pycharm": {
     "name": "#%%\n"
    }
   }
  },
  {
   "cell_type": "code",
   "execution_count": null,
   "outputs": [],
   "source": [
    "# drop temp column 'lower'\n",
    "df_twitter_archive_clean.drop(['lower'], axis=1, inplace=True)"
   ],
   "metadata": {
    "collapsed": false,
    "pycharm": {
     "name": "#%%\n"
    }
   }
  },
  {
   "cell_type": "markdown",
   "source": [
    "#### Test"
   ],
   "metadata": {
    "collapsed": false,
    "pycharm": {
     "name": "#%% md\n"
    }
   }
  },
  {
   "cell_type": "code",
   "execution_count": null,
   "outputs": [],
   "source": [
    "# We expect to have 101 more records where dog name = np.nan\n",
    "assert (nan_before + lowercase_records) == df_twitter_archive_clean['name'].isna().sum()"
   ],
   "metadata": {
    "collapsed": false,
    "pycharm": {
     "name": "#%%\n"
    }
   }
  },
  {
   "cell_type": "markdown",
   "source": [
    "<span style=\"color:blue; font-size:18px; font-family: Calibri;\">Quality Issue #11: twitter_api: 'id' column should be called 'tweet_id' to be consistent with twitter_archive table</span>"
   ],
   "metadata": {
    "collapsed": false,
    "pycharm": {
     "name": "#%% md\n"
    }
   }
  },
  {
   "cell_type": "markdown",
   "source": [
    "#### Define: rename column 'id' to 'tweet_id' using pandas `rename()` method"
   ],
   "metadata": {
    "collapsed": false,
    "pycharm": {
     "name": "#%% md\n"
    }
   }
  },
  {
   "cell_type": "markdown",
   "source": [
    "#### Code"
   ],
   "metadata": {
    "collapsed": false,
    "pycharm": {
     "name": "#%% md\n"
    }
   }
  },
  {
   "cell_type": "code",
   "execution_count": null,
   "outputs": [],
   "source": [
    "df_tweepy_clean.rename({'id': 'tweet_id'}, axis=1, inplace=True)"
   ],
   "metadata": {
    "collapsed": false,
    "pycharm": {
     "name": "#%%\n"
    }
   }
  },
  {
   "cell_type": "markdown",
   "source": [
    "#### Test"
   ],
   "metadata": {
    "collapsed": false,
    "pycharm": {
     "name": "#%% md\n"
    }
   }
  },
  {
   "cell_type": "code",
   "execution_count": null,
   "outputs": [],
   "source": [
    "# check that first column name is now 'tweet_id'\n",
    "assert df_tweepy_clean.columns[0] == 'tweet_id'"
   ],
   "metadata": {
    "collapsed": false,
    "pycharm": {
     "name": "#%%\n"
    }
   }
  },
  {
   "cell_type": "markdown",
   "source": [
    "<a id='tidiness'></a>\n",
    "<span style=\"color:blue; font-size:25px; line-height:40px; font-family: Calibri;\">Tidiness issues</span>"
   ],
   "metadata": {
    "collapsed": false,
    "pycharm": {
     "name": "#%% md\n"
    }
   }
  },
  {
   "cell_type": "markdown",
   "source": [
    "<span style=\"color:blue; font-size:18px; font-family: Calibri;\">Tidiness Issue #1: source contain multiple pieces of information: url and source</span>"
   ],
   "metadata": {
    "collapsed": false,
    "pycharm": {
     "name": "#%% md\n"
    }
   }
  },
  {
   "cell_type": "markdown",
   "source": [
    "#### Define: keep only the source part of the text, by using `str.split` statement using '>' as a delimiter. Keep all the text after the delimiter."
   ],
   "metadata": {
    "collapsed": false,
    "pycharm": {
     "name": "#%% md\n"
    }
   }
  },
  {
   "cell_type": "markdown",
   "source": [
    "#### Code"
   ],
   "metadata": {
    "collapsed": false,
    "pycharm": {
     "name": "#%% md\n"
    }
   }
  },
  {
   "cell_type": "code",
   "execution_count": null,
   "outputs": [],
   "source": [
    "# inspect unique entries before clean-up\n",
    "df_twitter_archive_clean['source'].unique()"
   ],
   "metadata": {
    "collapsed": false,
    "pycharm": {
     "name": "#%%\n"
    }
   }
  },
  {
   "cell_type": "code",
   "execution_count": null,
   "outputs": [],
   "source": [
    "df_twitter_archive_clean['source'] = df_twitter_archive_clean.source.str.split(\">\").str[-2].str.replace('</a', '')"
   ],
   "metadata": {
    "collapsed": false,
    "pycharm": {
     "name": "#%%\n"
    }
   }
  },
  {
   "cell_type": "markdown",
   "source": [
    "#### Test"
   ],
   "metadata": {
    "collapsed": false,
    "pycharm": {
     "name": "#%% md\n"
    }
   }
  },
  {
   "cell_type": "code",
   "execution_count": null,
   "outputs": [],
   "source": [
    "# inspect unique entries after clean-up, it should now only contain the source\n",
    "df_twitter_archive_clean['source'].unique()"
   ],
   "metadata": {
    "collapsed": false,
    "pycharm": {
     "name": "#%%\n"
    }
   }
  },
  {
   "cell_type": "markdown",
   "source": [
    "<span style=\"color:blue; font-size:18px; font-family: Calibri;\">Tidiness Issue #2: text contains multiple information: text, score and url</span>"
   ],
   "metadata": {
    "collapsed": false,
    "pycharm": {
     "name": "#%% md\n"
    }
   }
  },
  {
   "cell_type": "markdown",
   "source": [
    "#### Define: Create a new column 'cleantext', by remove the score and url from the original text field, using regex expressions. First remove the URL, then remove all text after the score pattern, dropping temporary fields that are needed as last step."
   ],
   "metadata": {
    "collapsed": false,
    "pycharm": {
     "name": "#%% md\n"
    }
   }
  },
  {
   "cell_type": "markdown",
   "source": [
    "#### Code"
   ],
   "metadata": {
    "collapsed": false,
    "pycharm": {
     "name": "#%% md\n"
    }
   }
  },
  {
   "cell_type": "code",
   "execution_count": null,
   "outputs": [],
   "source": [
    "# first remove the URL pattern\n",
    "df_twitter_archive_clean['tmptext'] = df_twitter_archive_clean['text'].str.split('https:\\/\\/.*').str[0].str.rstrip()"
   ],
   "metadata": {
    "collapsed": false,
    "pycharm": {
     "name": "#%%\n"
    }
   }
  },
  {
   "cell_type": "code",
   "execution_count": null,
   "outputs": [],
   "source": [
    "# second remove all text after the score pattern\n",
    "df_twitter_archive_clean['cleantext'] = df_twitter_archive_clean['tmptext'].str.split('\\d+/\\d+').str[0]\n",
    "\n",
    "# drop tempory fields no longer needed\n",
    "df_twitter_archive_clean.drop(['tmptext'], axis=1, inplace=True)"
   ],
   "metadata": {
    "collapsed": false,
    "pycharm": {
     "name": "#%%\n"
    }
   }
  },
  {
   "cell_type": "markdown",
   "source": [
    "#### Test"
   ],
   "metadata": {
    "collapsed": false,
    "pycharm": {
     "name": "#%% md\n"
    }
   }
  },
  {
   "cell_type": "code",
   "execution_count": null,
   "outputs": [],
   "source": [
    "df_twitter_archive_clean[['text', 'cleantext']].sample(10)"
   ],
   "metadata": {
    "collapsed": false,
    "pycharm": {
     "name": "#%%\n"
    }
   }
  },
  {
   "cell_type": "markdown",
   "source": [
    "<span style=\"color:blue; font-size:18px; font-family: Calibri;\">Tidiness Issue #3: The dog stage is one variable and hence should form a single column. But this variable is spread across 4 columns - doggo, floofer, pupper, puppo</span>"
   ],
   "metadata": {
    "collapsed": false,
    "pycharm": {
     "name": "#%% md\n"
    }
   }
  },
  {
   "cell_type": "markdown",
   "source": [
    "#### Define: \n",
    "Consolidate the different dog stage columns into one column by using the pandas `melt` and `rename` methods. Drop the 'variable' column as it's not needed. \n",
    "\n",
    "In addition, rebuild dog stages from the original 'text' column, using regex `extract()` to attempt to reduce NaN values. \n",
    "\n",
    "Build a new dog stage feature combining the values of 2 approaches above. Use the original dog stage as the base, but fill NaN values with values from dog stages build from text, using pandas `fillna` method\n",
    "\n",
    "Drop the dog stage build from text, as it's no longer needed as it's merged into one consolidated column\n",
    "Drop the original text as it's no longer needed"
   ],
   "metadata": {
    "collapsed": false,
    "pycharm": {
     "name": "#%% md\n"
    }
   }
  },
  {
   "cell_type": "markdown",
   "source": [
    "#### Code"
   ],
   "metadata": {
    "collapsed": false,
    "pycharm": {
     "name": "#%% md\n"
    }
   }
  },
  {
   "cell_type": "code",
   "execution_count": null,
   "outputs": [],
   "source": [
    "# We need to make sure records before and after melt are the same later on. Take a before snapshot\n",
    "records_before = df_twitter_archive_clean.shape[0]\n",
    "print('`df_twitter_archive_clean` records before `melt` statement: {}'.format(records_before))"
   ],
   "metadata": {
    "collapsed": false,
    "pycharm": {
     "name": "#%%\n"
    }
   }
  },
  {
   "cell_type": "code",
   "execution_count": null,
   "outputs": [],
   "source": [
    "# using one tweet as test, lets capture it's before values\n",
    "df_twitter_archive_clean[df_twitter_archive_clean['tweet_id'] == 696518437233913856]"
   ],
   "metadata": {
    "collapsed": false,
    "pycharm": {
     "name": "#%%\n"
    }
   }
  },
  {
   "cell_type": "markdown",
   "source": [
    "###### Step 1: Merge dog stages into a single field"
   ],
   "metadata": {
    "collapsed": false,
    "pycharm": {
     "name": "#%% md\n"
    }
   }
  },
  {
   "cell_type": "code",
   "execution_count": null,
   "outputs": [],
   "source": [
    "# Extract dog_stage information in seperate dataframe\n",
    "dog_stage = df_twitter_archive_clean.filter(['tweet_id', 'floofer', 'pupper', 'doggo', 'puppo'], \n",
    "                                            axis = 1).copy()\n",
    "\n",
    "# Consolidate different dog stages into one column \n",
    "dog_stage = pd.melt(dog_stage, \n",
    "                    id_vars = ['tweet_id'], \n",
    "                    value_vars = ['floofer', 'doggo', 'pupper', 'puppo'], \n",
    "                    value_name=\"dog_stage\")\n",
    "\n",
    "dog_stage.drop('variable', axis = 1, inplace = True)\n",
    "\n",
    "# #Delete rows with Dog_stage \"NaN\" as well as records with more than one dog stage\n",
    "dog_stage.drop(dog_stage.query('dog_stage != dog_stage').index, axis = 0, inplace = True)\n",
    "dog_stage.drop_duplicates(subset = 'tweet_id', keep = False, inplace = True)"
   ],
   "metadata": {
    "collapsed": false,
    "pycharm": {
     "name": "#%%\n"
    }
   }
  },
  {
   "cell_type": "code",
   "execution_count": null,
   "outputs": [],
   "source": [
    "# Merge manipulated dataset with df_twitter_clean and delete all other dog stage columns\n",
    "df_twitter_archive_clean = pd.merge(df_twitter_archive_clean, dog_stage,on = ['tweet_id'], how = 'left')\n",
    "df_twitter_archive_clean.drop(['floofer', 'pupper', 'doggo', 'puppo'], axis = 1, inplace = True)\n",
    "# Write all category names lower key\n",
    "df_twitter_archive_clean.dog_stage = df_twitter_archive_clean.dog_stage.str.lower()"
   ],
   "metadata": {
    "collapsed": false,
    "pycharm": {
     "name": "#%%\n"
    }
   }
  },
  {
   "cell_type": "markdown",
   "source": [
    "###### Step 2: Rebuild dog stages from the text"
   ],
   "metadata": {
    "collapsed": false,
    "pycharm": {
     "name": "#%% md\n"
    }
   }
  },
  {
   "cell_type": "code",
   "execution_count": null,
   "outputs": [],
   "source": [
    "# rebuild dog stages from the text\n",
    "df_twitter_archive_clean['dog_stage_text'] = df_twitter_archive_clean['text'].str.extract('([Pp]uppo|[Pp]upper|[Ff]loofer|[Dd]oggo|[Bb]lep)', expand=True)\n",
    "\n",
    "# convert to lower case\n",
    "df_twitter_archive_clean.dog_stage_text = df_twitter_archive_clean.dog_stage_text.str.lower()"
   ],
   "metadata": {
    "collapsed": false,
    "pycharm": {
     "name": "#%%\n"
    }
   }
  },
  {
   "cell_type": "markdown",
   "source": [
    "###### Step 3: Build a new dog_stage column consisting of a combination of above 2 approaches.\n",
    "Use the orginal dog stage as the base, but fill NaN values with values from dog stages build from text"
   ],
   "metadata": {
    "collapsed": false,
    "pycharm": {
     "name": "#%% md\n"
    }
   }
  },
  {
   "cell_type": "code",
   "execution_count": null,
   "outputs": [],
   "source": [
    "df_twitter_archive_clean['dog_stage'] = df_twitter_archive_clean['dog_stage'].fillna(df_twitter_archive_clean['dog_stage_text'])"
   ],
   "metadata": {
    "collapsed": false,
    "pycharm": {
     "name": "#%%\n"
    }
   }
  },
  {
   "cell_type": "markdown",
   "source": [
    "#### Test"
   ],
   "metadata": {
    "collapsed": false,
    "pycharm": {
     "name": "#%% md\n"
    }
   }
  },
  {
   "cell_type": "code",
   "execution_count": null,
   "outputs": [],
   "source": [
    "records_after = df_twitter_archive_clean.shape[0]\n",
    "assert records_before == records_after"
   ],
   "metadata": {
    "collapsed": false,
    "pycharm": {
     "name": "#%%\n"
    }
   }
  },
  {
   "cell_type": "code",
   "execution_count": null,
   "outputs": [],
   "source": [
    "# make sure all NaN entries from combined dog stage column that could be filled from text are now filled\n",
    "assert len(df_twitter_archive_clean.query('(dog_stage.isnull()) & (~dog_stage_text.isnull())')) == 0"
   ],
   "metadata": {
    "collapsed": false,
    "pycharm": {
     "name": "#%%\n"
    }
   }
  },
  {
   "cell_type": "code",
   "execution_count": null,
   "outputs": [],
   "source": [
    "df_twitter_archive_clean.drop(['dog_stage_text', 'text'], axis=1, inplace=True)"
   ],
   "metadata": {
    "collapsed": false,
    "pycharm": {
     "name": "#%%\n"
    }
   }
  },
  {
   "cell_type": "code",
   "execution_count": null,
   "outputs": [],
   "source": [
    "# how many None values now exist after improvements ?\n",
    "df_twitter_archive_clean['dog_stage'].isna().sum()"
   ],
   "metadata": {
    "collapsed": false,
    "pycharm": {
     "name": "#%%\n"
    }
   }
  },
  {
   "cell_type": "code",
   "execution_count": null,
   "outputs": [],
   "source": [
    "# Visually inspect specific tweet dog stage which should contain 'pupper'\n",
    "df_twitter_archive_clean[df_twitter_archive_clean['tweet_id'] == 696518437233913856]"
   ],
   "metadata": {
    "collapsed": false,
    "pycharm": {
     "name": "#%%\n"
    }
   }
  },
  {
   "cell_type": "markdown",
   "source": [
    "<span style=\"color:blue; font-size:18px; font-family: Calibri;\">Tidiness Issue #4: Information about tweets is spread across three different files/dataframes</span>"
   ],
   "metadata": {
    "collapsed": false,
    "pycharm": {
     "name": "#%% md\n"
    }
   }
  },
  {
   "cell_type": "markdown",
   "source": [
    "#### Define: filter and copy dataset `df_tweepy` selecting columns `retweet_count`, `like_count`, `media_url` and `annotation` to be merged with `df_twitter_archive` table to create a new master twitter table."
   ],
   "metadata": {
    "collapsed": false,
    "pycharm": {
     "name": "#%% md\n"
    }
   }
  },
  {
   "cell_type": "markdown",
   "source": [
    "#### Code"
   ],
   "metadata": {
    "collapsed": false,
    "pycharm": {
     "name": "#%% md\n"
    }
   }
  },
  {
   "cell_type": "code",
   "execution_count": null,
   "outputs": [],
   "source": [
    "# create new dataset containing only API data we want to merge to a master dataset\n",
    "df_tweepy_filtered = df_tweepy_clean.filter(['tweet_id', 'retweet_count', 'like_count', 'media_url', 'short_url', 'annotation'], \n",
    "                                            axis = 1).copy()"
   ],
   "metadata": {
    "collapsed": false,
    "pycharm": {
     "name": "#%%\n"
    }
   }
  },
  {
   "cell_type": "code",
   "execution_count": null,
   "outputs": [],
   "source": [
    "df_twitter_master = pd.merge(df_twitter_archive_clean, df_tweepy_filtered, on=['tweet_id'], how='inner')"
   ],
   "metadata": {
    "collapsed": false,
    "pycharm": {
     "name": "#%%\n"
    }
   }
  },
  {
   "cell_type": "markdown",
   "source": [
    "#### Test"
   ],
   "metadata": {
    "collapsed": false,
    "pycharm": {
     "name": "#%% md\n"
    }
   }
  },
  {
   "cell_type": "code",
   "execution_count": null,
   "outputs": [],
   "source": [
    "# Visually inspect dataset to make sure it contains the intended columns\n",
    "df_twitter_master.sample(5)"
   ],
   "metadata": {
    "collapsed": false,
    "pycharm": {
     "name": "#%%\n"
    }
   }
  },
  {
   "cell_type": "markdown",
   "source": [
    "<span style=\"color:blue; font-size:18px; font-family: Calibri;\">Tidiness Issue #5: Information about tweets is spread across three different files/dataframes</span>"
   ],
   "metadata": {
    "collapsed": false,
    "pycharm": {
     "name": "#%% md\n"
    }
   }
  },
  {
   "cell_type": "markdown",
   "source": [
    "#### Define: Select the breed with the highest probabilty where the breed is actually a valid dog breed. If none of the breed predictions is actually a dog breed, take the breed with the highest prediction nevertheless. Add the selected breed to the main twitter master table."
   ],
   "metadata": {
    "collapsed": false,
    "pycharm": {
     "name": "#%% md\n"
    }
   }
  },
  {
   "cell_type": "code",
   "execution_count": null,
   "outputs": [],
   "source": [
    "df_twitter_predictions_clean"
   ],
   "metadata": {
    "collapsed": false,
    "pycharm": {
     "name": "#%%\n"
    }
   }
  },
  {
   "cell_type": "markdown",
   "source": [
    "#### Code"
   ],
   "metadata": {
    "collapsed": false,
    "pycharm": {
     "name": "#%% md\n"
    }
   }
  },
  {
   "cell_type": "code",
   "execution_count": null,
   "outputs": [],
   "source": [
    "# select the best dog breed where the prediction is actually a dog greed with confidence level above 10%\n",
    "df_twitter_predictions_clean['breed'] = np.where((df_twitter_predictions_clean['p1_dog'] == True) & (df_twitter_predictions_clean['p1_conf'] > 0.05), df_twitter_predictions_clean['p1'],\n",
    "                                        np.where((df_twitter_predictions_clean['p2_dog'] == True) & (df_twitter_predictions_clean['p2_conf'] > 0.05), df_twitter_predictions_clean['p2'],\n",
    "                                        np.where((df_twitter_predictions_clean['p3_dog'] == True) & (df_twitter_predictions_clean['p3_conf'] > 0.05), df_twitter_predictions_clean['p3'], np.nan)))"
   ],
   "metadata": {
    "collapsed": false,
    "pycharm": {
     "name": "#%%\n"
    }
   }
  },
  {
   "cell_type": "code",
   "execution_count": null,
   "outputs": [],
   "source": [
    "# filter predictions to contain fields to be added to master table\n",
    "df_twitter_prediction_filtered = df_twitter_predictions_clean.filter(['tweet_id', 'breed', 'jpg_url'], axis=1).copy()\n",
    "\n",
    "# merge selected dog breed with twitter master table\n",
    "df_twitter_master = pd.merge(df_twitter_master, df_twitter_prediction_filtered, on = ['tweet_id'], how = 'left')"
   ],
   "metadata": {
    "collapsed": false,
    "pycharm": {
     "name": "#%%\n"
    }
   }
  },
  {
   "cell_type": "markdown",
   "source": [
    "#### Test"
   ],
   "metadata": {
    "collapsed": false,
    "pycharm": {
     "name": "#%% md\n"
    }
   }
  },
  {
   "cell_type": "code",
   "execution_count": null,
   "outputs": [],
   "source": [
    "# check number of NaN records\n",
    "df_twitter_master.breed.isna().sum()"
   ],
   "metadata": {
    "collapsed": false,
    "pycharm": {
     "name": "#%%\n"
    }
   }
  },
  {
   "cell_type": "code",
   "execution_count": null,
   "outputs": [],
   "source": [
    "# p1 should be selected as breed if first prediction is a valid dog breed\n",
    "assert len(df_twitter_predictions_clean.query('p1_dog == True & p1_conf > 0.05 & breed != p1')) == 0"
   ],
   "metadata": {
    "collapsed": false,
    "pycharm": {
     "name": "#%%\n"
    }
   }
  },
  {
   "cell_type": "code",
   "execution_count": null,
   "outputs": [],
   "source": [
    "# p2 should be selected as breed if first prediction is not a valid dog breed, but second prediction is a valid dog breed\n",
    "assert len(df_twitter_predictions_clean.query('p1_dog == False & p2_dog == True & p2_conf > 0.05 & breed != p2')) == 0"
   ],
   "metadata": {
    "collapsed": false,
    "pycharm": {
     "name": "#%%\n"
    }
   }
  },
  {
   "cell_type": "code",
   "execution_count": null,
   "outputs": [],
   "source": [
    "# p3 should be selected as breed if first and second predictions are not a valid dog breed, but third prediction is a valid breed\n",
    "assert len(df_twitter_predictions_clean.query('p1_dog == False & p2_dog == False & p3_dog == True & p3_conf > 0.05 & breed != p3')) == 0"
   ],
   "metadata": {
    "collapsed": false,
    "pycharm": {
     "name": "#%%\n"
    }
   }
  },
  {
   "cell_type": "code",
   "execution_count": null,
   "outputs": [],
   "source": [
    "# np.nan should be selected as breed if all predictions are not valid dog breeds\n",
    "assert len(df_twitter_predictions_clean.query('p1_dog == False & p2_dog == False & p3_dog == False & breed == breed')) == 0"
   ],
   "metadata": {
    "collapsed": false,
    "pycharm": {
     "name": "#%%\n"
    }
   }
  },
  {
   "cell_type": "code",
   "execution_count": null,
   "outputs": [],
   "source": [
    "# visually inspect if breed is now part of the master table\n",
    "df_twitter_master.sample(5)"
   ],
   "metadata": {
    "collapsed": false,
    "pycharm": {
     "name": "#%%\n"
    }
   }
  },
  {
   "cell_type": "markdown",
   "source": [
    "<span style=\"color:blue; font-size:18px; font-family: Calibri;\">Tidiness Issue #6: Breed name are badly formatted, it contains '_' instead of spaces and each word can be capitalized.</span>"
   ],
   "metadata": {
    "collapsed": false,
    "pycharm": {
     "name": "#%% md\n"
    }
   }
  },
  {
   "cell_type": "markdown",
   "source": [
    "#### Define: replace '_' with ' ' using pandas `replace()` method and capitalize first letter of each word using `title` method"
   ],
   "metadata": {
    "collapsed": false,
    "pycharm": {
     "name": "#%% md\n"
    }
   }
  },
  {
   "cell_type": "markdown",
   "source": [
    "#### Code"
   ],
   "metadata": {
    "collapsed": false,
    "pycharm": {
     "name": "#%% md\n"
    }
   }
  },
  {
   "cell_type": "code",
   "execution_count": null,
   "outputs": [],
   "source": [
    "df_twitter_master['breed'] = df_twitter_master['breed'].str.replace('_', ' ').str.title()"
   ],
   "metadata": {
    "collapsed": false,
    "pycharm": {
     "name": "#%%\n"
    }
   }
  },
  {
   "cell_type": "markdown",
   "source": [
    "#### Test"
   ],
   "metadata": {
    "collapsed": false,
    "pycharm": {
     "name": "#%% md\n"
    }
   }
  },
  {
   "cell_type": "code",
   "execution_count": null,
   "outputs": [],
   "source": [
    "df_twitter_master['breed'].unique()"
   ],
   "metadata": {
    "collapsed": false,
    "pycharm": {
     "name": "#%%\n"
    }
   }
  },
  {
   "cell_type": "markdown",
   "source": [
    "<a id='storing'></a>\n",
    "<span style=\"color:blue; font-size:30px; line-height:40px; font-family: Calibri;\">Step 5: Storing Data</span>\n",
    "\n",
    "Save gathered, assessed, and cleaned master dataset to a CSV file named \"twitter_archive_master.csv\"."
   ],
   "metadata": {
    "collapsed": false,
    "pycharm": {
     "name": "#%% md\n"
    }
   }
  },
  {
   "cell_type": "code",
   "execution_count": null,
   "outputs": [],
   "source": [
    "df_twitter_master.to_csv('../data/twitter_archive_master.csv', index=False)"
   ],
   "metadata": {
    "collapsed": false,
    "pycharm": {
     "name": "#%%\n"
    }
   }
  },
  {
   "cell_type": "markdown",
   "source": [
    "#### SUMMARY of the final result:  twitter_archive_master.csv\n",
    "\n",
    "| Column  | From table | Additional comments |  \n",
    "| :- | :- |  :- |\n",
    "| tweet_id | twitter_archive |  Only records were kept which could be inner joined with `twitter_prediction` table. It was a project requirement that tweet should contain an image which was present in the twitter_prediction table\n",
    "| timestamp | twitter_archive | Contain only date YYYYMMDD, time was dropped\n",
    "| source | twitter_archive |  Only source text was extracted (e.g. Twitter for iPhone), URL part and other HTML characters was dropped\n",
    "| expanded_urls | twitter_archive | Full URL to web page where photo is located. Note: this link does not contain link to actual image, it does not end with `.jpg`.\n",
    "| rating_numerator | twitter_archive |  Normally above 10. Some outliers were detected above 250, however it was decided to leave those records, as it's the owner themselves giving this rating as thus a bias rating anyhow.\n",
    "| rating_denominator | twitter_archive | Now only contains value of 10, other records were dropped as errors were mostly due to extraction issues where text contained more than 1 score pattern e.g. `xx/xx`\n",
    "| name | twitter_archive | A lot of dog names are missing, 'None' was converted to `None`\n",
    "| cleantext | twitter_archive | Text part was extracted, with score and url dropped. Note: When score is in middle of the text, texts after score are dropped in exceptional cases.\n",
    "| dog_stage | twitter_archive |  Only 368 out of 2071 tweets have dog stages, after all the cleaning data quality is still not great. All dog stage columns were merged into 1 column and further enhanced to re-extract dog stages from text to enhance cases where dog stage was missing.\n",
    "| retweet_count | twitter_api | Amount of times an original tweet was retweeted, shows popularity \n",
    "| like_count | twitter_api |  Amount of times an original tweet was liked, shows popularity \n",
    "| media_url | twitter_api |  URL link to first profile picture containing `.jpg` which can be used to download imagines\n",
    "| short_url | twitter_api |  Short URL link to tweet web page, it's the same url that was present in `twitter_archive-text` but now it's stored separately\n",
    "| annotation | twitter_api |  First annotation, contains in most cases a dog name, breed or place\n",
    "| breed | twitter_prediction |  Breed with the highest prediction score above 5% was selected, where the breed is an actual dog breed\n",
    "| jpg_url | twitter_prediction | URL link to image ending with `.jpg` giving the highest breed prediction store"
   ],
   "metadata": {
    "collapsed": false,
    "pycharm": {
     "name": "#%% md\n"
    }
   }
  },
  {
   "cell_type": "markdown",
   "source": [
    "<a id='visuals'></a>\n",
    "<span style=\"color:blue; font-size:30px; line-height:40px; font-family: Calibri;\">Step 6: Analyzing and Visualizing Data</span>\n",
    "\n",
    "In this section, analyze and visualize your wrangled data. You must produce at least **three (3) insights and one (1) visualization.**"
   ],
   "metadata": {
    "collapsed": false,
    "pycharm": {
     "name": "#%% md\n"
    }
   }
  },
  {
   "cell_type": "code",
   "execution_count": null,
   "outputs": [],
   "source": [
    "# read the cleaned twitter master data from csv\n",
    "df_twitter_master = pd.read_csv('../data/twitter_archive_master.csv')\n",
    "df_twitter_master.sample(3)"
   ],
   "metadata": {
    "collapsed": false,
    "pycharm": {
     "name": "#%%\n"
    }
   }
  },
  {
   "cell_type": "markdown",
   "source": [
    "### First Impressions"
   ],
   "metadata": {
    "collapsed": false,
    "pycharm": {
     "name": "#%% md\n"
    }
   }
  },
  {
   "cell_type": "code",
   "execution_count": null,
   "outputs": [],
   "source": [
    "df_twitter_master.info()"
   ],
   "metadata": {
    "collapsed": false,
    "pycharm": {
     "name": "#%%\n"
    }
   }
  },
  {
   "cell_type": "code",
   "execution_count": null,
   "outputs": [],
   "source": [
    "# convert timestamp to the correct datatype as the conversion during cleaning is lost when reading from csv \n",
    "df_twitter_master['timestamp'] = pd.to_datetime(df_twitter_master['timestamp']).dt.date.astype('datetime64[ns]')\n",
    "\n",
    "df_twitter_master[['timestamp']].info()"
   ],
   "metadata": {
    "collapsed": false,
    "pycharm": {
     "name": "#%%\n"
    }
   }
  },
  {
   "cell_type": "markdown",
   "metadata": {
    "pycharm": {
     "name": "#%% md\n"
    }
   },
   "source": [
    "**Observation for rating_numerator outliers:**\n",
    "\n",
    "- Dogs with numerator as outliers > 100, do have a high amount of retweet and like counts, it might be the most popular dogs so lets keep the records"
   ]
  },
  {
   "cell_type": "code",
   "execution_count": 102,
   "metadata": {
    "pycharm": {
     "name": "#%%\n"
    }
   },
   "outputs": [
    {
     "data": {
      "image/png": "[encoded data removed]",
      "text/plain": [
       "<Figure size 2000x1000 with 6 Axes>"
      ]
     },
     "metadata": {},
     "output_type": "display_data"
    }
   ],
   "source": [
    "# get a general idea of feature distributions\n",
    "pd.plotting.hist_frame(df_twitter_master, figsize=(20,10), bins=20);"
   ]
  },
  {
   "cell_type": "code",
   "execution_count": 103,
   "metadata": {
    "pycharm": {
     "name": "#%%\n"
    }
   },
   "outputs": [
    {
     "data": {
      "image/png": "[encoded data removed]",
      "text/plain": [
       "<Figure size 1250x1250 with 30 Axes>"
      ]
     },
     "metadata": {},
     "output_type": "display_data"
    }
   ],
   "source": [
    "# Let's explore feature distribution and correlations\n",
    "sns.pairplot(df_twitter_master, kind='scatter', diag_kind='kde');"
   ]
  },
  {
   "cell_type": "markdown",
   "metadata": {
    "pycharm": {
     "name": "#%% md\n"
    }
   },
   "source": [
    "**Observation from correlations:**\n",
    "\n",
    "- There is a high correlation between like_count and retweet_count"
   ]
  },
  {
   "cell_type": "markdown",
   "metadata": {
    "pycharm": {
     "name": "#%% md\n"
    }
   },
   "source": [
    "### Insight questions to answer:\n",
    "\n",
    "1. Which breeds are tweeted the most ?\n",
    "2. Which breeds are the post popular ?\n",
    "3. What is the tweet trent over time ?\n",
    "\n",
    "Note: Udacity requires only 3 sights to be shared"
   ]
  },
  {
   "cell_type": "markdown",
   "metadata": {
    "pycharm": {
     "name": "#%% md\n"
    }
   },
   "source": [
    "### Insight 1: Which breeds are tweeted the most by their owners ?"
   ]
  },
  {
   "cell_type": "code",
   "execution_count": 104,
   "metadata": {
    "pycharm": {
     "name": "#%%\n"
    }
   },
   "outputs": [
    {
     "data": {
      "image/png": "[encoded data removed]",
      "text/plain": [
       "<Figure size 640x480 with 1 Axes>"
      ]
     },
     "metadata": {},
     "output_type": "display_data"
    }
   ],
   "source": [
    "# Display the top 10 breeds that gets tweeted the most\n",
    "df_twitter_master.breed.value_counts()[:10].plot(kind='bar')\n",
    "plt.title('Top 10 breeds tweeted the most by their owners')\n",
    "plt.xlabel('Breed')\n",
    "plt.ylabel('Number of tweets')\n",
    "plt.show()"
   ]
  },
  {
   "cell_type": "markdown",
   "metadata": {
    "pycharm": {
     "name": "#%% md\n"
    }
   },
   "source": [
    "### Insight  2: Which breeds are the post popular ?"
   ]
  },
  {
   "cell_type": "code",
   "execution_count": 105,
   "metadata": {
    "pycharm": {
     "name": "#%%\n"
    }
   },
   "outputs": [
    {
     "data": {
      "image/png": "[encoded data removed]",
      "text/plain": [
       "<Figure size 640x480 with 1 Axes>"
      ]
     },
     "metadata": {},
     "output_type": "display_data"
    }
   ],
   "source": [
    "# Display the top 10 breeds with the highest like counts\n",
    "popular_breeds = df_twitter_master.groupby('breed', as_index=False)['like_count'].sum().sort_values(by='like_count', ascending=False, ignore_index=True)[:10]\n",
    "ax1 = popular_breeds.plot(kind='bar', x='breed')\n",
    "\n",
    "# turn off exponential formatting\n",
    "ax1.ticklabel_format(useOffset=False, style='plain', axis='y')\n",
    "plt.title('Top 10 breeds with highest #likes')\n",
    "plt.ylabel('Number of likes')\n",
    "plt.xlabel('Breed')\n",
    "plt.show()"
   ]
  },
  {
   "cell_type": "code",
   "execution_count": 106,
   "metadata": {
    "pycharm": {
     "name": "#%%\n"
    }
   },
   "outputs": [
    {
     "data": {
      "image/png": "[encoded data removed]",
      "text/plain": [
       "<Figure size 640x480 with 1 Axes>"
      ]
     },
     "metadata": {},
     "output_type": "display_data"
    }
   ],
   "source": [
    "# Display the top 10 breeds with the highest mean counts\n",
    "popular_breeds = df_twitter_master.groupby('breed', as_index=False)['like_count'].mean().sort_values(by='like_count', ascending=False, ignore_index=True)[:10]\n",
    "ax1 = popular_breeds.plot(kind='bar', x='breed')\n",
    "\n",
    "# turn off exponential formatting\n",
    "ax1.ticklabel_format(useOffset=False, style='plain', axis='y')\n",
    "plt.title('Top 10 breeds with highest average likes')\n",
    "plt.ylabel('Average number of likes')\n",
    "plt.xlabel('Breed')\n",
    "plt.show()"
   ]
  },
  {
   "cell_type": "markdown",
   "metadata": {
    "pycharm": {
     "name": "#%% md\n"
    }
   },
   "source": [
    "### Insight 3: What is the tweet trent over time ?"
   ]
  },
  {
   "cell_type": "code",
   "execution_count": 107,
   "metadata": {
    "pycharm": {
     "name": "#%%\n"
    }
   },
   "outputs": [
    {
     "data": {
      "text/html": [
       "<div>\n",
       "<style scoped>\n",
       "    .dataframe tbody tr th:only-of-type {\n",
       "        vertical-align: middle;\n",
       "    }\n",
       "\n",
       "    .dataframe tbody tr th {\n",
       "        vertical-align: top;\n",
       "    }\n",
       "\n",
       "    .dataframe thead th {\n",
       "        text-align: right;\n",
       "    }\n",
       "</style>\n",
       "<table border=\"1\" class=\"dataframe\">\n",
       "  <thead>\n",
       "    <tr style=\"text-align: right;\">\n",
       "      <th></th>\n",
       "      <th>tweet_id</th>\n",
       "    </tr>\n",
       "    <tr>\n",
       "      <th>timestamp</th>\n",
       "      <th></th>\n",
       "    </tr>\n",
       "  </thead>\n",
       "  <tbody>\n",
       "    <tr>\n",
       "      <th>2015-11-15</th>\n",
       "      <td>666020888022790149</td>\n",
       "    </tr>\n",
       "    <tr>\n",
       "      <th>2015-11-15</th>\n",
       "      <td>666029285002620928</td>\n",
       "    </tr>\n",
       "    <tr>\n",
       "      <th>2015-11-15</th>\n",
       "      <td>666033412701032449</td>\n",
       "    </tr>\n",
       "    <tr>\n",
       "      <th>2015-11-16</th>\n",
       "      <td>666044226329800704</td>\n",
       "    </tr>\n",
       "    <tr>\n",
       "      <th>2015-11-16</th>\n",
       "      <td>666049248165822465</td>\n",
       "    </tr>\n",
       "  </tbody>\n",
       "</table>\n",
       "</div>"
      ],
      "text/plain": [
       "                      tweet_id\n",
       "timestamp                     \n",
       "2015-11-15  666020888022790149\n",
       "2015-11-15  666029285002620928\n",
       "2015-11-15  666033412701032449\n",
       "2015-11-16  666044226329800704\n",
       "2015-11-16  666049248165822465"
      ]
     },
     "execution_count": 107,
     "metadata": {},
     "output_type": "execute_result"
    }
   ],
   "source": [
    "# Create a time series dataset, to track the number of tweets per month\n",
    "twitter_timeseries = df_twitter_master.filter(['timestamp', 'tweet_id'], axis=1).copy()\n",
    "\n",
    "# set datetime field as index\n",
    "twitter_timeseries.set_index('timestamp', inplace=True) \n",
    "\n",
    "twitter_timeseries.head()"
   ]
  },
  {
   "cell_type": "code",
   "execution_count": 108,
   "metadata": {
    "pycharm": {
     "name": "#%%\n"
    }
   },
   "outputs": [
    {
     "data": {
      "text/html": [
       "<div>\n",
       "<style scoped>\n",
       "    .dataframe tbody tr th:only-of-type {\n",
       "        vertical-align: middle;\n",
       "    }\n",
       "\n",
       "    .dataframe tbody tr th {\n",
       "        vertical-align: top;\n",
       "    }\n",
       "\n",
       "    .dataframe thead th {\n",
       "        text-align: right;\n",
       "    }\n",
       "</style>\n",
       "<table border=\"1\" class=\"dataframe\">\n",
       "  <thead>\n",
       "    <tr style=\"text-align: right;\">\n",
       "      <th></th>\n",
       "      <th>tweet_id</th>\n",
       "    </tr>\n",
       "    <tr>\n",
       "      <th>timestamp</th>\n",
       "      <th></th>\n",
       "    </tr>\n",
       "  </thead>\n",
       "  <tbody>\n",
       "    <tr>\n",
       "      <th>2015-11-30</th>\n",
       "      <td>295</td>\n",
       "    </tr>\n",
       "    <tr>\n",
       "      <th>2015-12-31</th>\n",
       "      <td>369</td>\n",
       "    </tr>\n",
       "    <tr>\n",
       "      <th>2016-01-31</th>\n",
       "      <td>181</td>\n",
       "    </tr>\n",
       "    <tr>\n",
       "      <th>2016-02-29</th>\n",
       "      <td>119</td>\n",
       "    </tr>\n",
       "    <tr>\n",
       "      <th>2016-03-31</th>\n",
       "      <td>129</td>\n",
       "    </tr>\n",
       "    <tr>\n",
       "      <th>2016-04-30</th>\n",
       "      <td>58</td>\n",
       "    </tr>\n",
       "    <tr>\n",
       "      <th>2016-05-31</th>\n",
       "      <td>58</td>\n",
       "    </tr>\n",
       "    <tr>\n",
       "      <th>2016-06-30</th>\n",
       "      <td>89</td>\n",
       "    </tr>\n",
       "    <tr>\n",
       "      <th>2016-07-31</th>\n",
       "      <td>94</td>\n",
       "    </tr>\n",
       "    <tr>\n",
       "      <th>2016-08-31</th>\n",
       "      <td>60</td>\n",
       "    </tr>\n",
       "    <tr>\n",
       "      <th>2016-09-30</th>\n",
       "      <td>68</td>\n",
       "    </tr>\n",
       "    <tr>\n",
       "      <th>2016-10-31</th>\n",
       "      <td>71</td>\n",
       "    </tr>\n",
       "    <tr>\n",
       "      <th>2016-11-30</th>\n",
       "      <td>54</td>\n",
       "    </tr>\n",
       "    <tr>\n",
       "      <th>2016-12-31</th>\n",
       "      <td>56</td>\n",
       "    </tr>\n",
       "    <tr>\n",
       "      <th>2017-01-31</th>\n",
       "      <td>68</td>\n",
       "    </tr>\n",
       "    <tr>\n",
       "      <th>2017-02-28</th>\n",
       "      <td>67</td>\n",
       "    </tr>\n",
       "    <tr>\n",
       "      <th>2017-03-31</th>\n",
       "      <td>50</td>\n",
       "    </tr>\n",
       "    <tr>\n",
       "      <th>2017-04-30</th>\n",
       "      <td>42</td>\n",
       "    </tr>\n",
       "    <tr>\n",
       "      <th>2017-05-31</th>\n",
       "      <td>43</td>\n",
       "    </tr>\n",
       "    <tr>\n",
       "      <th>2017-06-30</th>\n",
       "      <td>47</td>\n",
       "    </tr>\n",
       "    <tr>\n",
       "      <th>2017-07-31</th>\n",
       "      <td>51</td>\n",
       "    </tr>\n",
       "    <tr>\n",
       "      <th>2017-08-31</th>\n",
       "      <td>2</td>\n",
       "    </tr>\n",
       "  </tbody>\n",
       "</table>\n",
       "</div>"
      ],
      "text/plain": [
       "            tweet_id\n",
       "timestamp           \n",
       "2015-11-30       295\n",
       "2015-12-31       369\n",
       "2016-01-31       181\n",
       "2016-02-29       119\n",
       "2016-03-31       129\n",
       "2016-04-30        58\n",
       "2016-05-31        58\n",
       "2016-06-30        89\n",
       "2016-07-31        94\n",
       "2016-08-31        60\n",
       "2016-09-30        68\n",
       "2016-10-31        71\n",
       "2016-11-30        54\n",
       "2016-12-31        56\n",
       "2017-01-31        68\n",
       "2017-02-28        67\n",
       "2017-03-31        50\n",
       "2017-04-30        42\n",
       "2017-05-31        43\n",
       "2017-06-30        47\n",
       "2017-07-31        51\n",
       "2017-08-31         2"
      ]
     },
     "execution_count": 108,
     "metadata": {},
     "output_type": "execute_result"
    }
   ],
   "source": [
    "# calculate the mean tweets per month\n",
    "freq = 'M'\n",
    "twitter_timeseries = twitter_timeseries.resample(freq).count()\n",
    "twitter_timeseries"
   ]
  },
  {
   "cell_type": "code",
   "execution_count": 109,
   "metadata": {
    "pycharm": {
     "is_executing": true,
     "name": "#%%\n"
    }
   },
   "outputs": [
    {
     "data": {
      "image/png": "[encoded data removed]",
      "text/plain": [
       "<Figure size 640x480 with 1 Axes>"
      ]
     },
     "metadata": {},
     "output_type": "display_data"
    }
   ],
   "source": [
    "ax = twitter_timeseries.plot()\n",
    "ax.get_legend().remove()\n",
    "plt.title('Tweet trend by month')\n",
    "plt.ylabel('Number of tweets')\n",
    "plt.show()"
   ]
  },
  {
   "cell_type": "markdown",
   "metadata": {
    "pycharm": {
     "name": "#%% md\n"
    }
   },
   "source": [
    "### Insights:\n",
    "\n",
    "**Insight 1: Which breeds are tweeted the most ?**\n",
    "Owners of Golden Retrievers and Labradors tweet the most\n",
    "\n",
    "**Insight 2: Which dog breeds are the post popular ?**\n",
    "Be careful of Simpsons' Paradox, because the owners of labradors tweet the most, they also receive the most total likes. Bedlington Terrier and Saluki dog breeds receive the most average likes per breed\n",
    "\n",
    "**Insight 3: What is the tweet trent over time ?**\n",
    "There is downwards trend of number of tweets per month, from Nov 2015 to Oct 2017. The popularity of WeRateDogs seems to decline"
   ]
  },
  {
   "cell_type": "markdown",
   "metadata": {
    "pycharm": {
     "name": "#%% md\n"
    }
   },
   "source": [
    "### Visualization"
   ]
  },
  {
   "cell_type": "markdown",
   "metadata": {
    "pycharm": {
     "name": "#%% md\n"
    }
   },
   "source": [
    "Display profiles cards of the dog with the most likes in the top 5 breeds"
   ]
  },
  {
   "cell_type": "code",
   "execution_count": 110,
   "metadata": {
    "pycharm": {
     "name": "#%%\n"
    }
   },
   "outputs": [
    {
     "name": "stdout",
     "output_type": "stream",
     "text": [
      "<class 'pandas.core.frame.DataFrame'>\n",
      "RangeIndex: 2071 entries, 0 to 2070\n",
      "Data columns (total 16 columns):\n",
      " #   Column              Non-Null Count  Dtype         \n",
      "---  ------              --------------  -----         \n",
      " 0   tweet_id            2071 non-null   int64         \n",
      " 1   timestamp           2071 non-null   datetime64[ns]\n",
      " 2   source              2071 non-null   object        \n",
      " 3   expanded_urls       2068 non-null   object        \n",
      " 4   rating_numerator    2071 non-null   int64         \n",
      " 5   rating_denominator  2071 non-null   int64         \n",
      " 6   name                1380 non-null   object        \n",
      " 7   cleantext           2064 non-null   object        \n",
      " 8   dog_stage           368 non-null    object        \n",
      " 9   retweet_count       2071 non-null   int64         \n",
      " 10  like_count          2071 non-null   int64         \n",
      " 11  media_url           1872 non-null   object        \n",
      " 12  short_url           2068 non-null   object        \n",
      " 13  annotation          1567 non-null   object        \n",
      " 14  breed               1570 non-null   object        \n",
      " 15  jpg_url             1946 non-null   object        \n",
      "dtypes: datetime64[ns](1), int64(5), object(10)\n",
      "memory usage: 259.0+ KB\n"
     ]
    }
   ],
   "source": [
    "# Make sure string fields to be used in the profile cards don't contain too much NaN\n",
    "df_twitter_master.info()"
   ]
  },
  {
   "cell_type": "code",
   "execution_count": 111,
   "metadata": {
    "pycharm": {
     "name": "#%%\n"
    }
   },
   "outputs": [],
   "source": [
    "# Feature engineering for better visualization\n",
    "# Convert None values to 'Unknown' as it looks better on the 'profile' card\n",
    "df_twitter_master['name'] = df_twitter_master['name'].fillna('unknown')\n",
    "df_twitter_master['breed'] = df_twitter_master['breed'].fillna('unknown')\n",
    "df_twitter_master['dog_stage'] = df_twitter_master['dog_stage'].fillna('unknown')\n",
    "df_twitter_master['annotation'] = df_twitter_master['annotation'].fillna('')"
   ]
  },
  {
   "cell_type": "code",
   "execution_count": 112,
   "metadata": {
    "pycharm": {
     "name": "#%%\n"
    }
   },
   "outputs": [
    {
     "data": {
      "text/html": [
       "\n",
       "            <p>\n",
       "                <img src=https://pbs.twimg.com/media/DDxPFwbWAAEbVVR.jpg alt=881666595344535552 width=300 style=\"float:left\">\n",
       "                <h4>This is Gary. He couldn't miss this puppertunity for a selfie. Flawless focusing skills. </h4><br>\n",
       "                <em>Name: Gary</em><br>\n",
       "                <em>Breed: Saluki</em><br>    \n",
       "                <em>Dog stage: pupper</em><br>                 \n",
       "                <em>Score: 13/10</em><br>\n",
       "                <em>Likes : 43140</em><br>    \n",
       "                <em>Retweets : 8724</em><br>  \n",
       "                <em><a href=https://t.co/7CSWCl8I6s>https://t.co/7CSWCl8I6s</a></em>\n",
       "            </p>\n",
       "\n",
       "            "
      ],
      "text/plain": [
       "<IPython.core.display.HTML object>"
      ]
     },
     "metadata": {},
     "output_type": "display_data"
    },
    {
     "data": {
      "text/html": [
       "\n",
       "            <p>\n",
       "                <img src=https://pbs.twimg.com/media/DAZAUfBXcAAG_Nn.jpg alt=866450705531457537 width=300 style=\"float:left\">\n",
       "                <h4>This is Jamesy. He gives a kiss to every other pupper he sees on his walk. </h4><br>\n",
       "                <em>Name: Jamesy</em><br>\n",
       "                <em>Breed: French Bulldog</em><br>    \n",
       "                <em>Dog stage: pupper</em><br>                 \n",
       "                <em>Score: 13/10</em><br>\n",
       "                <em>Likes : 105531</em><br>    \n",
       "                <em>Retweets : 29478</em><br>  \n",
       "                <em><a href=https://t.co/wk7TfysWHr>https://t.co/wk7TfysWHr</a></em>\n",
       "            </p>\n",
       "\n",
       "            "
      ],
      "text/plain": [
       "<IPython.core.display.HTML object>"
      ]
     },
     "metadata": {},
     "output_type": "display_data"
    },
    {
     "data": {
      "text/html": [
       "\n",
       "            <p>\n",
       "                <img src=https://pbs.twimg.com/ext_tw_video_thumb/861288473281437696/pu/img/RERGmRgPyaaaB-tB.jpg alt=861288531465048066 width=300 style=\"float:left\">\n",
       "                <h4>HI. MY. NAME. IS. BOOMER. AND. I. WANT. TO. SAY. IT'S. H*CKIN. RIDICULOUS. THAT. DOGS. CAN'T VOTE. ABSOLUTE. CODSWALLUP. THANK. YOU. </h4><br>\n",
       "                <em>Name: unknown</em><br>\n",
       "                <em>Breed: Bouvier Des Flandres</em><br>    \n",
       "                <em>Dog stage: unknown</em><br>                 \n",
       "                <em>Score: 13/10</em><br>\n",
       "                <em>Likes : 14907</em><br>    \n",
       "                <em>Retweets : 3503</em><br>  \n",
       "                <em><a href=https://t.co/SqKJPwbQ2g>https://t.co/SqKJPwbQ2g</a></em>\n",
       "            </p>\n",
       "\n",
       "            "
      ],
      "text/plain": [
       "<IPython.core.display.HTML object>"
      ]
     },
     "metadata": {},
     "output_type": "display_data"
    },
    {
     "data": {
      "text/html": [
       "\n",
       "            <p>\n",
       "                <img src=https://pbs.twimg.com/media/CwJR1okWIAA6XMp.jpg alt=793286476301799424 width=300 style=\"float:left\">\n",
       "                <h4>This is Moreton. He's the Good Boy Who Lived. </h4><br>\n",
       "                <em>Name: Moreton</em><br>\n",
       "                <em>Breed: Afghan Hound</em><br>    \n",
       "                <em>Dog stage: unknown</em><br>                 \n",
       "                <em>Score: 13/10</em><br>\n",
       "                <em>Likes : 22645</em><br>    \n",
       "                <em>Retweets : 8411</em><br>  \n",
       "                <em><a href=https://t.co/rLHGx3VAF3>https://t.co/rLHGx3VAF3</a></em>\n",
       "            </p>\n",
       "\n",
       "            "
      ],
      "text/plain": [
       "<IPython.core.display.HTML object>"
      ]
     },
     "metadata": {},
     "output_type": "display_data"
    },
    {
     "data": {
      "text/html": [
       "\n",
       "            <p>\n",
       "                <img src=https://pbs.twimg.com/media/C9px7jyVwAAnmwN.jpg alt=854120357044912130 width=300 style=\"float:left\">\n",
       "                <h4>Sometimes you guys remind me just how impactful a pupper can be. Cooper will be remembered as a good boy by so many. </h4><br>\n",
       "                <em>Name: Cooper</em><br>\n",
       "                <em>Breed: Black-And-Tan Coonhound</em><br>    \n",
       "                <em>Dog stage: pupper</em><br>                 \n",
       "                <em>Score: 14/10</em><br>\n",
       "                <em>Likes : 28288</em><br>    \n",
       "                <em>Retweets : 6447</em><br>  \n",
       "                <em><a href=https://t.co/oBL7LEJEzR>https://t.co/oBL7LEJEzR</a></em>\n",
       "            </p>\n",
       "\n",
       "            "
      ],
      "text/plain": [
       "<IPython.core.display.HTML object>"
      ]
     },
     "metadata": {},
     "output_type": "display_data"
    }
   ],
   "source": [
    "# Select the most liked dog in the top average liked breeds\n",
    "for breed in popular_breeds['breed'][:5]:\n",
    "\n",
    "    # Select the most popular dog within the selected breed\n",
    "    idx = df_twitter_master.query('breed == @breed')['like_count'].idxmax()\n",
    "    best = df_twitter_master.loc[idx]\n",
    "\n",
    "    display_image(best)"
   ]
  },
  {
   "cell_type": "code",
   "execution_count": 113,
   "metadata": {
    "pycharm": {
     "name": "#%%\n"
    }
   },
   "outputs": [
    {
     "data": {
      "text/html": [
       "\n",
       "            <p>\n",
       "                <img src=https://pbs.twimg.com/ext_tw_video_thumb/744234667679821824/pu/img/1GaWmtJtdqzZV7jy.jpg alt=744234799360020481 width=300 style=\"float:left\">\n",
       "                <h4>Here's a doggo realizing you can stand in a pool. </h4><br>\n",
       "                <em>Name: Tina Conrad</em><br>\n",
       "                <em>Breed: Labrador Retriever</em><br>    \n",
       "                <em>Dog stage: doggo</em><br>                 \n",
       "                <em>Score: 13/10</em><br>\n",
       "                <em>Likes : 141242</em><br>    \n",
       "                <em>Retweets : 69094</em><br>  \n",
       "                <em><a href=https://t.co/7wE9LTEXC4>https://t.co/7wE9LTEXC4</a></em>\n",
       "            </p>\n",
       "\n",
       "            "
      ],
      "text/plain": [
       "<IPython.core.display.HTML object>"
      ]
     },
     "metadata": {},
     "output_type": "display_data"
    }
   ],
   "source": [
    "# just for fun, display the dog with the most tweets\n",
    "idx = df_twitter_master.like_count.idxmax()\n",
    "best = df_twitter_master.loc[idx]\n",
    "display_image(best)"
   ]
  },
  {
   "cell_type": "markdown",
   "metadata": {
    "pycharm": {
     "name": "#%% md\n"
    }
   },
   "source": [
    "<a id='references'></a>\n",
    "<span style=\"color:blue; font-size:30px; line-height:40px; font-family: Calibri;\">References</span>"
   ]
  },
  {
   "cell_type": "markdown",
   "metadata": {
    "pycharm": {
     "name": "#%% md\n"
    }
   },
   "source": [
    "- [Font color in headings](https://stackoverflow.com/questions/4182554/html-css-font-color-vs-span-style)\n",
    "- [Twitter documentation for get_tweets using V2](https://developer.twitter.com/en/docs/twitter-api/tweets/lookup/api-reference/get-tweets-id)\n",
    "- [Twitter source code example for get_tweets using V2](https://github.com/twitterdev/Twitter-API-v2-sample-code/blob/main/Tweet-Lookup/get_tweets_with_bearer_token.py)\n",
    "- [reading a json file](https://knowledge.udacity.com/questions/66949#66975)\n",
    "- [Twitter API v2, tweepy and pandas in Python](https://www.kirenz.com/post/2021-12-10-twitter-api-v2-tweepy-and-pandas-in-python/twitter-api-v2-tweepy-and-pandas-in-python/)\n",
    "- [How to handle dog stages](https://knowledge.udacity.com/questions/196883)\n",
    "- [prevent exponential format when plotting](https://stackoverflow.com/questions/14711655/how-to-prevent-numbers-being-changed-to-exponential-form-in-a-plot)\n",
    "- [How to display images and text together using HTML](https://stackoverflow.com/questions/25698448/how-to-embed-html-into-ipython-output)"
   ]
  },
  {
   "cell_type": "markdown",
   "metadata": {
    "pycharm": {
     "name": "#%% md\n"
    }
   },
   "source": [
    "<a id='submission'></a>\n",
    "<span style=\"color:blue; font-size:30px; line-height:40px; font-family: Calibri;\">Submission</span>"
   ]
  },
  {
   "cell_type": "code",
   "execution_count": 114,
   "metadata": {
    "pycharm": {
     "name": "#%%\n"
    }
   },
   "outputs": [
    {
     "name": "stderr",
     "output_type": "stream",
     "text": [
      "[NbConvertApp] WARNING | Config option `kernel_spec_manager_class` not recognized by `NbConvertApp`.\n",
      "[NbConvertApp] Converting notebook wrangle_act.ipynb to html\n",
      "[NbConvertApp] Writing 1092853 bytes to wrangle_act.html\n"
     ]
    },
    {
     "data": {
      "text/plain": [
       "0"
      ]
     },
     "execution_count": 114,
     "metadata": {},
     "output_type": "execute_result"
    }
   ],
   "source": [
    "# convert notebook to html\n",
    "os.system('jupyter nbconvert --to html wrangle_act.ipynb')"
   ]
  },
  {
   "cell_type": "code",
   "execution_count": null,
   "metadata": {
    "pycharm": {
     "name": "#%%\n"
    }
   },
   "outputs": [],
   "source": []
  }
 ],
 "metadata": {
  "extensions": {
   "jupyter_dashboards": {
    "activeView": "report_default",
    "version": 1,
    "views": {
     "grid_default": {
      "cellMargin": 10,
      "defaultCellHeight": 20,
      "maxColumns": 12,
      "name": "grid",
      "type": "grid"
     },
     "report_default": {
      "name": "report",
      "type": "report"
     }
    }
   }
  },
  "kernelspec": {
   "display_name": "Python [conda env:weratedogs] *",
   "language": "python",
   "name": "conda-env-weratedogs-py"
  },
  "language_info": {
   "codemirror_mode": {
    "name": "ipython",
    "version": 3
   },
   "file_extension": ".py",
   "mimetype": "text/x-python",
   "name": "python",
   "nbconvert_exporter": "python",
   "pygments_lexer": "ipython3",
   "version": "3.9.15"
  }
 },
 "nbformat": 4,
 "nbformat_minor": 2
}