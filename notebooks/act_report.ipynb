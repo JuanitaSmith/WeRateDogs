{
 "cells": [
  {
   "cell_type": "markdown",
   "metadata": {},
   "source": [
    "<span style=\"color:blue; font-size:40px; line-height:40px; font-family: Calibri;\">Udacity Data Analysis Nanodegree</span>\n",
    "\n",
    "---\n",
    "<span style=\"color:blue; font-size:30px; line-height:40px; font-family: Calibri;\">Project 3: Wrangle and Analyze Data - Insights and Visualization report</span>\n",
    "#### Created by: Juanita Smith\n",
    "#### Last date: 9 February 2023\n",
    "---\n",
    "\n",
    "<img src=\"../images/weratedogs.png\" alt=\"drawing\" width=\"500\"/>"
   ]
  },
  {
   "cell_type": "markdown",
   "metadata": {},
   "source": [
    "<span style=\"color:blue; font-size:26px; line-height:40px; font-family: Calibri;\">Project Overview</span>"
   ]
  },
  {
   "cell_type": "markdown",
   "metadata": {},
   "source": [
    "The goal of the project was to demonstrate the data wrangling and analysis skills obtained from the course.\n",
    "\n",
    "The dataset to be wrangled and analysed, is the tweet archive of Twitter user [@dog_rates](https://twitter.com/dog_rates), also known as [WeRateDogs](https://en.wikipedia.org/wiki/WeRateDogs). WeRateDogs is a Twitter account that rates people's dogs with a humorous comment about the dog. Dog owners upload a picture of their dog, writes a funny comment and give their own dog a rating out of 10. Owners almost always give their dogs a rating greater than 10. e.g 11/10, 12/10, 13/10, it's the nature of the website. WeRateDogs has over 4 million followers and has received international media coverage. It's only a bit of fun, and brings great joy when browsing the cutest dog images !"
   ]
  },
  {
   "cell_type": "markdown",
   "metadata": {},
   "source": [
    "After data wrangling are completed, the following master dataset are produced from which insights are drawn and visualized:"
   ]
  },
  {
   "cell_type": "markdown",
   "metadata": {},
   "source": [
    "#### twitter_archive_master.csv\n",
    "\n",
    "| Column  | Description  |\n",
    "| :- | :-  | \n",
    "| tweet_id | Unique identifier for each tweet |\n",
    "| timestamp | Contain only date time in format YYYYMMDD |\n",
    "| source | platform tweet originated from, e.g. iphone|\n",
    "| expanded_urls | Full URL link to web page of the original tweet |\n",
    "| rating_numerator | Score out of 10 given by the owner of the dog, normally contains values above 10 e.g. 11/10, 15/10, etc |\n",
    "| rating_denominator | Contains value = 10 |\n",
    "| name | Name of the dog,  it its known. If unknown contains value None |\n",
    "| cleantext | Contains tweet text, stripped of url and score  |\n",
    "| dog_stage | 'pupper' refers to a puppy, 'puppo' between puppy and adult, 'doggo' refers to an adult dog, 'floofer' don't refer to age, but rather characteristics of a fluffy dog. |\n",
    "| retweet_count | Amount of times an original tweet was retweeted, shows popularity  |\n",
    "| like_count | Amount of times an original tweet was liked, shows popularity |\n",
    "| media_url | URL link to first profile picture containing `.jpg` which can be used to download imagines |\n",
    "| short_url | Short URL link to tweet web page |\n",
    "| annotation | First annotion, contains in most cases a dog name, breed or place |\n",
    "| breed | Breed with highest prediction score above 5% was selected, where the breed is an actual dog breed |\n",
    "| jpg_url | URL link to image ending with `.jpg` giving the highest breed prediction store |"
   ]
  },
  {
   "cell_type": "markdown",
   "metadata": {},
   "source": [
    "At the start of the data visualization step, twitter master data was read from csv file\n",
    "\n",
    "First, the data was explored again by using `.head`, `.info()`, `.describe`, to get a feeling for the data and remaining missing data volumes after cleansing.\n",
    "\n",
    "#### Questions to be answered was formulated, which consist of:\n",
    "\n",
    "1. Which breeds are tweeted the most ?\n",
    "2. Which breeds are the post popular ?\n",
    "3. What is the tweet trent over time ?"
   ]
  },
  {
   "cell_type": "markdown",
   "metadata": {},
   "source": [
    "<span style=\"color:blue; font-size:26px; line-height:40px; font-family: Calibri;\">Insight 1: Which breeds are tweeted the most by their owners ?</span>"
   ]
  },
  {
   "attachments": {},
   "cell_type": "markdown",
   "metadata": {},
   "source": [
    "<img src=\"../images/insight1.png\" alt=\"drawing\" width=\"500\" style=\"float:left\"/>"
   ]
  },
  {
   "cell_type": "markdown",
   "metadata": {},
   "source": [
    "Owners of Golden Retrievers and Labradors tweet the most"
   ]
  },
  {
   "cell_type": "markdown",
   "metadata": {},
   "source": [
    "<span style=\"color:blue; font-size:26px; line-height:40px; font-family: Calibri;\">Insight 2: Which breeds are the post popular ?</span>"
   ]
  },
  {
   "cell_type": "markdown",
   "metadata": {},
   "source": [
    "To measure popularity, the number of likes per tweet was used and summarized. Score/ratings of the image is not a good measure, as owners rate their own dogs, causing a lot of bias!"
   ]
  },
  {
   "cell_type": "markdown",
   "metadata": {},
   "source": [
    "<img src=\"../images/insight2.png\" alt=\"drawing\" width=\"500\" style=\"float:left\"/>"
   ]
  },
  {
   "cell_type": "markdown",
   "metadata": {},
   "source": [
    "At first glance, it looks like golden retrievers receive the most likes, which is partially true.\n",
    "\n",
    "Be careful of Simpsons' Paradox, because the owners of labradors tweet the most, this might be the reason why they also receive the most likes in general. \n",
    "\n",
    "To calculate a more fair popularity comparison, the **average** likes per dog breed was also calculated and compared. \n",
    "\n",
    "<img src=\"../images/insight2b.png\" alt=\"drawing\" width=\"500\" style=\"float:left\"/>"
   ]
  },
  {
   "cell_type": "markdown",
   "metadata": {},
   "source": [
    "Bedlington Terrier and Saluki dog breeds receive the most average likes per breed"
   ]
  },
  {
   "cell_type": "markdown",
   "metadata": {},
   "source": [
    "<span style=\"color:blue; font-size:26px; line-height:40px; font-family: Calibri;\">Insight 3: What is the tweet trent over time ?</span>"
   ]
  },
  {
   "cell_type": "markdown",
   "metadata": {},
   "source": [
    "We convert the twitter_master dataset into a time series, using timestamp as a datetime index, summarized by number tweets per month."
   ]
  },
  {
   "cell_type": "markdown",
   "metadata": {},
   "source": [
    "<img src=\"../images/insight3.png\" alt=\"drawing\" width=\"500\" style=\"float:left\"/>"
   ]
  },
  {
   "cell_type": "markdown",
   "metadata": {},
   "source": [
    "There is downwards trend of number of tweets per month, from Nov 2015 to Oct 2017. The popularity of WeRateDogs seems to decline, based on the sample of data we have. \n",
    "\n",
    "**Note:**\n",
    "Only tweets without ratings are used for this analysis, and no date beyond 2017 are considered"
   ]
  },
  {
   "cell_type": "markdown",
   "metadata": {},
   "source": [
    "<span style=\"color:blue; font-size:26px; line-height:40px; font-family: Calibri;\">Visualizations</span>"
   ]
  },
  {
   "cell_type": "markdown",
   "metadata": {},
   "source": [
    "Above during insights 1 - 3, insights are made using pandas plotting library. As this meets already the project requirements, lets have some fun with those cute dog images instead !\n",
    "\n",
    "Display 'profiles cards' of the dog with the most likes in the top 5 breeds\n",
    "\n",
    "By default, the image used for dog prediction is used. However if it is not available, we use the image downloaded from twitter API.\n",
    "\n",
    "Dog name and breed are enhanced by annotations extracted from API where it was blank, as annotations mostly contains either the dog name, breed or a place. Hey, it's worth the chance, even though it might not be perfect !!"
   ]
  },
  {
   "cell_type": "markdown",
   "metadata": {},
   "source": [
    "<img src=\"../images/viz1.png\" alt=\"drawing\" style=\"float:left\"/>"
   ]
  },
  {
   "cell_type": "markdown",
   "metadata": {},
   "source": [
    "Just for fun, display the dog with the most tweets\n",
    "\n",
    "<img src=\"../images/viz2.png\" alt=\"drawing\" width=\"800\" style=\"float:left\"/>"
   ]
  },
  {
   "cell_type": "markdown",
   "metadata": {},
   "source": [
    "As no surprise, it is a labrador, who could resist !"
   ]
  },
  {
   "cell_type": "code",
   "execution_count": 2,
   "metadata": {},
   "outputs": [
    {
     "name": "stderr",
     "output_type": "stream",
     "text": [
      "[NbConvertApp] WARNING | Config option `kernel_spec_manager_class` not recognized by `NbConvertApp`.\n",
      "[NbConvertApp] Converting notebook act_report.ipynb to html\n",
      "[NbConvertApp] Writing 593009 bytes to act_report.html\n"
     ]
    },
    {
     "data": {
      "text/plain": [
       "0"
      ]
     },
     "execution_count": 2,
     "metadata": {},
     "output_type": "execute_result"
    }
   ],
   "source": [
    "# convert notebook to html\n",
    "import os\n",
    "os.system('jupyter nbconvert --to html act_report.ipynb')"
   ]
  },
  {
   "cell_type": "code",
   "execution_count": null,
   "metadata": {},
   "outputs": [],
   "source": []
  }
 ],
 "metadata": {
  "kernelspec": {
   "display_name": "Python 3 (ipykernel)",
   "language": "python",
   "name": "python3"
  },
  "language_info": {
   "codemirror_mode": {
    "name": "ipython",
    "version": 3
   },
   "file_extension": ".py",
   "mimetype": "text/x-python",
   "name": "python",
   "nbconvert_exporter": "python",
   "pygments_lexer": "ipython3",
   "version": "3.9.15"
  }
 },
 "nbformat": 4,
 "nbformat_minor": 2
}
